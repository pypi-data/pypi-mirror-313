{
 "cells": [
  {
   "cell_type": "code",
   "execution_count": 1,
   "id": "f505c05b-4831-4b64-a619-40b49657b533",
   "metadata": {},
   "outputs": [],
   "source": [
    "aa = 11"
   ]
  },
  {
   "cell_type": "code",
   "execution_count": null,
   "id": "cc2a5899-65dd-4a41-b010-4d0be567e486",
   "metadata": {},
   "outputs": [],
   "source": []
  }
 ],
 "metadata": {
  "kernelspec": {
   "display_name": "Python 3 (ipykernel)",
   "language": "python",
   "name": "python3"
  },
  "language_info": {
   "codemirror_mode": {
    "name": "ipython",
    "version": 3
   },
   "file_extension": ".py",
   "mimetype": "text/x-python",
   "name": "python",
   "nbconvert_exporter": "python",
   "pygments_lexer": "ipython3",
   "version": "3.13.0"
  }
 },
 "nbformat": 4,
 "nbformat_minor": 5
}
