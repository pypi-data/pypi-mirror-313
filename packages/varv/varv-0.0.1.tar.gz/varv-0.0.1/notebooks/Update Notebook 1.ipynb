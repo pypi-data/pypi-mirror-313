{
 "cells": [
  {
   "cell_type": "markdown",
   "id": "d0dc452d-10aa-415e-9508-2d4ec178d321",
   "metadata": {},
   "source": [
    "# Update Notebook 1\n",
    "2024-09-26"
   ]
  },
  {
   "cell_type": "code",
   "execution_count": 1,
   "id": "a784cf52-f35a-44da-b0c8-2ab870c789f5",
   "metadata": {},
   "outputs": [],
   "source": [
    "# For importing from folder without installing\n",
    "import sys\n",
    "sys.path.append('../src')\n",
    "\n",
    "# Other packages\n",
    "import os\n",
    "import pandas as pd\n",
    "import numpy as np\n",
    "import matplotlib.pyplot as plt"
   ]
  },
  {
   "cell_type": "markdown",
   "id": "94a46b24-beae-428f-bef8-ad5bde85abd2",
   "metadata": {},
   "source": [
    "## Update 1: Working on nicer API\n",
    "Can be installed as package (still have to update README.md for install). Inspired by [MNE](https://mne.tools/dev/index.html). \n",
    "\n",
    "Important classes:\n",
    "- `Info` for details on measurement, like name, bias, and sampling rate.\n",
    "- `Raw` for measurement sessions.\n",
    "- `Events` for events found in `Raw`.\n",
    "\n",
    "Important modules so far:\n",
    "- `varv.preprocessing.eventdetection` is based on the work of Ruben Marchau. Code has been refactored and documented to be more usable.\n",
    "- `varv.io.labview` for importing data from LabView .dat files.\n",
    "\n",
    "> &#x1F3AF; **Goal**:\n",
    ">\n",
    "> Have everything in one place to make analysis easier down the road."
   ]
  },
  {
   "cell_type": "code",
   "execution_count": 2,
   "id": "initial_id",
   "metadata": {
    "is_executing": true
   },
   "outputs": [
    {
     "ename": "ModuleNotFoundError",
     "evalue": "No module named 'src'",
     "output_type": "error",
     "traceback": [
      "\u001b[0;31m---------------------------------------------------------------------------\u001b[0m",
      "\u001b[0;31mModuleNotFoundError\u001b[0m                       Traceback (most recent call last)",
      "Cell \u001b[0;32mIn[2], line 1\u001b[0m\n\u001b[0;32m----> 1\u001b[0m \u001b[38;5;28;01mfrom\u001b[39;00m \u001b[38;5;21;01mvarv\u001b[39;00m\u001b[38;5;21;01m.\u001b[39;00m\u001b[38;5;21;01mio\u001b[39;00m \u001b[38;5;28;01mimport\u001b[39;00m labview\n\u001b[1;32m      2\u001b[0m \u001b[38;5;28;01mfrom\u001b[39;00m \u001b[38;5;21;01mvarv\u001b[39;00m\u001b[38;5;21;01m.\u001b[39;00m\u001b[38;5;21;01mpreprocessing\u001b[39;00m \u001b[38;5;28;01mimport\u001b[39;00m eventdetection\n\u001b[1;32m      3\u001b[0m \u001b[38;5;28;01mfrom\u001b[39;00m \u001b[38;5;21;01mvarv\u001b[39;00m\u001b[38;5;21;01m.\u001b[39;00m\u001b[38;5;21;01mbase\u001b[39;00m \u001b[38;5;28;01mimport\u001b[39;00m Raw\n",
      "File \u001b[0;32m~/PycharmProjects/varv/notebooks/../src/varv/io/labview.py:13\u001b[0m\n\u001b[1;32m     10\u001b[0m \u001b[38;5;28;01mimport\u001b[39;00m \u001b[38;5;21;01mnumpy\u001b[39;00m \u001b[38;5;28;01mas\u001b[39;00m \u001b[38;5;21;01mnp\u001b[39;00m\n\u001b[1;32m     11\u001b[0m \u001b[38;5;28;01mimport\u001b[39;00m \u001b[38;5;21;01mpandas\u001b[39;00m \u001b[38;5;28;01mas\u001b[39;00m \u001b[38;5;21;01mpd\u001b[39;00m\n\u001b[0;32m---> 13\u001b[0m \u001b[38;5;28;01mfrom\u001b[39;00m \u001b[38;5;21;01msrc\u001b[39;00m\u001b[38;5;21;01m.\u001b[39;00m\u001b[38;5;21;01mvarv\u001b[39;00m\u001b[38;5;21;01m.\u001b[39;00m\u001b[38;5;21;01mbase\u001b[39;00m \u001b[38;5;28;01mimport\u001b[39;00m Raw, downsample_by_poly\n\u001b[1;32m     16\u001b[0m \u001b[38;5;28;01mdef\u001b[39;00m \u001b[38;5;21mload\u001b[39m(filename: os\u001b[38;5;241m.\u001b[39mPathLike,\n\u001b[1;32m     17\u001b[0m          downsample_to_freq: typing\u001b[38;5;241m.\u001b[39mOptional[\u001b[38;5;28mfloat\u001b[39m] \u001b[38;5;241m=\u001b[39m \u001b[38;5;241m5000\u001b[39m) \u001b[38;5;241m-\u001b[39m\u001b[38;5;241m>\u001b[39m \u001b[38;5;28mtuple\u001b[39m:\n\u001b[1;32m     18\u001b[0m \u001b[38;5;250m    \u001b[39m\u001b[38;5;124;03m\"\"\"Loads _events from nanopore LabView .dat files\u001b[39;00m\n\u001b[1;32m     19\u001b[0m \n\u001b[1;32m     20\u001b[0m \u001b[38;5;124;03m    Loads _events from the nanopore setup that were saved as a `.dat` file.\u001b[39;00m\n\u001b[0;32m   (...)\u001b[0m\n\u001b[1;32m     37\u001b[0m \u001b[38;5;124;03m        bdc (str): LongInfo on bias voltage.\u001b[39;00m\n\u001b[1;32m     38\u001b[0m \u001b[38;5;124;03m    \"\"\"\u001b[39;00m\n",
      "\u001b[0;31mModuleNotFoundError\u001b[0m: No module named 'src'"
     ]
    }
   ],
   "source": [
    "from varv.io import labview\n",
    "from varv.preprocessing import eventdetection\n",
    "from varv.base import Raw\n",
    "from varv.events import Events"
   ]
  },
  {
   "cell_type": "markdown",
   "id": "9bea5e5a-1fa8-4312-b199-02130ae3eae3",
   "metadata": {},
   "source": [
    "Importing from LabView .dat and converting to .h5 (HDF) file format for easier loading. Note that the LabView reader uses `ast.literal_eval` rather than `eval` now which is a bit nicer and safer.\n",
    "\n",
    "Set `CONVERT` to `True` in the cell below to read from the original .dat rather than .h5."
   ]
  },
  {
   "cell_type": "code",
   "execution_count": null,
   "id": "412391c7-b846-4e1c-bbf6-ab18345bcd9a",
   "metadata": {},
   "outputs": [],
   "source": [
    "CONVERT = True\n",
    "fname = \"240910_XC_tempV2_pore1_perf3_f0\"\n",
    "fname_carv = \"240910_XC_tempV2_pore1_perf4_f0\"\n",
    "\n",
    "if CONVERT:\n",
    "    folder = r\"/Users/twh/Library/CloudStorage/OneDrive-DelftUniversityofTechnology/MSc/Year_2/NB5900_Master_End_Project/transfer_2875528_files_e7079156\"\n",
    "    raw = labview.read_measurement_dat(f\"{os.path.join(folder, fname)}.dat\", bamp=50, bfreq=200)\n",
    "    raw_carv = labview.read_measurement_dat(f\"{os.path.join(folder, fname_carv)}.dat\")\n",
    "    raw.save()\n",
    "    raw_carv.save()\n",
    "else:\n",
    "    raw = Raw.from_h5(fname + '_raw')\n",
    "    raw_carv = Raw.from_h5(fname_carv + '_raw')\n"
   ]
  },
  {
   "cell_type": "code",
   "execution_count": null,
   "id": "830113db-8a51-4718-a5be-cd6606350586",
   "metadata": {},
   "outputs": [],
   "source": [
    "# Renaming for convenience\n",
    "raw.info.name = \"Variable Voltage\"\n",
    "raw_carv.info.name = \"Constant Voltage\"\n",
    "\n",
    "# Smaller dataset to speed up things, comment out to test with full dataset\n",
    "# raw.truncate(after=500000)\n",
    "# raw_carv.truncate(after=500000)"
   ]
  },
  {
   "cell_type": "code",
   "execution_count": null,
   "id": "10dd7c6e-1c4e-4c44-9999-390a74a620fc",
   "metadata": {},
   "outputs": [],
   "source": [
    "print(raw)"
   ]
  },
  {
   "cell_type": "code",
   "execution_count": null,
   "id": "fbe94c17-3e3b-49d7-bb6b-161c237aacc9",
   "metadata": {},
   "outputs": [],
   "source": [
    "print(raw_carv)"
   ]
  },
  {
   "cell_type": "code",
   "execution_count": null,
   "id": "0496d8b2-0a0b-4dcf-bb53-27970c8d23a6",
   "metadata": {},
   "outputs": [],
   "source": [
    "fig, ax = raw.plot()\n",
    "ax.set_ylim(-600, 900)"
   ]
  },
  {
   "cell_type": "markdown",
   "id": "a2fac609-fdb1-4819-a165-3590c62f59a7",
   "metadata": {},
   "source": [
    "## Update 2: Quick look at the variable voltage data\n",
    "\n",
    "In the variable voltage setup, a capacitive current can also flow in addition to the resistive flow. As visible in the plot below, the current distribution is much larger: from -600 to 800 pA. Note that the average current is still positive, as the bias voltage signal is purely positive (100 to 200 mV). The bias voltge is a triangle wave, which results in a square-wave like current trace due to the capacitance. This can be seen in the inlay below. Because in the square wave the current spends \"most of its time\" at the high or low, the total current plot looks like two (or actually several) current traces at different heights."
   ]
  },
  {
   "cell_type": "code",
   "execution_count": null,
   "id": "5ed34758-9ebb-442a-977b-857dacad47a7",
   "metadata": {},
   "outputs": [],
   "source": [
    "fig, ax = raw.plot(start=2891920, stop=2952787)\n",
    "\n",
    "# Inset Axes\n",
    "x1, x2, y1, y2 = 2922353, 2922353 + 100, -600, 800  # subregion of the main plot\n",
    "times = raw.get_time()\n",
    "axins = ax.inset_axes(\n",
    "    [0.7, 0.5, 0.47, 0.47],\n",
    "    xlim=(times[x1], times[x2]), ylim=(y1, y2), xticklabels=[],)\n",
    "    \n",
    "raw.plot(start=x1, stop=x2, fig=fig, ax=axins, lowpass=None)\n",
    "axins.set_xlabel(None)\n",
    "axins.yaxis.set_label_position(\"right\")\n",
    "axins.yaxis.tick_right()\n",
    "axins.set_title(None)\n",
    "axins.get_legend().remove()\n",
    "\n",
    "ax.indicate_inset_zoom(axins, edgecolor=\"black\")\n",
    "None"
   ]
  },
  {
   "cell_type": "markdown",
   "id": "07625f20-1f29-41d7-9fef-06b8838588c2",
   "metadata": {},
   "source": [
    "To make analysis of the data easier, we can filter out the frequency component related to the bias voltage (200 Hz) by applying a low-pass filter at 100 Hz. "
   ]
  },
  {
   "cell_type": "code",
   "execution_count": null,
   "id": "de0454a5-07aa-4923-a881-e840ec886f21",
   "metadata": {},
   "outputs": [],
   "source": [
    "raw.plot(start=2891920, stop=2952787, lowpass=100)"
   ]
  },
  {
   "cell_type": "markdown",
   "id": "27b7c9ba-a2f7-4e02-8b67-ba759706aaa0",
   "metadata": {},
   "source": [
    "## Update 3: Current (open) state detection\n",
    "\n",
    "Original method uses a Gaussian mixture model (GMM) to model the current values and find the distribution that corresponds tot the open pore current"
   ]
  },
  {
   "cell_type": "code",
   "execution_count": null,
   "id": "db0e5e9d-367a-42bd-81fb-44250f1a94c0",
   "metadata": {},
   "outputs": [],
   "source": [
    "fig, ax = eventdetection.plot_open_state_fit(raw_carv, ignore_voltage=True)\n",
    "ax.set_ylim(0, 250)\n"
   ]
  },
  {
   "cell_type": "code",
   "execution_count": null,
   "id": "664f818c-4bcb-4db0-8dc0-6535b070f5ff",
   "metadata": {},
   "outputs": [],
   "source": [
    "raw_carv.info.sfreq"
   ]
  },
  {
   "cell_type": "markdown",
   "id": "82c245e5-d01b-4527-959a-90161fef5dcf",
   "metadata": {},
   "source": [
    "The standard settings do not work for variable voltage. The original algorithm expects an open state current between 220 and 250 pA. The open state current for variable voltage is lower as the mean current for the 100-200 mV triangle wave is 150 mV which is lower that the 180 mV DC bias in the constant method. As expected, results in an erroneous open state being found. Note that `ignore_voltage=True` here because the voltage state detection which is also used to eliminate currents in the open state finder also does not work for variable voltage. This can be resolved by changing the upper and lower bounds of this search space. Note that for variable voltage we first low-pass filter the signal to find the open state in the average voltage trace, hence the `bias_freq` parameter."
   ]
  },
  {
   "cell_type": "code",
   "execution_count": null,
   "id": "f2a32f03-638f-4571-8f9b-bf00b4abc98b",
   "metadata": {},
   "outputs": [],
   "source": [
    "eventdetection.find_open_state(raw, lower_bound=170, upper_bound=200, lowpass=100)\n",
    "eventdetection.plot_open_state_fit(raw, degree=3, ignore_voltage=True, recalculate=False)"
   ]
  },
  {
   "cell_type": "markdown",
   "id": "b7a0b345-9647-49a6-a2b5-51b70a28e3c8",
   "metadata": {},
   "source": [
    "## Update 4: Voltage state detection\n",
    "\n",
    "The original method for finding events used a GMM to find timepoints at which the voltage was off, scaled, or inverted. This is needed as events with an perturbed bias voltage should be thrown out as these are probably bad events like blockages in which the operator chose to interfere.\n",
    "\n",
    "Three Guassians are fit to the data as shown below, note that the blue and the green Gaussians are really thin. Component p0 corresponds to a normal voltage, p1 to a scaled voltage, and p2 to an inverted votlage."
   ]
  },
  {
   "cell_type": "code",
   "execution_count": null,
   "id": "e246ce1a-cc60-4589-adba-9001c2746693",
   "metadata": {},
   "outputs": [],
   "source": [
    "raw_carv.reset_states()\n",
    "eventdetection.plot_voltage_state(raw_carv, n_components=3)"
   ]
  },
  {
   "cell_type": "markdown",
   "id": "d7a6b01e-f977-40ca-bb40-b0dfa64c0780",
   "metadata": {},
   "source": [
    "This results in nicely classified data:"
   ]
  },
  {
   "cell_type": "code",
   "execution_count": null,
   "id": "fa7c12e2-2aee-4a68-9f1d-9eafafc28844",
   "metadata": {},
   "outputs": [],
   "source": [
    "eventdetection.find_open_state(raw_carv) # Also do the current labeling for a nicer plot.\n",
    "eventdetection.find_bad_voltages(raw_carv)\n",
    "raw_carv.plot('v')\n",
    "fig, ax = raw_carv.plot()\n",
    "ax.set_ylim(0, 250)"
   ]
  },
  {
   "cell_type": "markdown",
   "id": "37c6dd9a-091c-47c3-8081-a94d47c363e6",
   "metadata": {},
   "source": [
    "This is not the case for variable voltage data, as the GMM (not suprisingly) has trouble fitting a gaussian over the uniform voltage density from 100 to 200 mV."
   ]
  },
  {
   "cell_type": "code",
   "execution_count": null,
   "id": "b9144f07-70e8-450b-b70e-d159cf8f539f",
   "metadata": {},
   "outputs": [],
   "source": [
    "raw.reset_states()\n",
    "eventdetection.plot_voltage_state(raw, n_components=3)"
   ]
  },
  {
   "cell_type": "markdown",
   "id": "d8eaf88d-e060-4d17-9626-05ad879ba306",
   "metadata": {},
   "source": [
    "This is solved by providing one of the three distributions *a priori*, in this case a uniform distribution over the range from 90 to 210 mV."
   ]
  },
  {
   "cell_type": "code",
   "execution_count": null,
   "id": "a956fdb1-2ae8-4e4d-99eb-4827fafbce4c",
   "metadata": {},
   "outputs": [],
   "source": [
    "eventdetection.plot_voltage_state(raw, n_components=3, known_good_voltage=(90, 210))"
   ]
  },
  {
   "cell_type": "markdown",
   "id": "430077c4-726f-4655-96e2-2e553c50cf1c",
   "metadata": {},
   "source": [
    "As a result, the erroneous voltages are correctly labeled."
   ]
  },
  {
   "cell_type": "code",
   "execution_count": null,
   "id": "1cfd8b27-c7dd-4d4b-9577-06c39f0f68c7",
   "metadata": {},
   "outputs": [],
   "source": [
    "raw.reset_states()\n",
    "eventdetection.find_open_state(raw, 170, 200, lowpass=100)\n",
    "eventdetection.find_bad_voltages(raw, known_good_voltage=(90, 210))\n",
    "raw.plot('v')\n",
    "raw.plot(lowpass=None)"
   ]
  },
  {
   "cell_type": "markdown",
   "id": "c683c461-7b64-40f1-be0a-fe97c9226259",
   "metadata": {},
   "source": [
    "## Update 5: Events"
   ]
  },
  {
   "cell_type": "markdown",
   "id": "1590b1ef-7017-4e4d-978b-37a8d647e7c0",
   "metadata": {},
   "source": [
    "`Events` is a class created from `Raw`. `varv.preprocessing.eventdetection` runs under the hood to create the events."
   ]
  },
  {
   "cell_type": "code",
   "execution_count": null,
   "id": "7762e63d-9ab5-4d1a-b642-214a44c88fe7",
   "metadata": {},
   "outputs": [],
   "source": [
    "raw.reset_states()"
   ]
  },
  {
   "cell_type": "code",
   "execution_count": null,
   "id": "d853ceea-9313-41ab-bbe7-4bc304c8dd28",
   "metadata": {},
   "outputs": [],
   "source": []
  },
  {
   "cell_type": "code",
   "execution_count": null,
   "id": "c61bc758-6d22-46a9-95b6-7e362f2148d5",
   "metadata": {},
   "outputs": [],
   "source": [
    "varv_settings = {\n",
    "    \"open_state_current\": (170, 200),\n",
    "    \"lowpass\": 100,\n",
    "    \"known_good_voltage\": (90, 210),\n",
    "}\n",
    "events = Events.from_raw(raw, **varv_settings)"
   ]
  },
  {
   "cell_type": "code",
   "execution_count": null,
   "id": "999f7861-faa1-41c9-99dc-ab2f23f9d892",
   "metadata": {},
   "outputs": [],
   "source": [
    "print(f\"Found {len(events)} events!\")"
   ]
  },
  {
   "cell_type": "code",
   "execution_count": null,
   "id": "51e42dc8-d5d6-4bc2-baeb-76d641f3ef4a",
   "metadata": {},
   "outputs": [],
   "source": [
    "events.filter_by_event_length(verbose=True)"
   ]
  },
  {
   "cell_type": "code",
   "execution_count": null,
   "id": "96447264-6167-4674-921a-acd598cc60b3",
   "metadata": {},
   "outputs": [],
   "source": [
    "events.properties"
   ]
  },
  {
   "cell_type": "code",
   "execution_count": null,
   "id": "c270b834-3ae5-460a-9745-cb5f0d61a70f",
   "metadata": {},
   "outputs": [],
   "source": [
    "events.properties.iloc[90]"
   ]
  },
  {
   "cell_type": "code",
   "execution_count": null,
   "id": "a7ac8460-917e-46ac-ac45-773316dc02e7",
   "metadata": {},
   "outputs": [],
   "source": [
    "from ipywidgets import interact, interactive, fixed, interact_manual\n",
    "import ipywidgets as widgets\n",
    "import matplotlib.pyplot as plt, random\n",
    "\n",
    "def plot_event(num):\n",
    "    events.plot(num, lowpass=100)\n",
    "    return ()\n",
    "    \n",
    "interact(plot_event, num=(1,len(events)-1,1));"
   ]
  },
  {
   "cell_type": "code",
   "execution_count": null,
   "id": "ed8e2a81-f1ba-4cf7-bfc4-b289c44d070e",
   "metadata": {},
   "outputs": [],
   "source": [
    "events.save(\"assets/240910_XC_tempV2_pore1_perf3_f0_eves.h5\")"
   ]
  },
  {
   "cell_type": "code",
   "execution_count": null,
   "id": "70be0156-b837-46ba-badd-88975424037d",
   "metadata": {},
   "outputs": [],
   "source": []
  }
 ],
 "metadata": {
  "kernelspec": {
   "display_name": "Python 3 (ipykernel)",
   "language": "python",
   "name": "python3"
  },
  "language_info": {
   "codemirror_mode": {
    "name": "ipython",
    "version": 3
   },
   "file_extension": ".py",
   "mimetype": "text/x-python",
   "name": "python",
   "nbconvert_exporter": "python",
   "pygments_lexer": "ipython3",
   "version": "3.13.0"
  }
 },
 "nbformat": 4,
 "nbformat_minor": 5
}
