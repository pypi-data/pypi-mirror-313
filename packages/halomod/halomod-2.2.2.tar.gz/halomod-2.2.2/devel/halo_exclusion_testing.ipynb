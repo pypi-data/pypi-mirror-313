{
 "cells": [
  {
   "cell_type": "markdown",
   "metadata": {},
   "source": [
    "# Interactive Tests of Python-Implemented Halo Exclusion"
   ]
  },
  {
   "cell_type": "code",
   "execution_count": 8,
   "metadata": {
    "collapsed": false
   },
   "outputs": [
    {
     "name": "stdout",
     "output_type": "stream",
     "text": [
      "Populating the interactive namespace from numpy and matplotlib\n"
     ]
    }
   ],
   "source": [
    "%pylab inline"
   ]
  },
  {
   "cell_type": "markdown",
   "metadata": {},
   "source": [
    "First we set up the \"test\" as it were, hoping to do each case analytically if possible. We will use \n",
    "\n",
    "$$ n_g(m) = m^{-2}, $$\n",
    "$$ I(m) = m^{-4}, $$\n",
    "$$ b(m) = m^2 $$\n",
    "$$ \\Delta_h = 200, $$\n",
    "$$ \\rho_{mean} = 10^{11} $$"
   ]
  },
  {
   "cell_type": "code",
   "execution_count": 9,
   "metadata": {
    "collapsed": true
   },
   "outputs": [],
   "source": [
    "m = np.logspace(10,18,400)\n",
    "density = m**-2\n",
    "I = np.outer(np.ones(10),m**-4)\n",
    "bias = m**2\n",
    "deltah = 200.0\n",
    "rhob = 10.**11\n",
    "r = np.logspace(-1,2,40)"
   ]
  },
  {
   "cell_type": "markdown",
   "metadata": {},
   "source": [
    "All the code here should be copy-pasted from the latest halo_exclusion module for quick updating. Throughout, we use a postfix underscore to indicate a jit-compiled function."
   ]
  },
  {
   "cell_type": "code",
   "execution_count": 10,
   "metadata": {
    "collapsed": true
   },
   "outputs": [],
   "source": [
    "# Imports\n",
    "import numpy as np\n",
    "from hmf._framework import Model\n",
    "from cached_property import cached_property\n",
    "from scipy import integrate as intg\n",
    "from numba import jit"
   ]
  },
  {
   "cell_type": "markdown",
   "metadata": {},
   "source": [
    "## Tools"
   ]
  },
  {
   "cell_type": "markdown",
   "metadata": {},
   "source": [
    "### Definitions"
   ]
  },
  {
   "cell_type": "code",
   "execution_count": 11,
   "metadata": {
    "collapsed": true
   },
   "outputs": [],
   "source": [
    "@jit\n",
    "def outer(a,b):\n",
    "    return np.outer(a,b).reshape(a.shape+b.shape)\n",
    "\n",
    "def dblsimps(X,dx,dy=None):\n",
    "    \"\"\"\n",
    "    Double-integral over the last two dimensions of X.\n",
    "    \"\"\"\n",
    "    if dy is None:\n",
    "        dy = dx\n",
    "\n",
    "    if X.shape[-2]%2==0:\n",
    "        X = X[...,:-1,:]\n",
    "    if X.shape[-1]%2 == 0:\n",
    "        X = X[...,:-1]\n",
    "\n",
    "    (nx,ny) = X.shape[-2:]\n",
    "\n",
    "    W = makeW(nx,ny)\n",
    "\n",
    "    return dx * dy * np.sum(W * X,axis=(-2,-1)) / 9.0\n",
    "\n",
    "\n",
    "def makeW(nx,ny):\n",
    "    W = np.ones((nx,ny))\n",
    "    W[1:nx-1:2, :] *= 4\n",
    "    W[:, 1:ny-1:2] *= 4\n",
    "    W[2:nx-1:2, :] *= 2\n",
    "    W[:, 2:ny-1:2] *= 2\n",
    "    return W\n",
    "    \n",
    "    \n",
    "@jit(nopython=True)\n",
    "def dblsimps_(X,dx,dy):\n",
    "    \"\"\"\n",
    "    Double-integral of X.\n",
    "    \"\"\"\n",
    "    nx = X.shape[0]\n",
    "    ny = X.shape[1]\n",
    "\n",
    "    # Must be odd number\n",
    "    if nx%2==0:\n",
    "        nx -= 1\n",
    "    if ny%2==0:\n",
    "        ny -= 1\n",
    "        \n",
    "    W = makeW_(nx,ny) #only upper\n",
    "    \n",
    "    tot=0.0\n",
    "    for ix in range(nx):\n",
    "        tot += W[ix,ix]*X[ix,ix]\n",
    "        for iy in range(ix+1,ny):\n",
    "            tot += 2*W[ix,iy] * X[ix,iy]\n",
    "            \n",
    "    return dx * dy * tot / 9.0\n",
    "\n",
    "@jit(nopython=True)\n",
    "def makeW_(nx,ny):\n",
    "    W = np.ones((nx,ny))\n",
    "    for ix in range(1,nx-1,2):\n",
    "        for iy in range(ny):\n",
    "            W[ix,iy] *= 4\n",
    "            W[iy,ix] *= 4\n",
    "                        \n",
    "    for ix in range(2,nx-1,2):\n",
    "        for iy in range(ny):\n",
    "            W[ix,iy] *= 2\n",
    "            W[iy,ix] *= 2\n",
    "            \n",
    "    return W"
   ]
  },
  {
   "cell_type": "markdown",
   "metadata": {},
   "source": [
    "### Accuracy Tests"
   ]
  },
  {
   "cell_type": "code",
   "execution_count": 9,
   "metadata": {
    "collapsed": false
   },
   "outputs": [
    {
     "data": {
      "text/plain": [
       "array([  0.  ,   0.25,   4.  ,  20.25])"
      ]
     },
     "execution_count": 9,
     "metadata": {},
     "output_type": "execute_result"
    }
   ],
   "source": [
    "# Test simple integration, output should be [0,0.25,4.0,20.25]\n",
    "a = np.zeros((4,101,101))\n",
    "for i in range(4):\n",
    "    a[i,:,:] = np.outer(np.linspace(0,i,101),np.linspace(0,i,101))\n",
    "dblsimps(a,arange(4)/100.,arange(4)/100.)"
   ]
  },
  {
   "cell_type": "code",
   "execution_count": 10,
   "metadata": {
    "collapsed": false
   },
   "outputs": [
    {
     "name": "stdout",
     "output_type": "stream",
     "text": [
      "0.0\n",
      "0.25\n",
      "4.0\n",
      "20.25\n"
     ]
    }
   ],
   "source": [
    "for i in range(4):\n",
    "    a = np.outer(np.linspace(0,i,101),np.linspace(0,i,101))\n",
    "    print dblsimps_(a,i/100.,i/100.)"
   ]
  },
  {
   "cell_type": "markdown",
   "metadata": {},
   "source": [
    "### Timing"
   ]
  },
  {
   "cell_type": "code",
   "execution_count": 11,
   "metadata": {
    "collapsed": false
   },
   "outputs": [
    {
     "name": "stdout",
     "output_type": "stream",
     "text": [
      "1000 loops, best of 3: 1.42 ms per loop\n",
      "1000 loops, best of 3: 1.13 ms per loop\n"
     ]
    }
   ],
   "source": [
    "%timeit makeW(501,501)\n",
    "%timeit makeW_(501,501)"
   ]
  },
  {
   "cell_type": "code",
   "execution_count": 12,
   "metadata": {
    "collapsed": false
   },
   "outputs": [
    {
     "name": "stdout",
     "output_type": "stream",
     "text": [
      "100 loops, best of 3: 1.97 ms per loop\n"
     ]
    },
    {
     "ename": "KeyboardInterrupt",
     "evalue": "",
     "output_type": "error",
     "traceback": [
      "\u001b[0;31m---------------------------------------------------------------------------\u001b[0m",
      "\u001b[0;31mKeyboardInterrupt\u001b[0m                         Traceback (most recent call last)",
      "\u001b[0;32m<ipython-input-12-c9b1963c8283>\u001b[0m in \u001b[0;36m<module>\u001b[0;34m()\u001b[0m\n\u001b[1;32m      1\u001b[0m \u001b[0ma\u001b[0m \u001b[0;34m=\u001b[0m \u001b[0mnp\u001b[0m\u001b[0;34m.\u001b[0m\u001b[0mouter\u001b[0m\u001b[0;34m(\u001b[0m\u001b[0mnp\u001b[0m\u001b[0;34m.\u001b[0m\u001b[0mlinspace\u001b[0m\u001b[0;34m(\u001b[0m\u001b[0;36m0\u001b[0m\u001b[0;34m,\u001b[0m\u001b[0;36m1\u001b[0m\u001b[0;34m,\u001b[0m\u001b[0;36m501\u001b[0m\u001b[0;34m)\u001b[0m\u001b[0;34m,\u001b[0m\u001b[0mnp\u001b[0m\u001b[0;34m.\u001b[0m\u001b[0mlinspace\u001b[0m\u001b[0;34m(\u001b[0m\u001b[0;36m0\u001b[0m\u001b[0;34m,\u001b[0m\u001b[0;36m1\u001b[0m\u001b[0;34m,\u001b[0m\u001b[0;36m501\u001b[0m\u001b[0;34m)\u001b[0m\u001b[0;34m)\u001b[0m\u001b[0;34m\u001b[0m\u001b[0m\n\u001b[1;32m      2\u001b[0m \u001b[0mget_ipython\u001b[0m\u001b[0;34m(\u001b[0m\u001b[0;34m)\u001b[0m\u001b[0;34m.\u001b[0m\u001b[0mmagic\u001b[0m\u001b[0;34m(\u001b[0m\u001b[0;34mu'timeit dblsimps(a,0.002,0.002)'\u001b[0m\u001b[0;34m)\u001b[0m\u001b[0;34m\u001b[0m\u001b[0m\n\u001b[0;32m----> 3\u001b[0;31m \u001b[0mget_ipython\u001b[0m\u001b[0;34m(\u001b[0m\u001b[0;34m)\u001b[0m\u001b[0;34m.\u001b[0m\u001b[0mmagic\u001b[0m\u001b[0;34m(\u001b[0m\u001b[0;34mu'timeit dblsimps_(a,0.002,0.002)'\u001b[0m\u001b[0;34m)\u001b[0m\u001b[0;34m\u001b[0m\u001b[0m\n\u001b[0m",
      "\u001b[0;32m/Users/Steven/anaconda/lib/python2.7/site-packages/IPython/core/interactiveshell.pyc\u001b[0m in \u001b[0;36mmagic\u001b[0;34m(self, arg_s)\u001b[0m\n\u001b[1;32m   2302\u001b[0m         \u001b[0mmagic_name\u001b[0m\u001b[0;34m,\u001b[0m \u001b[0m_\u001b[0m\u001b[0;34m,\u001b[0m \u001b[0mmagic_arg_s\u001b[0m \u001b[0;34m=\u001b[0m \u001b[0marg_s\u001b[0m\u001b[0;34m.\u001b[0m\u001b[0mpartition\u001b[0m\u001b[0;34m(\u001b[0m\u001b[0;34m' '\u001b[0m\u001b[0;34m)\u001b[0m\u001b[0;34m\u001b[0m\u001b[0m\n\u001b[1;32m   2303\u001b[0m         \u001b[0mmagic_name\u001b[0m \u001b[0;34m=\u001b[0m \u001b[0mmagic_name\u001b[0m\u001b[0;34m.\u001b[0m\u001b[0mlstrip\u001b[0m\u001b[0;34m(\u001b[0m\u001b[0mprefilter\u001b[0m\u001b[0;34m.\u001b[0m\u001b[0mESC_MAGIC\u001b[0m\u001b[0;34m)\u001b[0m\u001b[0;34m\u001b[0m\u001b[0m\n\u001b[0;32m-> 2304\u001b[0;31m         \u001b[0;32mreturn\u001b[0m \u001b[0mself\u001b[0m\u001b[0;34m.\u001b[0m\u001b[0mrun_line_magic\u001b[0m\u001b[0;34m(\u001b[0m\u001b[0mmagic_name\u001b[0m\u001b[0;34m,\u001b[0m \u001b[0mmagic_arg_s\u001b[0m\u001b[0;34m)\u001b[0m\u001b[0;34m\u001b[0m\u001b[0m\n\u001b[0m\u001b[1;32m   2305\u001b[0m \u001b[0;34m\u001b[0m\u001b[0m\n\u001b[1;32m   2306\u001b[0m     \u001b[0;31m#-------------------------------------------------------------------------\u001b[0m\u001b[0;34m\u001b[0m\u001b[0;34m\u001b[0m\u001b[0m\n",
      "\u001b[0;32m/Users/Steven/anaconda/lib/python2.7/site-packages/IPython/core/interactiveshell.pyc\u001b[0m in \u001b[0;36mrun_line_magic\u001b[0;34m(self, magic_name, line)\u001b[0m\n\u001b[1;32m   2223\u001b[0m                 \u001b[0mkwargs\u001b[0m\u001b[0;34m[\u001b[0m\u001b[0;34m'local_ns'\u001b[0m\u001b[0;34m]\u001b[0m \u001b[0;34m=\u001b[0m \u001b[0msys\u001b[0m\u001b[0;34m.\u001b[0m\u001b[0m_getframe\u001b[0m\u001b[0;34m(\u001b[0m\u001b[0mstack_depth\u001b[0m\u001b[0;34m)\u001b[0m\u001b[0;34m.\u001b[0m\u001b[0mf_locals\u001b[0m\u001b[0;34m\u001b[0m\u001b[0m\n\u001b[1;32m   2224\u001b[0m             \u001b[0;32mwith\u001b[0m \u001b[0mself\u001b[0m\u001b[0;34m.\u001b[0m\u001b[0mbuiltin_trap\u001b[0m\u001b[0;34m:\u001b[0m\u001b[0;34m\u001b[0m\u001b[0m\n\u001b[0;32m-> 2225\u001b[0;31m                 \u001b[0mresult\u001b[0m \u001b[0;34m=\u001b[0m \u001b[0mfn\u001b[0m\u001b[0;34m(\u001b[0m\u001b[0;34m*\u001b[0m\u001b[0margs\u001b[0m\u001b[0;34m,\u001b[0m\u001b[0;34m**\u001b[0m\u001b[0mkwargs\u001b[0m\u001b[0;34m)\u001b[0m\u001b[0;34m\u001b[0m\u001b[0m\n\u001b[0m\u001b[1;32m   2226\u001b[0m             \u001b[0;32mreturn\u001b[0m \u001b[0mresult\u001b[0m\u001b[0;34m\u001b[0m\u001b[0m\n\u001b[1;32m   2227\u001b[0m \u001b[0;34m\u001b[0m\u001b[0m\n",
      "\u001b[0;32m/Users/Steven/anaconda/lib/python2.7/site-packages/IPython/core/magics/execution.pyc\u001b[0m in \u001b[0;36mtimeit\u001b[0;34m(self, line, cell)\u001b[0m\n",
      "\u001b[0;32m/Users/Steven/anaconda/lib/python2.7/site-packages/IPython/core/magic.pyc\u001b[0m in \u001b[0;36m<lambda>\u001b[0;34m(f, *a, **k)\u001b[0m\n\u001b[1;32m    191\u001b[0m     \u001b[0;31m# but it's overkill for just that one bit of state.\u001b[0m\u001b[0;34m\u001b[0m\u001b[0;34m\u001b[0m\u001b[0m\n\u001b[1;32m    192\u001b[0m     \u001b[0;32mdef\u001b[0m \u001b[0mmagic_deco\u001b[0m\u001b[0;34m(\u001b[0m\u001b[0marg\u001b[0m\u001b[0;34m)\u001b[0m\u001b[0;34m:\u001b[0m\u001b[0;34m\u001b[0m\u001b[0m\n\u001b[0;32m--> 193\u001b[0;31m         \u001b[0mcall\u001b[0m \u001b[0;34m=\u001b[0m \u001b[0;32mlambda\u001b[0m \u001b[0mf\u001b[0m\u001b[0;34m,\u001b[0m \u001b[0;34m*\u001b[0m\u001b[0ma\u001b[0m\u001b[0;34m,\u001b[0m \u001b[0;34m**\u001b[0m\u001b[0mk\u001b[0m\u001b[0;34m:\u001b[0m \u001b[0mf\u001b[0m\u001b[0;34m(\u001b[0m\u001b[0;34m*\u001b[0m\u001b[0ma\u001b[0m\u001b[0;34m,\u001b[0m \u001b[0;34m**\u001b[0m\u001b[0mk\u001b[0m\u001b[0;34m)\u001b[0m\u001b[0;34m\u001b[0m\u001b[0m\n\u001b[0m\u001b[1;32m    194\u001b[0m \u001b[0;34m\u001b[0m\u001b[0m\n\u001b[1;32m    195\u001b[0m         \u001b[0;32mif\u001b[0m \u001b[0mcallable\u001b[0m\u001b[0;34m(\u001b[0m\u001b[0marg\u001b[0m\u001b[0;34m)\u001b[0m\u001b[0;34m:\u001b[0m\u001b[0;34m\u001b[0m\u001b[0m\n",
      "\u001b[0;32m/Users/Steven/anaconda/lib/python2.7/site-packages/IPython/core/magics/execution.pyc\u001b[0m in \u001b[0;36mtimeit\u001b[0;34m(self, line, cell)\u001b[0m\n\u001b[1;32m   1034\u001b[0m             \u001b[0mnumber\u001b[0m \u001b[0;34m=\u001b[0m \u001b[0;36m1\u001b[0m\u001b[0;34m\u001b[0m\u001b[0m\n\u001b[1;32m   1035\u001b[0m             \u001b[0;32mfor\u001b[0m \u001b[0m_\u001b[0m \u001b[0;32min\u001b[0m \u001b[0mrange\u001b[0m\u001b[0;34m(\u001b[0m\u001b[0;36m1\u001b[0m\u001b[0;34m,\u001b[0m \u001b[0;36m10\u001b[0m\u001b[0;34m)\u001b[0m\u001b[0;34m:\u001b[0m\u001b[0;34m\u001b[0m\u001b[0m\n\u001b[0;32m-> 1036\u001b[0;31m                 \u001b[0mtime_number\u001b[0m \u001b[0;34m=\u001b[0m \u001b[0mtimer\u001b[0m\u001b[0;34m.\u001b[0m\u001b[0mtimeit\u001b[0m\u001b[0;34m(\u001b[0m\u001b[0mnumber\u001b[0m\u001b[0;34m)\u001b[0m\u001b[0;34m\u001b[0m\u001b[0m\n\u001b[0m\u001b[1;32m   1037\u001b[0m                 \u001b[0mworst_tuning\u001b[0m \u001b[0;34m=\u001b[0m \u001b[0mmax\u001b[0m\u001b[0;34m(\u001b[0m\u001b[0mworst_tuning\u001b[0m\u001b[0;34m,\u001b[0m \u001b[0mtime_number\u001b[0m \u001b[0;34m/\u001b[0m \u001b[0mnumber\u001b[0m\u001b[0;34m)\u001b[0m\u001b[0;34m\u001b[0m\u001b[0m\n\u001b[1;32m   1038\u001b[0m                 \u001b[0;32mif\u001b[0m \u001b[0mtime_number\u001b[0m \u001b[0;34m>=\u001b[0m \u001b[0;36m0.2\u001b[0m\u001b[0;34m:\u001b[0m\u001b[0;34m\u001b[0m\u001b[0m\n",
      "\u001b[0;32m/Users/Steven/anaconda/lib/python2.7/site-packages/IPython/core/magics/execution.pyc\u001b[0m in \u001b[0;36mtimeit\u001b[0;34m(self, number)\u001b[0m\n\u001b[1;32m    130\u001b[0m         \u001b[0mgc\u001b[0m\u001b[0;34m.\u001b[0m\u001b[0mdisable\u001b[0m\u001b[0;34m(\u001b[0m\u001b[0;34m)\u001b[0m\u001b[0;34m\u001b[0m\u001b[0m\n\u001b[1;32m    131\u001b[0m         \u001b[0;32mtry\u001b[0m\u001b[0;34m:\u001b[0m\u001b[0;34m\u001b[0m\u001b[0m\n\u001b[0;32m--> 132\u001b[0;31m             \u001b[0mtiming\u001b[0m \u001b[0;34m=\u001b[0m \u001b[0mself\u001b[0m\u001b[0;34m.\u001b[0m\u001b[0minner\u001b[0m\u001b[0;34m(\u001b[0m\u001b[0mit\u001b[0m\u001b[0;34m,\u001b[0m \u001b[0mself\u001b[0m\u001b[0;34m.\u001b[0m\u001b[0mtimer\u001b[0m\u001b[0;34m)\u001b[0m\u001b[0;34m\u001b[0m\u001b[0m\n\u001b[0m\u001b[1;32m    133\u001b[0m         \u001b[0;32mfinally\u001b[0m\u001b[0;34m:\u001b[0m\u001b[0;34m\u001b[0m\u001b[0m\n\u001b[1;32m    134\u001b[0m             \u001b[0;32mif\u001b[0m \u001b[0mgcold\u001b[0m\u001b[0;34m:\u001b[0m\u001b[0;34m\u001b[0m\u001b[0m\n",
      "\u001b[0;32m<magic-timeit>\u001b[0m in \u001b[0;36minner\u001b[0;34m(_it, _timer)\u001b[0m\n",
      "\u001b[0;31mKeyboardInterrupt\u001b[0m: "
     ]
    }
   ],
   "source": [
    "a = np.outer(np.linspace(0,1,501),np.linspace(0,1,501))\n",
    "%timeit dblsimps(a,0.002,0.002)\n",
    "%timeit dblsimps_(a,0.002,0.002)\n"
   ]
  },
  {
   "cell_type": "markdown",
   "metadata": {},
   "source": [
    "## Base Class"
   ]
  },
  {
   "cell_type": "code",
   "execution_count": 27,
   "metadata": {
    "collapsed": true
   },
   "outputs": [],
   "source": [
    "class Exclusion(Model):\n",
    "    \"\"\"\n",
    "    Base class for exclusion models.\n",
    "    \n",
    "    All models will need to perform single or double integrals over\n",
    "    arrays that may have an extra two dimensions. The maximum possible\n",
    "    size is k*r*m*m, which for normal values of the vectors equates to\n",
    "    ~ 1000*50*500*500 = 12,500,000,000 values, which in 64-bit reals is\n",
    "    1e11 bytes = 100GB. We thus limit this to a maximum of either k*r*m \n",
    "    or r*m*m, both of which should be less than a GB of memory. \n",
    "    \n",
    "    It is possibly better to limit it to k*r or m*m, which should be quite \n",
    "    memory efficient, but then without accelerators (ie. Numba), these\n",
    "    will be very slow. \n",
    "    \"\"\"\n",
    "    def __init__(self,m,density,I,bias,r,delta_halo,mean_density):\n",
    "        self.density = density  # 1d, (m)\n",
    "        self.m = m              # 1d, (m)\n",
    "        self.I = I              # 2d, (k,m)\n",
    "        self.bias = bias        # 1d (m) or 2d (r,m)\n",
    "        self.r = r              # 1d (r)\n",
    "        \n",
    "        self.mean_density = mean_density\n",
    "        self.delta_halo=delta_halo\n",
    "        self.dlnx = np.log(m[1]/m[0])\n",
    "\n",
    "    def raw_integrand(self):\n",
    "        \"\"\"\n",
    "        Returns either a 2d (k,m) or 3d (r,k,m) array with the general integrand.\n",
    "        \"\"\"\n",
    "        if len(self.bias.shape)==1:\n",
    "            return self.I * self.bias * self.m # *m since integrating in logspace\n",
    "        else:\n",
    "            return np.einsum(\"ij,kj->kij\",self.I*self.m,self.bias)\n",
    "\n",
    "    def integrate(self):\n",
    "        \"\"\"\n",
    "        This should pass back whatever is multiplied by P_m(k) to get the two-halo\n",
    "        term. Often this will be a square of an integral, sometimes a Double-integral.\n",
    "        \"\"\"\n",
    "        pass"
   ]
  },
  {
   "cell_type": "markdown",
   "metadata": {},
   "source": [
    "## No exclusion"
   ]
  },
  {
   "cell_type": "markdown",
   "metadata": {},
   "source": [
    "### Definition"
   ]
  },
  {
   "cell_type": "code",
   "execution_count": 28,
   "metadata": {
    "collapsed": true
   },
   "outputs": [],
   "source": [
    "class NoExclusion(Exclusion):\n",
    "    def integrate(self):\n",
    "        return intg.simpson(self.raw_integrand(),dx=self.dlnx)**2"
   ]
  },
  {
   "cell_type": "markdown",
   "metadata": {},
   "source": [
    "### Analytic Case\n",
    "The integral in this case should simply be\n",
    "\n",
    "$$ P(k) = P_m(k) \\left[\\int_{10^{10}}^{10^{18}} m^{-4} m^2 dm \\right]^2  \\approx 10^{-20} $$"
   ]
  },
  {
   "cell_type": "markdown",
   "metadata": {},
   "source": [
    "### Numerical Test"
   ]
  },
  {
   "cell_type": "code",
   "execution_count": null,
   "metadata": {
    "collapsed": false
   },
   "outputs": [],
   "source": [
    "cls = NoExclusion(m,density,I,bias,None,deltah,rhob)\n",
    "cls.integrate()[0]"
   ]
  },
  {
   "cell_type": "markdown",
   "metadata": {},
   "source": [
    "### Timing"
   ]
  },
  {
   "cell_type": "code",
   "execution_count": null,
   "metadata": {
    "collapsed": false
   },
   "outputs": [],
   "source": [
    "%timeit cls.integrate()"
   ]
  },
  {
   "cell_type": "markdown",
   "metadata": {},
   "source": [
    "## Sphere\n",
    "\n",
    "Again, we should not need to jit-compile anything in this case, since we can do everything with broadcasting in Numpy without too much memory overhead."
   ]
  },
  {
   "cell_type": "code",
   "execution_count": 45,
   "metadata": {
    "collapsed": true
   },
   "outputs": [],
   "source": [
    "class Sphere(Exclusion):\n",
    "    def raw_integrand(self):\n",
    "        if len(self.bias.shape)==1:\n",
    "            return outer(np.ones_like(self.r),self.I * self.bias * self.m) # *m since integrating in logspace\n",
    "        else:\n",
    "            return np.einsum(\"ij,kj->kij\",self.I*self.m,self.bias)\n",
    "        \n",
    "    @cached_property\n",
    "    def density_mod(self):\n",
    "        \"\"\"\n",
    "        Return the modified density, under new limits\n",
    "        \"\"\"\n",
    "        density = np.outer(np.ones_like(self.r),self.density*self.m)\n",
    "        density[self.mask] = 0\n",
    "        if hasattr(self.m,\"unit\"):\n",
    "            return intg.simpson(density,dx=self.dlnx)*self.m.unit*self.density.unit\n",
    "        else:\n",
    "            return intg.simpson(density,dx=self.dlnx)\n",
    "    @cached_property\n",
    "    def mask(self):\n",
    "        \"Elements that should be set to 0\"\n",
    "        return (np.outer(self.m,np.ones_like(self.r)) > self.mlim().value).T\n",
    "\n",
    "    def mlim(self):\n",
    "        return 4*np.pi*(self.r/2)**3 * self.mean_density * self.delta_halo/3\n",
    "\n",
    "    def integrate(self):\n",
    "        integ = self.raw_integrand() #r,k,m\n",
    "        integ.transpose((1,0,2))[:,self.mask] = 0\n",
    "        return intg.simpson(integ,dx=self.dlnx)**2"
   ]
  },
  {
   "cell_type": "markdown",
   "metadata": {
    "collapsed": true
   },
   "source": [
    "### Analytic Case"
   ]
  },
  {
   "cell_type": "markdown",
   "metadata": {},
   "source": [
    "In this case, the limit of the integral changes, and we should have \n",
    "\n",
    "$$ P(k) = P_m(k) \\left[\\int_{10^{10}}^{m_{lim}} m^{-4} m^2 dm \\right]^2  = \\left(10^{-10} - 1/m_{lim}\\right)^2, $$\n",
    "\n",
    "with \n",
    "\n",
    "$$ m_{lim} = \\frac{4\\pi \\Delta_h \\bar{\\rho}}{3} (r/2)^3. $$\n",
    "\n",
    "At about $r = 0.1$, we have $m_{lim} \\approx 10^{10}$, and so the result should drop to zero."
   ]
  },
  {
   "cell_type": "markdown",
   "metadata": {},
   "source": [
    "### Numerical Test"
   ]
  },
  {
   "cell_type": "code",
   "execution_count": null,
   "metadata": {
    "collapsed": true
   },
   "outputs": [],
   "source": [
    "cls = Sphere(m,density,I,bias,r,deltah,rhob)"
   ]
  },
  {
   "cell_type": "code",
   "execution_count": null,
   "metadata": {
    "collapsed": false
   },
   "outputs": [],
   "source": [
    "mlim = 4*pi*(r/2)**3 *deltah *rhob/3\n",
    "analytic = (1e-10 - 1./mlim)**2\n",
    "fig,ax = plt.subplots(2,1,sharex=True,subplot_kw={\"xscale\":\"log\"},gridspec_kw={\"height_ratios\":(2.5,1)})\n",
    "ax[0].plot(r,cls.integrate()[:,0])\n",
    "ax[0].plot(r,analytic)\n",
    "ax[1].plot(r,cls.integrate()[:,0]/analytic)"
   ]
  },
  {
   "cell_type": "markdown",
   "metadata": {},
   "source": [
    "### Timing"
   ]
  },
  {
   "cell_type": "code",
   "execution_count": null,
   "metadata": {
    "collapsed": false
   },
   "outputs": [],
   "source": [
    "%timeit cls.integrate()"
   ]
  },
  {
   "cell_type": "markdown",
   "metadata": {},
   "source": [
    "## DblSphere\n",
    "\n",
    "In this case, we'll need to use some acceleration, since otherwise at one point we need an ``(r,k,m,m)`` matrix which is too big."
   ]
  },
  {
   "cell_type": "code",
   "execution_count": 46,
   "metadata": {
    "collapsed": false
   },
   "outputs": [],
   "source": [
    "class DblSphere(Sphere):\n",
    "    @property\n",
    "    def rvir(self):\n",
    "        return (3*self.m/(4*np.pi*self.delta_halo*self.mean_density))**(1./3.)\n",
    "\n",
    "    @cached_property\n",
    "    def mask(self):\n",
    "        \"Elements that should be set to 0 (r,m,m)\"\n",
    "        rvir = self.rvir\n",
    "        return (outer(np.add.outer(rvir,rvir),np.ones_like(self.r)) > self.r).T\n",
    "\n",
    "    def density_mod(self):\n",
    "        out = np.zers_like(self.r)\n",
    "        for i,r in enumerate(self.r):\n",
    "            integrand = np.outer(self.density*self.m,np.ones_like(self.density))\n",
    "            integrand[self.mask] = 0\n",
    "            out[i] = dblsimps(integrand,self.dlnx)\n",
    "        if hasattr(self.m,\"unit\"):\n",
    "            return out*self.m.unit*self.density.unit\n",
    "        else:\n",
    "            return out\n",
    "    def integrate(self):\n",
    "        integ = self.raw_integrand() #(r,k,m)\n",
    "        return integrate_dblsphere(integ,self.mask,self.dlnx)\n",
    "    \n",
    "def integrate_dblsphere(integ,mask,dx):\n",
    "    out = np.zeros_like(integ[:,:,0])\n",
    "    integrand = np.zeros_like(mask)\n",
    "    for ik in range(integ.shape[1]):\n",
    "        for ir in range(mask.shape[0]):\n",
    "            integrand[ir] = np.outer(integ[ir,ik,:],integ[ir,ik,:])\n",
    "        integrand[mask] = 0\n",
    "        out[:,ik] = dblsimps(integrand,dx)\n",
    "    return out\n",
    "\n",
    "##### ACCELERATED METHODS\n",
    "\n",
    "@jit(nopython=True)\n",
    "def integrate_dblsphere_(integ,mask,dx):\n",
    "    nr = integ.shape[0]\n",
    "    nk = integ.shape[1]\n",
    "    nm  = mask.shape[1]\n",
    "    \n",
    "    out = np.zeros((nr,nk))\n",
    "    integrand = np.zeros((nm,nm))\n",
    "\n",
    "    for ir in range(nr):\n",
    "        for ik in range(nk):\n",
    "            for im in range(nm):\n",
    "                for jm in range(im,nm):\n",
    "                    if mask[ir,im,jm]:\n",
    "                        integrand[im,jm] = 0\n",
    "                    else:\n",
    "                        integrand[im,jm] = integ[ir,ik,im]*integ[ir,ik,jm]\n",
    "\n",
    "#             if ir==0 and ik==0:\n",
    "#                 print np.sum(integrand)\n",
    "            out[ir,ik] = dblsimps_(integrand,dx,dx)\n",
    "    return out\n",
    "\n",
    "class DblSphere_(DblSphere):\n",
    "    def integrate(self):\n",
    "        integ = self.raw_integrand() #(r,k,m)\n",
    "        return integrate_dblsphere_(integ,self.mask,self.dlnx)"
   ]
  },
  {
   "cell_type": "markdown",
   "metadata": {},
   "source": [
    "### Analytic Case\n",
    "\n",
    "The precise analytic case is difficult here, owing to the double-integral etc. Basically, we get:\n",
    "\n",
    "$$ P(k,r)/P_m(k) = 10^{-10}\\left(10^{-10} - 1/m_{lim}\\right) - \\int_{10^{10}}^{m_{lim}} \\left[m^{2/3} \\left(\\frac{4\\pi \\Delta_h \\bar{\\rho}}{3}\\right)^{1/3} r - m\\right]^{-3} dm $$\n",
    "\n",
    "The first term is similar to the single-integral sphere case, but here \n",
    "\n",
    "$$ m_{lim} = \\frac{4\\pi \\Delta_h \\bar{\\rho}}{3}r^3 $$\n",
    "\n",
    "and we have the second term as well. The second term becomes undefined when $m = m_{lim}$. \n",
    "\n",
    "This has an exact solution, but for these purposes, its probably just easier to do it numerically:"
   ]
  },
  {
   "cell_type": "code",
   "execution_count": 17,
   "metadata": {
    "collapsed": false
   },
   "outputs": [],
   "source": [
    "anl = np.zeros_like(r)\n",
    "for ir, rr in enumerate(r):\n",
    "    mlim = 4*np.pi*rhob*deltah*rr**3/3\n",
    "    anl[ir] = 10**-10*(10**-10 - 1/mlim) - intg.simpson((m[m<mlim]**(2./3.)*(4*np.pi*deltah*rhob/3)**(1./3.) * rr - m[m<mlim])**-3,x=m[m<mlim])"
   ]
  },
  {
   "cell_type": "markdown",
   "metadata": {},
   "source": [
    "### Numerical Test"
   ]
  },
  {
   "cell_type": "code",
   "execution_count": null,
   "metadata": {
    "collapsed": false
   },
   "outputs": [],
   "source": [
    "anl"
   ]
  },
  {
   "cell_type": "code",
   "execution_count": null,
   "metadata": {
    "collapsed": false
   },
   "outputs": [],
   "source": [
    "cls = DblSphere(m,density,I,bias,r,deltah,rhob)\n",
    "cls_ = DblSphere_(m,density,I,bias,r,deltah,rhob)\n",
    "\n",
    "py = cls.integrate()[:,0]\n",
    "nba = cls_.integrate()[:,0]\n",
    "\n",
    "fig,ax = plt.subplots(2,1,sharex=True,subplot_kw={\"xscale\":\"log\"},gridspec_kw={\"height_ratios\":(2.5,1)})\n",
    "ax[0].plot(r,py,label=\"python\")\n",
    "ax[0].plot(r,nba,label=\"numba\")\n",
    "#ax[0].plot(r,anl,label=\"analytic\")\n",
    "ax[0].legend(loc=0)\n",
    "\n",
    "ax[1].plot(r,py/anl)\n",
    "ax[1].plot(r,nba/anl)"
   ]
  },
  {
   "cell_type": "markdown",
   "metadata": {},
   "source": [
    "### Timing"
   ]
  },
  {
   "cell_type": "code",
   "execution_count": null,
   "metadata": {
    "collapsed": false
   },
   "outputs": [],
   "source": [
    "%timeit cls.integrate()\n",
    "%timeit cls_.integrate()"
   ]
  },
  {
   "cell_type": "markdown",
   "metadata": {},
   "source": [
    "## Ellipsoid\n",
    "\n",
    "This case is similar to ``DblSphere``, except that we integrate to infinity, with a well-behaved probability distribution tailing to zero. "
   ]
  },
  {
   "cell_type": "code",
   "execution_count": 57,
   "metadata": {
    "collapsed": true
   },
   "outputs": [],
   "source": [
    "class DblEllipsoid(DblSphere):\n",
    "    @cached_property\n",
    "    def mask(self):\n",
    "        \"Unecessary for this approach\"\n",
    "        return None\n",
    "\n",
    "    @cached_property\n",
    "    def prob(self):\n",
    "        rvir = self.rvir\n",
    "        x = outer(self.r,1/np.add.outer(rvir,rvir))\n",
    "        x = (x-0.8)/0.29 #this is y but we re-use the memory\n",
    "        np.clip(x,0,1,x)\n",
    "        return  3*x**2 - 2*x**3\n",
    "\n",
    "    @cached_property\n",
    "    def density_mod(self):\n",
    "        integrand = self.prob * outer(np.ones_like(self.r),np.outer(self.density*self.m,self.density*self.m))\n",
    "        a = np.sqrt(dblsimps(integrand,self.dlnx))\n",
    "        if hasattr(self.density,\"unit\"):\n",
    "            return a*self.density.unit*self.m.unit\n",
    "        else:\n",
    "            return a\n",
    "        \n",
    "    def integrate(self):\n",
    "        integ = self.raw_integrand() #(r,k,m)\n",
    "        out = np.zeros_like(integ[:,:,0])\n",
    "\n",
    "        integrand = np.zeros_like(self.prob)\n",
    "        for ik in range(integ.shape[1]):\n",
    "\n",
    "            for ir in range(len(self.r)):\n",
    "                integrand[ir] = self.prob[ir]*np.outer(integ[ir,ik,:],integ[ir,ik,:])\n",
    "            out[:,ik] = dblsimps(integrand,self.dlnx)\n",
    "        return out\n",
    "\n",
    "\n",
    "\n",
    "class DblEllipsoid_(DblEllipsoid):\n",
    "    @cached_property\n",
    "    def density_mod(self):\n",
    "        if hasattr(self.density,\"unit\"):\n",
    "            return density_mod_(self.r,self.rvir,np.outer(self.density*self.m,self.density*self.m),self.dlnx)*self.density.unit*self.m.unit\n",
    "        else:\n",
    "            return density_mod_(self.r,self.rvir,np.outer(self.density*self.m,self.density*self.m),self.dlnx)\n",
    "    @cached_property\n",
    "    def prob(self):\n",
    "        return prob_inner_(self.r,self.rvir)\n",
    "\n",
    "    def integrate(self):\n",
    "        return integrate_dblell(self.raw_integrand(),self.prob,self.dlnx)\n",
    "\n",
    "@jit(nopython=True)\n",
    "def integrate_dblell(integ,prob,dx):\n",
    "    nr = integ.shape[0]\n",
    "    nk = integ.shape[1]\n",
    "    nm  = prob.shape[1]\n",
    "\n",
    "    out = np.zeros((nr,nk))\n",
    "    integrand = np.zeros((nm,nm))\n",
    "\n",
    "    for ir in range(nr):\n",
    "        for ik in range(nk):\n",
    "            for im in range(nm):\n",
    "                for jm in range(im,nm):\n",
    "                    integrand[im,jm] = integ[ir,ik,im]*integ[ir,ik,jm]*prob[ir,im,jm]\n",
    "            out[ir,ik] = dblsimps_(integrand,dx,dx)\n",
    "    return out\n",
    "\n",
    "@jit(nopython=True)\n",
    "def density_mod_(r,rvir,densitymat,dx):\n",
    "    d = np.zeros(len(r))\n",
    "    for ir,rr in enumerate(r):\n",
    "        integrand = prob_inner_r_(rr,rvir)*densitymat\n",
    "        d[ir] = dblsimps_(integrand,dx,dx)\n",
    "    return np.sqrt(d)\n",
    "\n",
    "@jit(nopython=True)\n",
    "def prob_inner_(r,rvir):\n",
    "    \"\"\"\n",
    "    Jit-compiled version of calculating prob, taking advantage of symmetry.\n",
    "    \"\"\"\n",
    "    nrv = len(rvir)\n",
    "    out = np.empty((len(r),nrv,nrv))\n",
    "    for ir,rr in enumerate(r):\n",
    "        for irv, rv1 in enumerate(rvir):\n",
    "            for jrv in range(irv,nrv):\n",
    "                rv2 = rvir[jrv]\n",
    "                x = (rr/(rv1+rv2) - 0.8)/0.29\n",
    "                if x<=0:\n",
    "                    out[ir,irv,jrv] = 0\n",
    "                elif x>=1:\n",
    "                    out[ir,irv,jrv] = 1\n",
    "                else:\n",
    "                    out[ir,irv,jrv] = 3*x**2 - 2*x**3\n",
    "    return out\n",
    "            \n",
    "@jit(nopython=True)\n",
    "def prob_inner_r_(r,rvir):\n",
    "    nrv = len(rvir)\n",
    "    out = np.empty((nrv,nrv))\n",
    "    for irv, rv1 in enumerate(rvir):\n",
    "        for jrv in range(irv,nrv):\n",
    "            rv2 = rvir[jrv]\n",
    "            x = (r/(rv1+rv2) - 0.8)/0.29\n",
    "            if x<=0:\n",
    "                out[irv,jrv] = 0\n",
    "            elif x>=1:\n",
    "                out[irv,jrv] = 1\n",
    "            else:\n",
    "                out[irv,jrv] = 3*x**2 - 2*x**3\n",
    "    return out\n"
   ]
  },
  {
   "cell_type": "markdown",
   "metadata": {},
   "source": [
    "### Analytic Case\n",
    "\n",
    "This is unsolvable analytically because of $P(x)$. Indeed, the closest we can really get is\n",
    "\n",
    "$$ P(k,r)/P_m(k) = \\int \\int \\frac{P(m_1,m_2,r)}{m_1^2 m_2^2} dm_1 dm_2 $$\n",
    "\n",
    "To have some measure of comparison, let's write a function to integrate with ``dblquad``:"
   ]
  },
  {
   "cell_type": "code",
   "execution_count": 19,
   "metadata": {
    "collapsed": true
   },
   "outputs": [],
   "source": [
    "def integrand_log(m1,m2,r):\n",
    "    rvir1 = (3*10**m1/(4*np.pi*deltah*rhob))**(1./3.)\n",
    "    rvir2 = (3*10**m2/(4*np.pi*deltah*rhob))**(1./3.)\n",
    "    x = r/(rvir1+rvir2)\n",
    "    y = (x-0.8)/0.29\n",
    "    if y<=0:\n",
    "        p = 0.0\n",
    "    elif y>=1:\n",
    "        p = 1.0\n",
    "    else:\n",
    "        p = 3*y**2-2*y**3\n",
    "    #print rvir1, rvir2, x, y, p\n",
    "    return p/(10**(m1) * 10**(m2))\n",
    "\n",
    "from scipy.integrate import dblquad"
   ]
  },
  {
   "cell_type": "code",
   "execution_count": 81,
   "metadata": {
    "collapsed": false
   },
   "outputs": [],
   "source": [
    "anl_dblell = np.array([np.log(10)**2*dblquad(integrand_log,10,18,lambda x: 10, lambda x: 18,args=(rr,))[0] for rr in r])"
   ]
  },
  {
   "cell_type": "markdown",
   "metadata": {},
   "source": [
    "### Numerical Test"
   ]
  },
  {
   "cell_type": "code",
   "execution_count": 21,
   "metadata": {
    "collapsed": false
   },
   "outputs": [
    {
     "data": {
      "text/plain": [
       "[<matplotlib.lines.Line2D at 0x11d6dffd0>]"
      ]
     },
     "execution_count": 21,
     "metadata": {},
     "output_type": "execute_result"
    },
    {
     "data": {
      "image/png": "[encoded data removed]",
      "text/plain": [
       "<matplotlib.figure.Figure at 0x10d51ced0>"
      ]
     },
     "metadata": {},
     "output_type": "display_data"
    }
   ],
   "source": [
    "cls = DblEllipsoid(m,density,I,bias,r,deltah,rhob)\n",
    "cls_ = DblEllipsoid_(m,density,I,bias,r,deltah,rhob)\n",
    "\n",
    "py = cls.integrate()[:,0]\n",
    "nba = cls_.integrate()[:,0]\n",
    "\n",
    "fig,ax = plt.subplots(2,1,sharex=True,subplot_kw={\"xscale\":\"log\"},gridspec_kw={\"height_ratios\":(2.5,1)})\n",
    "ax[0].plot(r,py,label=\"python\")\n",
    "ax[0].plot(r,nba,label=\"numba\")\n",
    "ax[0].plot(r,anl_dblell,label=\"analytic\")\n",
    "ax[0].legend(loc=0)\n",
    "\n",
    "ax[1].plot(r,py/anl_dblell)\n",
    "ax[1].plot(r,nba/anl_dblell)"
   ]
  },
  {
   "cell_type": "markdown",
   "metadata": {},
   "source": [
    "### Timing"
   ]
  },
  {
   "cell_type": "code",
   "execution_count": null,
   "metadata": {
    "collapsed": false
   },
   "outputs": [],
   "source": [
    "%timeit cls.integrate()\n",
    "%timeit cls_.integrate()"
   ]
  },
  {
   "cell_type": "markdown",
   "metadata": {},
   "source": [
    "## Ng-Matched"
   ]
  },
  {
   "cell_type": "code",
   "execution_count": 58,
   "metadata": {
    "collapsed": true
   },
   "outputs": [],
   "source": [
    "class NgMatched(DblEllipsoid):\n",
    "    @cached_property\n",
    "    def mask(self):\n",
    "        integrand = self.density*self.m\n",
    "        cumint = intg.cumtrapz(integrand,dx=self.dlnx,initial=0) #len m\n",
    "        cumint = np.outer(np.ones_like(self.r),cumint) # r,m\n",
    "        return np.where(cumint>np.outer(self.density_mod,np.ones_like(self.m)),\n",
    "                        np.ones_like(cumint,dtype=bool),np.zeros_like(cumint,dtype=bool))\n",
    "\n",
    "    def integrate(self):\n",
    "        integ = self.raw_integrand() #r,k,m\n",
    "        integ.transpose((1,0,2))[:,self.mask] = 0\n",
    "        return intg.simpson(integ,dx=self.dlnx)**2\n",
    "\n",
    "\n",
    "class NgMatched_(DblEllipsoid_):\n",
    "    @cached_property\n",
    "    def mask(self):\n",
    "        integrand = self.density*self.m\n",
    "        cumint = intg.cumtrapz(integrand,dx=self.dlnx,initial=0) #len m\n",
    "        cumint = np.outer(np.ones_like(self.r),cumint) # r,m\n",
    "        return np.where(cumint>np.outer(self.density_mod,np.ones_like(self.m)),\n",
    "                        np.ones_like(cumint,dtype=bool),np.zeros_like(cumint,dtype=bool))\n",
    "\n",
    "    def integrate(self):\n",
    "        integ = self.raw_integrand() #r,k,m\n",
    "        integ.transpose((1,0,2))[:,self.mask] = 0\n",
    "        return intg.simps(integ,dx=self.dlnx)**2"
   ]
  },
  {
   "cell_type": "markdown",
   "metadata": {},
   "source": [
    "### Analytic Case\n",
    "\n",
    "In essense, this is the same as the single-integral sphere case, so that the result is\n",
    "\n",
    "$$ P(k,r)/P_m(k) = \\left[10^{-10} - 1/m_{lim}\\right]^2, $$\n",
    "\n",
    "but in this case $m_{lim}$ is defined slightly differently:\n",
    "\n",
    "$$ \\int_{10^{10}} ^ {m_{lim}} m^{-2} dm = \\sqrt{\\int \\int \\frac{P(x)}{m_1^2 m_2^2} dm_1 dm_2}. $$\n",
    "\n",
    "We can simplify to \n",
    "\n",
    "$$ m_{lim} = \\frac{1}{10^{-10} - \\sqrt{b_{eff}^{\\rm dbl}}}, $$\n",
    "\n",
    "where $b_{eff}^{\\rm dbl}$ is merely the result from the ``DblEllipsoid`` class. Popping this back into the solution cancels everything so we're left with\n",
    "\n",
    "$$ P(k,r)/P_m(k) \\equiv b_{eff}^{\\rm ngm}= b_{eff}^{\\rm dbl}. $$\n",
    "\n",
    "Note that this is only the case exactly because the density integrand and full integrand are exactly the same."
   ]
  },
  {
   "cell_type": "markdown",
   "metadata": {},
   "source": [
    "### Numerical Test"
   ]
  },
  {
   "cell_type": "code",
   "execution_count": 82,
   "metadata": {
    "collapsed": false
   },
   "outputs": [
    {
     "data": {
      "text/plain": [
       "[<matplotlib.lines.Line2D at 0x10edbecd0>]"
      ]
     },
     "execution_count": 82,
     "metadata": {},
     "output_type": "execute_result"
    },
    {
     "data": {
      "image/png": "[encoded data removed]",
      "text/plain": [
       "<matplotlib.figure.Figure at 0x10ed50050>"
      ]
     },
     "metadata": {},
     "output_type": "display_data"
    }
   ],
   "source": [
    "cls = NgMatched(m,density,I,bias,r,deltah,rhob)\n",
    "cls_ = NgMatched_(m,density,I,bias,r,deltah,rhob)\n",
    "\n",
    "py = cls.integrate()[:,0]\n",
    "nba = cls_.integrate()[:,0]\n",
    "\n",
    "fig,ax = plt.subplots(2,1,sharex=True,subplot_kw={\"xscale\":\"log\"},gridspec_kw={\"height_ratios\":(2.5,1)})\n",
    "ax[0].plot(r,py,label=\"python\")\n",
    "ax[0].plot(r,nba,label=\"numba\")\n",
    "ax[0].plot(r,anl_dblell,label=\"analytic\")\n",
    "ax[0].legend(loc=0)\n",
    "\n",
    "ax[1].plot(r,py/anl_dblell)\n",
    "ax[1].plot(r,nba/anl_dblell)"
   ]
  },
  {
   "cell_type": "markdown",
   "metadata": {},
   "source": [
    "### Timing"
   ]
  },
  {
   "cell_type": "code",
   "execution_count": 83,
   "metadata": {
    "collapsed": false
   },
   "outputs": [
    {
     "name": "stdout",
     "output_type": "stream",
     "text": [
      "1 loops, best of 3: 416 ms per loop\n",
      "1 loops, best of 3: 444 ms per loop\n"
     ]
    }
   ],
   "source": [
    "%timeit cls.integrate()\n",
    "%timeit cls_.integrate()"
   ]
  },
  {
   "cell_type": "markdown",
   "metadata": {},
   "source": [
    "## Comparison"
   ]
  },
  {
   "cell_type": "markdown",
   "metadata": {},
   "source": [
    "### Visual"
   ]
  },
  {
   "cell_type": "code",
   "execution_count": null,
   "metadata": {
    "collapsed": false
   },
   "outputs": [],
   "source": [
    "fig,ax = plt.subplots(2,1,sharex=True,subplot_kw={\"xscale\":\"log\"},gridspec_kw={\"height_ratios\":(2,1)},figsize=(8,8))\n",
    "\n",
    "for cls in (Sphere,DblSphere_,DblEllipsoid_,NgMatched):\n",
    "    vec = cls(m,density,I,bias,r,deltah,rhob).integrate()[:,0]\n",
    "    ax[0].plot(r,vec,label=cls.__name__.replace(\"_\",\"\"))\n",
    "    ax[1.].plot(r,vec/anl_dblell)\n",
    "\n",
    "ax[0].legend(loc=0)"
   ]
  },
  {
   "cell_type": "markdown",
   "metadata": {},
   "source": [
    "### Timing\n",
    "\n",
    "For this bit, we increase the numbers of elements of the arrays to reasonable amounts:"
   ]
  },
  {
   "cell_type": "code",
   "execution_count": 84,
   "metadata": {
    "collapsed": true
   },
   "outputs": [],
   "source": [
    "m = np.logspace(10,18,650)\n",
    "density = m**-2\n",
    "I = np.outer(np.ones(550),m**-4)\n",
    "bias = m**2\n",
    "deltah = 200.0\n",
    "rhob = 10.**11\n",
    "r = np.logspace(-1,2,50)"
   ]
  },
  {
   "cell_type": "code",
   "execution_count": 85,
   "metadata": {
    "collapsed": false
   },
   "outputs": [
    {
     "name": "stdout",
     "output_type": "stream",
     "text": [
      "100 loops, best of 3: 5.1 ms per loop\n",
      "1 loops, best of 3: 385 ms per loop\n",
      "1 loops, best of 3: 1.77 s per loop\n",
      "1 loops, best of 3: 1.02 s per loop\n"
     ]
    }
   ],
   "source": [
    "# For reference, ng_matched fortran does it in ~300ms\n",
    "%timeit NoExclusion(m,density,I,bias,r,deltah,rhob).integrate()\n",
    "%timeit Sphere(m,density,I,bias,r,deltah,rhob).integrate()\n",
    "#%timeit DblSphere(m,density,I,bias,r,deltah,rhob).integrate()\n",
    "#%timeit DblSphere_(m,density,I,bias,r,deltah,rhob).integrate()\n",
    "#%timeit DblEllipsoid(m,density,I,bias,r,deltah,rhob).integrate()\n",
    "#%timeit DblEllipsoid_(m,density,I,bias,r,deltah,rhob).integrate()\n",
    "%timeit NgMatched(m,density,I,bias,r,deltah,rhob).integrate()\n",
    "%timeit NgMatched_(m,density,I,bias,r,deltah,rhob).integrate()"
   ]
  },
  {
   "cell_type": "markdown",
   "metadata": {},
   "source": [
    "## Ogata Method"
   ]
  },
  {
   "cell_type": "code",
   "execution_count": null,
   "metadata": {
    "collapsed": false
   },
   "outputs": [],
   "source": [
    "from scipy.interpolate import InterpolatedUnivariateSpline as spline\n",
    "\n",
    "def power_to_corr(r,power,lnk,N=640,h=0.005):\n",
    "    \"\"\"\n",
    "    Use Ogata's method for Hankel Transforms in 3D for nu=0 (nu=1/2 for 2D)\n",
    "    to convert a given power spectrum to a correlation function.\n",
    "\n",
    "    Note, in its current form, lnk must be evenly-spaced.\n",
    "    \"\"\"\n",
    "    spl = spline(lnk,power)\n",
    "    roots=np.arange(1,N+1)\n",
    "    t = h*roots\n",
    "    s = np.pi*np.sinh(t)\n",
    "    x = np.pi * roots * np.tanh(s/2)\n",
    "\n",
    "    dpsi = 1+np.cosh(s)\n",
    "    dpsi[dpsi!=0] = (np.pi*t*np.cosh(t)+np.sinh(s))/dpsi[dpsi!=0]\n",
    "    sumparts = np.pi*np.sin(x)*dpsi*x\n",
    "\n",
    "    allparts = sumparts * spl(np.log(np.divide.outer(x,r))).T\n",
    "    return np.sum(allparts,axis=-1)/(2*np.pi**2*r**3)"
   ]
  },
  {
   "cell_type": "code",
   "execution_count": null,
   "metadata": {
    "collapsed": true
   },
   "outputs": [],
   "source": [
    "from halomod.tools import power_to_corr_ogata\n",
    "from hmf import Transfer"
   ]
  },
  {
   "cell_type": "code",
   "execution_count": null,
   "metadata": {
    "collapsed": false
   },
   "outputs": [],
   "source": [
    "t = Transfer()\n",
    "xir = power_to_corr(r,t.power,np.log(t.k.value))\n",
    "xir_fort = power_to_corr_ogata(t.power,t.k,r)\n",
    "print xir/xir_fort-1"
   ]
  },
  {
   "cell_type": "code",
   "execution_count": null,
   "metadata": {
    "collapsed": false
   },
   "outputs": [],
   "source": [
    "def power_to_corr_matrix(r,power,lnk,N=640,h=0.005):\n",
    "    \"\"\"\n",
    "    Use Ogata's method for Hankel Transforms in 3D for nu=0 (nu=1/2 for 2D)\n",
    "    to convert a given power spectrum to a correlation function.\n",
    "\n",
    "    In this case, `power` is a (k,r) matrix\n",
    "    \"\"\"\n",
    "    roots=np.arange(1,N+1)\n",
    "    t = h*roots\n",
    "    s = np.pi*np.sinh(t)\n",
    "    x = np.pi * roots * np.tanh(s/2)\n",
    "\n",
    "    dpsi = 1+np.cosh(s)\n",
    "    dpsi[dpsi!=0] = (np.pi*t*np.cosh(t)+np.sinh(s))/dpsi[dpsi!=0]\n",
    "    sumparts = np.pi*np.sin(x)*dpsi*x    \n",
    "    \n",
    "    out = np.zeros_like(r)\n",
    "    for ir,rr in enumerate(r):\n",
    "        spl = spline(lnk,power[:,ir])\n",
    "        allparts = sumparts * spl(np.log(x/rr))\n",
    "        out[ir] = np.sum(allparts)/(2*np.pi**2*rr**3)\n",
    "    return out"
   ]
  },
  {
   "cell_type": "code",
   "execution_count": null,
   "metadata": {
    "collapsed": false
   },
   "outputs": [],
   "source": [
    "pow2 = np.repeat(t.power,len(r)).reshape((-1,len(r)))\n",
    "xir2 = power_to_corr_matrix(r,pow2,np.log(t.k.value))\n",
    "print xir2/xir_fort"
   ]
  },
  {
   "cell_type": "code",
   "execution_count": null,
   "metadata": {
    "collapsed": false
   },
   "outputs": [],
   "source": [
    "%timeit power_to_corr_matrix(r,pow2,np.log(t.k.value))\n",
    "%timeit power_to_corr(r,t.power,np.log(t.k.value))"
   ]
  },
  {
   "cell_type": "markdown",
   "metadata": {
    "collapsed": true
   },
   "source": [
    "## Full 2-halo Term"
   ]
  },
  {
   "cell_type": "code",
   "execution_count": 37,
   "metadata": {
    "collapsed": false
   },
   "outputs": [],
   "source": [
    "from halomod import halo_model\n",
    "from halomod.fort.routines import hod_routines as fort\n",
    "from scipy.integrate import trapz,simps\n",
    "from halomod.twohalo_wrapper import twohalo_wrapper as thalo"
   ]
  },
  {
   "cell_type": "code",
   "execution_count": 3,
   "metadata": {
    "collapsed": true
   },
   "outputs": [],
   "source": [
    "h = halo_model.HaloModel(rnum=50,dlog10m=0.03)"
   ]
  },
  {
   "cell_type": "code",
   "execution_count": 41,
   "metadata": {
    "collapsed": true
   },
   "outputs": [],
   "source": [
    "def fortran_2halo():       \n",
    "    u = h.profile.u(h.k, h.M , norm='m')\n",
    "    return thalo(\"ng_matched\", True,\n",
    "                 h.M.value, h.bias, h.n_tot,\n",
    "                 h.dndm.value, np.log(h.k.value),\n",
    "                 h._power_halo_centres.value, u, h.r.value, h.corr_mm_base,\n",
    "                 h.mean_gal_den.value, h.delta_halo,\n",
    "                 h.mean_density.value, h.nthreads_2halo)"
   ]
  },
  {
   "cell_type": "code",
   "execution_count": 52,
   "metadata": {
    "collapsed": true
   },
   "outputs": [],
   "source": [
    "from halomod import tools\n",
    "def python_2halo():\n",
    "    ### POWER PART\n",
    "    u = h.profile.u(h.k,h.M,norm=\"m\")\n",
    "    if h.scale_dependent_bias is not None:\n",
    "        bias = np.outer(h.sd_bias.bias_scale(),h.bias)\n",
    "    else:\n",
    "        bias = h.bias\n",
    "    inst = NgMatched_(m=h.M,density=h.n_tot*h.dndm,\n",
    "                  I=h.n_tot*h.dndm*u/h.mean_gal_den,\n",
    "                  bias=bias,r=h.r,delta_halo=h.delta_halo,\n",
    "                  mean_density=h.mean_density)\n",
    "\n",
    "    if hasattr(inst,\"density_mod\"):\n",
    "        __density_mod = inst.density_mod\n",
    "    else:\n",
    "        __density_mod = h.mean_gal_den\n",
    "\n",
    "    power_gg_2h= inst.integrate() * h._power_halo_centres\n",
    "\n",
    "    if len(power_gg_2h.shape)==2:\n",
    "        corr = tools.power_to_corr_ogata_matrix(power_gg_2h,h.k.value,h.r)\n",
    "    else:\n",
    "        corr = tools.power_to_corr_ogata(power_gg_2h,h.k.value,h.r)\n",
    "\n",
    "    print __density_mod/h.mean_gal_den\n",
    "    ## modify by the new density\n",
    "    return (__density_mod/h.mean_gal_den)**2 * (1+corr)-1"
   ]
  },
  {
   "cell_type": "markdown",
   "metadata": {},
   "source": [
    "### Visual"
   ]
  },
  {
   "cell_type": "code",
   "execution_count": 59,
   "metadata": {
    "collapsed": false
   },
   "outputs": [
    {
     "name": "stdout",
     "output_type": "stream",
     "text": [
      "[ 0.          0.          0.          0.          0.          0.          0.\n",
      "  0.          0.          0.03116097  0.16901763  0.34861526  0.4966459\n",
      "  0.60185108  0.67785585  0.73538611  0.78137747  0.82005801  0.85384447\n",
      "  0.88395688  0.91082625  0.93439405  0.95435384  0.97038116  0.98234871\n",
      "  0.99048493  0.99541048  0.99800851  0.99917913  0.99962093  0.99975653\n",
      "  0.9997886   0.99979395  0.99979452  0.99979455  0.99979455  0.99979455\n",
      "  0.99979455  0.99979455  0.99979455  0.99979455  0.99979455  0.99979455\n",
      "  0.99979455  0.99979455  0.99979455  0.99979455  0.99979455  0.99979455\n",
      "  0.99979455]\n"
     ]
    },
    {
     "data": {
      "text/plain": [
       "[<matplotlib.lines.Line2D at 0x10f256d50>]"
      ]
     },
     "execution_count": 59,
     "metadata": {},
     "output_type": "execute_result"
    },
    {
     "data": {
      "image/png": "[encoded data removed]",
      "text/plain": [
       "<matplotlib.figure.Figure at 0x10feb7450>"
      ]
     },
     "metadata": {},
     "output_type": "display_data"
    }
   ],
   "source": [
    "py = python_2halo()\n",
    "fort = fortran_2halo()\n",
    "\n",
    "fig,ax = plt.subplots(2,1,sharex=True,subplot_kw={\"xscale\":\"log\"},gridspec_kw={\"height_ratios\":(2.5,1)})\n",
    "ax[0].plot(h.r,py,label=\"python\")\n",
    "ax[0].plot(h.r,fort,label=\"fortran\")\n",
    "#ax[0].plot(r,anl,label=\"analytic\")\n",
    "ax[0].legend(loc=0)\n",
    "\n",
    "ax[1].plot(h.r,py/fort)"
   ]
  },
  {
   "cell_type": "code",
   "execution_count": null,
   "metadata": {
    "collapsed": true
   },
   "outputs": [],
   "source": []
  }
 ],
 "metadata": {
  "kernelspec": {
   "display_name": "Python 2",
   "language": "python",
   "name": "python2"
  },
  "language_info": {
   "codemirror_mode": {
    "name": "ipython",
    "version": 2
   },
   "file_extension": ".py",
   "mimetype": "text/x-python",
   "name": "python",
   "nbconvert_exporter": "python",
   "pygments_lexer": "ipython2",
   "version": "2.7.10"
  }
 },
 "nbformat": 4,
 "nbformat_minor": 0
}
