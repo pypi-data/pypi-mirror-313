{
 "cells": [
  {
   "cell_type": "code",
   "execution_count": null,
   "id": "49b82134",
   "metadata": {},
   "outputs": [],
   "source": [
    "import numpy as np\n",
    "from sklearn import datasets\n",
    "from matplotlib import pyplot as plt, rcParams\n",
    "from zaps.eda import UniStat, Dist, NumAna, Olrs\n",
    "\n",
    "# set matplotlib style\n",
    "rcParams['figure.autolayout'] = True\n",
    "rcParams['axes.spines.right'] = False\n",
    "rcParams['axes.spines.top'] = False"
   ]
  },
  {
   "cell_type": "markdown",
   "id": "43da291c",
   "metadata": {},
   "source": [
    "#### Test Data"
   ]
  },
  {
   "cell_type": "code",
   "execution_count": null,
   "id": "ff0436d7",
   "metadata": {},
   "outputs": [],
   "source": [
    "# load dataset\n",
    "df = datasets.load_breast_cancer(as_frame = True)['frame']\n",
    "\n",
    "df.head()"
   ]
  },
  {
   "cell_type": "code",
   "execution_count": null,
   "id": "25bf8619",
   "metadata": {},
   "outputs": [],
   "source": [
    "# column types\n",
    "cat_cols = ['target']\n",
    "num_cols = df.columns[:-1]\n",
    "\n",
    "# outliers\n",
    "lrs = Olrs(num_cols, hide_p_bar = True)\n",
    "lrs_df = lrs.fit_transform(df)\n",
    "\n",
    "# more categories for grouping\n",
    "np.random.seed(45)\n",
    "\n",
    "df['multi_cat'] = np.random.choice(['a', 'b', 'c', 'd'], p = [.4, .3, .2, .1], size = len(df))\n",
    "df['cat_feat'] = np.random.choice(['e', 'f'], p = [.4, .6], size = len(df))\n",
    "df['multi_cat_none'] = np.random.choice(['g', 'h', None], p = [.1, .4, .5], size = len(df))"
   ]
  },
  {
   "cell_type": "markdown",
   "id": "b15aa40b",
   "metadata": {},
   "source": [
    "### Univariate Analysis plots"
   ]
  },
  {
   "cell_type": "code",
   "execution_count": null,
   "id": "7e2ef822",
   "metadata": {},
   "outputs": [],
   "source": [
    "u_s = UniStat(df = df, \n",
    "              col_drop = df.columns[-4:-3], # `target` column\n",
    "              card_thresh = 2,\n",
    "              rare_thresh = .3,  \n",
    "              figsize = (5,5),\n",
    "              n_rows = 2,\n",
    "              n_cols = 1,\n",
    "              hide_p_bar = True)"
   ]
  },
  {
   "cell_type": "code",
   "execution_count": null,
   "id": "00a4d0d9",
   "metadata": {},
   "outputs": [],
   "source": [
    "# missing values, high card and rare cats\n",
    "u_s.stats_plot(width = 800, height = 300)"
   ]
  },
  {
   "cell_type": "code",
   "execution_count": null,
   "id": "c04632dc",
   "metadata": {},
   "outputs": [],
   "source": [
    "# skewed feats\n",
    "u_s.skew_plot()"
   ]
  },
  {
   "cell_type": "code",
   "execution_count": null,
   "id": "a9d5770c",
   "metadata": {},
   "outputs": [],
   "source": [
    "# adjusting thresholds\n",
    "del u_s.z_hc_data_\n",
    "\n",
    "u_s.card_thresh = 4\n",
    "u_s.rare_thresh = .1\n",
    "u_s.stats_plot(width = 800, height = 300)"
   ]
  },
  {
   "cell_type": "code",
   "execution_count": null,
   "id": "765af5ee",
   "metadata": {},
   "outputs": [],
   "source": [
    "# attributes\n",
    "display(\n",
    "    u_s.z_hc_data_,\n",
    "    u_s.z_miss_data_,\n",
    "    u_s.z_rare_cat_,\n",
    "    u_s.z_summary_\n",
    ")"
   ]
  },
  {
   "cell_type": "markdown",
   "id": "32fba9e5",
   "metadata": {},
   "source": [
    "### Distribution plots"
   ]
  },
  {
   "cell_type": "code",
   "execution_count": null,
   "id": "859c094d",
   "metadata": {
    "scrolled": true
   },
   "outputs": [],
   "source": [
    "# generic setup\n",
    "hue_agg = ['count']\n",
    "log_scale = False\n",
    "color = 'red'\n",
    "palette = 'Set1'\n",
    "nbins = 'auto'\n",
    "axis = 'both'\n",
    "tight  = True\n",
    "x_ax_rotation  = 25\n",
    "theme = 'brown'\n",
    "hue = 'target' # None"
   ]
  },
  {
   "cell_type": "code",
   "execution_count": null,
   "id": "6ba882bb",
   "metadata": {},
   "outputs": [],
   "source": [
    "# iterative plotting - histograms\n",
    "_ = Dist(df = df, cols = num_cols[:2], hide_p_bar = True)\n",
    "\n",
    "_.hs(bins = 'fd', stat = 'probability', multiple = 'layer', element = 'step', fill = False, discrete = False,\n",
    "     hue_agg = hue_agg, log_scale = log_scale, color = color, palette = palette, nbins = nbins, axis = axis,\n",
    "     tight = tight, x_ax_rotation = x_ax_rotation, theme = theme)"
   ]
  },
  {
   "cell_type": "code",
   "execution_count": null,
   "id": "fcf1ff66",
   "metadata": {},
   "outputs": [],
   "source": [
    "# iterative plotting - kernel density \n",
    "_.kd(cut = 3, bw_method = 'silverman', bw_adjust = 3, warn_singular = True, hue_agg = hue_agg, log_scale = log_scale,\n",
    "     color = color, palette = palette, nbins = nbins, axis = axis, tight = tight, x_ax_rotation = x_ax_rotation,\n",
    "     theme = theme)"
   ]
  },
  {
   "cell_type": "code",
   "execution_count": null,
   "id": "1aba3aa8",
   "metadata": {},
   "outputs": [],
   "source": [
    "# iterative plotting - box plot \n",
    "_.bo(hue = hue, fill = True, showmeans = True,\n",
    "     meanprops = dict(linewidth = 2, color = 'black'), \n",
    "     medianprops = dict(linewidth = 1.5, color = 'cyan'), whis = 3, fliersize = 10, \n",
    "     hue_agg = hue_agg, log_scale = log_scale, color = color, palette = palette, nbins = nbins, \n",
    "     axis = axis, tight = tight, x_ax_rotation = x_ax_rotation, theme = theme)"
   ]
  },
  {
   "cell_type": "code",
   "execution_count": null,
   "id": "dd936177",
   "metadata": {},
   "outputs": [],
   "source": [
    "# iterative plotting - violin plot \n",
    "_.vi(hue = hue, fill = False, inner = 'box', split = True, cut = 3, bw_method = 'silverman', bw_adjust = 1, \n",
    "     density_norm = 'count', hue_agg = hue_agg, log_scale = log_scale, color = color, palette = palette, nbins = nbins, \n",
    "     axis = axis, tight = tight, x_ax_rotation = x_ax_rotation, theme = theme)"
   ]
  },
  {
   "cell_type": "code",
   "execution_count": null,
   "id": "ee6a71e3",
   "metadata": {},
   "outputs": [],
   "source": [
    "# iterative plotting - count plot\n",
    "_ = Dist(df = df, cols = ['multi_cat', 'cat_feat', 'multi_cat_none', 'target'], hide_p_bar = True)\n",
    "\n",
    "_.cp(stat = 'count', native_scale = False, legend = 'auto', hue_agg = hue_agg, log_scale = log_scale, color = color, \n",
    "     palette = palette, nbins = nbins, axis = axis, tight = tight, x_ax_rotation = x_ax_rotation, theme = theme)"
   ]
  },
  {
   "cell_type": "code",
   "execution_count": null,
   "id": "76ad06b0",
   "metadata": {},
   "outputs": [],
   "source": [
    "# iterative plotting - cat feats vs discat target\n",
    "_ = Dist(df = df, cols =  ['multi_cat_none', 'cat_feat'], target = 'target', hide_p_bar = True)\n",
    "\n",
    "_.cp()"
   ]
  },
  {
   "cell_type": "code",
   "execution_count": null,
   "id": "d3b0d5a0",
   "metadata": {},
   "outputs": [],
   "source": [
    "# iterative plotting - cat feats vs cat target\n",
    "_ = Dist(df = df, cols =  ['multi_cat_none', 'target'], target = 'multi_cat', hide_p_bar = True)\n",
    "\n",
    "_.cp()"
   ]
  },
  {
   "cell_type": "code",
   "execution_count": null,
   "id": "959c6f41",
   "metadata": {},
   "outputs": [],
   "source": [
    "# iterative plotting - num feats vs cat target\n",
    "_ = Dist(df = df, cols = num_cols[:2], target = 'cat_feat', hide_p_bar = True)\n",
    "\n",
    "_.hs()"
   ]
  },
  {
   "cell_type": "code",
   "execution_count": null,
   "id": "084575da",
   "metadata": {},
   "outputs": [],
   "source": [
    "# with hue\n",
    "_.bo(hue = hue)"
   ]
  },
  {
   "cell_type": "code",
   "execution_count": null,
   "id": "66277768",
   "metadata": {},
   "outputs": [],
   "source": [
    "# iterative plotting - num feats vs discat target\n",
    "_ = Dist(df = df, cols = num_cols[:2], target = 'target', hide_p_bar = True)\n",
    "\n",
    "_.hs()"
   ]
  },
  {
   "cell_type": "code",
   "execution_count": null,
   "id": "2a606290",
   "metadata": {},
   "outputs": [],
   "source": [
    "# finding best fitting distribution\n",
    "_.best_fit(\n",
    "           method = 'parametric', \n",
    "           distr = ['norm', 'expon', 'uniform', 'lognorm'], \n",
    "           stats = 'RSS',\n",
    "           n_boots = 50)"
   ]
  },
  {
   "cell_type": "code",
   "execution_count": null,
   "id": "ffb89c11",
   "metadata": {},
   "outputs": [],
   "source": [
    "# visualize fit results\n",
    "_.best_vis()"
   ]
  },
  {
   "cell_type": "code",
   "execution_count": null,
   "id": "a78ccba0",
   "metadata": {},
   "outputs": [],
   "source": [
    "# fitted model\n",
    "_.z_best_fit_results_['mean radius'].model"
   ]
  },
  {
   "cell_type": "markdown",
   "id": "9bc3c62d",
   "metadata": {},
   "source": [
    "### Numeric Analysis plots"
   ]
  },
  {
   "cell_type": "code",
   "execution_count": null,
   "id": "4544a423",
   "metadata": {},
   "outputs": [],
   "source": [
    "# correlation plots\n",
    "n_a = NumAna(df, num_cols, 'target', hide_p_bar = True)\n",
    "corr_mtrx, feat_corr_mtrx = n_a.corr(disp_corr = 'spearman', quant = .25, thresh = .8, alpha = .05, plot = True)\n",
    "\n",
    "display(corr_mtrx[['area error', 'mean radius']], feat_corr_mtrx[['area error', 'mean radius']].T)"
   ]
  },
  {
   "cell_type": "code",
   "execution_count": null,
   "id": "4c3c6e48",
   "metadata": {},
   "outputs": [],
   "source": [
    "# logistic fit plots\n",
    "n_a = NumAna(df = df,\n",
    "             cols = num_cols[:5],\n",
    "             target = 'target',\n",
    "#              fit = 'logit',\n",
    "             method = 'cg',\n",
    "             figsize = (15,3),\n",
    "             n_rows = 1,\n",
    "             n_cols = 4,\n",
    "             silent = True,\n",
    "             hide_p_bar = True,\n",
    "             theme = 'darkorange',\n",
    "             warn_convergence = True,\n",
    "             gtol = 1e-6,# kwarg for 'cg' method\n",
    "             ).fit_models()"
   ]
  },
  {
   "cell_type": "code",
   "execution_count": null,
   "id": "c3f8e733",
   "metadata": {},
   "outputs": [],
   "source": [
    "# attributes\n",
    "display(n_a.z_fit_results_['mean radius'].params, \n",
    "        n_a.z_fit_results_['mean radius'].prsquared, \n",
    "        n_a.z_fit_results_['mean radius'].llr_pvalue,\n",
    "       );\n",
    "\n",
    "# plot\n",
    "n_a.vis_fit(x_jitter = .01, tc_color = 'r')"
   ]
  },
  {
   "cell_type": "code",
   "execution_count": null,
   "id": "24d4b887",
   "metadata": {},
   "outputs": [],
   "source": [
    "# OLS fit plots\n",
    "n_a = NumAna(df = df,\n",
    "             cols = num_cols[:4],\n",
    "             target = 'mean concavity',\n",
    "             fit = 'ols',\n",
    "             figsize = (15,3),\n",
    "             n_rows = 1,\n",
    "             n_cols = 4,\n",
    "             hide_p_bar = True,\n",
    "             theme = 'black',\n",
    "             )\n",
    "\n",
    "n_a.vis_fit(x_ax_rotation = 20)"
   ]
  },
  {
   "cell_type": "code",
   "execution_count": null,
   "id": "4b311ae1",
   "metadata": {},
   "outputs": [],
   "source": [
    "# OLS assumptions plots\n",
    "n_a.vis_ols_fit()"
   ]
  },
  {
   "cell_type": "code",
   "execution_count": null,
   "id": "79a80c9c",
   "metadata": {},
   "outputs": [],
   "source": [
    "# lowess fit plots\n",
    "n_a = NumAna(df = df,\n",
    "             cols = num_cols[:4],\n",
    "             target = 'mean concavity',\n",
    "             fit = 'lws',\n",
    "             figsize = (15,3),\n",
    "             n_rows = 1,\n",
    "             n_cols = 4,\n",
    "             hide_p_bar = True,\n",
    "             theme = 'orange',\n",
    "             ).vis_fit(olrs_mapping = lrs.z_olrs_, olrs_color = 'b')"
   ]
  },
  {
   "cell_type": "code",
   "execution_count": null,
   "id": "41aacdb4",
   "metadata": {},
   "outputs": [],
   "source": [
    "# polynomial fit plots\n",
    "n_a = NumAna(df = df,\n",
    "             cols = num_cols[:4],\n",
    "             target = 'mean concavity',\n",
    "             degree = 3,\n",
    "             fit = 'lws', # should be ignored\n",
    "             figsize = (15,3),\n",
    "             n_rows = 1,\n",
    "             n_cols = 4,\n",
    "             hide_p_bar = True,\n",
    "             theme = 'red',\n",
    "             ).vis_fit()"
   ]
  },
  {
   "cell_type": "code",
   "execution_count": null,
   "id": "790c422a",
   "metadata": {},
   "outputs": [],
   "source": [
    "# multivariate plot - logistic fit\n",
    "\n",
    "# whats tested?\n",
    "# `category_orders` passing specific order overriding default one\n",
    "# `hoverdata` numeric format, removal of facets and inclusion of index\n",
    "# `z_plotly_fit_` attribute\n",
    "# Ignoring `facet_col_wrap`\n",
    "# overlaying outliers and fit assignment per facet\n",
    "# title, theme, traces\n",
    "\n",
    "n_a = NumAna(df, num_cols, 'target', hide_p_bar = True)\n",
    "\n",
    "n_a.vis_multi(\n",
    "    col = \"mean radius\",\n",
    "    olrs_idx = lrs.z_olrs_[\"mean radius\"],\n",
    "    facet_col = 'multi_cat',\n",
    "    facet_row = 'cat_feat',\n",
    "    category_orders = {\n",
    "                        'multi_cat': ['c', 'a', 'd', 'b'],\n",
    "                        'cat_feat': ['f', 'e'],\n",
    "                       },\n",
    "    facet_col_wrap = 3, # ignored in favor of \"facet_row\"\n",
    "    title =  'test pass',\n",
    "    height = 600,\n",
    "    theme = 'azure'\n",
    "    \n",
    ")"
   ]
  },
  {
   "cell_type": "code",
   "execution_count": null,
   "id": "f92deddb",
   "metadata": {},
   "outputs": [],
   "source": [
    "# confirm fit results of 2nd column and row [a,e]\n",
    "n_a.z_plotly_fit_.iloc[6]['fit'].summary()"
   ]
  },
  {
   "cell_type": "code",
   "execution_count": null,
   "id": "a60af35f",
   "metadata": {},
   "outputs": [],
   "source": [
    "# confirm outlier points mapping\n",
    "subset = df[(df.multi_cat == 'a') & (df.cat_feat == 'e')] # [a,e]\n",
    "idx = lrs.z_olrs_[\"mean radius\"][lrs.z_olrs_[\"mean radius\"].isin(subset.index)]\n",
    "\n",
    "subset.loc[idx][['mean radius', 'target']]"
   ]
  },
  {
   "cell_type": "code",
   "execution_count": null,
   "id": "14a1b559",
   "metadata": {},
   "outputs": [],
   "source": [
    "# test multivariate plot - Poly fit\n",
    "\n",
    "# what's tested?\n",
    "# `facet_col_wrap`\n",
    "# fit assignment per facet\n",
    "# log checks\n",
    "# trace text\n",
    "# `z_plotly_fit_` attribute\n",
    "\n",
    "n_a = NumAna(df, num_cols, 'mean radius', degree = 3, hide_p_bar = True)\n",
    "\n",
    "n_a.vis_multi(\n",
    "    col = \"mean concavity\",\n",
    "    olrs_idx = lrs.z_olrs_[\"mean concavity\"],\n",
    "    facet_col = 'multi_cat',\n",
    "    category_orders = {\n",
    "                        'multi_cat': ['b', 'a', 'c', 'd'],\n",
    "                       },\n",
    "    facet_col_wrap = 2,\n",
    "    trendline_options = {'log_x' : True},\n",
    ")"
   ]
  },
  {
   "cell_type": "code",
   "execution_count": null,
   "id": "47e7f859",
   "metadata": {},
   "outputs": [],
   "source": [
    "# confirm fit results [a]\n",
    "n_a.z_plotly_fit_.iloc[[2]]"
   ]
  },
  {
   "cell_type": "code",
   "execution_count": null,
   "id": "06d14b7e",
   "metadata": {},
   "outputs": [],
   "source": [
    "# ignoring `facet_col_wrap`\n",
    "n_a.vis_multi(\n",
    "    col = \"mean concavity\",\n",
    "    olrs_idx = lrs.z_olrs_[\"mean concavity\"],\n",
    "    facet_col = 'multi_cat',\n",
    "    facet_col_wrap = 2, # ignored in favor of 'trendline_scope'\n",
    "    trendline_scope = \"overall\",\n",
    ")"
   ]
  },
  {
   "cell_type": "code",
   "execution_count": null,
   "id": "950c03f5",
   "metadata": {},
   "outputs": [],
   "source": [
    "# confirm fit results - overall\n",
    "n_a.z_plotly_fit_"
   ]
  },
  {
   "cell_type": "code",
   "execution_count": null,
   "id": "f03d7c7f",
   "metadata": {},
   "outputs": [],
   "source": [
    "# more grouping [color, symbol]\n",
    "n_a.vis_multi(\n",
    "    col = \"mean concavity\",\n",
    "    olrs_idx = lrs.z_olrs_[\"mean concavity\"],\n",
    "    color = 'mean texture',\n",
    "    symbol = 'cat_feat',\n",
    "    facet_col = 'multi_cat',\n",
    "    facet_row = 'target',\n",
    "    facet_col_wrap = 0,\n",
    "    width = 1100,\n",
    "    height = 500\n",
    ")"
   ]
  },
  {
   "cell_type": "code",
   "execution_count": null,
   "id": "e1355628",
   "metadata": {},
   "outputs": [],
   "source": [
    "# confirm fit results [e,c,0]\n",
    "n_a.z_plotly_fit_.iloc[11]"
   ]
  },
  {
   "cell_type": "code",
   "execution_count": null,
   "id": "0bc8dab6",
   "metadata": {},
   "outputs": [],
   "source": [
    "# test 3D multivariate plot - logistic fit\n",
    "\n",
    "# what's tested?\n",
    "# overlaying outliers\n",
    "# z-axis assigned to 'target'\n",
    "# hovertext\n",
    "# layout\n",
    "\n",
    "n_a = NumAna(df, num_cols, 'target', hide_p_bar = True)\n",
    "\n",
    "n_a.vis_multi_d(\n",
    "    x = \"mean concavity\",\n",
    "    y = 'mean texture',\n",
    "    olrs_idx = lrs.z_olrs_[\"mean concavity\"],\n",
    "    color = 'mean radius',\n",
    ")"
   ]
  },
  {
   "cell_type": "markdown",
   "id": "6c41bcf2",
   "metadata": {},
   "source": [
    "### Input validation not covered in pytest"
   ]
  },
  {
   "cell_type": "code",
   "execution_count": null,
   "id": "74e013bc",
   "metadata": {},
   "outputs": [],
   "source": [
    "# Dist(df, num_cols).cp() # feature categorization in count plot"
   ]
  },
  {
   "cell_type": "code",
   "execution_count": null,
   "id": "6ec83898",
   "metadata": {},
   "outputs": [],
   "source": [
    "# Dist(df, cat_cols, target = 'area error').cp() # target categorization in count plot"
   ]
  },
  {
   "cell_type": "code",
   "execution_count": null,
   "id": "22fc8039",
   "metadata": {},
   "outputs": [],
   "source": [
    "# Dist(df, ['multi_cat', 'cat_feat']).kd() # missing `target` in kde plot"
   ]
  },
  {
   "cell_type": "code",
   "execution_count": null,
   "id": "c2bb2e8c",
   "metadata": {},
   "outputs": [],
   "source": [
    "# Dist(df, num_cols).best_vis() # Dist instance not fitted"
   ]
  },
  {
   "cell_type": "code",
   "execution_count": null,
   "id": "368691e8",
   "metadata": {},
   "outputs": [],
   "source": [
    "# _ = Dist(df, cat_cols)\n",
    "\n",
    "# _.best_fit(method = 'discrete', distr = ['expon'])\n",
    "\n",
    "# _.best_vis() # visualizing `discrete` results"
   ]
  },
  {
   "cell_type": "code",
   "execution_count": null,
   "id": "9f5cff34",
   "metadata": {},
   "outputs": [],
   "source": [
    "# NumAna(df, num_cols, target = 'mean concavity').vis_fit(olrs_idx = lrs.z_olrs_) # passing olrs mapping to index param"
   ]
  },
  {
   "cell_type": "code",
   "execution_count": null,
   "id": "2f19b9a2",
   "metadata": {},
   "outputs": [],
   "source": [
    "# # passing olrs idx to mapping param\n",
    "# NumAna(df, num_cols, target = 'mean concavity').vis_fit(olrs_mapping = lrs.z_olrs_['mean concavity'])"
   ]
  },
  {
   "cell_type": "code",
   "execution_count": null,
   "id": "11ec51ed",
   "metadata": {},
   "outputs": [],
   "source": [
    "# NumAna(df, num_cols, target = 'target').vis_ols_fit() # calling ols vis on logistic fit"
   ]
  }
 ],
 "metadata": {
  "kernelspec": {
   "display_name": "Python 3 (ipykernel)",
   "language": "python",
   "name": "python3"
  },
  "language_info": {
   "codemirror_mode": {
    "name": "ipython",
    "version": 3
   },
   "file_extension": ".py",
   "mimetype": "text/x-python",
   "name": "python",
   "nbconvert_exporter": "python",
   "pygments_lexer": "ipython3",
   "version": "3.11.2"
  }
 },
 "nbformat": 4,
 "nbformat_minor": 5
}
