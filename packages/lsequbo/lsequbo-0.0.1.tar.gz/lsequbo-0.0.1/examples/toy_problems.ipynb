{
 "cells": [
  {
   "cell_type": "code",
   "id": "initial_id",
   "metadata": {
    "collapsed": true,
    "ExecuteTime": {
     "end_time": "2024-10-25T07:50:25.161608Z",
     "start_time": "2024-10-25T07:50:24.955471Z"
    }
   },
   "source": [
    "import numpy as np\n",
    "import lsequbo"
   ],
   "outputs": [],
   "execution_count": 1
  },
  {
   "metadata": {
    "ExecuteTime": {
     "end_time": "2024-10-25T07:50:25.165209Z",
     "start_time": "2024-10-25T07:50:25.162836Z"
    }
   },
   "cell_type": "code",
   "source": [
    "A = np.array([[1, 0, 0], [-1, 2, -1], [0, 0, 1]])\n",
    "b = np.array([0, 0, 2])"
   ],
   "id": "7f5d5d9ece6bcecb",
   "outputs": [],
   "execution_count": 2
  },
  {
   "metadata": {
    "ExecuteTime": {
     "end_time": "2024-10-25T07:50:25.170862Z",
     "start_time": "2024-10-25T07:50:25.166336Z"
    }
   },
   "cell_type": "code",
   "source": "A",
   "id": "3f6e3b830d875a91",
   "outputs": [
    {
     "data": {
      "text/plain": [
       "array([[ 1,  0,  0],\n",
       "       [-1,  2, -1],\n",
       "       [ 0,  0,  1]])"
      ]
     },
     "execution_count": 3,
     "metadata": {},
     "output_type": "execute_result"
    }
   ],
   "execution_count": 3
  },
  {
   "metadata": {
    "ExecuteTime": {
     "end_time": "2024-10-25T07:50:25.174340Z",
     "start_time": "2024-10-25T07:50:25.171555Z"
    }
   },
   "cell_type": "code",
   "source": "lse = lsequbo.LSE(A=A, b=b)",
   "id": "43e169405958e87a",
   "outputs": [],
   "execution_count": 4
  },
  {
   "metadata": {
    "ExecuteTime": {
     "end_time": "2024-10-25T07:50:25.180102Z",
     "start_time": "2024-10-25T07:50:25.176256Z"
    }
   },
   "cell_type": "code",
   "source": "lse.info",
   "id": "4268acb6036df4b9",
   "outputs": [
    {
     "data": {
      "text/plain": [
       "{'real': np.True_,\n",
       " 'solution': array([0., 1., 2.]),\n",
       " 'min(x)': np.float64(0.0),\n",
       " 'max(x)': np.float64(2.0),\n",
       " 'fractional_part': np.float64(0.0),\n",
       " 'square': True,\n",
       " 'symmetric': False,\n",
       " 'spectrum': array([2., 1., 1.]),\n",
       " 'positive_semi-definite': np.True_,\n",
       " 'positive_definite': np.True_,\n",
       " 'determinant': np.float64(2.0),\n",
       " 'hamming matrix': array([[1, 0, 0],\n",
       "        [1, 1, 1],\n",
       "        [0, 0, 1]]),\n",
       " 'hamming weight': np.int64(5)}"
      ]
     },
     "execution_count": 5,
     "metadata": {},
     "output_type": "execute_result"
    }
   ],
   "execution_count": 5
  },
  {
   "metadata": {
    "ExecuteTime": {
     "end_time": "2024-10-25T07:50:25.185235Z",
     "start_time": "2024-10-25T07:50:25.180877Z"
    }
   },
   "cell_type": "code",
   "source": "lse.x",
   "id": "32a2e95077767468",
   "outputs": [
    {
     "data": {
      "text/plain": [
       "array([0., 1., 2.])"
      ]
     },
     "execution_count": 6,
     "metadata": {},
     "output_type": "execute_result"
    }
   ],
   "execution_count": 6
  },
  {
   "metadata": {
    "ExecuteTime": {
     "end_time": "2024-10-25T07:50:25.188991Z",
     "start_time": "2024-10-25T07:50:25.185811Z"
    }
   },
   "cell_type": "code",
   "source": "np.bitwise_count(np.array([0, 1, 2]))",
   "id": "e1fefe4f1e6c98d6",
   "outputs": [
    {
     "data": {
      "text/plain": [
       "array([0, 1, 1], dtype=uint8)"
      ]
     },
     "execution_count": 7,
     "metadata": {},
     "output_type": "execute_result"
    }
   ],
   "execution_count": 7
  },
  {
   "metadata": {
    "ExecuteTime": {
     "end_time": "2024-10-25T07:50:25.192571Z",
     "start_time": "2024-10-25T07:50:25.189544Z"
    }
   },
   "cell_type": "code",
   "source": "np.bitwise_count([0, 0, 1, 1, 0, 1, 0, 1, 1])",
   "id": "109c5a2aaa8fe579",
   "outputs": [
    {
     "data": {
      "text/plain": [
       "array([0, 0, 1, 1, 0, 1, 0, 1, 1], dtype=uint8)"
      ]
     },
     "execution_count": 8,
     "metadata": {},
     "output_type": "execute_result"
    }
   ],
   "execution_count": 8
  },
  {
   "metadata": {
    "ExecuteTime": {
     "end_time": "2024-10-25T07:50:25.194649Z",
     "start_time": "2024-10-25T07:50:25.193161Z"
    }
   },
   "cell_type": "code",
   "source": "",
   "id": "e7340b8bb7d88887",
   "outputs": [],
   "execution_count": 8
  }
 ],
 "metadata": {
  "kernelspec": {
   "display_name": "Python 3",
   "language": "python",
   "name": "python3"
  },
  "language_info": {
   "codemirror_mode": {
    "name": "ipython",
    "version": 2
   },
   "file_extension": ".py",
   "mimetype": "text/x-python",
   "name": "python",
   "nbconvert_exporter": "python",
   "pygments_lexer": "ipython2",
   "version": "2.7.6"
  }
 },
 "nbformat": 4,
 "nbformat_minor": 5
}
