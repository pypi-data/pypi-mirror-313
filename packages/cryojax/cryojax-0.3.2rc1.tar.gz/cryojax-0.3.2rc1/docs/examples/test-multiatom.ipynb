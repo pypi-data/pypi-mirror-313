{
 "cells": [
  {
   "cell_type": "markdown",
   "metadata": {},
   "source": [
    "### Let's demonstrate the image formation pipeline in ``cryojax``."
   ]
  },
  {
   "cell_type": "code",
   "execution_count": null,
   "metadata": {},
   "outputs": [],
   "source": [
    "%reload_ext autoreload\n",
    "%autoreload 2\n",
    "\n",
    "# Jax imports\n",
    "import equinox as eqx\n",
    "import jax\n",
    "import jax.numpy as jnp\n",
    "from jax import config\n",
    "\n",
    "\n",
    "config.update(\"jax_enable_x64\", False)\n",
    "from cryojax.simulator.density import AtomCloud\n",
    "from cryojax.simulator.scattering import IndependentAtomScattering"
   ]
  },
  {
   "cell_type": "code",
   "execution_count": null,
   "metadata": {},
   "outputs": [],
   "source": [
    "# Plotting imports and function definitions\n",
    "from matplotlib import pyplot as plt\n",
    "from mpl_toolkits.axes_grid1 import make_axes_locatable"
   ]
  },
  {
   "cell_type": "code",
   "execution_count": null,
   "metadata": {},
   "outputs": [],
   "source": [
    "def plot_image(image, fig, ax, cmap=\"gray\", **kwargs):\n",
    "    im = ax.imshow(image, cmap=cmap, origin=\"lower\", **kwargs)\n",
    "    divider = make_axes_locatable(ax)\n",
    "    cax = divider.append_axes(\"right\", size=\"5%\", pad=0.05)\n",
    "    fig.colorbar(im, cax=cax)\n",
    "    return fig, ax"
   ]
  },
  {
   "cell_type": "code",
   "execution_count": null,
   "metadata": {},
   "outputs": [],
   "source": [
    "# Image simulator imports\n",
    "import cryojax.simulator as cs\n",
    "from cryojax.utils import fftfreqs, fftn, irfftn"
   ]
  },
  {
   "cell_type": "code",
   "execution_count": null,
   "metadata": {},
   "outputs": [],
   "source": [
    "pixel_size = 0.4\n",
    "stdev_val = 1.0\n",
    "\n",
    "weights = jnp.array([1.0, 0.6, 0.4, 0.2])\n",
    "variances = (jnp.ones(4) * stdev_val) ** 2 * 10\n",
    "identity = jnp.array([0, 1, 2, 3, 0, 1, 2, 3])\n",
    "\n",
    "key = jax.random.PRNGKey(8675309)\n",
    "\n",
    "coordinates = jnp.stack([jnp.arange(8), -jnp.arange(8), jnp.arange(8)]).T * 2\n",
    "print(coordinates)\n",
    "\n",
    "scattering = IndependentAtomScattering((100, 100))\n",
    "\n",
    "ac = AtomCloud(weights, coordinates, variances, identity)\n",
    "img = ac.scatter(scattering, pixel_size)"
   ]
  },
  {
   "cell_type": "code",
   "execution_count": null,
   "metadata": {},
   "outputs": [],
   "source": [
    "plt.pcolor(jnp.fft.ifft2(img).real)"
   ]
  },
  {
   "cell_type": "code",
   "execution_count": null,
   "metadata": {},
   "outputs": [],
   "source": [
    "resolution = 1.0\n",
    "\n",
    "specimen = cs.Specimen(density=ac, resolution=1)\n",
    "\n",
    "# Initialize the image formation pipeline\n",
    "pose = cs.EulerPose(\n",
    "    offset_x=-50.0, offset_y=20.0, view_phi=-20, view_theta=100, view_psi=20\n",
    ")\n",
    "optics = cs.CTFOptics(defocus_u=10000, defocus_v=10000, amplitude_contrast=0.07)\n",
    "ice = cs.GaussianIce(\n",
    "    key=jax.random.PRNGKey(seed=0), variance=cs.Exp(amplitude=1.0, scale=1.0)\n",
    ")\n",
    "exposure = cs.UniformExposure(N=1e5, mu=0.0)\n",
    "detector = cs.GaussianDetector(\n",
    "    pixel_size=resolution,\n",
    "    key=jax.random.PRNGKey(seed=1234),\n",
    "    variance=cs.Constant(1.0),\n",
    ")"
   ]
  },
  {
   "cell_type": "code",
   "execution_count": null,
   "metadata": {},
   "outputs": [],
   "source": [
    "# Compile the image formation pipeline into the PipelineState\n",
    "state = cs.PipelineState(\n",
    "    pose=pose, ice=ice, optics=optics, exposure=exposure, detector=detector\n",
    ")"
   ]
  },
  {
   "cell_type": "markdown",
   "metadata": {},
   "source": [
    "Finally, we can initialize our imaging models. Models are included that render images in the exit plane of the specimen (``ScatteringImage``), in the detector plane (``OpticsImage``), and from the detector readout (``DetectorImage``)."
   ]
  },
  {
   "cell_type": "code",
   "execution_count": null,
   "metadata": {},
   "outputs": [],
   "source": [
    "# Image formation models\n",
    "scattering_model = cs.ScatteringImage(\n",
    "    scattering=scattering, specimen=specimen, state=state\n",
    ")\n",
    "optics_model = cs.OpticsImage(scattering=scattering, specimen=specimen, state=state)\n",
    "detector_model = cs.DetectorImage(scattering=scattering, specimen=specimen, state=state)"
   ]
  },
  {
   "cell_type": "code",
   "execution_count": null,
   "metadata": {},
   "outputs": [],
   "source": [
    "# Plot scattering in fourier space\n",
    "fig, ax = plt.subplots(figsize=(3.25, 3.25))\n",
    "im = plot_image(jnp.log10(jnp.abs(scattering_model.render(view=False))), fig, ax)\n",
    "plt.tight_layout()"
   ]
  },
  {
   "cell_type": "code",
   "execution_count": null,
   "metadata": {},
   "outputs": [],
   "source": [
    "# Plot models\n",
    "fig, axes = plt.subplots(ncols=3, figsize=(12, 6))\n",
    "ax1, ax2, ax3 = axes\n",
    "im1 = plot_image(scattering_model(), fig, ax1)\n",
    "im2 = plot_image(optics_model(), fig, ax2)\n",
    "im3 = plot_image(detector_model(), fig, ax3)\n",
    "plt.tight_layout()"
   ]
  },
  {
   "cell_type": "markdown",
   "metadata": {},
   "source": [
    "Models can also include ``Filter``s. The following is a demonstration of a ``WhiteningFilter`` and a ``LowpassFilter``. These are precomputed upon initialization and applied automatically in the image formation pipeline. \n",
    "\n",
    "To compute a ``WhiteningFilter``, we first have to generate some synthetic data of structured noise from which we may compute its power spectrum."
   ]
  },
  {
   "cell_type": "code",
   "execution_count": null,
   "metadata": {},
   "outputs": [],
   "source": [
    "# Instantiate image filters\n",
    "fig, ax = plt.subplots(figsize=(3.5, 3.5))\n",
    "freqs = fftfreqs((800, 600), pixel_size=resolution)\n",
    "micrograph = ice.sample(freqs) * optics(freqs) + fftn(detector.sample(freqs))\n",
    "whiten = cs.WhiteningFilter(scattering.shape, micrograph=micrograph)\n",
    "plot_image(irfftn(whiten(fftn(detector_model()))), fig, ax)"
   ]
  },
  {
   "cell_type": "markdown",
   "metadata": {},
   "source": [
    "We see that the whitening filter looks right, empirically! Now generate an image with the toy icy structured noise model with a given whitening filter. We will also apply a whitening filter for antialiasing."
   ]
  },
  {
   "cell_type": "code",
   "execution_count": null,
   "metadata": {},
   "outputs": [],
   "source": [
    "# Show forward model for a whitened image\n",
    "fig, ax = plt.subplots(figsize=(3.5, 3.5))\n",
    "filters = [\n",
    "    cs.LowpassFilter(scattering.padded_shape, cutoff=0.95),\n",
    "    cs.WhiteningFilter(scattering.padded_shape, micrograph=micrograph),\n",
    "]\n",
    "filtered_model = cs.GaussianImage(\n",
    "    scattering=scattering, specimen=specimen, state=state, filters=filters\n",
    ")\n",
    "plot_image(filtered_model.render(), fig, ax)"
   ]
  },
  {
   "cell_type": "code",
   "execution_count": null,
   "metadata": {},
   "outputs": [],
   "source": [
    "# Visualize filters\n",
    "fig, axes = plt.subplots(ncols=2, figsize=(7, 5))\n",
    "ax1, ax2 = axes\n",
    "antialias, whiten = filters\n",
    "im1 = plot_image(whiten.filter, fig, ax1, cmap=\"viridis\")\n",
    "im2 = plot_image(antialias.filter, fig, ax2, cmap=\"gray\")\n",
    "plt.tight_layout()"
   ]
  },
  {
   "cell_type": "markdown",
   "metadata": {},
   "source": [
    "From all of the above, we see that computing an image is straight-forward. In practice, if we want to solve the inverse problem and find the model parameters that most likely generated the data, we want to define a function that can be arbitrarily transformed by JAX and evaulated at subsets of the parameters.\n",
    "\n",
    "``Image`` models can take in these dictionaries, search over existing parameters, and update them in the underlying models in the ``PipelineState`` or ``Specimen``. This search introduces some python overhead, which can be optimized away with ``jax.jit``."
   ]
  },
  {
   "cell_type": "code",
   "execution_count": null,
   "metadata": {},
   "outputs": [],
   "source": [
    "def build_pipeline(pixel_size: jax.Array) -> cs.GaussianImage:\n",
    "    # Build the PipelineState\n",
    "    d = eqx.tree_at(lambda d: d.pixel_size, detector, pixel_size)\n",
    "    state = cs.PipelineState(\n",
    "        pose=pose, optics=optics, detector=d, ice=ice, exposure=exposure\n",
    "    )\n",
    "    # Build the model\n",
    "    model = cs.GaussianImage(scattering=scattering, specimen=specimen, state=state)\n",
    "    return model\n",
    "\n",
    "\n",
    "@jax.jit\n",
    "def pipeline(pixel_size: jax.Array) -> jax.Array:\n",
    "    model = build_pipeline(pixel_size)\n",
    "    return model()"
   ]
  },
  {
   "cell_type": "code",
   "execution_count": null,
   "metadata": {},
   "outputs": [],
   "source": [
    "# Plot jitted model with updated parameters.\n",
    "fig, axes = plt.subplots(ncols=2, figsize=(8, 6))\n",
    "ax1, ax2 = axes\n",
    "plot_image(pipeline(detector.pixel_size), fig, ax1)\n",
    "plot_image(pipeline(2 * detector.pixel_size), fig, ax2)"
   ]
  },
  {
   "cell_type": "markdown",
   "metadata": {},
   "source": [
    "Now, we can also use the model to compute a likelihood. For this, we can use the ``GaussianImage`` model. This is a subclass of the ``DetectorImage``, adding the ability to evaulate a likelihood. Let's evaulate the likelihood at the simulated data, and visualize the residuals."
   ]
  },
  {
   "cell_type": "code",
   "execution_count": null,
   "metadata": {},
   "outputs": [],
   "source": [
    "# Initialize the model and plot residuals\n",
    "fig, axes = plt.subplots(ncols=3, figsize=(12, 6))\n",
    "ax1, ax2, ax3 = axes\n",
    "mask = cs.CircularMask(scattering.shape)\n",
    "masks = [mask]\n",
    "observation_model = cs.GaussianImage(\n",
    "    scattering=scattering, specimen=specimen, state=state\n",
    ")\n",
    "observed = mask(observation_model())\n",
    "model = cs.GaussianImage(\n",
    "    scattering=scattering,\n",
    "    specimen=specimen,\n",
    "    state=state,\n",
    "    masks=masks,\n",
    "    observed=observed,\n",
    ")\n",
    "simulated, observed, residuals = (\n",
    "    model.render(),\n",
    "    model.observed,\n",
    "    model.residuals,\n",
    ")\n",
    "plot_image(simulated, fig, ax1)\n",
    "plot_image(observed, fig, ax2)\n",
    "plot_image(residuals, fig, ax3)\n",
    "plt.tight_layout()"
   ]
  },
  {
   "cell_type": "markdown",
   "metadata": {},
   "source": [
    "Evaluating the ``GaussianImage`` with the observed data set will automatically evaulate the ``GausianImage.log_likelihood`` function."
   ]
  },
  {
   "cell_type": "code",
   "execution_count": null,
   "metadata": {},
   "outputs": [],
   "source": [
    "# Parameters on which to evaluate loss\n",
    "params = dict(pixel_size=detector.pixel_size + 0.01, offset_z=jnp.asarray(100.0))"
   ]
  },
  {
   "cell_type": "code",
   "execution_count": null,
   "metadata": {},
   "outputs": [],
   "source": [
    "def build_loss(params: dict[str, jax.Array]) -> cs.GaussianImage:\n",
    "    # Build the PipelineState\n",
    "    p = eqx.tree_at(lambda p: p.offset_z, pose, params[\"offset_z\"])\n",
    "    d = eqx.tree_at(lambda d: d.pixel_size, detector, params[\"pixel_size\"])\n",
    "    state = cs.PipelineState(pose=p, optics=optics, detector=d)\n",
    "    # Build the model\n",
    "    model = cs.GaussianImage(\n",
    "        scattering=scattering,\n",
    "        specimen=specimen,\n",
    "        state=state,\n",
    "        observed=observed,\n",
    "    )\n",
    "    return model\n",
    "\n",
    "\n",
    "@jax.jit\n",
    "def loss(pixel_size: jax.Array) -> jax.Array:\n",
    "    model = build_loss(pixel_size)\n",
    "    return model()\n",
    "\n",
    "\n",
    "@jax.jit\n",
    "@jax.value_and_grad\n",
    "def grad_loss(pixel_size: jax.Array) -> jax.Array:\n",
    "    model = build_loss(pixel_size)\n",
    "    return model()"
   ]
  },
  {
   "cell_type": "code",
   "execution_count": null,
   "metadata": {},
   "outputs": [],
   "source": [
    "# Benchmark loss pipeline\n",
    "%timeit likelihood = loss(params)"
   ]
  },
  {
   "cell_type": "code",
   "execution_count": null,
   "metadata": {},
   "outputs": [],
   "source": [
    "# Benchmark gradient pipeline\n",
    "%timeit grad = grad_loss(params)"
   ]
  },
  {
   "cell_type": "code",
   "execution_count": null,
   "metadata": {},
   "outputs": [],
   "source": []
  }
 ],
 "metadata": {
  "kernelspec": {
   "display_name": "cryojax",
   "language": "python",
   "name": "python3"
  },
  "language_info": {
   "codemirror_mode": {
    "name": "ipython",
    "version": 3
   },
   "file_extension": ".py",
   "mimetype": "text/x-python",
   "name": "python",
   "nbconvert_exporter": "python",
   "pygments_lexer": "ipython3",
   "version": "3.10.13"
  }
 },
 "nbformat": 4,
 "nbformat_minor": 4
}
