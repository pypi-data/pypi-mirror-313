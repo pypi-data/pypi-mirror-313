{
 "cells": [
  {
   "cell_type": "code",
   "execution_count": null,
   "metadata": {},
   "outputs": [],
   "source": [
    "import sys\n",
    "sys.path.append('/home/bleu/ai/deeprhythm/src')"
   ]
  },
  {
   "cell_type": "code",
   "execution_count": null,
   "metadata": {},
   "outputs": [],
   "source": [
    "from deeprhythm.model.train import train_cnn_cont\n",
    "\n",
    "data_path = '/media/bleu/bulkdata2/deeprhythmdata/hcqm-split.hdf5'\n",
    "train_cnn_cont(data_path, 'deeprhythm-cont', start_weights='deeprhythm-cont-best.pth', batch_size=512)"
   ]
  },
  {
   "cell_type": "code",
   "execution_count": null,
   "metadata": {},
   "outputs": [],
   "source": [
    "from deeprhythm.model.train import train_cnn\n",
    "data_path = '/media/bleu/bulkdata2/deeprhythmdata/hcqm-split.hdf5'\n",
    "\n",
    "train_cnn(data_path, 'deeprhythm-2.3', start_weights='deeprhythm-2.2-best.pth',  batch_size=512)"
   ]
  }
 ],
 "metadata": {
  "kernelspec": {
   "display_name": "autoawq",
   "language": "python",
   "name": "python3"
  },
  "language_info": {
   "codemirror_mode": {
    "name": "ipython",
    "version": 3
   },
   "file_extension": ".py",
   "mimetype": "text/x-python",
   "name": "python",
   "nbconvert_exporter": "python",
   "pygments_lexer": "ipython3",
   "version": "3.10.13"
  }
 },
 "nbformat": 4,
 "nbformat_minor": 2
}
