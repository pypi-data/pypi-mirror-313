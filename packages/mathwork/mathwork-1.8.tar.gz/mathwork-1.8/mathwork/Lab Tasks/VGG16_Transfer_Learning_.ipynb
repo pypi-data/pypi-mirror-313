{
  "nbformat": 4,
  "nbformat_minor": 0,
  "metadata": {
    "colab": {
      "provenance": []
    },
    "kernelspec": {
      "name": "python3",
      "display_name": "Python 3"
    },
    "language_info": {
      "name": "python"
    }
  },
  "cells": [
    {
      "cell_type": "code",
      "execution_count": null,
      "metadata": {
        "id": "DcxEuEoPj5Hv"
      },
      "outputs": [],
      "source": [
        "import tensorflow_datasets as tfds\n",
        "import tensorflow as tf\n",
        "from tensorflow.keras.utils import to_categorical"
      ]
    },
    {
      "cell_type": "code",
      "source": [
        "## Loading images and labels\n",
        "(train_ds, train_labels), (test_ds, test_labels) = tfds.load(\n",
        "    \"tf_flowers\",\n",
        "    split=[\"train[:70%]\", \"train[:30%]\"], ## Train test split\n",
        "    batch_size=-1,\n",
        "    as_supervised=True,  # Include labels\n",
        ")\n"
      ],
      "metadata": {
        "id": "EjF9kCMbkFZd"
      },
      "execution_count": null,
      "outputs": []
    },
    {
      "cell_type": "code",
      "source": [
        "\n",
        "## check existing image size\n",
        "train_ds[0].shape\n"
      ],
      "metadata": {
        "colab": {
          "base_uri": "https://localhost:8080/"
        },
        "id": "SYEbLft8kFb-",
        "outputId": "9a4bd04c-9097-403f-dc9b-6516d39bcf4b"
      },
      "execution_count": null,
      "outputs": [
        {
          "output_type": "execute_result",
          "data": {
            "text/plain": [
              "TensorShape([442, 1024, 3])"
            ]
          },
          "metadata": {},
          "execution_count": 40
        }
      ]
    },
    {
      "cell_type": "code",
      "source": [
        "\n",
        "## Resizing images\n",
        "train_ds = tf.image.resize(train_ds, (150, 150))\n",
        "test_ds = tf.image.resize(test_ds, (150, 150))"
      ],
      "metadata": {
        "id": "MBzqQ1rykFdv"
      },
      "execution_count": null,
      "outputs": []
    },
    {
      "cell_type": "code",
      "source": [
        "\n",
        "train_labels"
      ],
      "metadata": {
        "colab": {
          "base_uri": "https://localhost:8080/"
        },
        "id": "tbq_3WX5kFf4",
        "outputId": "a6a3bb75-1ba0-4a63-abe2-6e87cdaecd09"
      },
      "execution_count": null,
      "outputs": [
        {
          "output_type": "execute_result",
          "data": {
            "text/plain": [
              "<tf.Tensor: shape=(2569,), dtype=int64, numpy=array([2, 3, 3, ..., 0, 2, 0])>"
            ]
          },
          "metadata": {},
          "execution_count": 42
        }
      ]
    },
    {
      "cell_type": "code",
      "source": [
        "## Transforming labels to correct format\n",
        "train_labels = to_categorical(train_labels, num_classes=5)\n",
        "test_labels = to_categorical(test_labels, num_classes=5)"
      ],
      "metadata": {
        "id": "4Au4XYgqkTmd"
      },
      "execution_count": null,
      "outputs": []
    },
    {
      "cell_type": "code",
      "source": [
        "train_labels[0]"
      ],
      "metadata": {
        "colab": {
          "base_uri": "https://localhost:8080/"
        },
        "id": "q7f9u38skTo9",
        "outputId": "af5eb38f-444c-476c-e3aa-c3d64254c238"
      },
      "execution_count": null,
      "outputs": [
        {
          "output_type": "execute_result",
          "data": {
            "text/plain": [
              "array([0., 0., 1., 0., 0.], dtype=float32)"
            ]
          },
          "metadata": {},
          "execution_count": 44
        }
      ]
    },
    {
      "cell_type": "code",
      "source": [
        "from tensorflow.keras.applications.vgg16 import VGG16\n",
        "from tensorflow.keras.applications.vgg16 import preprocess_input"
      ],
      "metadata": {
        "id": "NZFTxy9ZkTrR"
      },
      "execution_count": null,
      "outputs": []
    },
    {
      "cell_type": "code",
      "source": [
        "train_ds[0].shape"
      ],
      "metadata": {
        "colab": {
          "base_uri": "https://localhost:8080/"
        },
        "id": "SIrePitakTtS",
        "outputId": "72b46c6b-4fac-4c3b-c3b2-5d27a75be52f"
      },
      "execution_count": null,
      "outputs": [
        {
          "output_type": "execute_result",
          "data": {
            "text/plain": [
              "TensorShape([150, 150, 3])"
            ]
          },
          "metadata": {},
          "execution_count": 46
        }
      ]
    },
    {
      "cell_type": "code",
      "source": [
        "## Loading VGG16 model\n",
        "base_model = VGG16(weights=\"imagenet\", include_top=False, input_shape=train_ds[0].shape)"
      ],
      "metadata": {
        "id": "wUonOx0nkTw6"
      },
      "execution_count": null,
      "outputs": []
    },
    {
      "cell_type": "code",
      "source": [
        "## will not train base mode\n",
        "base_model.trainable = False"
      ],
      "metadata": {
        "id": "pO5I_0UEkwR1"
      },
      "execution_count": null,
      "outputs": []
    },
    {
      "cell_type": "code",
      "source": [
        "## Preprocessing input\n",
        "train_ds = preprocess_input(train_ds)\n",
        "test_ds = preprocess_input(test_ds)"
      ],
      "metadata": {
        "id": "3SAocF25kwUQ"
      },
      "execution_count": null,
      "outputs": []
    },
    {
      "cell_type": "code",
      "source": [
        "## model details\n",
        "base_model.summary()"
      ],
      "metadata": {
        "colab": {
          "base_uri": "https://localhost:8080/"
        },
        "id": "yo_USBF_lbi1",
        "outputId": "4aac0a27-a425-4b29-b159-a2cffb568421"
      },
      "execution_count": null,
      "outputs": [
        {
          "output_type": "stream",
          "name": "stdout",
          "text": [
            "Model: \"vgg16\"\n",
            "_________________________________________________________________\n",
            " Layer (type)                Output Shape              Param #   \n",
            "=================================================================\n",
            " input_2 (InputLayer)        [(None, 150, 150, 3)]     0         \n",
            "                                                                 \n",
            " block1_conv1 (Conv2D)       (None, 150, 150, 64)      1792      \n",
            "                                                                 \n",
            " block1_conv2 (Conv2D)       (None, 150, 150, 64)      36928     \n",
            "                                                                 \n",
            " block1_pool (MaxPooling2D)  (None, 75, 75, 64)        0         \n",
            "                                                                 \n",
            " block2_conv1 (Conv2D)       (None, 75, 75, 128)       73856     \n",
            "                                                                 \n",
            " block2_conv2 (Conv2D)       (None, 75, 75, 128)       147584    \n",
            "                                                                 \n",
            " block2_pool (MaxPooling2D)  (None, 37, 37, 128)       0         \n",
            "                                                                 \n",
            " block3_conv1 (Conv2D)       (None, 37, 37, 256)       295168    \n",
            "                                                                 \n",
            " block3_conv2 (Conv2D)       (None, 37, 37, 256)       590080    \n",
            "                                                                 \n",
            " block3_conv3 (Conv2D)       (None, 37, 37, 256)       590080    \n",
            "                                                                 \n",
            " block3_pool (MaxPooling2D)  (None, 18, 18, 256)       0         \n",
            "                                                                 \n",
            " block4_conv1 (Conv2D)       (None, 18, 18, 512)       1180160   \n",
            "                                                                 \n",
            " block4_conv2 (Conv2D)       (None, 18, 18, 512)       2359808   \n",
            "                                                                 \n",
            " block4_conv3 (Conv2D)       (None, 18, 18, 512)       2359808   \n",
            "                                                                 \n",
            " block4_pool (MaxPooling2D)  (None, 9, 9, 512)         0         \n",
            "                                                                 \n",
            " block5_conv1 (Conv2D)       (None, 9, 9, 512)         2359808   \n",
            "                                                                 \n",
            " block5_conv2 (Conv2D)       (None, 9, 9, 512)         2359808   \n",
            "                                                                 \n",
            " block5_conv3 (Conv2D)       (None, 9, 9, 512)         2359808   \n",
            "                                                                 \n",
            " block5_pool (MaxPooling2D)  (None, 4, 4, 512)         0         \n",
            "                                                                 \n",
            "=================================================================\n",
            "Total params: 14714688 (56.13 MB)\n",
            "Trainable params: 0 (0.00 Byte)\n",
            "Non-trainable params: 14714688 (56.13 MB)\n",
            "_________________________________________________________________\n"
          ]
        }
      ]
    },
    {
      "cell_type": "code",
      "source": [
        "#add our layers on top of this model\n",
        "from tensorflow.keras import layers, models\n",
        "\n",
        "flatten_layer = layers.Flatten()\n",
        "dense_layer_1 = layers.Dense(50, activation='relu')\n",
        "dense_layer_2 = layers.Dense(20, activation='relu')\n",
        "prediction_layer = layers.Dense(5, activation='softmax')\n",
        "\n",
        "\n",
        "model = models.Sequential([\n",
        "    base_model,\n",
        "    flatten_layer,\n",
        "    dense_layer_1,\n",
        "    dense_layer_2,\n",
        "    prediction_layer\n",
        "])"
      ],
      "metadata": {
        "id": "f5MCMoiRlboH"
      },
      "execution_count": null,
      "outputs": []
    },
    {
      "cell_type": "code",
      "source": [
        "from tensorflow.keras.callbacks import EarlyStopping\n",
        "\n",
        "model.compile(\n",
        "    optimizer='adam',\n",
        "    loss='categorical_crossentropy',\n",
        "    metrics=['accuracy'],\n",
        ")"
      ],
      "metadata": {
        "id": "Pv5t617Mlbqm"
      },
      "execution_count": null,
      "outputs": []
    },
    {
      "cell_type": "code",
      "source": [
        "es = EarlyStopping(monitor='val_accuracy', mode='max', patience=5,  restore_best_weights=True)"
      ],
      "metadata": {
        "id": "TV4ldV9Olmf_"
      },
      "execution_count": null,
      "outputs": []
    },
    {
      "cell_type": "code",
      "source": [
        "model.fit(train_ds, train_labels, epochs=50, validation_split=0.2, batch_size=32, callbacks=[es])"
      ],
      "metadata": {
        "colab": {
          "base_uri": "https://localhost:8080/"
        },
        "id": "JTmw-AeQlmiW",
        "outputId": "0378dda6-dc23-48bd-eab5-279be7e11606"
      },
      "execution_count": null,
      "outputs": [
        {
          "output_type": "stream",
          "name": "stdout",
          "text": [
            "Epoch 1/50\n",
            "65/65 [==============================] - 600s 9s/step - loss: 2.1488 - accuracy: 0.4672 - val_loss: 1.1037 - val_accuracy: 0.5973\n",
            "Epoch 2/50\n",
            "65/65 [==============================] - 591s 9s/step - loss: 0.7791 - accuracy: 0.7109 - val_loss: 0.9647 - val_accuracy: 0.6342\n",
            "Epoch 3/50\n",
            "65/65 [==============================] - 591s 9s/step - loss: 0.4988 - accuracy: 0.8229 - val_loss: 1.1163 - val_accuracy: 0.6459\n",
            "Epoch 4/50\n",
            "65/65 [==============================] - 588s 9s/step - loss: 0.3618 - accuracy: 0.8696 - val_loss: 1.1657 - val_accuracy: 0.6790\n",
            "Epoch 5/50\n",
            "65/65 [==============================] - 590s 9s/step - loss: 0.2401 - accuracy: 0.9173 - val_loss: 1.2360 - val_accuracy: 0.6693\n",
            "Epoch 6/50\n",
            "65/65 [==============================] - 587s 9s/step - loss: 0.1545 - accuracy: 0.9484 - val_loss: 1.2960 - val_accuracy: 0.6790\n",
            "Epoch 7/50\n",
            "65/65 [==============================] - 588s 9s/step - loss: 0.0910 - accuracy: 0.9776 - val_loss: 1.3971 - val_accuracy: 0.6673\n",
            "Epoch 8/50\n",
            "65/65 [==============================] - 589s 9s/step - loss: 0.0572 - accuracy: 0.9898 - val_loss: 1.3677 - val_accuracy: 0.6848\n",
            "Epoch 9/50\n",
            "65/65 [==============================] - 590s 9s/step - loss: 0.0395 - accuracy: 0.9956 - val_loss: 1.4100 - val_accuracy: 0.6790\n",
            "Epoch 10/50\n",
            "65/65 [==============================] - 587s 9s/step - loss: 0.0272 - accuracy: 0.9981 - val_loss: 1.4996 - val_accuracy: 0.6907\n",
            "Epoch 11/50\n",
            "65/65 [==============================] - 589s 9s/step - loss: 0.0199 - accuracy: 0.9985 - val_loss: 1.5463 - val_accuracy: 0.6887\n",
            "Epoch 12/50\n",
            "65/65 [==============================] - 589s 9s/step - loss: 0.0136 - accuracy: 0.9990 - val_loss: 1.5749 - val_accuracy: 0.6907\n",
            "Epoch 13/50\n",
            "65/65 [==============================] - 559s 9s/step - loss: 0.0110 - accuracy: 0.9990 - val_loss: 1.6546 - val_accuracy: 0.6790\n",
            "Epoch 14/50\n",
            "65/65 [==============================] - 587s 9s/step - loss: 0.0102 - accuracy: 0.9990 - val_loss: 1.6453 - val_accuracy: 0.6907\n",
            "Epoch 15/50\n",
            "65/65 [==============================] - 607s 9s/step - loss: 0.0075 - accuracy: 0.9995 - val_loss: 1.6689 - val_accuracy: 0.7004\n",
            "Epoch 16/50\n",
            "65/65 [==============================] - 586s 9s/step - loss: 0.0060 - accuracy: 1.0000 - val_loss: 1.7000 - val_accuracy: 0.6887\n",
            "Epoch 17/50\n",
            "65/65 [==============================] - 586s 9s/step - loss: 0.0051 - accuracy: 1.0000 - val_loss: 1.7443 - val_accuracy: 0.6907\n",
            "Epoch 18/50\n",
            "65/65 [==============================] - 588s 9s/step - loss: 0.0043 - accuracy: 1.0000 - val_loss: 1.7570 - val_accuracy: 0.6946\n",
            "Epoch 19/50\n",
            "65/65 [==============================] - 586s 9s/step - loss: 0.0036 - accuracy: 1.0000 - val_loss: 1.7879 - val_accuracy: 0.6965\n",
            "Epoch 20/50\n",
            "65/65 [==============================] - 587s 9s/step - loss: 0.0032 - accuracy: 1.0000 - val_loss: 1.8026 - val_accuracy: 0.6907\n"
          ]
        },
        {
          "output_type": "execute_result",
          "data": {
            "text/plain": [
              "<keras.src.callbacks.History at 0x79e980262ef0>"
            ]
          },
          "metadata": {},
          "execution_count": 25
        }
      ]
    },
    {
      "cell_type": "code",
      "source": [],
      "metadata": {
        "id": "5g1IHbxclmmQ"
      },
      "execution_count": null,
      "outputs": []
    },
    {
      "cell_type": "code",
      "source": [
        "#Model Build from Scratch\n",
        "from tensorflow.keras import Sequential, layers\n",
        "from tensorflow.keras.callbacks import EarlyStopping\n",
        "from tensorflow.keras.layers.experimental.preprocessing import Rescaling\n",
        "\n",
        "\n",
        "full_model = Sequential()\n",
        "full_model.add(Rescaling(1./255, input_shape=(150,150,3)))\n",
        "\n",
        "full_model.add(layers.Conv2D(16, kernel_size=10, activation='relu'))\n",
        "full_model.add(layers.MaxPooling2D(3))\n",
        "\n",
        "full_model.add(layers.Conv2D(32, kernel_size=8, activation=\"relu\"))\n",
        "full_model.add(layers.MaxPooling2D(2))\n",
        "\n",
        "full_model.add(layers.Conv2D(32, kernel_size=6, activation=\"relu\"))\n",
        "full_model.add(layers.MaxPooling2D(2))\n",
        "\n",
        "full_model.add(layers.Flatten())\n",
        "full_model.add(layers.Dense(50, activation='relu'))\n",
        "full_model.add(layers.Dense(20, activation='relu'))\n",
        "full_model.add(layers.Dense(5, activation='softmax'))\n",
        "\n",
        "\n",
        "full_model.compile(\n",
        "    optimizer='adam',\n",
        "    loss='categorical_crossentropy',\n",
        "    metrics=['accuracy'],\n",
        ")\n",
        "\n",
        "\n",
        "es = EarlyStopping(monitor='val_accuracy', mode='max', patience=5,  restore_best_weights=True)\n",
        "\n",
        "full_model.fit(train_ds, train_labels, epochs=50, validation_split=0.2, batch_size=32, callbacks=[es])"
      ],
      "metadata": {
        "id": "J4URaSxh-FJe"
      },
      "execution_count": null,
      "outputs": []
    },
    {
      "cell_type": "code",
      "source": [],
      "metadata": {
        "id": "AmJ2UgYD-FL3"
      },
      "execution_count": null,
      "outputs": []
    }
  ]
}