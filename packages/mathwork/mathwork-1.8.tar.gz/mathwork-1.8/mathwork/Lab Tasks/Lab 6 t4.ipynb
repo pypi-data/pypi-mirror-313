{
  "cells": [
    {
      "cell_type": "code",
      "execution_count": null,
      "metadata": {
        "execution": {
          "iopub.execute_input": "2023-11-15T19:07:57.935036Z",
          "iopub.status.busy": "2023-11-15T19:07:57.934671Z",
          "iopub.status.idle": "2023-11-15T19:07:58.315594Z",
          "shell.execute_reply": "2023-11-15T19:07:58.314720Z",
          "shell.execute_reply.started": "2023-11-15T19:07:57.935007Z"
        },
        "id": "tldNNbZnfsBI",
        "trusted": true
      },
      "outputs": [],
      "source": [
        "import pandas as pd\n",
        "import json\n",
        "\n",
        "def create_dataframe(annotations_path):\n",
        "    with open(annotations_path, 'r') as file:\n",
        "        data = json.load(file)\n",
        "    images = pd.DataFrame(data['images']).rename(columns={'id': 'image_id'})[['image_id', 'file_name']]\n",
        "    categories = pd.DataFrame(data['categories'])[['id', 'name']]\n",
        "    categories.rename(columns={'id': 'category_id'}, inplace=True)\n",
        "    usecols = ['image_id', 'category_id']\n",
        "    annotations = pd.DataFrame(data['annotations'])[usecols]\n",
        "    dataframe = annotations.merge(categories, on='category_id').merge(images, on='image_id')[['file_name', 'name']]\n",
        "    return dataframe"
      ]
    },
    {
      "cell_type": "code",
      "execution_count": null,
      "metadata": {
        "execution": {
          "iopub.execute_input": "2023-11-15T19:07:58.320712Z",
          "iopub.status.busy": "2023-11-15T19:07:58.320450Z",
          "iopub.status.idle": "2023-11-15T19:08:03.394290Z",
          "shell.execute_reply": "2023-11-15T19:08:03.393084Z",
          "shell.execute_reply.started": "2023-11-15T19:07:58.320688Z"
        },
        "id": "oHRhIbVRfsBO",
        "outputId": "38b9b304-5efb-4a41-f447-ed465600f7a6",
        "trusted": true
      },
      "outputs": [
        {
          "data": {
            "text/html": [
              "<div>\n",
              "<style scoped>\n",
              "    .dataframe tbody tr th:only-of-type {\n",
              "        vertical-align: middle;\n",
              "    }\n",
              "\n",
              "    .dataframe tbody tr th {\n",
              "        vertical-align: top;\n",
              "    }\n",
              "\n",
              "    .dataframe thead th {\n",
              "        text-align: right;\n",
              "    }\n",
              "</style>\n",
              "<table border=\"1\" class=\"dataframe\">\n",
              "  <thead>\n",
              "    <tr style=\"text-align: right;\">\n",
              "      <th></th>\n",
              "      <th>file_name</th>\n",
              "      <th>name</th>\n",
              "    </tr>\n",
              "  </thead>\n",
              "  <tbody>\n",
              "    <tr>\n",
              "      <th>0</th>\n",
              "      <td>131094.jpg</td>\n",
              "      <td>soft-cheese</td>\n",
              "    </tr>\n",
              "    <tr>\n",
              "      <th>1</th>\n",
              "      <td>131094.jpg</td>\n",
              "      <td>ham-raw</td>\n",
              "    </tr>\n",
              "    <tr>\n",
              "      <th>2</th>\n",
              "      <td>131094.jpg</td>\n",
              "      <td>hard-cheese</td>\n",
              "    </tr>\n",
              "    <tr>\n",
              "      <th>3</th>\n",
              "      <td>131094.jpg</td>\n",
              "      <td>bread-wholemeal</td>\n",
              "    </tr>\n",
              "    <tr>\n",
              "      <th>4</th>\n",
              "      <td>131094.jpg</td>\n",
              "      <td>cottage-cheese</td>\n",
              "    </tr>\n",
              "    <tr>\n",
              "      <th>...</th>\n",
              "      <td>...</td>\n",
              "      <td>...</td>\n",
              "    </tr>\n",
              "    <tr>\n",
              "      <th>76486</th>\n",
              "      <td>117029.jpg</td>\n",
              "      <td>damson-plum</td>\n",
              "    </tr>\n",
              "    <tr>\n",
              "      <th>76487</th>\n",
              "      <td>117524.jpg</td>\n",
              "      <td>damson-plum</td>\n",
              "    </tr>\n",
              "    <tr>\n",
              "      <th>76488</th>\n",
              "      <td>117849.jpg</td>\n",
              "      <td>damson-plum</td>\n",
              "    </tr>\n",
              "    <tr>\n",
              "      <th>76489</th>\n",
              "      <td>123468.jpg</td>\n",
              "      <td>damson-plum</td>\n",
              "    </tr>\n",
              "    <tr>\n",
              "      <th>76490</th>\n",
              "      <td>095795.jpg</td>\n",
              "      <td>bean-seeds</td>\n",
              "    </tr>\n",
              "  </tbody>\n",
              "</table>\n",
              "<p>76491 rows × 2 columns</p>\n",
              "</div>"
            ],
            "text/plain": [
              "        file_name             name\n",
              "0      131094.jpg      soft-cheese\n",
              "1      131094.jpg          ham-raw\n",
              "2      131094.jpg      hard-cheese\n",
              "3      131094.jpg  bread-wholemeal\n",
              "4      131094.jpg   cottage-cheese\n",
              "...           ...              ...\n",
              "76486  117029.jpg      damson-plum\n",
              "76487  117524.jpg      damson-plum\n",
              "76488  117849.jpg      damson-plum\n",
              "76489  123468.jpg      damson-plum\n",
              "76490  095795.jpg       bean-seeds\n",
              "\n",
              "[76491 rows x 2 columns]"
            ]
          },
          "execution_count": 2,
          "metadata": {},
          "output_type": "execute_result"
        }
      ],
      "source": [
        "train_df = create_dataframe('annotations.json')\n",
        "train_df"
      ]
    },
    {
      "cell_type": "code",
      "execution_count": null,
      "metadata": {
        "execution": {
          "iopub.execute_input": "2023-11-15T19:08:03.395676Z",
          "iopub.status.busy": "2023-11-15T19:08:03.395363Z",
          "iopub.status.idle": "2023-11-15T19:08:13.632587Z",
          "shell.execute_reply": "2023-11-15T19:08:13.631807Z",
          "shell.execute_reply.started": "2023-11-15T19:08:03.395650Z"
        },
        "id": "Sat0t32YfsBP",
        "trusted": true
      },
      "outputs": [],
      "source": [
        "import os\n",
        "splits = ['train', 'validation']\n",
        "for split in splits:\n",
        "    root = f'working/dataset/{split}'\n",
        "    for index, row in train_df.iterrows():\n",
        "        directory_name = row['name']\n",
        "        directory_path = os.path.join(root, directory_name)\n",
        "        if not os.path.exists(directory_path):\n",
        "            os.makedirs(directory_path)"
      ]
    },
    {
      "cell_type": "code",
      "execution_count": null,
      "metadata": {
        "execution": {
          "iopub.execute_input": "2023-11-15T19:08:13.635938Z",
          "iopub.status.busy": "2023-11-15T19:08:13.635650Z",
          "iopub.status.idle": "2023-11-15T19:08:13.722033Z",
          "shell.execute_reply": "2023-11-15T19:08:13.721026Z",
          "shell.execute_reply.started": "2023-11-15T19:08:13.635913Z"
        },
        "id": "O1kx_fHKfsBQ",
        "outputId": "81d62367-e627-442a-d941-962a0938f3de",
        "trusted": true
      },
      "outputs": [
        {
          "data": {
            "text/html": [
              "<div>\n",
              "<style scoped>\n",
              "    .dataframe tbody tr th:only-of-type {\n",
              "        vertical-align: middle;\n",
              "    }\n",
              "\n",
              "    .dataframe tbody tr th {\n",
              "        vertical-align: top;\n",
              "    }\n",
              "\n",
              "    .dataframe thead th {\n",
              "        text-align: right;\n",
              "    }\n",
              "</style>\n",
              "<table border=\"1\" class=\"dataframe\">\n",
              "  <thead>\n",
              "    <tr style=\"text-align: right;\">\n",
              "      <th></th>\n",
              "      <th>file_name</th>\n",
              "      <th>name</th>\n",
              "    </tr>\n",
              "  </thead>\n",
              "  <tbody>\n",
              "    <tr>\n",
              "      <th>0</th>\n",
              "      <td>149022.jpg</td>\n",
              "      <td>espresso-with-caffeine</td>\n",
              "    </tr>\n",
              "    <tr>\n",
              "      <th>1</th>\n",
              "      <td>149022.jpg</td>\n",
              "      <td>dark-chocolate</td>\n",
              "    </tr>\n",
              "    <tr>\n",
              "      <th>2</th>\n",
              "      <td>167905.jpg</td>\n",
              "      <td>espresso-with-caffeine</td>\n",
              "    </tr>\n",
              "    <tr>\n",
              "      <th>3</th>\n",
              "      <td>121313.jpg</td>\n",
              "      <td>espresso-with-caffeine</td>\n",
              "    </tr>\n",
              "    <tr>\n",
              "      <th>4</th>\n",
              "      <td>153429.jpg</td>\n",
              "      <td>espresso-with-caffeine</td>\n",
              "    </tr>\n",
              "    <tr>\n",
              "      <th>...</th>\n",
              "      <td>...</td>\n",
              "      <td>...</td>\n",
              "    </tr>\n",
              "    <tr>\n",
              "      <th>1825</th>\n",
              "      <td>144675.jpg</td>\n",
              "      <td>oat-milk</td>\n",
              "    </tr>\n",
              "    <tr>\n",
              "      <th>1826</th>\n",
              "      <td>103273.jpg</td>\n",
              "      <td>soup-potato</td>\n",
              "    </tr>\n",
              "    <tr>\n",
              "      <th>1827</th>\n",
              "      <td>159922.jpg</td>\n",
              "      <td>red-cabbage</td>\n",
              "    </tr>\n",
              "    <tr>\n",
              "      <th>1828</th>\n",
              "      <td>011275.jpg</td>\n",
              "      <td>pasta-in-conch-form</td>\n",
              "    </tr>\n",
              "    <tr>\n",
              "      <th>1829</th>\n",
              "      <td>166537.jpg</td>\n",
              "      <td>chocolate</td>\n",
              "    </tr>\n",
              "  </tbody>\n",
              "</table>\n",
              "<p>1830 rows × 2 columns</p>\n",
              "</div>"
            ],
            "text/plain": [
              "       file_name                    name\n",
              "0     149022.jpg  espresso-with-caffeine\n",
              "1     149022.jpg          dark-chocolate\n",
              "2     167905.jpg  espresso-with-caffeine\n",
              "3     121313.jpg  espresso-with-caffeine\n",
              "4     153429.jpg  espresso-with-caffeine\n",
              "...          ...                     ...\n",
              "1825  144675.jpg                oat-milk\n",
              "1826  103273.jpg             soup-potato\n",
              "1827  159922.jpg             red-cabbage\n",
              "1828  011275.jpg     pasta-in-conch-form\n",
              "1829  166537.jpg               chocolate\n",
              "\n",
              "[1830 rows x 2 columns]"
            ]
          },
          "execution_count": 4,
          "metadata": {},
          "output_type": "execute_result"
        }
      ],
      "source": [
        "validation_df = create_dataframe('annotations.json')\n",
        "validation_df"
      ]
    },
    {
      "cell_type": "code",
      "execution_count": null,
      "metadata": {
        "execution": {
          "iopub.execute_input": "2023-11-15T19:08:13.723499Z",
          "iopub.status.busy": "2023-11-15T19:08:13.723203Z",
          "iopub.status.idle": "2023-11-15T19:08:13.730663Z",
          "shell.execute_reply": "2023-11-15T19:08:13.729672Z",
          "shell.execute_reply.started": "2023-11-15T19:08:13.723473Z"
        },
        "id": "FIHKQetqfsBR",
        "trusted": true
      },
      "outputs": [],
      "source": [
        "import os\n",
        "import shutil\n",
        "def copy_images_to_destination(base_dir, dataframe, split):\n",
        "    images_dir = os.path.join(base_dir, 'images')\n",
        "\n",
        "    for index, row in dataframe.iterrows():\n",
        "        file_name = row['file_name']\n",
        "        file_class = row['name']\n",
        "        dest_dir = os.path.join('working', 'dataset', split, file_class)\n",
        "        os.makedirs(dest_dir, exist_ok=True)\n",
        "        source_path = os.path.join(images_dir, file_name)\n",
        "        destination_path = os.path.join(dest_dir, file_name)\n",
        "        shutil.copyfile(source_path, destination_path)\n",
        "    print(\"Done copying images.\")"
      ]
    },
    {
      "cell_type": "code",
      "execution_count": null,
      "metadata": {
        "execution": {
          "iopub.execute_input": "2023-11-15T19:08:13.732317Z",
          "iopub.status.busy": "2023-11-15T19:08:13.732018Z",
          "iopub.status.idle": "2023-11-15T19:15:47.867022Z",
          "shell.execute_reply": "2023-11-15T19:15:47.865976Z",
          "shell.execute_reply.started": "2023-11-15T19:08:13.732292Z"
        },
        "id": "42RBM2_lfsBR",
        "outputId": "ba4315e8-2974-4f85-81e5-33ed72af1965",
        "trusted": true
      },
      "outputs": [
        {
          "name": "stdout",
          "output_type": "stream",
          "text": [
            "Done copying images.\n"
          ]
        }
      ],
      "source": [
        "base_dir = 'public_training_set_release_2.0'\n",
        "dataframe = train_df\n",
        "copy_images_to_destination(base_dir, dataframe, 'train')"
      ]
    },
    {
      "cell_type": "code",
      "execution_count": null,
      "metadata": {
        "execution": {
          "iopub.execute_input": "2023-11-15T19:15:47.868723Z",
          "iopub.status.busy": "2023-11-15T19:15:47.868364Z",
          "iopub.status.idle": "2023-11-15T19:15:59.338601Z",
          "shell.execute_reply": "2023-11-15T19:15:59.337667Z",
          "shell.execute_reply.started": "2023-11-15T19:15:47.868689Z"
        },
        "id": "_HouRqE9fsBS",
        "outputId": "ef0373ae-61f7-4c91-fa9c-1961e7cbf592",
        "trusted": true
      },
      "outputs": [
        {
          "name": "stdout",
          "output_type": "stream",
          "text": [
            "Done copying images.\n"
          ]
        }
      ],
      "source": [
        "base_dir = 'public_validation_set_2.0'\n",
        "dataframe = validation_df\n",
        "copy_images_to_destination(base_dir, dataframe, 'validation')"
      ]
    },
    {
      "cell_type": "code",
      "execution_count": null,
      "metadata": {
        "execution": {
          "iopub.execute_input": "2023-11-15T20:24:45.129557Z",
          "iopub.status.busy": "2023-11-15T20:24:45.128742Z",
          "iopub.status.idle": "2023-11-15T20:24:49.798154Z",
          "shell.execute_reply": "2023-11-15T20:24:49.797380Z",
          "shell.execute_reply.started": "2023-11-15T20:24:45.129525Z"
        },
        "id": "LdFGqnIGfsBS",
        "outputId": "fa2d17e9-8594-41d3-9f22-2516e024acdc",
        "trusted": true
      },
      "outputs": [
        {
          "name": "stdout",
          "output_type": "stream",
          "text": [
            "Found 70397 files belonging to 498 classes.\n"
          ]
        }
      ],
      "source": [
        "from tensorflow.keras.utils import image_dataset_from_directory as ImageDataset\n",
        "train = ImageDataset(\n",
        "    directory=r'dataset/train',\n",
        "    label_mode='categorical',\n",
        "    batch_size=32,\n",
        "    image_size=(299, 299)\n",
        ")"
      ]
    },
    {
      "cell_type": "code",
      "execution_count": null,
      "metadata": {
        "execution": {
          "iopub.execute_input": "2023-11-15T20:24:49.800786Z",
          "iopub.status.busy": "2023-11-15T20:24:49.800496Z",
          "iopub.status.idle": "2023-11-15T20:24:50.033413Z",
          "shell.execute_reply": "2023-11-15T20:24:50.032637Z",
          "shell.execute_reply.started": "2023-11-15T20:24:49.800742Z"
        },
        "id": "zVne78hXfsBT",
        "outputId": "eb841ff5-f8c9-43ea-fe6e-bc26725cdcc5",
        "trusted": true
      },
      "outputs": [
        {
          "name": "stdout",
          "output_type": "stream",
          "text": [
            "Found 1799 files belonging to 498 classes.\n"
          ]
        }
      ],
      "source": [
        "validation = ImageDataset(\n",
        "    directory=r'dataset/validation',\n",
        "    label_mode='categorical',\n",
        "    batch_size=32,\n",
        "    image_size=(299, 299)\n",
        ")"
      ]
    },
    {
      "cell_type": "code",
      "execution_count": null,
      "metadata": {
        "execution": {
          "iopub.execute_input": "2023-11-15T20:24:50.035113Z",
          "iopub.status.busy": "2023-11-15T20:24:50.034808Z",
          "iopub.status.idle": "2023-11-15T20:24:50.488329Z",
          "shell.execute_reply": "2023-11-15T20:24:50.487348Z",
          "shell.execute_reply.started": "2023-11-15T20:24:50.035087Z"
        },
        "id": "HJ2qbbvlfsBT",
        "trusted": true
      },
      "outputs": [],
      "source": [
        "element = validation.as_numpy_iterator().next()"
      ]
    },
    {
      "cell_type": "code",
      "execution_count": null,
      "metadata": {
        "execution": {
          "iopub.execute_input": "2023-11-15T20:24:50.491101Z",
          "iopub.status.busy": "2023-11-15T20:24:50.490576Z",
          "iopub.status.idle": "2023-11-15T20:24:50.502491Z",
          "shell.execute_reply": "2023-11-15T20:24:50.501403Z",
          "shell.execute_reply.started": "2023-11-15T20:24:50.491064Z"
        },
        "id": "hPtEGeYXfsBU",
        "outputId": "1eabd246-fb86-4e6e-bc60-6ec84bcc8aa8",
        "trusted": true
      },
      "outputs": [
        {
          "data": {
            "text/plain": [
              "((299, 299, 3), (498,))"
            ]
          },
          "execution_count": 53,
          "metadata": {},
          "output_type": "execute_result"
        }
      ],
      "source": [
        "x, y = element\n",
        "x[0].shape, y[0].shape"
      ]
    },
    {
      "cell_type": "code",
      "execution_count": null,
      "metadata": {
        "execution": {
          "iopub.execute_input": "2023-11-15T20:25:34.530236Z",
          "iopub.status.busy": "2023-11-15T20:25:34.529288Z",
          "iopub.status.idle": "2023-11-15T20:25:49.625463Z",
          "shell.execute_reply": "2023-11-15T20:25:49.624666Z",
          "shell.execute_reply.started": "2023-11-15T20:25:34.530201Z"
        },
        "id": "euMInvtlfsBU",
        "outputId": "a4c6cb03-cc3d-49c3-eebc-222b932b4b5e",
        "trusted": true
      },
      "outputs": [
        {
          "name": "stdout",
          "output_type": "stream",
          "text": [
            "Model: \"model_7\"\n",
            "_________________________________________________________________\n",
            " Layer (type)                Output Shape              Param #   \n",
            "=================================================================\n",
            " input_16 (InputLayer)       [(None, None, None, 3)]   0         \n",
            "                                                                 \n",
            " tf.math.truediv_5 (TFOpLam  (None, None, None, 3)     0         \n",
            " bda)                                                            \n",
            "                                                                 \n",
            " tf.math.subtract_5 (TFOpLa  (None, None, None, 3)     0         \n",
            " mbda)                                                           \n",
            "                                                                 \n",
            " inception_resnet_v2 (Funct  (None, None, None, 1536   54336736  \n",
            " ional)                      )                                   \n",
            "                                                                 \n",
            " global_average_pooling2d_7  (None, 1536)              0         \n",
            "  (GlobalAveragePooling2D)                                       \n",
            "                                                                 \n",
            " dense_7 (Dense)             (None, 498)               765426    \n",
            "                                                                 \n",
            "=================================================================\n",
            "Total params: 55102162 (210.20 MB)\n",
            "Trainable params: 765426 (2.92 MB)\n",
            "Non-trainable params: 54336736 (207.28 MB)\n",
            "_________________________________________________________________\n"
          ]
        }
      ],
      "source": [
        "import tensorflow as tf\n",
        "import keras\n",
        "from tensorflow.keras.applications import InceptionResNetV2\n",
        "from tensorflow.keras.applications.inception_resnet_v2 import preprocess_input\n",
        "\n",
        "strategy = tf.distribute.MirroredStrategy()\n",
        "\n",
        "with strategy.scope():\n",
        "    inception = InceptionResNetV2(include_top=False,\n",
        "                          weights='imagenet')\n",
        "\n",
        "    inception.trainable = False\n",
        "\n",
        "    inputs = keras.Input(shape=(None, None, 3))\n",
        "\n",
        "    x = preprocess_input(inputs)\n",
        "    x = inception(x, training=False)\n",
        "    x = keras.layers.GlobalAveragePooling2D()(x)\n",
        "    outputs = keras.layers.Dense(498, activation='softmax')(x)\n",
        "\n",
        "    model = keras.Model(inputs=inputs, outputs=outputs)\n",
        "\n",
        "    model.summary()\n",
        "\n",
        "    model.compile(optimizer=tf.keras.optimizers.Adam(l),\n",
        "                      loss=tf.keras.losses.CategoricalCrossentropy(),\n",
        "                      metrics=[tf.keras.metrics.CategoricalAccuracy()])"
      ]
    },
    {
      "cell_type": "code",
      "execution_count": null,
      "metadata": {
        "execution": {
          "iopub.execute_input": "2023-11-15T20:25:49.627343Z",
          "iopub.status.busy": "2023-11-15T20:25:49.627055Z",
          "iopub.status.idle": "2023-11-15T20:25:49.631801Z",
          "shell.execute_reply": "2023-11-15T20:25:49.630983Z",
          "shell.execute_reply.started": "2023-11-15T20:25:49.627318Z"
        },
        "id": "blp316GTfsBV",
        "trusted": true
      },
      "outputs": [],
      "source": [
        "callback = tf.keras.callbacks.EarlyStopping(monitor='val_loss', patience=8)"
      ]
    },
    {
      "cell_type": "code",
      "execution_count": null,
      "metadata": {
        "execution": {
          "iopub.execute_input": "2023-11-15T20:25:49.633120Z",
          "iopub.status.busy": "2023-11-15T20:25:49.632659Z"
        },
        "id": "AXjXH1XJfsBV",
        "outputId": "3c8ae88d-1633-4139-a74e-a3fb3bbe9495",
        "trusted": true
      },
      "outputs": [
        {
          "name": "stdout",
          "output_type": "stream",
          "text": [
            "Epoch 1/32\n",
            "2200/2200 [==============================] - 583s 252ms/step - loss: 4.0691 - categorical_accuracy: 0.2259 - val_loss: 3.9940 - val_categorical_accuracy: 0.2240\n",
            "Epoch 2/32\n",
            "2200/2200 [==============================] - 539s 245ms/step - loss: 3.5547 - categorical_accuracy: 0.2648 - val_loss: 3.9486 - val_categorical_accuracy: 0.2279\n",
            "Epoch 3/32\n",
            "2200/2200 [==============================] - 532s 242ms/step - loss: 3.3576 - categorical_accuracy: 0.2830 - val_loss: 3.9249 - val_categorical_accuracy: 0.2324\n",
            "Epoch 4/32\n",
            "2200/2200 [==============================] - 540s 245ms/step - loss: 3.2212 - categorical_accuracy: 0.2964 - val_loss: 3.9433 - val_categorical_accuracy: 0.2340\n",
            "Epoch 5/32\n",
            "2200/2200 [==============================] - 545s 248ms/step - loss: 3.1143 - categorical_accuracy: 0.3088 - val_loss: 3.9777 - val_categorical_accuracy: 0.2424\n",
            "Epoch 6/32\n",
            "2200/2200 [==============================] - 554s 251ms/step - loss: 3.0253 - categorical_accuracy: 0.3178 - val_loss: 4.0223 - val_categorical_accuracy: 0.2312\n",
            "Epoch 7/32\n",
            "2200/2200 [==============================] - 543s 247ms/step - loss: 2.9499 - categorical_accuracy: 0.3255 - val_loss: 4.0096 - val_categorical_accuracy: 0.2407\n",
            "Epoch 8/32\n",
            "1215/2200 [===============>..............] - ETA: 3:58 - loss: 2.8791 - categorical_accuracy: 0.3331"
          ]
        }
      ],
      "source": [
        "history = model.fit(train,\n",
        "                    epochs=32,\n",
        "                    validation_data=validation,\n",
        "                    callbacks=[callback]\n",
        "                   )"
      ]
    }
  ],
  "metadata": {
    "colab": {
      "provenance": []
    },
    "kaggle": {
      "accelerator": "nvidiaTeslaT4",
      "dataSources": [
        {
          "datasetId": 1890383,
          "sourceId": 3117709,
          "sourceType": "datasetVersion"
        }
      ],
      "dockerImageVersionId": 30579,
      "isGpuEnabled": true,
      "isInternetEnabled": true,
      "language": "python",
      "sourceType": "notebook"
    },
    "kernelspec": {
      "display_name": "Python 3",
      "language": "python",
      "name": "python3"
    },
    "language_info": {
      "codemirror_mode": {
        "name": "ipython",
        "version": 3
      },
      "file_extension": ".py",
      "mimetype": "text/x-python",
      "name": "python",
      "nbconvert_exporter": "python",
      "pygments_lexer": "ipython3",
      "version": "3.10.12"
    }
  },
  "nbformat": 4,
  "nbformat_minor": 0
}
