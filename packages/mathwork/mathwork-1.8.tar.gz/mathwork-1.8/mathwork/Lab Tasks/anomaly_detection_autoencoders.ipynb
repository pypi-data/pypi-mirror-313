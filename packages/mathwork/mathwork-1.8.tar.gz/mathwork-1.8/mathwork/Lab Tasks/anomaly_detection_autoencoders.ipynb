{
  "metadata": {
    "kernelspec": {
      "language": "python",
      "display_name": "Python 3",
      "name": "python3"
    },
    "language_info": {
      "name": "python",
      "version": "3.10.14",
      "mimetype": "text/x-python",
      "codemirror_mode": {
        "name": "ipython",
        "version": 3
      },
      "pygments_lexer": "ipython3",
      "nbconvert_exporter": "python",
      "file_extension": ".py"
    },
    "kaggle": {
      "accelerator": "nvidiaTeslaT4",
      "dataSources": [
        {
          "sourceId": 208170,
          "sourceType": "datasetVersion",
          "datasetId": 90131
        }
      ],
      "dockerImageVersionId": 30786,
      "isInternetEnabled": true,
      "language": "python",
      "sourceType": "notebook",
      "isGpuEnabled": true
    },
    "colab": {
      "provenance": []
    }
  },
  "nbformat_minor": 0,
  "nbformat": 4,
  "cells": [
    {
      "cell_type": "code",
      "source": [
        "import numpy as np # linear algebra\n",
        "import pandas as pd # data processing, CSV file I/O (e.g. pd.read_csv)\n",
        "\n",
        "import os\n",
        "for dirname, _, filenames in os.walk('/kaggle/input'):\n",
        "    for filename in filenames:\n",
        "        print(os.path.join(dirname, filename))\n",
        "\n"
      ],
      "metadata": {
        "_uuid": "8f2839f25d086af736a60e9eeb907d3b93b6e0e5",
        "_cell_guid": "b1076dfc-b9ad-4769-8c92-a6c4dae69d19",
        "trusted": true,
        "execution": {
          "iopub.status.busy": "2024-10-11T12:36:22.219080Z",
          "iopub.execute_input": "2024-10-11T12:36:22.219578Z",
          "iopub.status.idle": "2024-10-11T12:36:22.237113Z",
          "shell.execute_reply.started": "2024-10-11T12:36:22.219521Z",
          "shell.execute_reply": "2024-10-11T12:36:22.236232Z"
        },
        "id": "NcDZskqlwF9G",
        "outputId": "decee884-a4e8-45fd-ec1e-98b91908cf24"
      },
      "outputs": [
        {
          "name": "stdout",
          "text": "/kaggle/input/kdd-cup-1999-data/kddcup.data.gz\n/kaggle/input/kdd-cup-1999-data/training_attack_types\n/kaggle/input/kdd-cup-1999-data/kddcup.data.corrected\n/kaggle/input/kdd-cup-1999-data/kddcup.newtestdata_10_percent_unlabeled.gz\n/kaggle/input/kdd-cup-1999-data/kddcup.testdata.unlabeled.gz\n/kaggle/input/kdd-cup-1999-data/corrected.gz\n/kaggle/input/kdd-cup-1999-data/kddcup.data_10_percent.gz\n/kaggle/input/kdd-cup-1999-data/kddcup.names\n/kaggle/input/kdd-cup-1999-data/kddcup.data_10_percent_corrected\n/kaggle/input/kdd-cup-1999-data/typo-correction.txt\n/kaggle/input/kdd-cup-1999-data/kddcup.testdata.unlabeled_10_percent.gz\n/kaggle/input/kdd-cup-1999-data/kddcup.data/kddcup.data\n/kaggle/input/kdd-cup-1999-data/kddcup.testdata.unlabeled/kddcup.testdata.unlabeled\n/kaggle/input/kdd-cup-1999-data/corrected/corrected\n/kaggle/input/kdd-cup-1999-data/kddcup.testdata.unlabeled_10_percent/kddcup.testdata.unlabeled_10_percent\n/kaggle/input/kdd-cup-1999-data/kddcup.newtestdata_10_percent_unlabeled/kddcup.newtestdata_10_percent_unlabeled\n/kaggle/input/kdd-cup-1999-data/kddcup.data_10_percent/kddcup.data_10_percent\n",
          "output_type": "stream"
        }
      ],
      "execution_count": null
    },
    {
      "cell_type": "markdown",
      "source": [
        "**Importing Libraries**"
      ],
      "metadata": {
        "id": "UFf3JQlzwF9K"
      }
    },
    {
      "cell_type": "code",
      "source": [
        "# Import system packages\n",
        "import os\n",
        "import sys\n",
        "import time\n",
        "import logging\n",
        "import importlib\n",
        "\n",
        "#Import data manipulation libraries\n",
        "import pandas as pd\n",
        "import numpy as np\n",
        "import collections\n",
        "from tqdm import tqdm\n",
        "\n",
        "\n",
        "from sklearn.preprocessing import LabelEncoder  #to convert categorical labels into numerical values.\n",
        "import argparse #for handling command-line arguments.\n",
        "\n",
        "#Import visualization libraries\n",
        "import matplotlib.pyplot as plt\n",
        "import seaborn as sns\n",
        "\n",
        "#Importing ML/DL libraries\n",
        "from sklearn.preprocessing import MinMaxScaler\n",
        "from sklearn.model_selection import train_test_split\n",
        "from sklearn.metrics import roc_curve, auc,precision_recall_fscore_support, average_precision_score\n",
        "from sklearn.metrics import precision_recall_curve, auc, confusion_matrix,accuracy_score\n",
        "\n",
        "import tensorflow as tf\n",
        "from tensorflow import keras\n",
        "# from tensorflow.keras import layer\n",
        "\n",
        "from tensorflow.keras import initializers\n",
        "from tensorflow.keras.optimizers import Adam\n",
        "from tensorflow.keras.optimizers import SGD\n",
        "from tensorflow.keras.models import Model, Sequential\n",
        "from tensorflow.keras.optimizers import Adam, RMSprop\n",
        "from tensorflow.keras.callbacks import ModelCheckpoint\n",
        "from tensorflow.keras.layers import Dense, Dropout\n",
        "from tensorflow.keras.layers import LeakyReLU\n",
        "from tensorflow.keras.layers import Input, BatchNormalization, LeakyReLU, Dense, Reshape, Flatten, Activation\n",
        "from tensorflow.keras.layers import Dropout, multiply, GaussianNoise, MaxPooling2D, concatenate\n",
        "import pickle\n",
        "\n",
        "import random\n",
        "random.seed(123)\n"
      ],
      "metadata": {
        "trusted": true,
        "execution": {
          "iopub.status.busy": "2024-10-11T12:36:22.239105Z",
          "iopub.execute_input": "2024-10-11T12:36:22.239780Z",
          "iopub.status.idle": "2024-10-11T12:36:22.249208Z",
          "shell.execute_reply.started": "2024-10-11T12:36:22.239735Z",
          "shell.execute_reply": "2024-10-11T12:36:22.248203Z"
        },
        "id": "-InchFnNwF9P"
      },
      "outputs": [],
      "execution_count": null
    },
    {
      "cell_type": "markdown",
      "source": [
        "**Setting up Argument Parsing**"
      ],
      "metadata": {
        "id": "3sVCZeLBwF9R"
      }
    },
    {
      "cell_type": "code",
      "source": [
        "# Check if running in a Jupyter notebook environment\n",
        "if 'ipykernel' in sys.modules:\n",
        "    # Set pct_anomalies manually in Jupyter environment\n",
        "    pct_anomalies = 0.01\n",
        "else:\n",
        "    # Command-line argument parsing\n",
        "    parser = argparse.ArgumentParser() #Initializes the argument parser.\n",
        "    parser.add_argument('--pct_anomalies', default=.01, type=float) #Adds an argument for specifying the percentage of anomalies to keep. The default value is 1% (.01), and it's parsed as a float.\n",
        "    args = parser.parse_args() #Parses the arguments passed from the command line.\n",
        "    pct_anomalies = args.pct_anomalies #Stores the value of pct_anomalies in a variable for later use."
      ],
      "metadata": {
        "trusted": true,
        "execution": {
          "iopub.status.busy": "2024-10-11T12:36:22.250474Z",
          "iopub.execute_input": "2024-10-11T12:36:22.250820Z",
          "iopub.status.idle": "2024-10-11T12:36:22.262887Z",
          "shell.execute_reply.started": "2024-10-11T12:36:22.250778Z",
          "shell.execute_reply": "2024-10-11T12:36:22.261969Z"
        },
        "id": "gvHgRrStwF9S"
      },
      "outputs": [],
      "execution_count": null
    },
    {
      "cell_type": "markdown",
      "source": [
        "**Loading Data**"
      ],
      "metadata": {
        "id": "coytkDNhwF9T"
      }
    },
    {
      "cell_type": "code",
      "source": [
        "data_path = '/kaggle/input/kdd-cup-1999-data/kddcup.data.corrected' #Specifies the path to the dataset.\n",
        "\n",
        "col_names = [\"duration\",\"protocol_type\",\"service\",\"flag\",\"src_bytes\",\"dst_bytes\",\"land\",\"wrong_fragment\",\"urgent\",\"hot\",\"num_failed_logins\",\"logged_in\",\n",
        "             \"num_compromised\",\"root_shell\",\"su_attempted\",\"num_root\",\"num_file_creations\",\"num_shells\",\"num_access_files\",\"num_outbound_cmds\",\n",
        "             \"is_host_login\",\"is_guest_login\",\"count\",\"srv_count\",\"serror_rate\",\"srv_serror_rate\",\"rerror_rate\",\"srv_rerror_rate\",\"same_srv_rate\",\n",
        "             \"diff_srv_rate\",\"srv_diff_host_rate\",\"dst_host_count\",\"dst_host_srv_count\",\"dst_host_same_srv_rate\",\"dst_host_diff_srv_rate\",\n",
        "             \"dst_host_same_src_port_rate\",\"dst_host_srv_diff_host_rate\",\"dst_host_serror_rate\",\"dst_host_srv_serror_rate\",\"dst_host_rerror_rate\",\n",
        "             \"dst_host_srv_rerror_rate\",\"label\"]\n",
        "\n",
        "\n",
        "df = pd.read_csv(data_path,names=col_names, index_col=False) #Reads the dataset from the CSV file into a pandas DataFrame df"
      ],
      "metadata": {
        "trusted": true,
        "execution": {
          "iopub.status.busy": "2024-10-11T12:36:22.264097Z",
          "iopub.execute_input": "2024-10-11T12:36:22.264387Z",
          "iopub.status.idle": "2024-10-11T12:36:41.463487Z",
          "shell.execute_reply.started": "2024-10-11T12:36:22.264356Z",
          "shell.execute_reply": "2024-10-11T12:36:41.462642Z"
        },
        "id": "5F6LMmTIwF9T"
      },
      "outputs": [],
      "execution_count": null
    },
    {
      "cell_type": "markdown",
      "source": [
        "**Explore the Data**"
      ],
      "metadata": {
        "id": "EXvc1bE0wF9U"
      }
    },
    {
      "cell_type": "code",
      "source": [
        "df.head(5)"
      ],
      "metadata": {
        "trusted": true,
        "execution": {
          "iopub.status.busy": "2024-10-11T12:36:41.467007Z",
          "iopub.execute_input": "2024-10-11T12:36:41.467720Z",
          "iopub.status.idle": "2024-10-11T12:36:41.493036Z",
          "shell.execute_reply.started": "2024-10-11T12:36:41.467672Z",
          "shell.execute_reply": "2024-10-11T12:36:41.492036Z"
        },
        "id": "PmnXnLBrwF9V",
        "outputId": "b906898b-d40f-4efb-d78e-5f60ab7906c6"
      },
      "outputs": [
        {
          "execution_count": 35,
          "output_type": "execute_result",
          "data": {
            "text/plain": "   duration protocol_type service flag  src_bytes  dst_bytes  land  \\\n0         0           tcp    http   SF        215      45076     0   \n1         0           tcp    http   SF        162       4528     0   \n2         0           tcp    http   SF        236       1228     0   \n3         0           tcp    http   SF        233       2032     0   \n4         0           tcp    http   SF        239        486     0   \n\n   wrong_fragment  urgent  hot  ...  dst_host_srv_count  \\\n0               0       0    0  ...                   0   \n1               0       0    0  ...                   1   \n2               0       0    0  ...                   2   \n3               0       0    0  ...                   3   \n4               0       0    0  ...                   4   \n\n   dst_host_same_srv_rate  dst_host_diff_srv_rate  \\\n0                     0.0                     0.0   \n1                     1.0                     0.0   \n2                     1.0                     0.0   \n3                     1.0                     0.0   \n4                     1.0                     0.0   \n\n   dst_host_same_src_port_rate  dst_host_srv_diff_host_rate  \\\n0                         0.00                          0.0   \n1                         1.00                          0.0   \n2                         0.50                          0.0   \n3                         0.33                          0.0   \n4                         0.25                          0.0   \n\n   dst_host_serror_rate  dst_host_srv_serror_rate  dst_host_rerror_rate  \\\n0                   0.0                       0.0                   0.0   \n1                   0.0                       0.0                   0.0   \n2                   0.0                       0.0                   0.0   \n3                   0.0                       0.0                   0.0   \n4                   0.0                       0.0                   0.0   \n\n   dst_host_srv_rerror_rate    label  \n0                       0.0  normal.  \n1                       0.0  normal.  \n2                       0.0  normal.  \n3                       0.0  normal.  \n4                       0.0  normal.  \n\n[5 rows x 42 columns]",
            "text/html": "<div>\n<style scoped>\n    .dataframe tbody tr th:only-of-type {\n        vertical-align: middle;\n    }\n\n    .dataframe tbody tr th {\n        vertical-align: top;\n    }\n\n    .dataframe thead th {\n        text-align: right;\n    }\n</style>\n<table border=\"1\" class=\"dataframe\">\n  <thead>\n    <tr style=\"text-align: right;\">\n      <th></th>\n      <th>duration</th>\n      <th>protocol_type</th>\n      <th>service</th>\n      <th>flag</th>\n      <th>src_bytes</th>\n      <th>dst_bytes</th>\n      <th>land</th>\n      <th>wrong_fragment</th>\n      <th>urgent</th>\n      <th>hot</th>\n      <th>...</th>\n      <th>dst_host_srv_count</th>\n      <th>dst_host_same_srv_rate</th>\n      <th>dst_host_diff_srv_rate</th>\n      <th>dst_host_same_src_port_rate</th>\n      <th>dst_host_srv_diff_host_rate</th>\n      <th>dst_host_serror_rate</th>\n      <th>dst_host_srv_serror_rate</th>\n      <th>dst_host_rerror_rate</th>\n      <th>dst_host_srv_rerror_rate</th>\n      <th>label</th>\n    </tr>\n  </thead>\n  <tbody>\n    <tr>\n      <th>0</th>\n      <td>0</td>\n      <td>tcp</td>\n      <td>http</td>\n      <td>SF</td>\n      <td>215</td>\n      <td>45076</td>\n      <td>0</td>\n      <td>0</td>\n      <td>0</td>\n      <td>0</td>\n      <td>...</td>\n      <td>0</td>\n      <td>0.0</td>\n      <td>0.0</td>\n      <td>0.00</td>\n      <td>0.0</td>\n      <td>0.0</td>\n      <td>0.0</td>\n      <td>0.0</td>\n      <td>0.0</td>\n      <td>normal.</td>\n    </tr>\n    <tr>\n      <th>1</th>\n      <td>0</td>\n      <td>tcp</td>\n      <td>http</td>\n      <td>SF</td>\n      <td>162</td>\n      <td>4528</td>\n      <td>0</td>\n      <td>0</td>\n      <td>0</td>\n      <td>0</td>\n      <td>...</td>\n      <td>1</td>\n      <td>1.0</td>\n      <td>0.0</td>\n      <td>1.00</td>\n      <td>0.0</td>\n      <td>0.0</td>\n      <td>0.0</td>\n      <td>0.0</td>\n      <td>0.0</td>\n      <td>normal.</td>\n    </tr>\n    <tr>\n      <th>2</th>\n      <td>0</td>\n      <td>tcp</td>\n      <td>http</td>\n      <td>SF</td>\n      <td>236</td>\n      <td>1228</td>\n      <td>0</td>\n      <td>0</td>\n      <td>0</td>\n      <td>0</td>\n      <td>...</td>\n      <td>2</td>\n      <td>1.0</td>\n      <td>0.0</td>\n      <td>0.50</td>\n      <td>0.0</td>\n      <td>0.0</td>\n      <td>0.0</td>\n      <td>0.0</td>\n      <td>0.0</td>\n      <td>normal.</td>\n    </tr>\n    <tr>\n      <th>3</th>\n      <td>0</td>\n      <td>tcp</td>\n      <td>http</td>\n      <td>SF</td>\n      <td>233</td>\n      <td>2032</td>\n      <td>0</td>\n      <td>0</td>\n      <td>0</td>\n      <td>0</td>\n      <td>...</td>\n      <td>3</td>\n      <td>1.0</td>\n      <td>0.0</td>\n      <td>0.33</td>\n      <td>0.0</td>\n      <td>0.0</td>\n      <td>0.0</td>\n      <td>0.0</td>\n      <td>0.0</td>\n      <td>normal.</td>\n    </tr>\n    <tr>\n      <th>4</th>\n      <td>0</td>\n      <td>tcp</td>\n      <td>http</td>\n      <td>SF</td>\n      <td>239</td>\n      <td>486</td>\n      <td>0</td>\n      <td>0</td>\n      <td>0</td>\n      <td>0</td>\n      <td>...</td>\n      <td>4</td>\n      <td>1.0</td>\n      <td>0.0</td>\n      <td>0.25</td>\n      <td>0.0</td>\n      <td>0.0</td>\n      <td>0.0</td>\n      <td>0.0</td>\n      <td>0.0</td>\n      <td>normal.</td>\n    </tr>\n  </tbody>\n</table>\n<p>5 rows × 42 columns</p>\n</div>"
          },
          "metadata": {}
        }
      ],
      "execution_count": null
    },
    {
      "cell_type": "markdown",
      "source": [
        "**Label Encoding**"
      ],
      "metadata": {
        "id": "F6AP-p8gwF9a"
      }
    },
    {
      "cell_type": "code",
      "source": [
        "le = LabelEncoder()\n",
        "le.fit(df.label)\n"
      ],
      "metadata": {
        "trusted": true,
        "execution": {
          "iopub.status.busy": "2024-10-11T12:37:07.392252Z",
          "iopub.execute_input": "2024-10-11T12:37:07.392569Z",
          "iopub.status.idle": "2024-10-11T12:37:07.615061Z",
          "shell.execute_reply.started": "2024-10-11T12:37:07.392534Z",
          "shell.execute_reply": "2024-10-11T12:37:07.614082Z"
        },
        "id": "LtNBSTv9wF9a",
        "outputId": "b82e959e-ad84-4f01-9efc-648827b91604"
      },
      "outputs": [
        {
          "execution_count": 41,
          "output_type": "execute_result",
          "data": {
            "text/plain": "LabelEncoder()",
            "text/html": "<style>#sk-container-id-2 {color: black;background-color: white;}#sk-container-id-2 pre{padding: 0;}#sk-container-id-2 div.sk-toggleable {background-color: white;}#sk-container-id-2 label.sk-toggleable__label {cursor: pointer;display: block;width: 100%;margin-bottom: 0;padding: 0.3em;box-sizing: border-box;text-align: center;}#sk-container-id-2 label.sk-toggleable__label-arrow:before {content: \"▸\";float: left;margin-right: 0.25em;color: #696969;}#sk-container-id-2 label.sk-toggleable__label-arrow:hover:before {color: black;}#sk-container-id-2 div.sk-estimator:hover label.sk-toggleable__label-arrow:before {color: black;}#sk-container-id-2 div.sk-toggleable__content {max-height: 0;max-width: 0;overflow: hidden;text-align: left;background-color: #f0f8ff;}#sk-container-id-2 div.sk-toggleable__content pre {margin: 0.2em;color: black;border-radius: 0.25em;background-color: #f0f8ff;}#sk-container-id-2 input.sk-toggleable__control:checked~div.sk-toggleable__content {max-height: 200px;max-width: 100%;overflow: auto;}#sk-container-id-2 input.sk-toggleable__control:checked~label.sk-toggleable__label-arrow:before {content: \"▾\";}#sk-container-id-2 div.sk-estimator input.sk-toggleable__control:checked~label.sk-toggleable__label {background-color: #d4ebff;}#sk-container-id-2 div.sk-label input.sk-toggleable__control:checked~label.sk-toggleable__label {background-color: #d4ebff;}#sk-container-id-2 input.sk-hidden--visually {border: 0;clip: rect(1px 1px 1px 1px);clip: rect(1px, 1px, 1px, 1px);height: 1px;margin: -1px;overflow: hidden;padding: 0;position: absolute;width: 1px;}#sk-container-id-2 div.sk-estimator {font-family: monospace;background-color: #f0f8ff;border: 1px dotted black;border-radius: 0.25em;box-sizing: border-box;margin-bottom: 0.5em;}#sk-container-id-2 div.sk-estimator:hover {background-color: #d4ebff;}#sk-container-id-2 div.sk-parallel-item::after {content: \"\";width: 100%;border-bottom: 1px solid gray;flex-grow: 1;}#sk-container-id-2 div.sk-label:hover label.sk-toggleable__label {background-color: #d4ebff;}#sk-container-id-2 div.sk-serial::before {content: \"\";position: absolute;border-left: 1px solid gray;box-sizing: border-box;top: 0;bottom: 0;left: 50%;z-index: 0;}#sk-container-id-2 div.sk-serial {display: flex;flex-direction: column;align-items: center;background-color: white;padding-right: 0.2em;padding-left: 0.2em;position: relative;}#sk-container-id-2 div.sk-item {position: relative;z-index: 1;}#sk-container-id-2 div.sk-parallel {display: flex;align-items: stretch;justify-content: center;background-color: white;position: relative;}#sk-container-id-2 div.sk-item::before, #sk-container-id-2 div.sk-parallel-item::before {content: \"\";position: absolute;border-left: 1px solid gray;box-sizing: border-box;top: 0;bottom: 0;left: 50%;z-index: -1;}#sk-container-id-2 div.sk-parallel-item {display: flex;flex-direction: column;z-index: 1;position: relative;background-color: white;}#sk-container-id-2 div.sk-parallel-item:first-child::after {align-self: flex-end;width: 50%;}#sk-container-id-2 div.sk-parallel-item:last-child::after {align-self: flex-start;width: 50%;}#sk-container-id-2 div.sk-parallel-item:only-child::after {width: 0;}#sk-container-id-2 div.sk-dashed-wrapped {border: 1px dashed gray;margin: 0 0.4em 0.5em 0.4em;box-sizing: border-box;padding-bottom: 0.4em;background-color: white;}#sk-container-id-2 div.sk-label label {font-family: monospace;font-weight: bold;display: inline-block;line-height: 1.2em;}#sk-container-id-2 div.sk-label-container {text-align: center;}#sk-container-id-2 div.sk-container {/* jupyter's `normalize.less` sets `[hidden] { display: none; }` but bootstrap.min.css set `[hidden] { display: none !important; }` so we also need the `!important` here to be able to override the default hidden behavior on the sphinx rendered scikit-learn.org. See: https://github.com/scikit-learn/scikit-learn/issues/21755 */display: inline-block !important;position: relative;}#sk-container-id-2 div.sk-text-repr-fallback {display: none;}</style><div id=\"sk-container-id-2\" class=\"sk-top-container\"><div class=\"sk-text-repr-fallback\"><pre>LabelEncoder()</pre><b>In a Jupyter environment, please rerun this cell to show the HTML representation or trust the notebook. <br />On GitHub, the HTML representation is unable to render, please try loading this page with nbviewer.org.</b></div><div class=\"sk-container\" hidden><div class=\"sk-item\"><div class=\"sk-estimator sk-toggleable\"><input class=\"sk-toggleable__control sk-hidden--visually\" id=\"sk-estimator-id-2\" type=\"checkbox\" checked><label for=\"sk-estimator-id-2\" class=\"sk-toggleable__label sk-toggleable__label-arrow\">LabelEncoder</label><div class=\"sk-toggleable__content\"><pre>LabelEncoder()</pre></div></div></div></div></div>"
          },
          "metadata": {}
        }
      ],
      "execution_count": null
    },
    {
      "cell_type": "markdown",
      "source": [
        "**One-Hot Encoding for Categorical Variables**"
      ],
      "metadata": {
        "id": "7xWIWrt2wF9a"
      }
    },
    {
      "cell_type": "code",
      "source": [
        "# capture the categorical variables and one-hot encode them\n",
        "cat_vars = ['protocol_type', 'service', 'flag', 'land', 'logged_in','is_host_login', 'is_guest_login']"
      ],
      "metadata": {
        "trusted": true,
        "execution": {
          "iopub.status.busy": "2024-10-11T12:37:07.616348Z",
          "iopub.execute_input": "2024-10-11T12:37:07.616830Z",
          "iopub.status.idle": "2024-10-11T12:37:07.625924Z",
          "shell.execute_reply.started": "2024-10-11T12:37:07.616785Z",
          "shell.execute_reply": "2024-10-11T12:37:07.625117Z"
        },
        "id": "jh2R7UrowF9b"
      },
      "outputs": [],
      "execution_count": null
    },
    {
      "cell_type": "markdown",
      "source": [
        "**Separating Numeric and Categorical Data**"
      ],
      "metadata": {
        "id": "1VxBhjhBwF9b"
      }
    },
    {
      "cell_type": "code",
      "source": [
        "# find unique labels for each category\n",
        "cat_data = pd.get_dummies(df[cat_vars])\n",
        "\n",
        "numeric_vars = list(set(df.columns.values.tolist()) - set(cat_vars))\n",
        "numeric_vars.remove('label')\n",
        "numeric_data = df[numeric_vars].copy()\n",
        "\n",
        "numeric_cat_data = pd.concat([numeric_data, cat_data], axis=1)"
      ],
      "metadata": {
        "trusted": true,
        "execution": {
          "iopub.status.busy": "2024-10-11T12:37:07.627076Z",
          "iopub.execute_input": "2024-10-11T12:37:07.627683Z",
          "iopub.status.idle": "2024-10-11T12:37:11.611629Z",
          "shell.execute_reply.started": "2024-10-11T12:37:07.627639Z",
          "shell.execute_reply": "2024-10-11T12:37:11.610821Z"
        },
        "id": "AkzNcYMswF9b"
      },
      "outputs": [],
      "execution_count": null
    },
    {
      "cell_type": "markdown",
      "source": [
        "**Label Transformation**"
      ],
      "metadata": {
        "id": "HJE7GupEwF9b"
      }
    },
    {
      "cell_type": "code",
      "source": [
        "labels = df['label'].copy()\n",
        "integer_labels = le.transform(labels)"
      ],
      "metadata": {
        "trusted": true,
        "execution": {
          "iopub.status.busy": "2024-10-11T12:37:11.615430Z",
          "iopub.execute_input": "2024-10-11T12:37:11.615743Z",
          "iopub.status.idle": "2024-10-11T12:37:12.615708Z",
          "shell.execute_reply.started": "2024-10-11T12:37:11.615711Z",
          "shell.execute_reply": "2024-10-11T12:37:12.614868Z"
        },
        "id": "38wO_jfYwF9b"
      },
      "outputs": [],
      "execution_count": null
    },
    {
      "cell_type": "markdown",
      "source": [
        "**Splitting Data into Training and Test Sets**"
      ],
      "metadata": {
        "id": "grsNnrbJwF9b"
      }
    },
    {
      "cell_type": "code",
      "source": [
        "x_train, x_test, y_train, y_test = train_test_split(numeric_cat_data,\n",
        "                                                    integer_labels,\n",
        "                                                    test_size=.25,\n",
        "                                                    random_state=42)"
      ],
      "metadata": {
        "trusted": true,
        "execution": {
          "iopub.status.busy": "2024-10-11T12:37:12.616816Z",
          "iopub.execute_input": "2024-10-11T12:37:12.617103Z",
          "iopub.status.idle": "2024-10-11T12:37:16.678270Z",
          "shell.execute_reply.started": "2024-10-11T12:37:12.617072Z",
          "shell.execute_reply": "2024-10-11T12:37:16.677449Z"
        },
        "id": "VscjD98OwF9b"
      },
      "outputs": [],
      "execution_count": null
    },
    {
      "cell_type": "code",
      "source": [
        "np.unique(y_train)"
      ],
      "metadata": {
        "trusted": true,
        "execution": {
          "iopub.status.busy": "2024-10-11T12:37:16.679402Z",
          "iopub.execute_input": "2024-10-11T12:37:16.679718Z",
          "iopub.status.idle": "2024-10-11T12:37:16.816620Z",
          "shell.execute_reply.started": "2024-10-11T12:37:16.679685Z",
          "shell.execute_reply": "2024-10-11T12:37:16.815631Z"
        },
        "id": "WFLUSQq4wF9c",
        "outputId": "6481bcee-647b-4557-8862-64ad3cbaff77"
      },
      "outputs": [
        {
          "execution_count": 46,
          "output_type": "execute_result",
          "data": {
            "text/plain": "array([ 0,  1,  2,  3,  4,  5,  6,  7,  8,  9, 10, 11, 12, 13, 14, 15, 16,\n       17, 18, 19, 20, 21, 22])"
          },
          "metadata": {}
        }
      ],
      "execution_count": null
    },
    {
      "cell_type": "markdown",
      "source": [
        "**Convert Labels to Binary**"
      ],
      "metadata": {
        "id": "8-YJeeKkwF9c"
      }
    },
    {
      "cell_type": "code",
      "source": [
        "#Obtain the class number for Normal entries\n",
        "pd.DataFrame(le.classes_, columns = ['Type'])"
      ],
      "metadata": {
        "trusted": true,
        "execution": {
          "iopub.status.busy": "2024-10-11T12:37:16.817971Z",
          "iopub.execute_input": "2024-10-11T12:37:16.818361Z",
          "iopub.status.idle": "2024-10-11T12:37:16.828670Z",
          "shell.execute_reply.started": "2024-10-11T12:37:16.818316Z",
          "shell.execute_reply": "2024-10-11T12:37:16.827753Z"
        },
        "id": "LV0EZ5pZwF9c",
        "outputId": "7d49581b-3304-448e-d4ba-b3069e235ddd"
      },
      "outputs": [
        {
          "execution_count": 47,
          "output_type": "execute_result",
          "data": {
            "text/plain": "                Type\n0              back.\n1   buffer_overflow.\n2         ftp_write.\n3      guess_passwd.\n4              imap.\n5           ipsweep.\n6              land.\n7        loadmodule.\n8          multihop.\n9           neptune.\n10             nmap.\n11           normal.\n12             perl.\n13              phf.\n14              pod.\n15        portsweep.\n16          rootkit.\n17            satan.\n18            smurf.\n19              spy.\n20         teardrop.\n21      warezclient.\n22      warezmaster.",
            "text/html": "<div>\n<style scoped>\n    .dataframe tbody tr th:only-of-type {\n        vertical-align: middle;\n    }\n\n    .dataframe tbody tr th {\n        vertical-align: top;\n    }\n\n    .dataframe thead th {\n        text-align: right;\n    }\n</style>\n<table border=\"1\" class=\"dataframe\">\n  <thead>\n    <tr style=\"text-align: right;\">\n      <th></th>\n      <th>Type</th>\n    </tr>\n  </thead>\n  <tbody>\n    <tr>\n      <th>0</th>\n      <td>back.</td>\n    </tr>\n    <tr>\n      <th>1</th>\n      <td>buffer_overflow.</td>\n    </tr>\n    <tr>\n      <th>2</th>\n      <td>ftp_write.</td>\n    </tr>\n    <tr>\n      <th>3</th>\n      <td>guess_passwd.</td>\n    </tr>\n    <tr>\n      <th>4</th>\n      <td>imap.</td>\n    </tr>\n    <tr>\n      <th>5</th>\n      <td>ipsweep.</td>\n    </tr>\n    <tr>\n      <th>6</th>\n      <td>land.</td>\n    </tr>\n    <tr>\n      <th>7</th>\n      <td>loadmodule.</td>\n    </tr>\n    <tr>\n      <th>8</th>\n      <td>multihop.</td>\n    </tr>\n    <tr>\n      <th>9</th>\n      <td>neptune.</td>\n    </tr>\n    <tr>\n      <th>10</th>\n      <td>nmap.</td>\n    </tr>\n    <tr>\n      <th>11</th>\n      <td>normal.</td>\n    </tr>\n    <tr>\n      <th>12</th>\n      <td>perl.</td>\n    </tr>\n    <tr>\n      <th>13</th>\n      <td>phf.</td>\n    </tr>\n    <tr>\n      <th>14</th>\n      <td>pod.</td>\n    </tr>\n    <tr>\n      <th>15</th>\n      <td>portsweep.</td>\n    </tr>\n    <tr>\n      <th>16</th>\n      <td>rootkit.</td>\n    </tr>\n    <tr>\n      <th>17</th>\n      <td>satan.</td>\n    </tr>\n    <tr>\n      <th>18</th>\n      <td>smurf.</td>\n    </tr>\n    <tr>\n      <th>19</th>\n      <td>spy.</td>\n    </tr>\n    <tr>\n      <th>20</th>\n      <td>teardrop.</td>\n    </tr>\n    <tr>\n      <th>21</th>\n      <td>warezclient.</td>\n    </tr>\n    <tr>\n      <th>22</th>\n      <td>warezmaster.</td>\n    </tr>\n  </tbody>\n</table>\n</div>"
          },
          "metadata": {}
        }
      ],
      "execution_count": null
    },
    {
      "cell_type": "code",
      "source": [
        "# Converting labels to Binary\n",
        "\n",
        "y_test[y_test != 5] = 1\n",
        "y_test[y_test == 5] = 0\n",
        "y_train[y_train != 5] = 1\n",
        "y_train[y_train == 5] = 0"
      ],
      "metadata": {
        "trusted": true,
        "execution": {
          "iopub.status.busy": "2024-10-11T12:37:16.830035Z",
          "iopub.execute_input": "2024-10-11T12:37:16.830724Z",
          "iopub.status.idle": "2024-10-11T12:37:16.853057Z",
          "shell.execute_reply.started": "2024-10-11T12:37:16.830680Z",
          "shell.execute_reply": "2024-10-11T12:37:16.852365Z"
        },
        "id": "9TP95J76wF9d"
      },
      "outputs": [],
      "execution_count": null
    },
    {
      "cell_type": "markdown",
      "source": [
        "We will now split the dataset into normal and anomalous data. We will need to do this in order to be able to train GANs to generate Normal packets only and then predict the anomaly based on the Discriminator output."
      ],
      "metadata": {
        "id": "_bn5ZS-RwF9d"
      }
    },
    {
      "cell_type": "code",
      "source": [
        "#Subsetting only Normal Network packets in our training set\n",
        "\n",
        "temp_df = x_train.copy()\n",
        "temp_df['label'] = y_train\n",
        "temp_df = temp_df.loc[temp_df['label'] == 0]\n",
        "temp_df = temp_df.drop('label', axis = 1)\n",
        "x_train = temp_df.copy()"
      ],
      "metadata": {
        "trusted": true,
        "execution": {
          "iopub.status.busy": "2024-10-11T12:37:16.854251Z",
          "iopub.execute_input": "2024-10-11T12:37:16.854898Z",
          "iopub.status.idle": "2024-10-11T12:37:17.846209Z",
          "shell.execute_reply.started": "2024-10-11T12:37:16.854855Z",
          "shell.execute_reply": "2024-10-11T12:37:17.845364Z"
        },
        "id": "DEHo3LEOwF9e"
      },
      "outputs": [],
      "execution_count": null
    },
    {
      "cell_type": "code",
      "source": [
        "# Normalize the above splits using the MinMaxScaler from the scikit learn package\n",
        "scaler = MinMaxScaler()\n",
        "\n",
        "# Make sure to only fit the scaler on the training data\n",
        "x_train = scaler.fit_transform(x_train)\n",
        "x_test = scaler.transform(x_test)\n",
        "\n",
        "#Creating dataset dictionary\n",
        "dataset = {}\n",
        "dataset['x_train'] = x_train.astype(np.float32)\n",
        "dataset['y_train'] = y_train.astype(np.float32)\n",
        "dataset['x_test']  = x_test.astype(np.float32)\n",
        "dataset['y_test']  = y_test.astype(np.float32)"
      ],
      "metadata": {
        "trusted": true,
        "execution": {
          "iopub.status.busy": "2024-10-11T12:37:17.847647Z",
          "iopub.execute_input": "2024-10-11T12:37:17.848445Z",
          "iopub.status.idle": "2024-10-11T12:37:25.451590Z",
          "shell.execute_reply.started": "2024-10-11T12:37:17.848398Z",
          "shell.execute_reply": "2024-10-11T12:37:25.450747Z"
        },
        "id": "MyJMi6s4wF9e"
      },
      "outputs": [],
      "execution_count": null
    },
    {
      "cell_type": "markdown",
      "source": [
        "The Testing set comprises a small number of anomalous network packets of about 1%, reflecting what we see in the real world.\n",
        "\n",
        "The Training set consists of only normal network packets.\n"
      ],
      "metadata": {
        "id": "QDkQBFQ-wF9e"
      }
    },
    {
      "cell_type": "markdown",
      "source": [
        "**AutoEncoder**"
      ],
      "metadata": {
        "id": "ej4uGUu5wF9f"
      }
    },
    {
      "cell_type": "code",
      "source": [
        "# data dimensions // hyperparameters\n",
        "input_dim = x_train.shape[1]\n",
        "BATCH_SIZE = 256\n",
        "EPOCHS = 100\n",
        "\n",
        "# https://keras.io/layers/core/\n",
        "autoencoder = tf.keras.models.Sequential([\n",
        "\n",
        "    # deconstruct / encode\n",
        "    tf.keras.layers.Dense(input_dim, activation='elu', input_shape=(input_dim, )),\n",
        "    tf.keras.layers.Dense(16, activation='elu'),\n",
        "    tf.keras.layers.Dense(8, activation='elu'),\n",
        "    tf.keras.layers.Dense(4, activation='elu'),\n",
        "    tf.keras.layers.Dense(2, activation='elu'),\n",
        "\n",
        "    # reconstruction / decode\n",
        "    tf.keras.layers.Dense(4, activation='elu'),\n",
        "    tf.keras.layers.Dense(8, activation='elu'),\n",
        "    tf.keras.layers.Dense(16, activation='elu'),\n",
        "    tf.keras.layers.Dense(input_dim, activation='elu')\n",
        "\n",
        "])\n",
        "\n",
        "\n",
        "autoencoder.compile(optimizer=\"adam\",\n",
        "                    loss=\"binary_crossentropy\",\n",
        "                    metrics=[\"acc\"])\n",
        "\n",
        "# print an overview of our model\n",
        "autoencoder.summary();\n"
      ],
      "metadata": {
        "trusted": true,
        "execution": {
          "iopub.status.busy": "2024-10-11T12:37:25.452957Z",
          "iopub.execute_input": "2024-10-11T12:37:25.453383Z",
          "iopub.status.idle": "2024-10-11T12:37:25.548759Z",
          "shell.execute_reply.started": "2024-10-11T12:37:25.453333Z",
          "shell.execute_reply": "2024-10-11T12:37:25.547873Z"
        },
        "id": "mPRYz6mAwF9f",
        "outputId": "ffc4d7e1-35e7-4f4c-b988-f2ff1d786d7c"
      },
      "outputs": [
        {
          "name": "stderr",
          "text": "/opt/conda/lib/python3.10/site-packages/keras/src/layers/core/dense.py:87: UserWarning: Do not pass an `input_shape`/`input_dim` argument to a layer. When using Sequential models, prefer using an `Input(shape)` object as the first layer in the model instead.\n  super().__init__(activity_regularizer=activity_regularizer, **kwargs)\n",
          "output_type": "stream"
        },
        {
          "output_type": "display_data",
          "data": {
            "text/plain": "\u001b[1mModel: \"sequential_1\"\u001b[0m\n",
            "text/html": "<pre style=\"white-space:pre;overflow-x:auto;line-height:normal;font-family:Menlo,'DejaVu Sans Mono',consolas,'Courier New',monospace\"><span style=\"font-weight: bold\">Model: \"sequential_1\"</span>\n</pre>\n"
          },
          "metadata": {}
        },
        {
          "output_type": "display_data",
          "data": {
            "text/plain": "┏━━━━━━━━━━━━━━━━━━━━━━━━━━━━━━━━━┳━━━━━━━━━━━━━━━━━━━━━━━━┳━━━━━━━━━━━━━━━┓\n┃\u001b[1m \u001b[0m\u001b[1mLayer (type)                   \u001b[0m\u001b[1m \u001b[0m┃\u001b[1m \u001b[0m\u001b[1mOutput Shape          \u001b[0m\u001b[1m \u001b[0m┃\u001b[1m \u001b[0m\u001b[1m      Param #\u001b[0m\u001b[1m \u001b[0m┃\n┡━━━━━━━━━━━━━━━━━━━━━━━━━━━━━━━━━╇━━━━━━━━━━━━━━━━━━━━━━━━╇━━━━━━━━━━━━━━━┩\n│ dense_9 (\u001b[38;5;33mDense\u001b[0m)                 │ (\u001b[38;5;45mNone\u001b[0m, \u001b[38;5;34m122\u001b[0m)            │        \u001b[38;5;34m15,006\u001b[0m │\n├─────────────────────────────────┼────────────────────────┼───────────────┤\n│ dense_10 (\u001b[38;5;33mDense\u001b[0m)                │ (\u001b[38;5;45mNone\u001b[0m, \u001b[38;5;34m16\u001b[0m)             │         \u001b[38;5;34m1,968\u001b[0m │\n├─────────────────────────────────┼────────────────────────┼───────────────┤\n│ dense_11 (\u001b[38;5;33mDense\u001b[0m)                │ (\u001b[38;5;45mNone\u001b[0m, \u001b[38;5;34m8\u001b[0m)              │           \u001b[38;5;34m136\u001b[0m │\n├─────────────────────────────────┼────────────────────────┼───────────────┤\n│ dense_12 (\u001b[38;5;33mDense\u001b[0m)                │ (\u001b[38;5;45mNone\u001b[0m, \u001b[38;5;34m4\u001b[0m)              │            \u001b[38;5;34m36\u001b[0m │\n├─────────────────────────────────┼────────────────────────┼───────────────┤\n│ dense_13 (\u001b[38;5;33mDense\u001b[0m)                │ (\u001b[38;5;45mNone\u001b[0m, \u001b[38;5;34m2\u001b[0m)              │            \u001b[38;5;34m10\u001b[0m │\n├─────────────────────────────────┼────────────────────────┼───────────────┤\n│ dense_14 (\u001b[38;5;33mDense\u001b[0m)                │ (\u001b[38;5;45mNone\u001b[0m, \u001b[38;5;34m4\u001b[0m)              │            \u001b[38;5;34m12\u001b[0m │\n├─────────────────────────────────┼────────────────────────┼───────────────┤\n│ dense_15 (\u001b[38;5;33mDense\u001b[0m)                │ (\u001b[38;5;45mNone\u001b[0m, \u001b[38;5;34m8\u001b[0m)              │            \u001b[38;5;34m40\u001b[0m │\n├─────────────────────────────────┼────────────────────────┼───────────────┤\n│ dense_16 (\u001b[38;5;33mDense\u001b[0m)                │ (\u001b[38;5;45mNone\u001b[0m, \u001b[38;5;34m16\u001b[0m)             │           \u001b[38;5;34m144\u001b[0m │\n├─────────────────────────────────┼────────────────────────┼───────────────┤\n│ dense_17 (\u001b[38;5;33mDense\u001b[0m)                │ (\u001b[38;5;45mNone\u001b[0m, \u001b[38;5;34m122\u001b[0m)            │         \u001b[38;5;34m2,074\u001b[0m │\n└─────────────────────────────────┴────────────────────────┴───────────────┘\n",
            "text/html": "<pre style=\"white-space:pre;overflow-x:auto;line-height:normal;font-family:Menlo,'DejaVu Sans Mono',consolas,'Courier New',monospace\">┏━━━━━━━━━━━━━━━━━━━━━━━━━━━━━━━━━┳━━━━━━━━━━━━━━━━━━━━━━━━┳━━━━━━━━━━━━━━━┓\n┃<span style=\"font-weight: bold\"> Layer (type)                    </span>┃<span style=\"font-weight: bold\"> Output Shape           </span>┃<span style=\"font-weight: bold\">       Param # </span>┃\n┡━━━━━━━━━━━━━━━━━━━━━━━━━━━━━━━━━╇━━━━━━━━━━━━━━━━━━━━━━━━╇━━━━━━━━━━━━━━━┩\n│ dense_9 (<span style=\"color: #0087ff; text-decoration-color: #0087ff\">Dense</span>)                 │ (<span style=\"color: #00d7ff; text-decoration-color: #00d7ff\">None</span>, <span style=\"color: #00af00; text-decoration-color: #00af00\">122</span>)            │        <span style=\"color: #00af00; text-decoration-color: #00af00\">15,006</span> │\n├─────────────────────────────────┼────────────────────────┼───────────────┤\n│ dense_10 (<span style=\"color: #0087ff; text-decoration-color: #0087ff\">Dense</span>)                │ (<span style=\"color: #00d7ff; text-decoration-color: #00d7ff\">None</span>, <span style=\"color: #00af00; text-decoration-color: #00af00\">16</span>)             │         <span style=\"color: #00af00; text-decoration-color: #00af00\">1,968</span> │\n├─────────────────────────────────┼────────────────────────┼───────────────┤\n│ dense_11 (<span style=\"color: #0087ff; text-decoration-color: #0087ff\">Dense</span>)                │ (<span style=\"color: #00d7ff; text-decoration-color: #00d7ff\">None</span>, <span style=\"color: #00af00; text-decoration-color: #00af00\">8</span>)              │           <span style=\"color: #00af00; text-decoration-color: #00af00\">136</span> │\n├─────────────────────────────────┼────────────────────────┼───────────────┤\n│ dense_12 (<span style=\"color: #0087ff; text-decoration-color: #0087ff\">Dense</span>)                │ (<span style=\"color: #00d7ff; text-decoration-color: #00d7ff\">None</span>, <span style=\"color: #00af00; text-decoration-color: #00af00\">4</span>)              │            <span style=\"color: #00af00; text-decoration-color: #00af00\">36</span> │\n├─────────────────────────────────┼────────────────────────┼───────────────┤\n│ dense_13 (<span style=\"color: #0087ff; text-decoration-color: #0087ff\">Dense</span>)                │ (<span style=\"color: #00d7ff; text-decoration-color: #00d7ff\">None</span>, <span style=\"color: #00af00; text-decoration-color: #00af00\">2</span>)              │            <span style=\"color: #00af00; text-decoration-color: #00af00\">10</span> │\n├─────────────────────────────────┼────────────────────────┼───────────────┤\n│ dense_14 (<span style=\"color: #0087ff; text-decoration-color: #0087ff\">Dense</span>)                │ (<span style=\"color: #00d7ff; text-decoration-color: #00d7ff\">None</span>, <span style=\"color: #00af00; text-decoration-color: #00af00\">4</span>)              │            <span style=\"color: #00af00; text-decoration-color: #00af00\">12</span> │\n├─────────────────────────────────┼────────────────────────┼───────────────┤\n│ dense_15 (<span style=\"color: #0087ff; text-decoration-color: #0087ff\">Dense</span>)                │ (<span style=\"color: #00d7ff; text-decoration-color: #00d7ff\">None</span>, <span style=\"color: #00af00; text-decoration-color: #00af00\">8</span>)              │            <span style=\"color: #00af00; text-decoration-color: #00af00\">40</span> │\n├─────────────────────────────────┼────────────────────────┼───────────────┤\n│ dense_16 (<span style=\"color: #0087ff; text-decoration-color: #0087ff\">Dense</span>)                │ (<span style=\"color: #00d7ff; text-decoration-color: #00d7ff\">None</span>, <span style=\"color: #00af00; text-decoration-color: #00af00\">16</span>)             │           <span style=\"color: #00af00; text-decoration-color: #00af00\">144</span> │\n├─────────────────────────────────┼────────────────────────┼───────────────┤\n│ dense_17 (<span style=\"color: #0087ff; text-decoration-color: #0087ff\">Dense</span>)                │ (<span style=\"color: #00d7ff; text-decoration-color: #00d7ff\">None</span>, <span style=\"color: #00af00; text-decoration-color: #00af00\">122</span>)            │         <span style=\"color: #00af00; text-decoration-color: #00af00\">2,074</span> │\n└─────────────────────────────────┴────────────────────────┴───────────────┘\n</pre>\n"
          },
          "metadata": {}
        },
        {
          "output_type": "display_data",
          "data": {
            "text/plain": "\u001b[1m Total params: \u001b[0m\u001b[38;5;34m19,426\u001b[0m (75.88 KB)\n",
            "text/html": "<pre style=\"white-space:pre;overflow-x:auto;line-height:normal;font-family:Menlo,'DejaVu Sans Mono',consolas,'Courier New',monospace\"><span style=\"font-weight: bold\"> Total params: </span><span style=\"color: #00af00; text-decoration-color: #00af00\">19,426</span> (75.88 KB)\n</pre>\n"
          },
          "metadata": {}
        },
        {
          "output_type": "display_data",
          "data": {
            "text/plain": "\u001b[1m Trainable params: \u001b[0m\u001b[38;5;34m19,426\u001b[0m (75.88 KB)\n",
            "text/html": "<pre style=\"white-space:pre;overflow-x:auto;line-height:normal;font-family:Menlo,'DejaVu Sans Mono',consolas,'Courier New',monospace\"><span style=\"font-weight: bold\"> Trainable params: </span><span style=\"color: #00af00; text-decoration-color: #00af00\">19,426</span> (75.88 KB)\n</pre>\n"
          },
          "metadata": {}
        },
        {
          "output_type": "display_data",
          "data": {
            "text/plain": "\u001b[1m Non-trainable params: \u001b[0m\u001b[38;5;34m0\u001b[0m (0.00 B)\n",
            "text/html": "<pre style=\"white-space:pre;overflow-x:auto;line-height:normal;font-family:Menlo,'DejaVu Sans Mono',consolas,'Courier New',monospace\"><span style=\"font-weight: bold\"> Non-trainable params: </span><span style=\"color: #00af00; text-decoration-color: #00af00\">0</span> (0.00 B)\n</pre>\n"
          },
          "metadata": {}
        }
      ],
      "execution_count": null
    },
    {
      "cell_type": "markdown",
      "source": [
        "**Train the model**"
      ],
      "metadata": {
        "id": "lrqoeKn-wF9f"
      }
    },
    {
      "cell_type": "code",
      "source": [
        "autoencoder.fit(x_train, x_train,  # Use x_train as both input and output\n",
        "                epochs=50,\n",
        "                batch_size=256,\n",
        "                shuffle=True,\n",
        "                validation_data=(x_test, x_test))  # Use x_test as both input and output"
      ],
      "metadata": {
        "trusted": true,
        "execution": {
          "iopub.status.busy": "2024-10-11T12:37:25.549940Z",
          "iopub.execute_input": "2024-10-11T12:37:25.550317Z",
          "iopub.status.idle": "2024-10-11T12:42:45.251105Z",
          "shell.execute_reply.started": "2024-10-11T12:37:25.550274Z",
          "shell.execute_reply": "2024-10-11T12:42:45.250191Z"
        },
        "id": "2pHjjI9fwF9g",
        "outputId": "c5c6c25e-0344-4448-d875-ce62f40d2320"
      },
      "outputs": [
        {
          "name": "stdout",
          "text": "Epoch 1/50\n\u001b[1m37/37\u001b[0m \u001b[32m━━━━━━━━━━━━━━━━━━━━\u001b[0m\u001b[37m\u001b[0m \u001b[1m14s\u001b[0m 299ms/step - acc: 0.0000e+00 - loss: 0.6361 - val_acc: 2.2864e-05 - val_loss: 3.7480\nEpoch 2/50\n\u001b[1m37/37\u001b[0m \u001b[32m━━━━━━━━━━━━━━━━━━━━\u001b[0m\u001b[37m\u001b[0m \u001b[1m6s\u001b[0m 171ms/step - acc: 0.0000e+00 - loss: 0.4875 - val_acc: 2.6131e-05 - val_loss: 3.6867\nEpoch 3/50\n\u001b[1m37/37\u001b[0m \u001b[32m━━━━━━━━━━━━━━━━━━━━\u001b[0m\u001b[37m\u001b[0m \u001b[1m6s\u001b[0m 179ms/step - acc: 0.0000e+00 - loss: 0.4654 - val_acc: 2.6131e-05 - val_loss: 1.9678\nEpoch 4/50\n\u001b[1m37/37\u001b[0m \u001b[32m━━━━━━━━━━━━━━━━━━━━\u001b[0m\u001b[37m\u001b[0m \u001b[1m6s\u001b[0m 172ms/step - acc: 0.0000e+00 - loss: 0.4470 - val_acc: 2.6947e-05 - val_loss: 2.0254\nEpoch 5/50\n\u001b[1m37/37\u001b[0m \u001b[32m━━━━━━━━━━━━━━━━━━━━\u001b[0m\u001b[37m\u001b[0m \u001b[1m6s\u001b[0m 171ms/step - acc: 0.0000e+00 - loss: 0.4291 - val_acc: 2.4498e-05 - val_loss: 2.2268\nEpoch 6/50\n\u001b[1m37/37\u001b[0m \u001b[32m━━━━━━━━━━━━━━━━━━━━\u001b[0m\u001b[37m\u001b[0m \u001b[1m6s\u001b[0m 170ms/step - acc: 0.0000e+00 - loss: 0.4169 - val_acc: 2.5314e-05 - val_loss: 2.2759\nEpoch 7/50\n\u001b[1m37/37\u001b[0m \u001b[32m━━━━━━━━━━━━━━━━━━━━\u001b[0m\u001b[37m\u001b[0m \u001b[1m6s\u001b[0m 168ms/step - acc: 0.0000e+00 - loss: 0.4017 - val_acc: 2.6131e-05 - val_loss: 4.0075\nEpoch 8/50\n\u001b[1m37/37\u001b[0m \u001b[32m━━━━━━━━━━━━━━━━━━━━\u001b[0m\u001b[37m\u001b[0m \u001b[1m6s\u001b[0m 176ms/step - acc: 0.0015 - loss: 0.2900 - val_acc: 0.0074 - val_loss: 4.0111\nEpoch 9/50\n\u001b[1m37/37\u001b[0m \u001b[32m━━━━━━━━━━━━━━━━━━━━\u001b[0m\u001b[37m\u001b[0m \u001b[1m6s\u001b[0m 172ms/step - acc: 0.0048 - loss: 0.2852 - val_acc: 0.0097 - val_loss: 3.9923\nEpoch 10/50\n\u001b[1m37/37\u001b[0m \u001b[32m━━━━━━━━━━━━━━━━━━━━\u001b[0m\u001b[37m\u001b[0m \u001b[1m6s\u001b[0m 170ms/step - acc: 0.0066 - loss: 0.2823 - val_acc: 0.0102 - val_loss: 3.8412\nEpoch 11/50\n\u001b[1m37/37\u001b[0m \u001b[32m━━━━━━━━━━━━━━━━━━━━\u001b[0m\u001b[37m\u001b[0m \u001b[1m6s\u001b[0m 172ms/step - acc: 0.0107 - loss: 0.1650 - val_acc: 0.0104 - val_loss: 3.5359\nEpoch 12/50\n\u001b[1m37/37\u001b[0m \u001b[32m━━━━━━━━━━━━━━━━━━━━\u001b[0m\u001b[37m\u001b[0m \u001b[1m6s\u001b[0m 172ms/step - acc: 0.0102 - loss: 0.0466 - val_acc: 0.0097 - val_loss: 3.5433\nEpoch 13/50\n\u001b[1m37/37\u001b[0m \u001b[32m━━━━━━━━━━━━━━━━━━━━\u001b[0m\u001b[37m\u001b[0m \u001b[1m6s\u001b[0m 178ms/step - acc: 0.0159 - loss: 0.0391 - val_acc: 0.0093 - val_loss: 3.3712\nEpoch 14/50\n\u001b[1m37/37\u001b[0m \u001b[32m━━━━━━━━━━━━━━━━━━━━\u001b[0m\u001b[37m\u001b[0m \u001b[1m6s\u001b[0m 173ms/step - acc: 0.0161 - loss: 0.0386 - val_acc: 0.0093 - val_loss: 3.3153\nEpoch 15/50\n\u001b[1m37/37\u001b[0m \u001b[32m━━━━━━━━━━━━━━━━━━━━\u001b[0m\u001b[37m\u001b[0m \u001b[1m6s\u001b[0m 172ms/step - acc: 0.0114 - loss: 0.0380 - val_acc: 0.0092 - val_loss: 3.3169\nEpoch 16/50\n\u001b[1m37/37\u001b[0m \u001b[32m━━━━━━━━━━━━━━━━━━━━\u001b[0m\u001b[37m\u001b[0m \u001b[1m6s\u001b[0m 170ms/step - acc: 0.0100 - loss: 0.0377 - val_acc: 0.0090 - val_loss: 3.3268\nEpoch 17/50\n\u001b[1m37/37\u001b[0m \u001b[32m━━━━━━━━━━━━━━━━━━━━\u001b[0m\u001b[37m\u001b[0m \u001b[1m6s\u001b[0m 172ms/step - acc: 0.0062 - loss: 0.0389 - val_acc: 0.0087 - val_loss: 3.3718\nEpoch 18/50\n\u001b[1m37/37\u001b[0m \u001b[32m━━━━━━━━━━━━━━━━━━━━\u001b[0m\u001b[37m\u001b[0m \u001b[1m6s\u001b[0m 176ms/step - acc: 0.0041 - loss: 0.0380 - val_acc: 0.0088 - val_loss: 3.5973\nEpoch 19/50\n\u001b[1m37/37\u001b[0m \u001b[32m━━━━━━━━━━━━━━━━━━━━\u001b[0m\u001b[37m\u001b[0m \u001b[1m6s\u001b[0m 171ms/step - acc: 0.0048 - loss: 0.0390 - val_acc: 0.0081 - val_loss: 3.6018\nEpoch 20/50\n\u001b[1m37/37\u001b[0m \u001b[32m━━━━━━━━━━━━━━━━━━━━\u001b[0m\u001b[37m\u001b[0m \u001b[1m6s\u001b[0m 168ms/step - acc: 0.0039 - loss: 0.0372 - val_acc: 0.0084 - val_loss: 3.6212\nEpoch 21/50\n\u001b[1m37/37\u001b[0m \u001b[32m━━━━━━━━━━━━━━━━━━━━\u001b[0m\u001b[37m\u001b[0m \u001b[1m6s\u001b[0m 171ms/step - acc: 0.0039 - loss: 0.0371 - val_acc: 0.0082 - val_loss: 3.6292\nEpoch 22/50\n\u001b[1m37/37\u001b[0m \u001b[32m━━━━━━━━━━━━━━━━━━━━\u001b[0m\u001b[37m\u001b[0m \u001b[1m6s\u001b[0m 173ms/step - acc: 0.0043 - loss: 0.0376 - val_acc: 0.0051 - val_loss: 3.6548\nEpoch 23/50\n\u001b[1m37/37\u001b[0m \u001b[32m━━━━━━━━━━━━━━━━━━━━\u001b[0m\u001b[37m\u001b[0m \u001b[1m6s\u001b[0m 175ms/step - acc: 0.0054 - loss: 0.0372 - val_acc: 0.0060 - val_loss: 3.6788\nEpoch 24/50\n\u001b[1m37/37\u001b[0m \u001b[32m━━━━━━━━━━━━━━━━━━━━\u001b[0m\u001b[37m\u001b[0m \u001b[1m6s\u001b[0m 175ms/step - acc: 0.0046 - loss: 0.0370 - val_acc: 0.0063 - val_loss: 3.7318\nEpoch 25/50\n\u001b[1m37/37\u001b[0m \u001b[32m━━━━━━━━━━━━━━━━━━━━\u001b[0m\u001b[37m\u001b[0m \u001b[1m6s\u001b[0m 171ms/step - acc: 0.0036 - loss: 0.0370 - val_acc: 0.0063 - val_loss: 3.7170\nEpoch 26/50\n\u001b[1m37/37\u001b[0m \u001b[32m━━━━━━━━━━━━━━━━━━━━\u001b[0m\u001b[37m\u001b[0m \u001b[1m6s\u001b[0m 171ms/step - acc: 0.0020 - loss: 0.0371 - val_acc: 0.0055 - val_loss: 3.7691\nEpoch 27/50\n\u001b[1m37/37\u001b[0m \u001b[32m━━━━━━━━━━━━━━━━━━━━\u001b[0m\u001b[37m\u001b[0m \u001b[1m6s\u001b[0m 171ms/step - acc: 0.0040 - loss: 0.0364 - val_acc: 0.0058 - val_loss: 3.7662\nEpoch 28/50\n\u001b[1m37/37\u001b[0m \u001b[32m━━━━━━━━━━━━━━━━━━━━\u001b[0m\u001b[37m\u001b[0m \u001b[1m6s\u001b[0m 172ms/step - acc: 0.0032 - loss: 0.0370 - val_acc: 0.0062 - val_loss: 3.7619\nEpoch 29/50\n\u001b[1m37/37\u001b[0m \u001b[32m━━━━━━━━━━━━━━━━━━━━\u001b[0m\u001b[37m\u001b[0m \u001b[1m6s\u001b[0m 177ms/step - acc: 0.0024 - loss: 0.0357 - val_acc: 0.0066 - val_loss: 3.7616\nEpoch 30/50\n\u001b[1m37/37\u001b[0m \u001b[32m━━━━━━━━━━━━━━━━━━━━\u001b[0m\u001b[37m\u001b[0m \u001b[1m6s\u001b[0m 172ms/step - acc: 9.4854e-04 - loss: 0.0352 - val_acc: 0.0067 - val_loss: 3.7267\nEpoch 31/50\n\u001b[1m37/37\u001b[0m \u001b[32m━━━━━━━━━━━━━━━━━━━━\u001b[0m\u001b[37m\u001b[0m \u001b[1m6s\u001b[0m 171ms/step - acc: 7.6863e-04 - loss: 0.0355 - val_acc: 0.0075 - val_loss: 3.7461\nEpoch 32/50\n\u001b[1m37/37\u001b[0m \u001b[32m━━━━━━━━━━━━━━━━━━━━\u001b[0m\u001b[37m\u001b[0m \u001b[1m6s\u001b[0m 170ms/step - acc: 0.0036 - loss: 0.0354 - val_acc: 0.0087 - val_loss: 4.0816\nEpoch 33/50\n\u001b[1m37/37\u001b[0m \u001b[32m━━━━━━━━━━━━━━━━━━━━\u001b[0m\u001b[37m\u001b[0m \u001b[1m6s\u001b[0m 169ms/step - acc: 0.0040 - loss: 0.0354 - val_acc: 0.0109 - val_loss: 4.0695\nEpoch 34/50\n\u001b[1m37/37\u001b[0m \u001b[32m━━━━━━━━━━━━━━━━━━━━\u001b[0m\u001b[37m\u001b[0m \u001b[1m6s\u001b[0m 179ms/step - acc: 0.0035 - loss: 0.0349 - val_acc: 0.0124 - val_loss: 4.0678\nEpoch 35/50\n\u001b[1m37/37\u001b[0m \u001b[32m━━━━━━━━━━━━━━━━━━━━\u001b[0m\u001b[37m\u001b[0m \u001b[1m6s\u001b[0m 171ms/step - acc: 0.0041 - loss: 0.0350 - val_acc: 0.0163 - val_loss: 4.0639\nEpoch 36/50\n\u001b[1m37/37\u001b[0m \u001b[32m━━━━━━━━━━━━━━━━━━━━\u001b[0m\u001b[37m\u001b[0m \u001b[1m6s\u001b[0m 171ms/step - acc: 0.0037 - loss: 0.0349 - val_acc: 0.0218 - val_loss: 4.0580\nEpoch 37/50\n\u001b[1m37/37\u001b[0m \u001b[32m━━━━━━━━━━━━━━━━━━━━\u001b[0m\u001b[37m\u001b[0m \u001b[1m6s\u001b[0m 170ms/step - acc: 0.0040 - loss: 0.0341 - val_acc: 0.0264 - val_loss: 4.0525\nEpoch 38/50\n\u001b[1m37/37\u001b[0m \u001b[32m━━━━━━━━━━━━━━━━━━━━\u001b[0m\u001b[37m\u001b[0m \u001b[1m6s\u001b[0m 172ms/step - acc: 0.0054 - loss: 0.0344 - val_acc: 0.0307 - val_loss: 4.0473\nEpoch 39/50\n\u001b[1m37/37\u001b[0m \u001b[32m━━━━━━━━━━━━━━━━━━━━\u001b[0m\u001b[37m\u001b[0m \u001b[1m6s\u001b[0m 177ms/step - acc: 0.0062 - loss: 0.0330 - val_acc: 0.0374 - val_loss: 4.0451\nEpoch 40/50\n\u001b[1m37/37\u001b[0m \u001b[32m━━━━━━━━━━━━━━━━━━━━\u001b[0m\u001b[37m\u001b[0m \u001b[1m6s\u001b[0m 175ms/step - acc: 0.0047 - loss: 0.0338 - val_acc: 0.0387 - val_loss: 4.0345\nEpoch 41/50\n\u001b[1m37/37\u001b[0m \u001b[32m━━━━━━━━━━━━━━━━━━━━\u001b[0m\u001b[37m\u001b[0m \u001b[1m6s\u001b[0m 175ms/step - acc: 0.0037 - loss: 0.0336 - val_acc: 0.0415 - val_loss: 4.0296\nEpoch 42/50\n\u001b[1m37/37\u001b[0m \u001b[32m━━━━━━━━━━━━━━━━━━━━\u001b[0m\u001b[37m\u001b[0m \u001b[1m6s\u001b[0m 173ms/step - acc: 0.0054 - loss: 0.0323 - val_acc: 0.0429 - val_loss: 4.0214\nEpoch 43/50\n\u001b[1m37/37\u001b[0m \u001b[32m━━━━━━━━━━━━━━━━━━━━\u001b[0m\u001b[37m\u001b[0m \u001b[1m6s\u001b[0m 171ms/step - acc: 0.0037 - loss: 0.0315 - val_acc: 0.0441 - val_loss: 4.0114\nEpoch 44/50\n\u001b[1m37/37\u001b[0m \u001b[32m━━━━━━━━━━━━━━━━━━━━\u001b[0m\u001b[37m\u001b[0m \u001b[1m6s\u001b[0m 176ms/step - acc: 0.0039 - loss: 0.0333 - val_acc: 0.0407 - val_loss: 4.0004\nEpoch 45/50\n\u001b[1m37/37\u001b[0m \u001b[32m━━━━━━━━━━━━━━━━━━━━\u001b[0m\u001b[37m\u001b[0m \u001b[1m6s\u001b[0m 169ms/step - acc: 0.0053 - loss: 0.0330 - val_acc: 0.0407 - val_loss: 4.0006\nEpoch 46/50\n\u001b[1m37/37\u001b[0m \u001b[32m━━━━━━━━━━━━━━━━━━━━\u001b[0m\u001b[37m\u001b[0m \u001b[1m6s\u001b[0m 169ms/step - acc: 0.0045 - loss: 0.0336 - val_acc: 0.0430 - val_loss: 3.9865\nEpoch 47/50\n\u001b[1m37/37\u001b[0m \u001b[32m━━━━━━━━━━━━━━━━━━━━\u001b[0m\u001b[37m\u001b[0m \u001b[1m6s\u001b[0m 172ms/step - acc: 0.0031 - loss: 0.0326 - val_acc: 0.0428 - val_loss: 3.9696\nEpoch 48/50\n\u001b[1m37/37\u001b[0m \u001b[32m━━━━━━━━━━━━━━━━━━━━\u001b[0m\u001b[37m\u001b[0m \u001b[1m6s\u001b[0m 170ms/step - acc: 0.0041 - loss: 0.0334 - val_acc: 0.0430 - val_loss: 3.9193\nEpoch 49/50\n\u001b[1m37/37\u001b[0m \u001b[32m━━━━━━━━━━━━━━━━━━━━\u001b[0m\u001b[37m\u001b[0m \u001b[1m6s\u001b[0m 176ms/step - acc: 0.0036 - loss: 0.0321 - val_acc: 0.0445 - val_loss: 3.7529\nEpoch 50/50\n\u001b[1m37/37\u001b[0m \u001b[32m━━━━━━━━━━━━━━━━━━━━\u001b[0m\u001b[37m\u001b[0m \u001b[1m6s\u001b[0m 170ms/step - acc: 0.0064 - loss: 0.0332 - val_acc: 0.0440 - val_loss: 3.4593\n",
          "output_type": "stream"
        },
        {
          "execution_count": 52,
          "output_type": "execute_result",
          "data": {
            "text/plain": "<keras.src.callbacks.history.History at 0x7d04edfc7280>"
          },
          "metadata": {}
        }
      ],
      "execution_count": null
    },
    {
      "cell_type": "markdown",
      "source": [
        "**Anomaly Prediction**"
      ],
      "metadata": {
        "id": "eg0JDOsxwF9h"
      }
    },
    {
      "cell_type": "code",
      "source": [
        "# Set a threshold for anomaly detection\n",
        "mean_loss = np.mean(reconstruction_loss)\n",
        "std_loss = np.std(reconstruction_loss)\n",
        "threshold = mean_loss + 2 * std_loss\n",
        "\n",
        "# Identify anomalies based on reconstruction loss\n",
        "predicted_labels = (reconstruction_loss > threshold).astype(int)"
      ],
      "metadata": {
        "trusted": true,
        "execution": {
          "iopub.status.busy": "2024-10-11T12:42:45.252459Z",
          "iopub.execute_input": "2024-10-11T12:42:45.253198Z",
          "iopub.status.idle": "2024-10-11T12:42:45.264209Z",
          "shell.execute_reply.started": "2024-10-11T12:42:45.253132Z",
          "shell.execute_reply": "2024-10-11T12:42:45.263218Z"
        },
        "id": "Ha0NM5UHwF9h"
      },
      "outputs": [],
      "execution_count": null
    },
    {
      "cell_type": "code",
      "source": [
        "print(f\"Reconstruction Loss Threshold: {threshold:.4f}\")\n",
        "print(f\"Number of anomalies detected: {np.sum(anomalies)} out of {len(anomalies)} samples\")\n",
        "anomaly_indices = np.where(anomalies)[0]\n",
        "print(\"Anomaly indices:\", anomaly_indices)"
      ],
      "metadata": {
        "trusted": true,
        "execution": {
          "iopub.status.busy": "2024-10-11T12:42:48.078822Z",
          "iopub.execute_input": "2024-10-11T12:42:48.079119Z",
          "iopub.status.idle": "2024-10-11T12:42:48.086742Z",
          "shell.execute_reply.started": "2024-10-11T12:42:48.079087Z",
          "shell.execute_reply": "2024-10-11T12:42:48.084805Z"
        },
        "id": "UlQWuZnHwF9h",
        "outputId": "f67cc7c6-d804-4901-e09d-6c64679bb2dc"
      },
      "outputs": [
        {
          "name": "stdout",
          "text": "Reconstruction Loss Threshold: 3120940.4408\nNumber of anomalies detected: 3 out of 1224608 samples\nAnomaly indices: [ 132040 1097781 1130892]\n",
          "output_type": "stream"
        }
      ],
      "execution_count": null
    },
    {
      "cell_type": "markdown",
      "source": [
        "**Model Evaluation**"
      ],
      "metadata": {
        "id": "2FD_GMWPwF9h"
      }
    },
    {
      "cell_type": "code",
      "source": [
        "precision, recall, f1,_ = precision_recall_fscore_support(y_test,predicted_labels,average='binary')\n",
        "print ('Accuracy Score :',accuracy_score(y_test, predicted_labels) )\n",
        "print ('Precision :',precision )\n",
        "print ('Recall :',recall )\n",
        "print ('F1 :',f1 )"
      ],
      "metadata": {
        "trusted": true,
        "execution": {
          "iopub.status.busy": "2024-10-11T12:42:48.088339Z",
          "iopub.execute_input": "2024-10-11T12:42:48.088711Z",
          "iopub.status.idle": "2024-10-11T12:42:48.550599Z",
          "shell.execute_reply.started": "2024-10-11T12:42:48.088676Z",
          "shell.execute_reply": "2024-10-11T12:42:48.549636Z"
        },
        "id": "6IFmrUldwF9h",
        "outputId": "84c3d225-e03a-4e27-e2a4-b6e8c8338184"
      },
      "outputs": [
        {
          "name": "stdout",
          "text": "Accuracy Score : 0.002560002874389192\nPrecision : 1.0\nRecall : 2.4560449816451573e-06\nF1 : 4.912077899006041e-06\n",
          "output_type": "stream"
        }
      ],
      "execution_count": null
    }
  ]
}