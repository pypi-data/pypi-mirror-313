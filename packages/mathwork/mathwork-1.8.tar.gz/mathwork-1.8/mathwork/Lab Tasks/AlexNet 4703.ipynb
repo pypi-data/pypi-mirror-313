{
 "cells": [
  {
   "cell_type": "code",
   "execution_count": 1,
   "metadata": {
    "_cell_guid": "b1076dfc-b9ad-4769-8c92-a6c4dae69d19",
    "_uuid": "8f2839f25d086af736a60e9eeb907d3b93b6e0e5"
   },
   "outputs": [
    {
     "name": "stderr",
     "output_type": "stream",
     "text": [
      "Using TensorFlow backend.\n"
     ]
    }
   ],
   "source": [
    "import tensorflow\n",
    "from keras.models import Sequential, Model\n",
    "from keras.layers import Dense, Activation, Dropout, Flatten, Conv2D, MaxPooling2D, Input\n",
    "from keras.layers.normalization import BatchNormalization\n",
    "from keras.optimizers import Adam\n",
    "from keras.utils import np_utils\n",
    "import numpy as np"
   ]
  },
  {
   "cell_type": "code",
   "execution_count": 2,
   "metadata": {
    "_cell_guid": "79c7e3d0-c299-4dcb-8224-4455121ee9b0",
    "_uuid": "d629ff2d2480ee46fbb7e2d37f6b5fab8052498a"
   },
   "outputs": [
    {
     "name": "stdout",
     "output_type": "stream",
     "text": [
      "['pokemon1', 'pokemon']\n"
     ]
    }
   ],
   "source": [
    "import os\n",
    "print(os.listdir(\"../input\"))"
   ]
  },
  {
   "cell_type": "code",
   "execution_count": 3,
   "metadata": {
    "_uuid": "136f935412f18f58cc06cab6f2ecaad7fb2bb69e"
   },
   "outputs": [],
   "source": [
    "X_train = np.load(\"../input/pokemon/X_train.npy\")\n",
    "Y_train = np.load(\"../input/pokemon/Y_train.npy\")\n",
    "x_test = np.load(\"../input/pokemon/X_test.npy\")"
   ]
  },
  {
   "cell_type": "code",
   "execution_count": 4,
   "metadata": {
    "_uuid": "f410a4472f5f2ac2dca70cc7fc9f1db71379865e"
   },
   "outputs": [],
   "source": [
    "Y_train = np_utils.to_categorical(Y_train)"
   ]
  },
  {
   "cell_type": "code",
   "execution_count": 5,
   "metadata": {
    "_uuid": "2830e6dc6d7f4be6a8fe01789ab474b529987148"
   },
   "outputs": [
    {
     "name": "stdout",
     "output_type": "stream",
     "text": [
      "((1252, 227, 227, 3), (1252, 10))\n"
     ]
    }
   ],
   "source": [
    "print ((X_train.shape, Y_train.shape))"
   ]
  },
  {
   "cell_type": "code",
   "execution_count": 6,
   "metadata": {
    "_uuid": "43a9d4a8dcfc2914ecc1831f7e762739bb389eb9"
   },
   "outputs": [],
   "source": [
    "model = Sequential()\n",
    "\n",
    "# 1st Convolutional Layer\n",
    "model.add(Conv2D(filters=96, input_shape=(227,227,3), kernel_size=(11,11), strides=(4,4), padding='valid'))\n",
    "model.add(Activation('relu'))\n",
    "# Pooling \n",
    "model.add(MaxPooling2D(pool_size=(2,2), strides=(2,2), padding='valid'))\n",
    "# Batch Normalisation before passing it to the next layer\n",
    "model.add(BatchNormalization())\n",
    "\n",
    "# 2nd Convolutional Layer\n",
    "model.add(Conv2D(filters=256, kernel_size=(11,11), strides=(1,1), padding='valid'))\n",
    "model.add(Activation('relu'))\n",
    "# Pooling\n",
    "model.add(MaxPooling2D(pool_size=(2,2), strides=(2,2), padding='valid'))\n",
    "# Batch Normalisation\n",
    "model.add(BatchNormalization())"
   ]
  },
  {
   "cell_type": "code",
   "execution_count": 7,
   "metadata": {
    "_uuid": "885d2bdc526fbd820642d00fa6316ab3fd905ca4"
   },
   "outputs": [],
   "source": [
    "# 3rd Convolutional Layer\n",
    "model.add(Conv2D(filters=384, kernel_size=(3,3), strides=(1,1), padding='valid'))\n",
    "model.add(Activation('relu'))\n",
    "# Batch Normalisation\n",
    "model.add(BatchNormalization())\n",
    "\n",
    "# 4th Convolutional Layer\n",
    "model.add(Conv2D(filters=384, kernel_size=(3,3), strides=(1,1), padding='valid'))\n",
    "model.add(Activation('relu'))\n",
    "# Batch Normalisation\n",
    "model.add(BatchNormalization())\n",
    "\n",
    "# 5th Convolutional Layer\n",
    "model.add(Conv2D(filters=256, kernel_size=(3,3), strides=(1,1), padding='valid'))\n",
    "model.add(Activation('relu'))\n",
    "# Pooling\n",
    "model.add(MaxPooling2D(pool_size=(2,2), strides=(2,2), padding='valid'))\n",
    "# Batch Normalisation\n",
    "model.add(BatchNormalization())"
   ]
  },
  {
   "cell_type": "code",
   "execution_count": 8,
   "metadata": {
    "_uuid": "11c931c6586f341ff83a4d479d1da85e7e8bba77"
   },
   "outputs": [
    {
     "name": "stdout",
     "output_type": "stream",
     "text": [
      "_________________________________________________________________\n",
      "Layer (type)                 Output Shape              Param #   \n",
      "=================================================================\n",
      "conv2d_1 (Conv2D)            (None, 55, 55, 96)        34944     \n",
      "_________________________________________________________________\n",
      "activation_1 (Activation)    (None, 55, 55, 96)        0         \n",
      "_________________________________________________________________\n",
      "max_pooling2d_1 (MaxPooling2 (None, 27, 27, 96)        0         \n",
      "_________________________________________________________________\n",
      "batch_normalization_1 (Batch (None, 27, 27, 96)        384       \n",
      "_________________________________________________________________\n",
      "conv2d_2 (Conv2D)            (None, 17, 17, 256)       2973952   \n",
      "_________________________________________________________________\n",
      "activation_2 (Activation)    (None, 17, 17, 256)       0         \n",
      "_________________________________________________________________\n",
      "max_pooling2d_2 (MaxPooling2 (None, 8, 8, 256)         0         \n",
      "_________________________________________________________________\n",
      "batch_normalization_2 (Batch (None, 8, 8, 256)         1024      \n",
      "_________________________________________________________________\n",
      "conv2d_3 (Conv2D)            (None, 6, 6, 384)         885120    \n",
      "_________________________________________________________________\n",
      "activation_3 (Activation)    (None, 6, 6, 384)         0         \n",
      "_________________________________________________________________\n",
      "batch_normalization_3 (Batch (None, 6, 6, 384)         1536      \n",
      "_________________________________________________________________\n",
      "conv2d_4 (Conv2D)            (None, 4, 4, 384)         1327488   \n",
      "_________________________________________________________________\n",
      "activation_4 (Activation)    (None, 4, 4, 384)         0         \n",
      "_________________________________________________________________\n",
      "batch_normalization_4 (Batch (None, 4, 4, 384)         1536      \n",
      "_________________________________________________________________\n",
      "conv2d_5 (Conv2D)            (None, 2, 2, 256)         884992    \n",
      "_________________________________________________________________\n",
      "activation_5 (Activation)    (None, 2, 2, 256)         0         \n",
      "_________________________________________________________________\n",
      "max_pooling2d_3 (MaxPooling2 (None, 1, 1, 256)         0         \n",
      "_________________________________________________________________\n",
      "batch_normalization_5 (Batch (None, 1, 1, 256)         1024      \n",
      "_________________________________________________________________\n",
      "flatten_1 (Flatten)          (None, 256)               0         \n",
      "_________________________________________________________________\n",
      "dense_1 (Dense)              (None, 4096)              1052672   \n",
      "_________________________________________________________________\n",
      "activation_6 (Activation)    (None, 4096)              0         \n",
      "_________________________________________________________________\n",
      "dropout_1 (Dropout)          (None, 4096)              0         \n",
      "_________________________________________________________________\n",
      "batch_normalization_6 (Batch (None, 4096)              16384     \n",
      "_________________________________________________________________\n",
      "dense_2 (Dense)              (None, 4096)              16781312  \n",
      "_________________________________________________________________\n",
      "activation_7 (Activation)    (None, 4096)              0         \n",
      "_________________________________________________________________\n",
      "dropout_2 (Dropout)          (None, 4096)              0         \n",
      "_________________________________________________________________\n",
      "batch_normalization_7 (Batch (None, 4096)              16384     \n",
      "_________________________________________________________________\n",
      "dense_3 (Dense)              (None, 1000)              4097000   \n",
      "_________________________________________________________________\n",
      "activation_8 (Activation)    (None, 1000)              0         \n",
      "_________________________________________________________________\n",
      "dropout_3 (Dropout)          (None, 1000)              0         \n",
      "_________________________________________________________________\n",
      "batch_normalization_8 (Batch (None, 1000)              4000      \n",
      "_________________________________________________________________\n",
      "dense_4 (Dense)              (None, 10)                10010     \n",
      "_________________________________________________________________\n",
      "activation_9 (Activation)    (None, 10)                0         \n",
      "=================================================================\n",
      "Total params: 28,089,762\n",
      "Trainable params: 28,068,626\n",
      "Non-trainable params: 21,136\n",
      "_________________________________________________________________\n"
     ]
    }
   ],
   "source": [
    "# Passing it to a dense layer\n",
    "model.add(Flatten())\n",
    "# 1st Dense Layer\n",
    "model.add(Dense(4096, input_shape=(227*227*3,)))\n",
    "model.add(Activation('relu'))\n",
    "# Add Dropout to prevent overfitting\n",
    "model.add(Dropout(0.4))\n",
    "# Batch Normalisation\n",
    "model.add(BatchNormalization())\n",
    "\n",
    "# 2nd Dense Layer\n",
    "model.add(Dense(4096))\n",
    "model.add(Activation('relu'))\n",
    "# Add Dropout\n",
    "model.add(Dropout(0.4))\n",
    "# Batch Normalisation\n",
    "model.add(BatchNormalization())\n",
    "\n",
    "# 3rd Dense Layer\n",
    "model.add(Dense(1000))\n",
    "model.add(Activation('relu'))\n",
    "# Add Dropout\n",
    "model.add(Dropout(0.4))\n",
    "# Batch Normalisation\n",
    "model.add(BatchNormalization())\n",
    "\n",
    "# Output Layer\n",
    "model.add(Dense(10))\n",
    "model.add(Activation('softmax'))\n",
    "\n",
    "model.summary()"
   ]
  },
  {
   "cell_type": "code",
   "execution_count": 9,
   "metadata": {
    "_uuid": "d254e5f293bebde3251f67f4f7259843e2762bd4"
   },
   "outputs": [],
   "source": [
    "adam = Adam(lr = 0.00003)\n",
    "model.compile(loss='categorical_crossentropy', optimizer=adam, metrics=['accuracy'])"
   ]
  },
  {
   "cell_type": "code",
   "execution_count": 10,
   "metadata": {
    "_uuid": "12bf0dd0dca946620924824e58e76c904d1690bf"
   },
   "outputs": [],
   "source": [
    "from keras.callbacks import ModelCheckpoint"
   ]
  },
  {
   "cell_type": "code",
   "execution_count": 11,
   "metadata": {
    "_uuid": "821fbfbe6579e64d3238e872a8f72c5f1417d607"
   },
   "outputs": [
    {
     "name": "stdout",
     "output_type": "stream",
     "text": [
      "Train on 1001 samples, validate on 251 samples\n",
      "Epoch 1/100\n",
      "1001/1001 [==============================] - 6s 6ms/step - loss: 2.7583 - acc: 0.1648 - val_loss: 1.6968 - val_acc: 0.4462\n",
      "Epoch 2/100\n",
      "1001/1001 [==============================] - 2s 2ms/step - loss: 2.0883 - acc: 0.3077 - val_loss: 1.4735 - val_acc: 0.4940\n",
      "Epoch 3/100\n",
      "1001/1001 [==============================] - 2s 2ms/step - loss: 1.7101 - acc: 0.4186 - val_loss: 1.2225 - val_acc: 0.5976\n",
      "Epoch 4/100\n",
      "1001/1001 [==============================] - 2s 2ms/step - loss: 1.4348 - acc: 0.5075 - val_loss: 1.1073 - val_acc: 0.6614\n",
      "Epoch 5/100\n",
      "1001/1001 [==============================] - 2s 2ms/step - loss: 1.2514 - acc: 0.5904 - val_loss: 1.0396 - val_acc: 0.6733\n",
      "Epoch 6/100\n",
      "1001/1001 [==============================] - 2s 2ms/step - loss: 0.9694 - acc: 0.6753 - val_loss: 0.9516 - val_acc: 0.7211\n",
      "Epoch 7/100\n",
      "1001/1001 [==============================] - 2s 2ms/step - loss: 0.9384 - acc: 0.6853 - val_loss: 0.9321 - val_acc: 0.7171\n",
      "Epoch 8/100\n",
      "1001/1001 [==============================] - 2s 2ms/step - loss: 0.7394 - acc: 0.7473 - val_loss: 0.9012 - val_acc: 0.7410\n",
      "Epoch 9/100\n",
      "1001/1001 [==============================] - 2s 2ms/step - loss: 0.6379 - acc: 0.7832 - val_loss: 0.8567 - val_acc: 0.7490\n",
      "Epoch 10/100\n",
      "1001/1001 [==============================] - 2s 2ms/step - loss: 0.5230 - acc: 0.8362 - val_loss: 0.8503 - val_acc: 0.7490\n",
      "Epoch 11/100\n",
      "1001/1001 [==============================] - 2s 2ms/step - loss: 0.4794 - acc: 0.8531 - val_loss: 0.8305 - val_acc: 0.7530\n",
      "Epoch 12/100\n",
      "1001/1001 [==============================] - 2s 2ms/step - loss: 0.4201 - acc: 0.8751 - val_loss: 0.8170 - val_acc: 0.7530\n",
      "Epoch 13/100\n",
      "1001/1001 [==============================] - 2s 2ms/step - loss: 0.3796 - acc: 0.8831 - val_loss: 0.8016 - val_acc: 0.7570\n",
      "Epoch 14/100\n",
      "1001/1001 [==============================] - 2s 2ms/step - loss: 0.2871 - acc: 0.9181 - val_loss: 0.8154 - val_acc: 0.7729\n",
      "Epoch 15/100\n",
      "1001/1001 [==============================] - 2s 2ms/step - loss: 0.2291 - acc: 0.9481 - val_loss: 0.8428 - val_acc: 0.7610\n",
      "Epoch 16/100\n",
      "1001/1001 [==============================] - 2s 2ms/step - loss: 0.2072 - acc: 0.9401 - val_loss: 0.8005 - val_acc: 0.7689\n",
      "Epoch 17/100\n",
      "1001/1001 [==============================] - 2s 2ms/step - loss: 0.1811 - acc: 0.9530 - val_loss: 0.7919 - val_acc: 0.7888\n",
      "Epoch 18/100\n",
      "1001/1001 [==============================] - 2s 2ms/step - loss: 0.1566 - acc: 0.9590 - val_loss: 0.8658 - val_acc: 0.7610\n",
      "Epoch 19/100\n",
      "1001/1001 [==============================] - 2s 2ms/step - loss: 0.1378 - acc: 0.9660 - val_loss: 0.8965 - val_acc: 0.7490\n",
      "Epoch 20/100\n",
      "1001/1001 [==============================] - 2s 2ms/step - loss: 0.1231 - acc: 0.9680 - val_loss: 0.8329 - val_acc: 0.7649\n",
      "Epoch 21/100\n",
      "1001/1001 [==============================] - 2s 2ms/step - loss: 0.1033 - acc: 0.9800 - val_loss: 0.8103 - val_acc: 0.7928\n",
      "Epoch 22/100\n",
      "1001/1001 [==============================] - 2s 2ms/step - loss: 0.0982 - acc: 0.9780 - val_loss: 0.8035 - val_acc: 0.7968\n",
      "Epoch 23/100\n",
      "1001/1001 [==============================] - 2s 2ms/step - loss: 0.1074 - acc: 0.9710 - val_loss: 0.8202 - val_acc: 0.7689\n",
      "Epoch 24/100\n",
      "1001/1001 [==============================] - 2s 2ms/step - loss: 0.0806 - acc: 0.9840 - val_loss: 0.8170 - val_acc: 0.7689\n",
      "Epoch 25/100\n",
      "1001/1001 [==============================] - 2s 2ms/step - loss: 0.0609 - acc: 0.9900 - val_loss: 0.8267 - val_acc: 0.7769\n",
      "Epoch 26/100\n",
      "1001/1001 [==============================] - 2s 2ms/step - loss: 0.0711 - acc: 0.9810 - val_loss: 0.8291 - val_acc: 0.7729\n",
      "Epoch 27/100\n",
      "1001/1001 [==============================] - 2s 2ms/step - loss: 0.0820 - acc: 0.9830 - val_loss: 0.8568 - val_acc: 0.7849\n",
      "Epoch 28/100\n",
      "1001/1001 [==============================] - 2s 2ms/step - loss: 0.0750 - acc: 0.9850 - val_loss: 0.8029 - val_acc: 0.7849\n",
      "Epoch 29/100\n",
      "1001/1001 [==============================] - 2s 2ms/step - loss: 0.0581 - acc: 0.9880 - val_loss: 0.8274 - val_acc: 0.7888\n",
      "Epoch 30/100\n",
      "1001/1001 [==============================] - 2s 2ms/step - loss: 0.0574 - acc: 0.9890 - val_loss: 0.8295 - val_acc: 0.7888\n",
      "Epoch 31/100\n",
      "1001/1001 [==============================] - 2s 2ms/step - loss: 0.0597 - acc: 0.9870 - val_loss: 0.8298 - val_acc: 0.7928\n",
      "Epoch 32/100\n",
      "1001/1001 [==============================] - 2s 2ms/step - loss: 0.0585 - acc: 0.9860 - val_loss: 0.8187 - val_acc: 0.7888\n",
      "Epoch 33/100\n",
      "1001/1001 [==============================] - 2s 2ms/step - loss: 0.0492 - acc: 0.9900 - val_loss: 0.8194 - val_acc: 0.7809\n",
      "Epoch 34/100\n",
      "1001/1001 [==============================] - 2s 2ms/step - loss: 0.0593 - acc: 0.9910 - val_loss: 0.8271 - val_acc: 0.7888\n",
      "Epoch 35/100\n",
      "1001/1001 [==============================] - 2s 2ms/step - loss: 0.0439 - acc: 0.9900 - val_loss: 0.7914 - val_acc: 0.8008\n",
      "Epoch 36/100\n",
      "1001/1001 [==============================] - 2s 2ms/step - loss: 0.0491 - acc: 0.9870 - val_loss: 0.7984 - val_acc: 0.8088\n",
      "Epoch 37/100\n",
      "1001/1001 [==============================] - 2s 2ms/step - loss: 0.0374 - acc: 0.9940 - val_loss: 0.7975 - val_acc: 0.7888\n",
      "Epoch 38/100\n",
      "1001/1001 [==============================] - 2s 2ms/step - loss: 0.0391 - acc: 0.9890 - val_loss: 0.8159 - val_acc: 0.8008\n",
      "Epoch 39/100\n",
      "1001/1001 [==============================] - 2s 2ms/step - loss: 0.0385 - acc: 0.9890 - val_loss: 0.8123 - val_acc: 0.7849\n",
      "Epoch 40/100\n",
      "1001/1001 [==============================] - 2s 2ms/step - loss: 0.0386 - acc: 0.9930 - val_loss: 0.8176 - val_acc: 0.8048\n",
      "Epoch 41/100\n",
      "1001/1001 [==============================] - 2s 2ms/step - loss: 0.0370 - acc: 0.9900 - val_loss: 0.8403 - val_acc: 0.8048\n",
      "Epoch 42/100\n",
      "1001/1001 [==============================] - 2s 2ms/step - loss: 0.0353 - acc: 0.9900 - val_loss: 0.8546 - val_acc: 0.7928\n",
      "Epoch 43/100\n",
      "1001/1001 [==============================] - 2s 2ms/step - loss: 0.0329 - acc: 0.9910 - val_loss: 0.8099 - val_acc: 0.8127\n",
      "Epoch 44/100\n",
      "1001/1001 [==============================] - 2s 2ms/step - loss: 0.0310 - acc: 0.9900 - val_loss: 0.8131 - val_acc: 0.8127\n",
      "Epoch 45/100\n",
      "1001/1001 [==============================] - 2s 2ms/step - loss: 0.0439 - acc: 0.9910 - val_loss: 0.8207 - val_acc: 0.8127\n",
      "Epoch 46/100\n",
      "1001/1001 [==============================] - 2s 2ms/step - loss: 0.0390 - acc: 0.9910 - val_loss: 0.8207 - val_acc: 0.8088\n",
      "Epoch 47/100\n",
      "1001/1001 [==============================] - 2s 2ms/step - loss: 0.0449 - acc: 0.9880 - val_loss: 0.8430 - val_acc: 0.7928\n",
      "Epoch 48/100\n",
      "1001/1001 [==============================] - 2s 2ms/step - loss: 0.0326 - acc: 0.9930 - val_loss: 0.8475 - val_acc: 0.7968\n",
      "Epoch 49/100\n",
      "1001/1001 [==============================] - 2s 2ms/step - loss: 0.0351 - acc: 0.9910 - val_loss: 0.8524 - val_acc: 0.7888\n",
      "Epoch 50/100\n",
      "1001/1001 [==============================] - 2s 2ms/step - loss: 0.0393 - acc: 0.9890 - val_loss: 0.8350 - val_acc: 0.7968\n",
      "Epoch 51/100\n",
      "1001/1001 [==============================] - 2s 2ms/step - loss: 0.0360 - acc: 0.9950 - val_loss: 0.8525 - val_acc: 0.7968\n",
      "Epoch 52/100\n",
      "1001/1001 [==============================] - 2s 2ms/step - loss: 0.0425 - acc: 0.9920 - val_loss: 0.8543 - val_acc: 0.7968\n",
      "Epoch 53/100\n",
      "1001/1001 [==============================] - 2s 2ms/step - loss: 0.0366 - acc: 0.9910 - val_loss: 0.8697 - val_acc: 0.8008\n",
      "Epoch 54/100\n",
      "1001/1001 [==============================] - 2s 2ms/step - loss: 0.0430 - acc: 0.9890 - val_loss: 0.8893 - val_acc: 0.8008\n",
      "Epoch 55/100\n",
      "1001/1001 [==============================] - 2s 2ms/step - loss: 0.0407 - acc: 0.9900 - val_loss: 0.8314 - val_acc: 0.8167\n",
      "Epoch 56/100\n",
      "1001/1001 [==============================] - 2s 2ms/step - loss: 0.0341 - acc: 0.9950 - val_loss: 0.8768 - val_acc: 0.8048\n",
      "Epoch 57/100\n",
      "1001/1001 [==============================] - 2s 2ms/step - loss: 0.0381 - acc: 0.9920 - val_loss: 0.8837 - val_acc: 0.7849\n",
      "Epoch 58/100\n",
      "1001/1001 [==============================] - 2s 2ms/step - loss: 0.0364 - acc: 0.9950 - val_loss: 0.9172 - val_acc: 0.7809\n",
      "Epoch 59/100\n",
      "1001/1001 [==============================] - 2s 2ms/step - loss: 0.0355 - acc: 0.9940 - val_loss: 0.9296 - val_acc: 0.7888\n",
      "Epoch 60/100\n",
      "1001/1001 [==============================] - 2s 2ms/step - loss: 0.0281 - acc: 0.9900 - val_loss: 0.9125 - val_acc: 0.7849\n",
      "Epoch 61/100\n",
      "1001/1001 [==============================] - 2s 2ms/step - loss: 0.0392 - acc: 0.9900 - val_loss: 0.8789 - val_acc: 0.7888\n",
      "Epoch 62/100\n",
      "1001/1001 [==============================] - 2s 2ms/step - loss: 0.0306 - acc: 0.9910 - val_loss: 0.8188 - val_acc: 0.8088\n",
      "Epoch 63/100\n",
      "1001/1001 [==============================] - 2s 2ms/step - loss: 0.0326 - acc: 0.9930 - val_loss: 0.8295 - val_acc: 0.8048\n",
      "Epoch 64/100\n",
      "1001/1001 [==============================] - 2s 2ms/step - loss: 0.0190 - acc: 0.9930 - val_loss: 0.8262 - val_acc: 0.8048\n",
      "Epoch 65/100\n",
      "1001/1001 [==============================] - 2s 2ms/step - loss: 0.0289 - acc: 0.9920 - val_loss: 0.8275 - val_acc: 0.7968\n",
      "Epoch 66/100\n",
      "1001/1001 [==============================] - 2s 2ms/step - loss: 0.0319 - acc: 0.9910 - val_loss: 0.8023 - val_acc: 0.8127\n",
      "Epoch 67/100\n",
      "1001/1001 [==============================] - 2s 2ms/step - loss: 0.0223 - acc: 0.9930 - val_loss: 0.7742 - val_acc: 0.8127\n",
      "Epoch 68/100\n",
      "1001/1001 [==============================] - 2s 2ms/step - loss: 0.0199 - acc: 0.9930 - val_loss: 0.7548 - val_acc: 0.8247\n",
      "Epoch 69/100\n",
      "1001/1001 [==============================] - 2s 2ms/step - loss: 0.0143 - acc: 0.9970 - val_loss: 0.7807 - val_acc: 0.8008\n",
      "Epoch 70/100\n",
      "1001/1001 [==============================] - 2s 2ms/step - loss: 0.0303 - acc: 0.9910 - val_loss: 0.8243 - val_acc: 0.7928\n",
      "Epoch 71/100\n",
      "1001/1001 [==============================] - 2s 2ms/step - loss: 0.0338 - acc: 0.9910 - val_loss: 0.8675 - val_acc: 0.7888\n",
      "Epoch 72/100\n",
      "1001/1001 [==============================] - 2s 2ms/step - loss: 0.0406 - acc: 0.9930 - val_loss: 0.8731 - val_acc: 0.7769\n",
      "Epoch 73/100\n",
      "1001/1001 [==============================] - 2s 2ms/step - loss: 0.0381 - acc: 0.9910 - val_loss: 0.8751 - val_acc: 0.7928\n",
      "Epoch 74/100\n",
      "1001/1001 [==============================] - 2s 2ms/step - loss: 0.0245 - acc: 0.9910 - val_loss: 0.8398 - val_acc: 0.8088\n",
      "Epoch 75/100\n",
      "1001/1001 [==============================] - 2s 2ms/step - loss: 0.0298 - acc: 0.9910 - val_loss: 0.8814 - val_acc: 0.7888\n",
      "Epoch 76/100\n",
      "1001/1001 [==============================] - 2s 2ms/step - loss: 0.0245 - acc: 0.9910 - val_loss: 0.9033 - val_acc: 0.7888\n",
      "Epoch 77/100\n",
      "1001/1001 [==============================] - 2s 2ms/step - loss: 0.0277 - acc: 0.9920 - val_loss: 0.8332 - val_acc: 0.8088\n",
      "Epoch 78/100\n",
      "1001/1001 [==============================] - 2s 2ms/step - loss: 0.0267 - acc: 0.9920 - val_loss: 0.8551 - val_acc: 0.7968\n",
      "Epoch 79/100\n",
      "1001/1001 [==============================] - 2s 2ms/step - loss: 0.0406 - acc: 0.9900 - val_loss: 0.9075 - val_acc: 0.7888\n",
      "Epoch 80/100\n",
      "1001/1001 [==============================] - 2s 2ms/step - loss: 0.0268 - acc: 0.9920 - val_loss: 0.8778 - val_acc: 0.8008\n",
      "Epoch 81/100\n",
      "1001/1001 [==============================] - 2s 2ms/step - loss: 0.0238 - acc: 0.9930 - val_loss: 0.8654 - val_acc: 0.7809\n",
      "Epoch 82/100\n",
      "1001/1001 [==============================] - 2s 2ms/step - loss: 0.0329 - acc: 0.9910 - val_loss: 0.8712 - val_acc: 0.8008\n",
      "Epoch 83/100\n",
      "1001/1001 [==============================] - 2s 2ms/step - loss: 0.0456 - acc: 0.9870 - val_loss: 0.8708 - val_acc: 0.8048\n",
      "Epoch 84/100\n",
      "1001/1001 [==============================] - 2s 2ms/step - loss: 0.0340 - acc: 0.9920 - val_loss: 0.8932 - val_acc: 0.8008\n",
      "Epoch 85/100\n",
      "1001/1001 [==============================] - 2s 2ms/step - loss: 0.0295 - acc: 0.9950 - val_loss: 0.9394 - val_acc: 0.7928\n",
      "Epoch 86/100\n",
      "1001/1001 [==============================] - 2s 2ms/step - loss: 0.0322 - acc: 0.9920 - val_loss: 0.9455 - val_acc: 0.7888\n",
      "Epoch 87/100\n",
      "1001/1001 [==============================] - 2s 2ms/step - loss: 0.0214 - acc: 0.9930 - val_loss: 0.9454 - val_acc: 0.7849\n",
      "Epoch 88/100\n",
      "1001/1001 [==============================] - 2s 2ms/step - loss: 0.0333 - acc: 0.9920 - val_loss: 1.0676 - val_acc: 0.7809\n",
      "Epoch 89/100\n",
      "1001/1001 [==============================] - 2s 2ms/step - loss: 0.0237 - acc: 0.9910 - val_loss: 0.8935 - val_acc: 0.7849\n",
      "Epoch 90/100\n",
      "1001/1001 [==============================] - 2s 2ms/step - loss: 0.0353 - acc: 0.9910 - val_loss: 0.9067 - val_acc: 0.7849\n",
      "Epoch 91/100\n",
      "1001/1001 [==============================] - 2s 2ms/step - loss: 0.0269 - acc: 0.9930 - val_loss: 0.8922 - val_acc: 0.7888\n",
      "Epoch 92/100\n",
      "1001/1001 [==============================] - 2s 2ms/step - loss: 0.0287 - acc: 0.9880 - val_loss: 0.9152 - val_acc: 0.8008\n",
      "Epoch 93/100\n",
      "1001/1001 [==============================] - 2s 2ms/step - loss: 0.0291 - acc: 0.9910 - val_loss: 0.9025 - val_acc: 0.7849\n",
      "Epoch 94/100\n",
      "1001/1001 [==============================] - 2s 2ms/step - loss: 0.0277 - acc: 0.9950 - val_loss: 0.9172 - val_acc: 0.7729\n",
      "Epoch 95/100\n",
      "1001/1001 [==============================] - 2s 2ms/step - loss: 0.0163 - acc: 0.9950 - val_loss: 0.8882 - val_acc: 0.7769\n",
      "Epoch 96/100\n",
      "1001/1001 [==============================] - 2s 2ms/step - loss: 0.0287 - acc: 0.9930 - val_loss: 0.9197 - val_acc: 0.7769\n",
      "Epoch 97/100\n",
      "1001/1001 [==============================] - 2s 2ms/step - loss: 0.0150 - acc: 0.9960 - val_loss: 0.8836 - val_acc: 0.7849\n",
      "Epoch 98/100\n",
      "1001/1001 [==============================] - 2s 2ms/step - loss: 0.0211 - acc: 0.9930 - val_loss: 0.9158 - val_acc: 0.7849\n",
      "Epoch 99/100\n",
      "1001/1001 [==============================] - 2s 2ms/step - loss: 0.0256 - acc: 0.9930 - val_loss: 0.8724 - val_acc: 0.8088\n",
      "Epoch 100/100\n",
      "1001/1001 [==============================] - 2s 2ms/step - loss: 0.0257 - acc: 0.9950 - val_loss: 0.8593 - val_acc: 0.7888\n"
     ]
    }
   ],
   "source": [
    "checkpoint = ModelCheckpoint(\"model.h5\", save_best_only=True,monitor='val_acc')\n",
    "hist = model.fit(X_train, Y_train, epochs = 100, validation_split = 0.2, shuffle = True, batch_size = 64,callbacks = [checkpoint])\n"
   ]
  },
  {
   "cell_type": "code",
   "execution_count": 12,
   "metadata": {
    "_uuid": "028667165b5a6610b738ea4bbad9322cbda07b71"
   },
   "outputs": [],
   "source": [
    "from keras.models import load_model\n",
    "r_model = load_model(\"model.h5\")"
   ]
  },
  {
   "cell_type": "code",
   "execution_count": 13,
   "metadata": {
    "_uuid": "04b7ec5f934e538c5cf9863e479ab9c0505c98dc"
   },
   "outputs": [],
   "source": [
    "y_predict = r_model.predict_classes(x_test)\n"
   ]
  },
  {
   "cell_type": "code",
   "execution_count": 14,
   "metadata": {
    "_uuid": "ed41d1a621f75b97dcc32976962ac3c66ff0557a"
   },
   "outputs": [
    {
     "name": "stdout",
     "output_type": "stream",
     "text": [
      "(313,)\n"
     ]
    }
   ],
   "source": [
    "print(y_predict.shape)"
   ]
  },
  {
   "cell_type": "code",
   "execution_count": 15,
   "metadata": {
    "_uuid": "4a89046621b86aada4bb4a3f7e336b8eeca1488f"
   },
   "outputs": [
    {
     "data": {
      "text/plain": [
       "array([6, 0, 9, 9, 0, 7, 5, 7, 1, 6, 7, 3, 8, 5, 9, 4, 1, 4, 6, 2, 0, 8,\n",
       "       3, 5, 5, 2, 9, 8, 6, 1, 2, 6, 7, 9, 1, 4, 5, 6, 7, 7, 7, 4, 3, 6,\n",
       "       7, 5, 1, 3, 4, 6, 2, 7, 9, 2, 2, 4, 6, 0, 4, 7, 2, 5, 6, 9, 1, 2,\n",
       "       1, 9, 0, 9, 1, 2, 2, 2, 5, 4, 2, 6, 6, 6, 9, 5, 1, 6, 5, 6, 2, 1,\n",
       "       8, 6, 9, 4, 2, 5, 2, 8, 5, 7, 9, 5, 1, 6, 1, 7, 8, 7, 5, 6, 6, 8,\n",
       "       4, 4, 5, 8, 1, 9, 1, 6, 9, 1, 3, 4, 2, 1, 5, 6, 2, 7, 7, 1, 3, 1,\n",
       "       2, 2, 8, 2, 2, 1, 8, 5, 5, 2, 9, 7, 0, 0, 9, 2, 5, 0, 5, 7, 3, 3,\n",
       "       3, 7, 7, 6, 7, 6, 9, 5, 7, 1, 0, 7, 1, 0, 1, 6, 6, 2, 9, 7, 7, 7,\n",
       "       8, 8, 7, 2, 9, 1, 5, 9, 9, 7, 4, 9, 9, 0, 6, 7, 7, 9, 6, 9, 8, 7,\n",
       "       2, 0, 6, 6, 4, 7, 5, 8, 2, 9, 7, 2, 6, 6, 6, 6, 6, 6, 3, 5, 5, 7,\n",
       "       6, 0, 6, 5, 8, 7, 7, 4, 6, 8, 9, 5, 7, 2, 5, 9, 7, 2, 5, 8, 8, 2,\n",
       "       6, 5, 5, 4, 9, 4, 4, 5, 2, 8, 8, 8, 7, 6, 2, 7, 6, 8, 9, 0, 8, 6,\n",
       "       2, 9, 3, 7, 5, 2, 2, 9, 8, 5, 5, 9, 9, 7, 3, 2, 3, 3, 1, 6, 1, 5,\n",
       "       4, 2, 6, 9, 1, 6, 8, 5, 8, 6, 3, 4, 2, 0, 0, 6, 8, 6, 9, 1, 2, 8,\n",
       "       1, 7, 2, 0, 9])"
      ]
     },
     "execution_count": 15,
     "metadata": {},
     "output_type": "execute_result"
    }
   ],
   "source": [
    "y_predict"
   ]
  },
  {
   "cell_type": "code",
   "execution_count": 16,
   "metadata": {
    "_uuid": "cdf8fdc71ecf6bbb479fa20003a7b11497945c07"
   },
   "outputs": [],
   "source": [
    "y_test = np.load(\"../input/pokemon1/Y_test.npy\")"
   ]
  },
  {
   "cell_type": "code",
   "execution_count": 17,
   "metadata": {
    "_uuid": "40893259c24eceee476ca106051c87b1b9ccf167"
   },
   "outputs": [
    {
     "name": "stdout",
     "output_type": "stream",
     "text": [
      "(313,)\n"
     ]
    }
   ],
   "source": [
    "print(y_test.shape)"
   ]
  },
  {
   "cell_type": "code",
   "execution_count": 18,
   "metadata": {
    "_uuid": "58050ed4714177026505d6c1399ca42ae82cee5a"
   },
   "outputs": [
    {
     "data": {
      "text/plain": [
       "array([6, 8, 2, 9, 0, 7, 5, 7, 1, 8, 7, 3, 8, 5, 2, 4, 1, 4, 6, 2, 5, 8,\n",
       "       3, 5, 5, 2, 4, 4, 4, 1, 2, 6, 4, 1, 1, 4, 5, 4, 7, 7, 7, 4, 3, 6,\n",
       "       2, 5, 1, 5, 4, 6, 2, 7, 2, 2, 7, 4, 6, 0, 4, 7, 9, 5, 2, 9, 1, 2,\n",
       "       1, 1, 5, 9, 1, 2, 2, 2, 5, 5, 2, 6, 6, 6, 9, 5, 1, 6, 5, 6, 4, 1,\n",
       "       8, 6, 9, 4, 2, 5, 2, 2, 0, 7, 5, 5, 9, 6, 1, 7, 3, 7, 5, 6, 8, 4,\n",
       "       4, 0, 5, 8, 1, 5, 1, 6, 9, 1, 3, 4, 2, 1, 5, 2, 2, 6, 7, 9, 3, 1,\n",
       "       2, 2, 3, 2, 2, 6, 8, 5, 5, 2, 9, 7, 0, 0, 1, 2, 3, 3, 5, 7, 3, 3,\n",
       "       3, 9, 7, 6, 7, 6, 3, 5, 7, 2, 5, 7, 1, 0, 1, 6, 6, 2, 2, 7, 7, 7,\n",
       "       8, 8, 4, 2, 1, 1, 5, 1, 9, 7, 4, 6, 9, 0, 6, 7, 2, 4, 6, 9, 8, 7,\n",
       "       2, 0, 6, 6, 4, 6, 5, 8, 2, 9, 6, 2, 8, 6, 6, 6, 2, 6, 3, 8, 5, 6,\n",
       "       6, 0, 2, 1, 4, 7, 7, 4, 6, 8, 9, 2, 7, 2, 5, 1, 7, 2, 5, 8, 2, 4,\n",
       "       6, 3, 5, 4, 9, 4, 4, 5, 2, 8, 8, 8, 7, 6, 2, 7, 6, 8, 9, 0, 8, 6,\n",
       "       2, 9, 3, 7, 5, 2, 2, 9, 8, 5, 5, 9, 3, 7, 3, 2, 3, 3, 1, 4, 1, 5,\n",
       "       4, 2, 6, 9, 9, 6, 4, 5, 8, 6, 3, 4, 2, 6, 0, 6, 8, 6, 9, 1, 2, 8,\n",
       "       1, 7, 8, 0, 9])"
      ]
     },
     "execution_count": 18,
     "metadata": {},
     "output_type": "execute_result"
    }
   ],
   "source": [
    "y_test"
   ]
  },
  {
   "cell_type": "code",
   "execution_count": 19,
   "metadata": {
    "_uuid": "534091a8cb9b0af89b3e3496285c624616c0c22c"
   },
   "outputs": [
    {
     "data": {
      "text/plain": [
       "0.7795527156549521"
      ]
     },
     "execution_count": 19,
     "metadata": {},
     "output_type": "execute_result"
    }
   ],
   "source": [
    "accuracy = np.mean(y_predict == y_test)\n",
    "accuracy\n"
   ]
  },
  {
   "cell_type": "code",
   "execution_count": 20,
   "metadata": {
    "_kg_hide-input": false,
    "_kg_hide-output": true,
    "_uuid": "139255a83b157b2c6ffa9fd2f414d4e22744a81a"
   },
   "outputs": [
    {
     "name": "stdout",
     "output_type": "stream",
     "text": [
      "int64\n"
     ]
    }
   ],
   "source": [
    "print(y_predict.dtype)\n",
    "\n",
    "np.savetxt('f1.csv',y_predict)"
   ]
  },
  {
   "cell_type": "code",
   "execution_count": 21,
   "metadata": {},
   "outputs": [],
   "source": []
  }
 ],
 "metadata": {
  "kernelspec": {
   "display_name": "Python 3",
   "language": "python",
   "name": "python3"
  },
  "language_info": {
   "codemirror_mode": {
    "name": "ipython",
    "version": 3
   },
   "file_extension": ".py",
   "mimetype": "text/x-python",
   "name": "python",
   "nbconvert_exporter": "python",
   "pygments_lexer": "ipython3",
   "version": "3.6.6"
  }
 },
 "nbformat": 4,
 "nbformat_minor": 1
}
