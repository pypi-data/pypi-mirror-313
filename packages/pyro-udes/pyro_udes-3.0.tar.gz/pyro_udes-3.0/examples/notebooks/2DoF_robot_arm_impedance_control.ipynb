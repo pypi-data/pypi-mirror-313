{
  "nbformat": 4,
  "nbformat_minor": 0,
  "metadata": {
    "colab": {
      "name": "2DoF_robot_arm_impedance_control.ipynb",
      "provenance": [],
      "private_outputs": true,
      "collapsed_sections": [],
      "include_colab_link": true
    },
    "kernelspec": {
      "name": "python3",
      "display_name": "Python 3"
    },
    "language_info": {
      "name": "python"
    }
  },
  "cells": [
    {
      "cell_type": "markdown",
      "metadata": {
        "id": "view-in-github",
        "colab_type": "text"
      },
      "source": [
        "<a href=\"https://colab.research.google.com/github/alx87grd/AlexRobotics/blob/master/examples/notebooks/2DoF_robot_arm_impedance_control.ipynb\" target=\"_parent\"><img src=\"https://colab.research.google.com/assets/colab-badge.svg\" alt=\"Open In Colab\"/></a>"
      ]
    },
    {
      "cell_type": "markdown",
      "source": [
        "# Robot arm impedance control\n",
        "\n",
        "This page introduce the concept of controlling a robot arm position by adding virtual spring (i.e. what we can call impedance control) in both the joint-space (angles) and the task-space (x,y,z).\n",
        "\n",
        "We will:\n",
        "\n",
        "1.   Load an object describing a planar arm behavior;\n",
        "2.   Add virtual angular springs on the joint (joint-space impedance control);\n",
        "3.   Add virtual linear springs on the end-effector (task-space impedance control);\n",
        "4.   Try to improve the controller with your custom solution;"
      ],
      "metadata": {
        "id": "OfiozzVs1Upg"
      }
    },
    {
      "cell_type": "markdown",
      "metadata": {
        "id": "eOFBWst7WmCb"
      },
      "source": [
        "## Importing Librairies"
      ]
    },
    {
      "cell_type": "code",
      "metadata": {
        "id": "tH-1a9VJGXi8"
      },
      "source": [
        "# Loading a robotic toolbox\n",
        "!git clone https://github.com/SherbyRobotics/pyro\n",
        "import sys\n",
        "sys.path.append('/content/pyro')\n",
        "import pyro\n",
        "\n",
        "# Generic python tools\n",
        "import numpy as np\n",
        "from IPython import display"
      ],
      "execution_count": null,
      "outputs": []
    },
    {
      "cell_type": "markdown",
      "metadata": {
        "id": "cau_ePoSW6Z_"
      },
      "source": [
        "# Defining the robot arm\n",
        "\n",
        "Here we load a already defined class from the library including the dynamic equations defining the robot arm behavior, which is a function of the form:\n",
        "\n",
        "$H(q)\\ddot{q} + C(\\dot{q},q)\\dot{q} + d(\\dot{q},q) + g(q) = B \\tau $\n",
        "\n",
        "where $q$ is a 2x1 column vector of the joint angular position and $\\tau$ is a 2x1 column vector of motor torque.\n",
        "\n"
      ]
    },
    {
      "cell_type": "code",
      "metadata": {
        "id": "5pf-lSEZG5gy"
      },
      "source": [
        "from pyro.dynamic import manipulator\n",
        "\n",
        "robot = manipulator.TwoLinkManipulator()"
      ],
      "execution_count": null,
      "outputs": []
    },
    {
      "cell_type": "markdown",
      "source": [
        "The properties like the lenght of the two links can be modified here:"
      ],
      "metadata": {
        "id": "bMLY64dV7RUg"
      }
    },
    {
      "cell_type": "code",
      "source": [
        "robot.l1 = 0.5 # length of first rigid link\n",
        "robot.l2 = 0.3 # length of second rigid link"
      ],
      "metadata": {
        "id": "o_8bX0k_7ST1"
      },
      "execution_count": null,
      "outputs": []
    },
    {
      "cell_type": "markdown",
      "metadata": {
        "id": "P2wLQ8lDYY9S"
      },
      "source": [
        "## Showing the robot natural behavior with no controllers\n",
        "\n",
        "Here we run a simulation of the robot arm with no controllers:"
      ]
    },
    {
      "cell_type": "code",
      "metadata": {
        "id": "lfjr9zXlYYMb"
      },
      "source": [
        "# robot initial states [ joint 1 angle (rad),  joint 2 angle (rad), joint 1 velocity (rad/sec),  joint 1 velocity (rad/sec)]\n",
        "robot.x0 = np.array([ 0.1, 0.1, 0.0, 0.0]) \n",
        "\n",
        "# run the simulation\n",
        "robot.compute_trajectory( tf = 6 )\n",
        "\n",
        "# Animate and display the simulation\n",
        "ani  = robot.generate_simulation_html_video()\n",
        "html = display.HTML( ani )\n",
        "display.display(html)"
      ],
      "execution_count": null,
      "outputs": []
    },
    {
      "cell_type": "markdown",
      "metadata": {
        "id": "nxKK7RWBa8kd"
      },
      "source": [
        "# Joint-space impedance control\n",
        "\n",
        "First lets try to put simple independent joint-controller where the torque is proportionnal to the joint position error and the joint velocity. This is basically equivalent to independent proportionnal-derivative controller on each joint:\n",
        "\n",
        "$\\tau = K_p \\left(q_{d} - q\\right) + \n",
        "K_d \\left(- \\dot{q}\\right)$\n",
        "\n",
        "Physically the effect of this controller is equivalent to add angular spring and damper on each joint of the robot that have equilibrium points on the desired joint position. Let try to control the two-link robot with this approach. Here we first defined a controller object that implement this control law and set the desire parameter:"
      ]
    },
    {
      "cell_type": "code",
      "metadata": {
        "id": "M4cQxkQTD0Qn"
      },
      "source": [
        "from pyro.control  import robotcontrollers\n",
        "\n",
        "# Target\n",
        "q_desired = np.array([0.5,0.5]) # this set the desired joint angles vector\n",
        "\n",
        "# Joint PID\n",
        "joint_pd      = robotcontrollers.JointPD( dof = 2 )\n",
        "joint_pd.rbar = q_desired\n",
        "joint_pd.kp   = np.array([25, 5 ]) # This set the diagonal values of the Kp matrix\n",
        "joint_pd.kd   = np.array([ 0, 0 ]) # This set the diagonal values of the Kd matrix"
      ],
      "execution_count": null,
      "outputs": []
    },
    {
      "cell_type": "code",
      "source": [
        "# This shows the commanded torque as a function of the configuration (at zero velocity)\n",
        "#joint_pd.plot_control_law( sys = robot , n = 100 )"
      ],
      "metadata": {
        "id": "oBiu3AODx1av"
      },
      "execution_count": null,
      "outputs": []
    },
    {
      "cell_type": "markdown",
      "metadata": {
        "id": "rOXYBwANcsc9"
      },
      "source": [
        "## Simulating the robot in closed-loop\n",
        "\n",
        "Here we run a simulation of the robot with the joint-impedance controller."
      ]
    },
    {
      "cell_type": "code",
      "metadata": {
        "id": "5YuyYOPSc5Gy"
      },
      "source": [
        "# Create the closed-loop system\n",
        "robot_with_joint_pd = joint_pd + robot\n",
        "\n",
        "# robot initial states [ joint 1 angle (rad),  joint 2 angle (rad), joint 1 velocity (rad/sec),  joint 1 velocity (rad/sec)]\n",
        "#closed_loop_robot.x0 = np.array([0.1,0.1,0,0])  \n",
        "\n",
        "# Run the simulation\n",
        "robot_with_joint_pd.compute_trajectory( tf = 5 )"
      ],
      "execution_count": null,
      "outputs": []
    },
    {
      "cell_type": "code",
      "source": [
        "# Animate the simulation\n",
        "ani = robot_with_joint_pd.generate_simulation_html_video()\n",
        "html = display.HTML(ani)\n",
        "display.display(html)"
      ],
      "metadata": {
        "id": "6b5LMggz7kUI"
      },
      "execution_count": null,
      "outputs": []
    },
    {
      "cell_type": "code",
      "source": [
        "# Plot systems states\n",
        "robot_with_joint_pd.plot_trajectory('x')"
      ],
      "metadata": {
        "id": "zqNOHkbr73JT"
      },
      "execution_count": null,
      "outputs": []
    },
    {
      "cell_type": "code",
      "source": [
        "# Plot control inputs\n",
        "robot_with_joint_pd.plot_trajectory('u')"
      ],
      "metadata": {
        "id": "aAWOXQjo75pR"
      },
      "execution_count": null,
      "outputs": []
    },
    {
      "cell_type": "markdown",
      "source": [
        "## Analyzing the results\n",
        "\n",
        "Does this controller give a satisfactory behavior? Try go back and update the controller parameters ($Kp$ and $Kd$) to improve the results. Pay attention the the following performance indicator:\n",
        "\n",
        "1.   How fast does the robot reach the target position?\n",
        "2.   How much torque are required?\n",
        "3.   Is there a large final error after the system stabilize?\n",
        "4.   Is there a big overshoot and large oscillations?\n",
        "\n",
        "\n"
      ],
      "metadata": {
        "id": "bwFYbJNTGRm2"
      }
    },
    {
      "cell_type": "markdown",
      "source": [
        "### Frequency domain point of view\n",
        "\n",
        "The following plot shows the frequency response of the closed-loop for the first joint, where we can also look at the bandwidth and the presence (or not) of a resonance."
      ],
      "metadata": {
        "id": "__P502AnH0I-"
      }
    },
    {
      "cell_type": "code",
      "source": [
        "robot_with_joint_pd.plot_linearized_bode()"
      ],
      "metadata": {
        "id": "6t32b3k7EJz2"
      },
      "execution_count": null,
      "outputs": []
    },
    {
      "cell_type": "markdown",
      "source": [
        "# Task-space impedance controller\n",
        "\n",
        "Here we will repeat the process but with a task-space impedance controller. The idea is similar but here we want a controller that will have the effect of attaching a linear spring between the end-effector and the target. \n",
        "\n",
        "This controller will required the knowledge of robot kinematic equations defining the relationship between the end-effector position (column vector $r$) and the joint position, i.e. a forward kinematic function of the form $r = f(q)$ and a differential kinematic function of the form $\\dot{r} = J(q) \\dot{q}$.\n",
        "\n",
        "The controller equation we implement to do this is:\n",
        "\n",
        "$\\tau = J(q)^T \\left[ K_p \\left(r_{d} - f(q)\\right) + \n",
        "K_d \\left(- J(q) \\dot{q}\\right) \\right]$\n",
        "\n",
        "This equation first compute the cartesien error at the effector, mulitply it by a gain matrix represeting linear stiffness and then convert this desired linear force in equavalent motor torques by multiplying the linear force vector by the transpose of the Jacobian matrix. The theoretical background regarding this approach is summarised in the following videos:"
      ],
      "metadata": {
        "id": "w-UvWXb2vXB-"
      }
    },
    {
      "cell_type": "code",
      "source": [
        "display.IFrame(\"https://www.youtube.com/embed/videoseries?list=PL6adNeJ0A8UtKTsdDwfei6sKDKJt25ZBO\",600,450)"
      ],
      "metadata": {
        "id": "bYkjocc6QmGg"
      },
      "execution_count": null,
      "outputs": []
    },
    {
      "cell_type": "markdown",
      "source": [
        "Here we load a controller class implementing this end-effector impedance control law. We will set the desired position of the end-effector $r_d$ to be equivalent to the previously used target joint position."
      ],
      "metadata": {
        "id": "HPfnnFveRYKu"
      }
    },
    {
      "cell_type": "code",
      "source": [
        "# End-effector desired position \n",
        "r_desired = robot.forward_kinematic_effector( q_desired )\n",
        "print('Target joint angles [q_1,q_2] =', q_desired )\n",
        "print('Target effector [x,y] =', r_desired )\n",
        "\n",
        "effector_pd      = robotcontrollers.EndEffectorPD( robot )\n",
        "effector_pd.rbar = r_desired\n",
        "effector_pd.kp   = np.array([100, 100 ]) # This set the diagonal values of the Kp matrix\n",
        "effector_pd.kd   = np.array([  0,   0 ]) # This set the diagonal values of the Kd matrix"
      ],
      "metadata": {
        "id": "g1ZseJYnvmrN"
      },
      "execution_count": null,
      "outputs": []
    },
    {
      "cell_type": "code",
      "source": [
        "# This shows graphically the computed torque for joint 1 as a function of the configuration\n",
        "effector_pd.plot_control_law( sys = robot , n = 100 )"
      ],
      "metadata": {
        "id": "uD29PtDbxk6W"
      },
      "execution_count": null,
      "outputs": []
    },
    {
      "cell_type": "code",
      "source": [
        "# Create the closed-loop system\n",
        "robot_with_effector_pd = effector_pd + robot\n",
        "\n",
        "# robot initial states [ joint 1 angle (rad),  joint 2 angle (rad), joint 1 velocity (rad/sec),  joint 1 velocity (rad/sec) ]\n",
        "#closed_loop_robot.x0 = np.array([0.1,0.1,0,0,0,0])  \n",
        "\n",
        "# Run the simulation\n",
        "robot_with_effector_pd.compute_trajectory( tf = 5 )"
      ],
      "metadata": {
        "id": "mhRm12j2wknn"
      },
      "execution_count": null,
      "outputs": []
    },
    {
      "cell_type": "code",
      "source": [
        "# Animate the simulation\n",
        "ani = robot_with_effector_pd.generate_simulation_html_video()\n",
        "html = display.HTML(ani)\n",
        "display.display(html)"
      ],
      "metadata": {
        "id": "EyoyjPsbwwuf"
      },
      "execution_count": null,
      "outputs": []
    },
    {
      "cell_type": "code",
      "source": [
        "robot_with_effector_pd.plot_trajectory('x')"
      ],
      "metadata": {
        "id": "3A9escy-SyIc"
      },
      "execution_count": null,
      "outputs": []
    },
    {
      "cell_type": "code",
      "source": [
        "robot_with_effector_pd.plot_trajectory('u')"
      ],
      "metadata": {
        "id": "lOJ4Gen27hIm"
      },
      "execution_count": null,
      "outputs": []
    },
    {
      "cell_type": "markdown",
      "source": [
        "## Analyzing the results\n",
        "\n",
        "Does this controller give a satisfactory behavior? Try go back and update the controller parameters ($Kp$ and $Kd$) to improve the results. Pay attention the the following performance indicator:\n",
        "\n",
        "1.   How fast does the robot reach the target position?\n",
        "2.   How much torque are required?\n",
        "3.   Is there a large final error after the system stabilize?\n",
        "4.   Is there a big overshoot and large oscillations?\n",
        "\n",
        "Do you think the task-space impedance controller is an improvement over the joint-space impedance controller?\n",
        "\n",
        "Try to also changing the initial condition (see robot.x0 at the begining) and the target position."
      ],
      "metadata": {
        "id": "qsq74zarThRY"
      }
    },
    {
      "cell_type": "markdown",
      "source": [
        "# Custom controller\n",
        "\n",
        "Now instead of simply trying to tune the parameters of a given control law, lets go free style. Here bellow you can write your own custom robot control law. Try to design a controller that is an improvement over the simple joint or task impedance controller we tried before."
      ],
      "metadata": {
        "id": "WlRtUchNxdgR"
      }
    },
    {
      "cell_type": "code",
      "source": [
        "def feedback_law( y , r , t = 0):\n",
        "  \"\"\"\n",
        "  y = [  q0,  q1, dq0 , dq1 ] : Feedback signal  y = Robot joint angles and joint velocities\n",
        "  r = [ qd0, qd1]             : Reference signal r = Robot desired joint angles\n",
        "  \"\"\"\n",
        "\n",
        "  q   = y[0:2] # Joint position vector\n",
        "  dq  = y[2:4] # Join velocity vector\n",
        "  q_d = r      # Desired joint position vector\n",
        "\n",
        "  u = np.array([ 0.0, 0.0])       # Place-holder to overwrite with your control law\n",
        "\n",
        "  # The default placeholer code set the torque of the first joint increasing \n",
        "  # linearly with the time and the torque of the second joint to zero.\n",
        "  u[0] = t\n",
        "  u[1] = 0\n",
        "\n",
        "  ##############################\n",
        "  # YOUR CODE HERE !!\n",
        "  ##############################\n",
        "  \n",
        "  return u"
      ],
      "metadata": {
        "id": "sfev_wwZxV2l"
      },
      "execution_count": null,
      "outputs": []
    },
    {
      "cell_type": "code",
      "source": [
        "custom_controller            = robotcontrollers.RobotController( dof = 2 )\n",
        "custom_controller.c          = feedback_law"
      ],
      "metadata": {
        "id": "vmEMeJVqyYYp"
      },
      "execution_count": null,
      "outputs": []
    },
    {
      "cell_type": "code",
      "source": [
        "custom_controller.rbar       = np.array([0.5,0.5])  # Desired robot joint configuration [ joint 1 angle (rad) ,  joint 2 angle (rad)]"
      ],
      "metadata": {
        "id": "CwP3a9HLyjcQ"
      },
      "execution_count": null,
      "outputs": []
    },
    {
      "cell_type": "code",
      "source": [
        "# Create the closed-loop system\n",
        "robot_with_custom_controller = custom_controller + robot\n",
        "\n",
        "# Run the simulation\n",
        "traj = robot_with_custom_controller.compute_trajectory()"
      ],
      "metadata": {
        "id": "kWpt3ViRzBqi"
      },
      "execution_count": null,
      "outputs": []
    },
    {
      "cell_type": "code",
      "source": [
        "# Animate the simulation\n",
        "ani = robot_with_custom_controller.generate_simulation_html_video()\n",
        "html = display.HTML(ani)\n",
        "display.display(html)"
      ],
      "metadata": {
        "id": "pB1K0-hszaJY"
      },
      "execution_count": null,
      "outputs": []
    },
    {
      "cell_type": "code",
      "source": [
        "robot_with_custom_controller.plot_trajectory('x')"
      ],
      "metadata": {
        "id": "pav4FGce6VMw"
      },
      "execution_count": null,
      "outputs": []
    },
    {
      "cell_type": "code",
      "source": [
        "robot_with_custom_controller.plot_trajectory('u')"
      ],
      "metadata": {
        "id": "aAgjM02V6c7I"
      },
      "execution_count": null,
      "outputs": []
    },
    {
      "cell_type": "markdown",
      "source": [
        "# Evaluation of the custom controller \n",
        "\n",
        "Does this controller give a satisfactory behavior? Try go back and update your control law to improve the results. Pay attention the the following performance indicator:\n",
        "\n",
        "1.   How fast does the robot reach the target position?\n",
        "2.   How much torque are required?\n",
        "3.   Is there a large final error after the system stabilize?\n",
        "4.   Is there a big overshoot and large oscillations?\n",
        "\n",
        "The following evaluation script can help you:"
      ],
      "metadata": {
        "id": "JONHiavc2uXQ"
      }
    },
    {
      "cell_type": "code",
      "source": [
        "ef = traj.x[-1,0:2] - custom_controller.rbar\n",
        "print('Final error=',ef)\n",
        "\n",
        "if np.linalg.norm(ef) > 0.2 :\n",
        "  print('The final error is large, try an approach to reduce the steady state error.')\n",
        "\n",
        "max_torque_joint_1 = traj.u[:,0].max()\n",
        "max_torque_joint_2 = traj.u[:,1].max()\n",
        "\n",
        "print('Maximum torque of joint 1 = ', max_torque_joint_1 )\n",
        "print('Maximum torque of joint 2 = ', max_torque_joint_2 )\n",
        "\n",
        "if (max_torque_joint_1 > 9) or (max_torque_joint_2 > 9) :\n",
        "  print('The commanded torque are very large, try to reduce the feedback gains')"
      ],
      "metadata": {
        "id": "2cdEL8oj2tuQ"
      },
      "execution_count": null,
      "outputs": []
    }
  ]
}