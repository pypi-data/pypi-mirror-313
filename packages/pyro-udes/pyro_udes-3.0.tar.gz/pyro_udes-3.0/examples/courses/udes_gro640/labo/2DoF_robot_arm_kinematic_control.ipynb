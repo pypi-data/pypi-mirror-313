{
  "nbformat": 4,
  "nbformat_minor": 0,
  "metadata": {
    "colab": {
      "name": "2DoF_robot_arm_kinematic_control.ipynb",
      "provenance": [],
      "private_outputs": true,
      "collapsed_sections": [],
      "include_colab_link": true
    },
    "kernelspec": {
      "name": "python3",
      "display_name": "Python 3"
    },
    "language_info": {
      "name": "python"
    }
  },
  "cells": [
    {
      "cell_type": "markdown",
      "metadata": {
        "id": "view-in-github",
        "colab_type": "text"
      },
      "source": [
        "<a href=\"https://colab.research.google.com/github/SherbyRobotics/pyro/blob/colab/examples/notebooks/2DoF_robot_arm_kinematic_control.ipynb\" target=\"_parent\"><img src=\"https://colab.research.google.com/assets/colab-badge.svg\" alt=\"Open In Colab\"/></a>"
      ]
    },
    {
      "cell_type": "markdown",
      "source": [
        "# Robot arm kinematic control\n",
        "\n",
        "This page introduce the concept of controlling the end-effector of a robot when its joint are controlled with velocity set-points."
      ],
      "metadata": {
        "id": "OfiozzVs1Upg"
      }
    },
    {
      "cell_type": "markdown",
      "metadata": {
        "id": "eOFBWst7WmCb"
      },
      "source": [
        "## Importing Librairies"
      ]
    },
    {
      "cell_type": "code",
      "metadata": {
        "id": "tH-1a9VJGXi8"
      },
      "source": [
        "# Loading a robotic toolbox\n",
        "!git clone https://github.com/SherbyRobotics/pyro\n",
        "import sys\n",
        "sys.path.append('/content/pyro')\n",
        "import pyro\n",
        "\n",
        "# Generic python tools\n",
        "import numpy as np\n",
        "from IPython import display"
      ],
      "execution_count": null,
      "outputs": []
    },
    {
      "cell_type": "markdown",
      "metadata": {
        "id": "cau_ePoSW6Z_"
      },
      "source": [
        "# Defining the robot arm\n",
        "\n",
        "Here we load a already defined class from the library including the dynamic equations defining the robot arm behavior.\n",
        "\n"
      ]
    },
    {
      "cell_type": "code",
      "metadata": {
        "id": "5pf-lSEZG5gy"
      },
      "source": [
        "from pyro.dynamic import manipulator\n",
        "\n",
        "# Dynamic model (inputs are motor torques)\n",
        "torque_controlled_robot    = manipulator.TwoLinkManipulator()\n",
        "\n",
        "# Kinematic only model (inputs are motor velocities)\n",
        "speed_controlled_robot  = manipulator.SpeedControlledManipulator.from_manipulator( torque_controlled_robot )\n",
        "\n",
        "robot = speed_controlled_robot # For this exercise, we will only use the kinematic model"
      ],
      "execution_count": null,
      "outputs": []
    },
    {
      "cell_type": "markdown",
      "source": [
        "The properties like the lenght of the two links can be modified here:"
      ],
      "metadata": {
        "id": "bMLY64dV7RUg"
      }
    },
    {
      "cell_type": "code",
      "source": [
        "robot.l1 = 0.5 # length of first rigid link\n",
        "robot.l2 = 0.3 # length of second rigid link"
      ],
      "metadata": {
        "id": "o_8bX0k_7ST1"
      },
      "execution_count": null,
      "outputs": []
    },
    {
      "cell_type": "markdown",
      "metadata": {
        "id": "P2wLQ8lDYY9S"
      },
      "source": [
        "## Showing the robot behavior with constant velocity inputs\n",
        "\n",
        "Here we run a simulation of the robot arm with no controllers:"
      ]
    },
    {
      "cell_type": "code",
      "metadata": {
        "id": "lfjr9zXlYYMb"
      },
      "source": [
        "# robot initial states [ joint 1 angle (rad),  joint 2 angle (rad), joint 1 velocity (rad/sec),  joint 1 velocity (rad/sec)]\n",
        "robot.x0 = np.array([ 0.1, 0.1]) \n",
        "\n",
        "# robot constant inputs\n",
        "robot.ubar = np.array([ 0.5, 1.0]) # Constant joint velocities\n",
        "\n",
        "# run the simulation\n",
        "robot.compute_trajectory( tf = 6 )\n",
        "\n",
        "# Animate and display the simulation\n",
        "ani  = robot.generate_simulation_html_video()\n",
        "html = display.HTML( ani )\n",
        "display.display(html)"
      ],
      "execution_count": null,
      "outputs": []
    },
    {
      "cell_type": "markdown",
      "metadata": {
        "id": "nxKK7RWBa8kd"
      },
      "source": [
        "# Kinematic controller\n",
        "\n",
        "Here bellow you can write your own custom kinematic control law, i.e. computing the joint velocity based on actual joint position and time. Here the framework is already set in place for you to speed-up the implementation process. The following variable are pre-computed and available for you to use in the feedback law:\n",
        "\n",
        "*   The joint angles $q$ \n",
        "*   The time $t$\n",
        "\n",
        "Furthermore, based on a kinematic robot model the following properties are also pre-computed:\n",
        "*   The actual end-effector position $r$\n",
        "*   The Jacobian $J(q)$\n",
        "\n"
      ]
    },
    {
      "cell_type": "code",
      "metadata": {
        "id": "M4cQxkQTD0Qn"
      },
      "source": [
        "from pyro.control  import robotcontrollers\n",
        "\n",
        "class CustomKinematicController( robotcontrollers.EndEffectorKinematicController ) :\n",
        "\n",
        "    #############################\n",
        "    def c( self , y , r , t ):\n",
        "        \"\"\" \n",
        "        Feedback static computation u = c(y,r,t)\n",
        "        \n",
        "        INPUTS\n",
        "        y  : sensor signal vector     p x 1\n",
        "        r  : reference signal vector  k x 1\n",
        "        t  : time                     1 x 1\n",
        "        \n",
        "        OUTPUTS\n",
        "        dq  : joint velocity vector   m x 1\n",
        "        \n",
        "        \"\"\"\n",
        "\n",
        "        # Feedback from sensors\n",
        "        q = y                  # Joint angles\n",
        "        \n",
        "        # Pre-computed values based on the robot kinematic model\n",
        "        J = self.J( q )        # Jacobian computation\n",
        "        r = self.fwd_kin( q )  # End-effector postion\n",
        "\n",
        "        ##############################\n",
        "        # YOUR CODE BELLOW !!\n",
        "        ##############################\n",
        "\n",
        "        # Compute the reference\n",
        "        r_d  = np.zeros(2) # Place-holder\n",
        "        dr_d = np.zeros(2) # Place-holder\n",
        "\n",
        "        # Compute the desired effector velocity \n",
        "        dr_r = np.array([-0.1,0.1]) # Place holder\n",
        "        \n",
        "        # From effector speed to joint speed\n",
        "        dq = np.linalg.inv( J ) @ dr_r \n",
        "        \n",
        "        return dq"
      ],
      "execution_count": null,
      "outputs": []
    },
    {
      "cell_type": "code",
      "source": [
        "ctl = CustomKinematicController( robot )"
      ],
      "metadata": {
        "id": "H4Y5GkL065_g"
      },
      "execution_count": null,
      "outputs": []
    },
    {
      "cell_type": "markdown",
      "metadata": {
        "id": "rOXYBwANcsc9"
      },
      "source": [
        "## Simulating the robot in closed-loop\n",
        "\n",
        "Here we run a simulation of the robot with the controller."
      ]
    },
    {
      "cell_type": "code",
      "metadata": {
        "id": "5YuyYOPSc5Gy"
      },
      "source": [
        "# Create the closed-loop system\n",
        "robot_with_controller = ctl + robot\n",
        "\n",
        "# Run the simulation\n",
        "robot_with_controller.x0[0] = 1.0\n",
        "robot_with_controller.x0[1] = 1.0\n",
        "robot_with_controller.compute_trajectory( tf = 3 )"
      ],
      "execution_count": null,
      "outputs": []
    },
    {
      "cell_type": "code",
      "source": [
        "# Animate the simulation\n",
        "ani = robot_with_controller.generate_simulation_html_video()\n",
        "html = display.HTML(ani)\n",
        "display.display(html)"
      ],
      "metadata": {
        "id": "6b5LMggz7kUI"
      },
      "execution_count": null,
      "outputs": []
    },
    {
      "cell_type": "code",
      "source": [
        "# Plot systems states\n",
        "robot_with_controller.plot_trajectory('x')"
      ],
      "metadata": {
        "id": "zqNOHkbr73JT"
      },
      "execution_count": null,
      "outputs": []
    },
    {
      "cell_type": "code",
      "source": [
        "# Plot control inputs\n",
        "robot_with_controller.plot_trajectory('u')"
      ],
      "metadata": {
        "id": "aAWOXQjo75pR"
      },
      "execution_count": null,
      "outputs": []
    }
  ]
}