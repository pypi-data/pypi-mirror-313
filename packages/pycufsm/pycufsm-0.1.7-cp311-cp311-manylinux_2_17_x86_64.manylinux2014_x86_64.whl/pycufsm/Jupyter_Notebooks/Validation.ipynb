{
 "cells": [
  {
   "attachments": {},
   "cell_type": "markdown",
   "metadata": {},
   "source": [
    "[Open In Colab](https://colab.research.google.com/github/joelbenjohn/pyCUFSM/blob/master/Validation.ipynb)"
   ]
  },
  {
   "cell_type": "code",
   "execution_count": 1,
   "metadata": {},
   "outputs": [
    {
     "name": "stdout",
     "output_type": "stream",
     "text": [
      "Cloning into 'pyCUFSM'...\n",
      "remote: Enumerating objects: 696, done.\u001b[K\n",
      "remote: Counting objects: 100% (103/103), done.\u001b[K\n",
      "remote: Compressing objects: 100% (15/15), done.\u001b[K\n",
      "remote: Total 696 (delta 93), reused 88 (delta 88), pack-reused 593\u001b[K\n",
      "Receiving objects: 100% (696/696), 467.62 KiB | 312.00 KiB/s, done.\n",
      "Resolving deltas: 100% (428/428), done.\n"
     ]
    },
    {
     "ename": "ModuleNotFoundError",
     "evalue": "No module named 'pycufsm.cutwp_prop2'",
     "output_type": "error",
     "traceback": [
      "\u001b[0;31m---------------------------------------------------------------------------\u001b[0m",
      "\u001b[0;31mModuleNotFoundError\u001b[0m                       Traceback (most recent call last)",
      "Cell \u001b[0;32mIn[1], line 13\u001b[0m\n\u001b[1;32m     11\u001b[0m \u001b[39mimport\u001b[39;00m \u001b[39mpycufsm\u001b[39;00m\u001b[39m.\u001b[39;00m\u001b[39mplotters\u001b[39;00m \u001b[39mas\u001b[39;00m \u001b[39mplotters\u001b[39;00m\n\u001b[1;32m     12\u001b[0m \u001b[39mimport\u001b[39;00m \u001b[39mpycufsm\u001b[39;00m\u001b[39m.\u001b[39;00m\u001b[39mpreprocess\u001b[39;00m \u001b[39mas\u001b[39;00m \u001b[39mpreprocess\u001b[39;00m\n\u001b[0;32m---> 13\u001b[0m \u001b[39mfrom\u001b[39;00m \u001b[39mpycufsm\u001b[39;00m\u001b[39m.\u001b[39;00m\u001b[39mcutwp_prop2\u001b[39;00m \u001b[39mimport\u001b[39;00m cutwp_prop2\n\u001b[1;32m     14\u001b[0m \u001b[39mimport\u001b[39;00m \u001b[39mmatplotlib\u001b[39;00m\u001b[39m.\u001b[39;00m\u001b[39mpyplot\u001b[39;00m \u001b[39mas\u001b[39;00m \u001b[39mplt\u001b[39;00m\n",
      "\u001b[0;31mModuleNotFoundError\u001b[0m: No module named 'pycufsm.cutwp_prop2'"
     ]
    }
   ],
   "source": [
    "!rm -rf /content/pyCUFSM\n",
    "!git clone https://github.com/ClearCalcs/pyCUFSM\n",
    "\n",
    "import sys\n",
    "\n",
    "sys.path.insert(1, \"/content/pyCUFSM\")\n",
    "import numpy as np\n",
    "from scipy import io\n",
    "import pycufsm.fsm as fsm\n",
    "import pycufsm.cfsm as cfsm\n",
    "import pycufsm.helpers as helpers\n",
    "import pycufsm.plotters as plotters\n",
    "import pycufsm.preprocess as preprocess\n",
    "from pycufsm.cutwp import prop2 as cutwp_prop2\n",
    "import matplotlib.pyplot as plt"
   ]
  },
  {
   "cell_type": "code",
   "execution_count": null,
   "metadata": {},
   "outputs": [],
   "source": [
    "import glob\n",
    "\n",
    "\n",
    "def getLocalFiles():\n",
    "    filenames = glob.glob(sys.path + \"?.mat\")\n",
    "    _files = {}\n",
    "    if len(filenames) > 0:\n",
    "        for file in filenames:\n",
    "            open(file, \"wb\").write(_files[file])\n",
    "    return _files\n",
    "\n",
    "\n",
    "files = getLocalFiles()"
   ]
  },
  {
   "cell_type": "code",
   "execution_count": null,
   "metadata": {},
   "outputs": [],
   "source": [
    "for k, v in files.items():\n",
    "    file = io.loadmat(k)\n",
    "    cufsm_input = helpers.load_cufsm_mat(file)\n",
    "    sect_props = cutwp_prop2(cufsm_input[\"nodes\"][:, 1:3], cufsm_input[\"elements\"][:, 1:4])\n",
    "    GBT_con = {\n",
    "        \"glob\": cufsm_input[\"GBTcon\"][\"glob\"][0][0][0],\n",
    "        \"dist\": cufsm_input[\"GBTcon\"][\"dist\"][0][0][0],\n",
    "        \"local\": cufsm_input[\"GBTcon\"][\"local\"][0][0][0],\n",
    "        \"other\": cufsm_input[\"GBTcon\"][\"other\"][0][0][0],\n",
    "        \"o_space\": 1,\n",
    "        \"couple\": 1,\n",
    "        \"orth\": 2,\n",
    "        \"norm\": 0,\n",
    "    }\n",
    "    signature, curve, basis = fsm.strip(\n",
    "        props=cufsm_input[\"props\"],\n",
    "        nodes=cufsm_input[\"nodes\"],\n",
    "        elements=cufsm_input[\"elements\"],\n",
    "        lengths=cufsm_input[\"lengths\"],\n",
    "        springs=cufsm_input[\"springs\"],\n",
    "        constraints=cufsm_input[\"constraints\"],\n",
    "        GBT_con=GBT_con,\n",
    "        B_C=\"S-S\",\n",
    "        m_all=np.ones((len(cufsm_input[\"lengths\"]), 1)),\n",
    "        n_eigs=10,\n",
    "        sect_props=sect_props,\n",
    "    )\n",
    "    plt.semilogx(cufsm_input[\"lengths\"], np.array(signature), \"k\", label=\"python\")\n",
    "    plt.semilogx(cufsm_input[\"lengths\"], np.array(cufsm_input[\"curve\"])[:, 1, 0], \"ko\", label=\"matlab\")\n",
    "    plt.xlim((1, np.max(cufsm_input[\"lengths\"])))\n",
    "    plt.ylim((0, np.min([np.max(signature), 3 * np.median(signature)])))\n",
    "    plt.xlabel(\"half-wavelength (in)\")\n",
    "    plt.ylabel(\"Pcr/Py\")\n",
    "    plt.title(k[:-4])\n",
    "    plt.show()"
   ]
  }
 ],
 "metadata": {
  "kernelspec": {
   "display_name": "Python 3",
   "language": "python",
   "name": "python3"
  },
  "language_info": {
   "codemirror_mode": {
    "name": "ipython",
    "version": 3
   },
   "file_extension": ".py",
   "mimetype": "text/x-python",
   "name": "python",
   "nbconvert_exporter": "python",
   "pygments_lexer": "ipython3",
   "version": "3.11.4"
  }
 },
 "nbformat": 4,
 "nbformat_minor": 2
}
