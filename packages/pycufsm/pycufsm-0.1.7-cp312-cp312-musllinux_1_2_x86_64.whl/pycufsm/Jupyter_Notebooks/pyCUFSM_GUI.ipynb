{
 "cells": [
  {
   "attachments": {},
   "cell_type": "markdown",
   "metadata": {},
   "source": [
    "[Open In Colab](https://colab.research.google.com/github/joelbenjohn/pyCUFSM/blob/master/Jupyter_Notebooks/pyCUFSM_GUI.ipynb)"
   ]
  },
  {
   "attachments": {},
   "cell_type": "markdown",
   "metadata": {},
   "source": [
    "# Clone Github"
   ]
  },
  {
   "cell_type": "code",
   "execution_count": null,
   "metadata": {},
   "outputs": [],
   "source": [
    "# !rm -rf /content/pyCUFSM\n",
    "# !git clone https://github.com/ClearCalcs/pyCUFSM\n",
    "\n",
    "import sys\n",
    "\n",
    "sys.path.insert(1, \"/content/pyCUFSM\")"
   ]
  },
  {
   "attachments": {},
   "cell_type": "markdown",
   "metadata": {},
   "source": [
    "# Main Pre-Processor"
   ]
  },
  {
   "cell_type": "code",
   "execution_count": null,
   "metadata": {
    "scrolled": false
   },
   "outputs": [
    {
     "data": {
      "application/vnd.jupyter.widget-view+json": {
       "model_id": "9771f6282a59403fb93f8f68523fd64d",
       "version_major": 2,
       "version_minor": 0
      },
      "text/plain": [
       "VBox(children=(HBox(children=(VBox(children=(Label(value='Material Properties'), GridBox(children=(Label(value…"
      ]
     },
     "metadata": {},
     "output_type": "display_data"
    }
   ],
   "source": [
    "import pycufsm.Jupyter_Notebooks.gui_widgets as widgets\n",
    "import numpy as np\n",
    "\n",
    "props, nodes, elements, springs, constraints, flag = widgets.prevals()\n",
    "x = widgets.Preprocess()\n",
    "props, nodes, elements = x.run(1, 10, 9, props, nodes, elements, springs, constraints, flag)"
   ]
  },
  {
   "cell_type": "code",
   "execution_count": null,
   "metadata": {},
   "outputs": [],
   "source": [
    "import pycufsm.Jupyter_Notebooks.gui_widgets as widgets\n",
    "import numpy as np\n",
    "import Jupyter_Notebooks.C_Z_Template as C_Z_Template\n",
    "\n",
    "x = C_Z_Template.Template\n",
    "x.run()"
   ]
  }
 ],
 "metadata": {
  "kernelspec": {
   "display_name": "Python 3",
   "language": "python",
   "name": "python3"
  },
  "language_info": {
   "codemirror_mode": {
    "name": "ipython",
    "version": 3
   },
   "file_extension": ".py",
   "mimetype": "text/x-python",
   "name": "python",
   "nbconvert_exporter": "python",
   "pygments_lexer": "ipython3",
   "version": "3.7.4"
  }
 },
 "nbformat": 4,
 "nbformat_minor": 2
}
