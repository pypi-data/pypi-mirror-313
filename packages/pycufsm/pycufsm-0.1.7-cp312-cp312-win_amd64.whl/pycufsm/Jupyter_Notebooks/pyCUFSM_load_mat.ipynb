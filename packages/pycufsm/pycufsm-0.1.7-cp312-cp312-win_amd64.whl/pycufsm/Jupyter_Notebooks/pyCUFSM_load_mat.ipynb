{
 "cells": [
  {
   "attachments": {},
   "cell_type": "markdown",
   "metadata": {},
   "source": [
    "[Open In Colab](https://colab.research.google.com/github/joelbenjohn/pyCUFSM/blob/master/Jupyter_Notebooks/pyCUFSM_load_mat.ipynb)"
   ]
  },
  {
   "attachments": {},
   "cell_type": "markdown",
   "metadata": {},
   "source": [
    "# Clone Github"
   ]
  },
  {
   "cell_type": "code",
   "execution_count": null,
   "metadata": {},
   "outputs": [],
   "source": [
    "!rm -rf /content/pyCUFSM\n",
    "!git clone https://github.com/ClearCalcs/pyCUFSM\n",
    "import sys\n",
    "\n",
    "sys.path.insert(1, \"/content/pyCUFSM\")"
   ]
  },
  {
   "attachments": {},
   "cell_type": "markdown",
   "metadata": {},
   "source": [
    "# Load .mat File"
   ]
  },
  {
   "cell_type": "code",
   "execution_count": 2,
   "metadata": {},
   "outputs": [
    {
     "ename": "ModuleNotFoundError",
     "evalue": "No module named 'google'",
     "output_type": "error",
     "traceback": [
      "\u001b[1;31m---------------------------------------------------------------------------\u001b[0m",
      "\u001b[1;31mModuleNotFoundError\u001b[0m                       Traceback (most recent call last)",
      "\u001b[1;32m<ipython-input-2-305d94667e5d>\u001b[0m in \u001b[0;36m<module>\u001b[1;34m\u001b[0m\n\u001b[1;32m----> 1\u001b[1;33m \u001b[1;32mfrom\u001b[0m \u001b[0mgoogle\u001b[0m\u001b[1;33m.\u001b[0m\u001b[0mcolab\u001b[0m \u001b[1;32mimport\u001b[0m \u001b[0mfiles\u001b[0m\u001b[1;33m\u001b[0m\u001b[1;33m\u001b[0m\u001b[0m\n\u001b[0m\u001b[0;32m      2\u001b[0m \u001b[1;32mimport\u001b[0m \u001b[0mos\u001b[0m\u001b[1;33m\u001b[0m\u001b[1;33m\u001b[0m\u001b[0m\n\u001b[0;32m      3\u001b[0m \u001b[1;32mdef\u001b[0m \u001b[0mgetLocalFiles\u001b[0m\u001b[1;33m(\u001b[0m\u001b[1;33m)\u001b[0m\u001b[1;33m:\u001b[0m\u001b[1;33m\u001b[0m\u001b[1;33m\u001b[0m\u001b[0m\n\u001b[0;32m      4\u001b[0m     \u001b[0m_files\u001b[0m \u001b[1;33m=\u001b[0m \u001b[0mfiles\u001b[0m\u001b[1;33m.\u001b[0m\u001b[0mupload\u001b[0m\u001b[1;33m(\u001b[0m\u001b[1;33m)\u001b[0m\u001b[1;33m\u001b[0m\u001b[1;33m\u001b[0m\u001b[0m\n\u001b[0;32m      5\u001b[0m     \u001b[1;32mif\u001b[0m \u001b[0mlen\u001b[0m\u001b[1;33m(\u001b[0m\u001b[0m_files\u001b[0m\u001b[1;33m)\u001b[0m \u001b[1;33m>\u001b[0m\u001b[1;36m0\u001b[0m\u001b[1;33m:\u001b[0m\u001b[1;33m\u001b[0m\u001b[1;33m\u001b[0m\u001b[0m\n",
      "\u001b[1;31mModuleNotFoundError\u001b[0m: No module named 'google'"
     ]
    }
   ],
   "source": []
  },
  {
   "attachments": {},
   "cell_type": "markdown",
   "metadata": {},
   "source": [
    "# Read variables from .mat file"
   ]
  },
  {
   "cell_type": "code",
   "execution_count": 73,
   "metadata": {
    "scrolled": true
   },
   "outputs": [
    {
     "name": "stdout",
     "output_type": "stream",
     "text": [
      "<class 'dict'>\n"
     ]
    },
    {
     "ename": "UnicodeDecodeError",
     "evalue": "'utf-32-le' codec can't decode bytes in position 0-3: code point not in range(0x110000)",
     "output_type": "error",
     "traceback": [
      "\u001b[1;31m---------------------------------------------------------------------------\u001b[0m",
      "\u001b[1;31mUnicodeDecodeError\u001b[0m                        Traceback (most recent call last)",
      "\u001b[1;32m<ipython-input-73-172332e886db>\u001b[0m in \u001b[0;36m<module>\u001b[1;34m\u001b[0m\n\u001b[0;32m      9\u001b[0m \u001b[1;32mimport\u001b[0m \u001b[0mast\u001b[0m\u001b[1;33m\u001b[0m\u001b[1;33m\u001b[0m\u001b[0m\n\u001b[0;32m     10\u001b[0m \u001b[0mbyte_str\u001b[0m \u001b[1;33m=\u001b[0m \u001b[0mMat\u001b[0m\u001b[1;33m.\u001b[0m\u001b[0mvalue\u001b[0m\u001b[1;33m[\u001b[0m\u001b[1;34m'cnolip_Mx.mat'\u001b[0m\u001b[1;33m]\u001b[0m\u001b[1;33m[\u001b[0m\u001b[1;34m\"content\"\u001b[0m\u001b[1;33m]\u001b[0m\u001b[1;33m\u001b[0m\u001b[1;33m\u001b[0m\u001b[0m\n\u001b[1;32m---> 11\u001b[1;33m \u001b[0mdict_str\u001b[0m \u001b[1;33m=\u001b[0m \u001b[0mbyte_str\u001b[0m\u001b[1;33m.\u001b[0m\u001b[0mdecode\u001b[0m\u001b[1;33m(\u001b[0m\u001b[1;34m\"UTF-32\"\u001b[0m\u001b[1;33m)\u001b[0m\u001b[1;33m\u001b[0m\u001b[1;33m\u001b[0m\u001b[0m\n\u001b[0m\u001b[0;32m     12\u001b[0m \u001b[0mmydata\u001b[0m \u001b[1;33m=\u001b[0m \u001b[0mast\u001b[0m\u001b[1;33m.\u001b[0m\u001b[0mliteral_eval\u001b[0m\u001b[1;33m(\u001b[0m\u001b[0mdict_str\u001b[0m\u001b[1;33m)\u001b[0m\u001b[1;33m\u001b[0m\u001b[1;33m\u001b[0m\u001b[0m\n\u001b[0;32m     13\u001b[0m \u001b[1;33m\u001b[0m\u001b[0m\n",
      "\u001b[1;31mUnicodeDecodeError\u001b[0m: 'utf-32-le' codec can't decode bytes in position 0-3: code point not in range(0x110000)"
     ]
    }
   ],
   "source": [
    "from scipy import io\n",
    "import pycufsm.helpers as helpers\n",
    "\n",
    "file = io.loadmat(\"a.mat\")\n",
    "cufsm_input = helpers.load_cufsm_matsm_mat(file)"
   ]
  },
  {
   "attachments": {},
   "cell_type": "markdown",
   "metadata": {},
   "source": [
    "# Preprocessing"
   ]
  },
  {
   "cell_type": "code",
   "execution_count": null,
   "metadata": {},
   "outputs": [],
   "source": [
    "import numpy as np\n",
    "import matplotlib.pyplot as plt\n",
    "from pycufsm.fsm import strip\n",
    "from pycufsm.preprocess import stress_gen\n",
    "from pycufsm.preprocess import yield_mp\n",
    "from pycufsm.preprocess import doubler\n",
    "import pycufsm.plotters as plotters\n",
    "from pycufsm.cutwp import prop2 as cutwp_prop2\n",
    "\n",
    "nodes = cufsm_input[\"nodes\"]\n",
    "elements = cufsm_input[\"elements\"]\n",
    "props = cufsm_input[\"props\"]\n",
    "springs = cufsm_input[\"springs\"]\n",
    "constraints = cufsm_input[\"constraints\"]\n",
    "GBT_con = cufsm_input[\"GBTcon\"]\n",
    "lengths = cufsm_input[\"lengths\"]\n",
    "sect_props = cutwp_prop2(nodes[:, 1:3], elements[:, 1:4])\n",
    "# Values here correspond to signature curve basis and orthogonal based upon geometry\n",
    "GBT_con = {\n",
    "    \"glob\": [0],\n",
    "    \"dist\": [0],\n",
    "    \"local\": [0],\n",
    "    \"other\": [0],\n",
    "    \"o_space\": 1,\n",
    "    \"couple\": 1,\n",
    "    \"orth\": 2,\n",
    "    \"norm\": 0,\n",
    "}\n",
    "# Simply-supported boundary conditions\n",
    "B_C = \"S-S\"\n",
    "\n",
    "# For signature curve analysis, only a single array of ones makes sense here\n",
    "m_all = np.ones((len(lengths), 1))\n",
    "\n",
    "# Solve for 10 eigenvalues\n",
    "n_eigs = 10\n",
    "\n",
    "# Flag = {node, elem, mat, stress, stresspic, coord, constraints, springs, origin, propaxis}\n",
    "flag = np.array([0, 0, 0, 0, 1, 1, 1, 0, 0, 0])\n",
    "plotters.crossect(nodes, elements, springs, constraints, flag)\n",
    "\n",
    "# Yield Strength\n",
    "f_y = 50\n",
    "restrained = False  # i.e. True do a restrained bending calculation\n",
    "# Generate the stress points assuming 500 MPa yield and X-axis bending\n",
    "Fyield = yield_mp(nodes, f_y, sect_props, restrained)\n",
    "# Generate stress points\n",
    "nodes_p = stress_gen(\n",
    "    nodes=nodes,\n",
    "    forces={\n",
    "        \"P\": Fyield[\"P\"] * 0,\n",
    "        \"Mxx\": Fyield[\"Mxx\"] * 1,\n",
    "        \"Myy\": Fyield[\"Myy\"] * 0,\n",
    "        \"M11\": Fyield[\"M11\"] * 0,\n",
    "        \"M22\": Fyield[\"M22\"] * 0,\n",
    "    },\n",
    "    sect_props=sect_props,\n",
    "    restrained=restrained,\n",
    ")"
   ]
  },
  {
   "attachments": {},
   "cell_type": "markdown",
   "metadata": {},
   "source": [
    "# Analysis"
   ]
  },
  {
   "cell_type": "code",
   "execution_count": null,
   "metadata": {},
   "outputs": [],
   "source": [
    "# Perform the Finite Strip Method analysis\n",
    "signature, curve, shapes = strip(\n",
    "    props=props,\n",
    "    nodes=nodes_p,\n",
    "    elements=elements,\n",
    "    lengths=lengths,\n",
    "    springs=springs,\n",
    "    constraints=constraints,\n",
    "    GBT_con=GBT_con,\n",
    "    B_C=B_C,\n",
    "    m_all=m_all,\n",
    "    n_eigs=n_eigs,\n",
    "    sect_props=sect_props,\n",
    ")\n",
    "signature = np.array(signature)\n",
    "curves = np.array(curve)\n",
    "shapes = np.array(shapes)\n",
    "curve = np.zeros(((len(lengths), n_eigs, 2)))\n",
    "for j in range(len(lengths)):\n",
    "    for i in range(n_eigs):\n",
    "        curve[j, i, 0] = lengths[j]\n",
    "        curve[j, i, 1] = curves[j, i]\n",
    "fileindex = 1\n",
    "fileddisplay = [1]\n",
    "clas = 0\n",
    "clasopt = 0"
   ]
  },
  {
   "attachments": {},
   "cell_type": "markdown",
   "metadata": {},
   "source": [
    "# Post Processing\n",
    "## Displaced Shape"
   ]
  },
  {
   "cell_type": "code",
   "execution_count": null,
   "metadata": {},
   "outputs": [],
   "source": [
    "######POST PROCESSING#########\n",
    "modeindex = 1\n",
    "length_index = 20\n",
    "scale = 5\n",
    "x = plotters.dispshap(1, nodes, elements, shapes[length_index - 1, :, modeindex - 1], scale, springs, [1], B_C, 1 / 2)"
   ]
  },
  {
   "attachments": {},
   "cell_type": "markdown",
   "metadata": {},
   "source": [
    "## Signature Curve"
   ]
  },
  {
   "cell_type": "code",
   "execution_count": null,
   "metadata": {},
   "outputs": [],
   "source": [
    "####SIGNATURE CURVE####\n",
    "###Buckling halfwavelenth plot from a signature analysis\n",
    "minopt = 1\n",
    "logopt = 1\n",
    "\n",
    "# plot limits\n",
    "xmin = np.min(lengths) * 10 / 11\n",
    "xmax = np.max(lengths) * 11 / 10\n",
    "ymin = 0\n",
    "ymax = np.min([np.max(signature), 3 * np.median(signature)])\n",
    "\n",
    "# Modes to display\n",
    "modedisplay = [1]\n",
    "\n",
    "# Interested point\n",
    "modeindex = 1\n",
    "length_index = 40\n",
    "picpoint = [lengths[length_index - 1], curves[length_index - 1, modeindex - 1]]\n",
    "\n",
    "# CALL THE CURVE\n",
    "plotters.thecurve3(\n",
    "    curve,\n",
    "    clas,\n",
    "    fileddisplay,\n",
    "    minopt,\n",
    "    logopt,\n",
    "    clasopt,\n",
    "    xmin,\n",
    "    xmax,\n",
    "    ymin,\n",
    "    ymax,\n",
    "    modedisplay,\n",
    "    fileindex,\n",
    "    modeindex,\n",
    "    picpoint,\n",
    ")"
   ]
  }
 ],
 "metadata": {
  "kernelspec": {
   "display_name": "Python 3",
   "language": "python",
   "name": "python3"
  },
  "language_info": {
   "codemirror_mode": {
    "name": "ipython",
    "version": 3
   },
   "file_extension": ".py",
   "mimetype": "text/x-python",
   "name": "python",
   "nbconvert_exporter": "python",
   "pygments_lexer": "ipython3",
   "version": "3.7.4"
  }
 },
 "nbformat": 4,
 "nbformat_minor": 2
}
