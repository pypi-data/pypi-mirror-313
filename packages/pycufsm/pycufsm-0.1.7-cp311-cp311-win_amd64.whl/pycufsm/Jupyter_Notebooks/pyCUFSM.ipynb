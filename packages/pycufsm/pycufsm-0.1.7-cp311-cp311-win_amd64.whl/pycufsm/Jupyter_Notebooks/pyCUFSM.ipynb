{
 "cells": [
  {
   "cell_type": "markdown",
   "metadata": {
    "id": "otUWm--H1tbb"
   },
   "source": [
    "<hr/>\n",
    "\n",
    "# CUFSM\n",
    "\n",
    "- For general signature curve analysis\n",
    "\n",
    "<hr/>"
   ]
  },
  {
   "cell_type": "markdown",
   "metadata": {
    "id": "Lv_cEpxb1tbi"
   },
   "source": [
    "[Open In Colab](https://colab.research.google.com/github/joelbenjohn/pyCUFSM/blob/master/Jupyter_Notebooks/pyCUFSM.ipynb)"
   ]
  },
  {
   "cell_type": "markdown",
   "metadata": {
    "id": "Ap_3fm1I1tbi"
   },
   "source": [
    "## Clone Github and Import packages"
   ]
  },
  {
   "cell_type": "code",
   "execution_count": 1,
   "metadata": {
    "colab": {
     "base_uri": "https://localhost:8080/"
    },
    "id": "uHy1HAZY1tbj",
    "outputId": "e7e0d5bc-7268-4c72-9a3a-db5706e6398d"
   },
   "outputs": [
    {
     "name": "stdout",
     "output_type": "stream",
     "text": [
      "Cloning into 'pyCUFSM'...\n",
      "remote: Enumerating objects: 150, done.\u001b[K\n",
      "remote: Counting objects: 100% (150/150), done.\u001b[K\n",
      "remote: Compressing objects: 100% (104/104), done.\u001b[K\n",
      "remote: Total 660 (delta 96), reused 95 (delta 46), pack-reused 510\u001b[K\n",
      "Receiving objects: 100% (660/660), 485.30 KiB | 1.56 MiB/s, done.\n",
      "Resolving deltas: 100% (390/390), done.\n"
     ]
    }
   ],
   "source": [
    "!rm -rf /content/pyCUFSM\n",
    "!git clone https://github.com/ClearCalcs/pyCUFSM\n",
    "import sys\n",
    "\n",
    "sys.path.insert(1, \"/content/pyCUFSM/\")\n",
    "import numpy as np\n",
    "import matplotlib.pyplot as plt\n",
    "from pycufsm.fsm import strip\n",
    "from pycufsm.preprocess import stress_gen\n",
    "from pycufsm.preprocess import yield_mp\n",
    "from pycufsm.preprocess import doubler\n",
    "import pycufsm.plotters as plotters\n",
    "from pycufsm.cutwp_prop2 import cutwp_prop2"
   ]
  },
  {
   "cell_type": "markdown",
   "metadata": {
    "id": "_XO7oe9Q1tbj"
   },
   "source": [
    "## Pre Processor\n",
    "### Cross Section"
   ]
  },
  {
   "cell_type": "code",
   "execution_count": 2,
   "metadata": {
    "colab": {
     "base_uri": "https://localhost:8080/",
     "height": 457
    },
    "id": "xRVpBr6j1tbk",
    "outputId": "1127ff02-a88b-44bc-818e-b398db7f7fe8",
    "tags": []
   },
   "outputs": [
    {
     "data": {
      "image/png": "[encoded data removed]",
      "text/plain": [
       "<Figure size 432x432 with 1 Axes>"
      ]
     },
     "metadata": {
      "needs_background": "light",
      "tags": []
     },
     "output_type": "display_data"
    }
   ],
   "source": [
    "# Define an isotropic material\n",
    "# props = [material#, Ex, Ey, vx, vy, G]\n",
    "props = np.array([[0, 29500, 29500, 0.3, 0.3, 29500 / (2 * (1 + 0.3))]])\n",
    "\n",
    "# Nodal location units are inches\n",
    "# nodes = [node#, x, y, xdof, zdof, ydof, qdof, stress]\n",
    "nodes = np.array(\n",
    "    [\n",
    "        [0, 2.5, 0.773, 1, 1, 1, 1, 0],\n",
    "        [1, 2.5, 0, 1, 1, 1, 1, 0],\n",
    "        [2, 1.25, 0, 1, 1, 1, 1, 0],\n",
    "        [3, 0, 0, 1, 1, 1, 1, 0],\n",
    "        [4, 0, 3, 1, 1, 1, 1, 0],\n",
    "        [5, 0, 6, 1, 1, 1, 1, 0],\n",
    "        [6, 0, 9, 1, 1, 1, 1, 0],\n",
    "        [7, 1.25, 9, 1, 1, 1, 1, 0],\n",
    "        [8, 2.5, 9, 1, 1, 1, 1, 0],\n",
    "        [9, 2.5, 8.227, 1, 1, 1, 1, 0],\n",
    "    ]\n",
    ")\n",
    "# elements = [elem#, nodei, nodej, thickness, material#]\n",
    "elements = np.array(\n",
    "    [\n",
    "        [0, 0, 1, 0.059, 0],\n",
    "        [1, 1, 2, 0.059, 0],\n",
    "        [2, 2, 3, 0.059, 0],\n",
    "        [3, 3, 4, 0.059, 0],\n",
    "        [4, 4, 5, 0.059, 0],\n",
    "        [5, 5, 6, 0.059, 0],\n",
    "        [6, 6, 7, 0.059, 0],\n",
    "        [7, 7, 8, 0.059, 0],\n",
    "        [8, 8, 9, 0.059, 0],\n",
    "    ]\n",
    ")\n",
    "\n",
    "# Springs = []\n",
    "springs = []\n",
    "\n",
    "# Constraints = []\n",
    "constraints = []\n",
    "\n",
    "# Doubler\n",
    "nodes, elements = doubler(nodes, elements)\n",
    "\n",
    "# Call Cross Section plotter\n",
    "flag = np.array([1, 0, 0, 0, 0, 0, 0, 0, 0, 0])\n",
    "plotters.crossect(nodes, elements, springs, constraints, flag)\n",
    "plt.show()"
   ]
  },
  {
   "cell_type": "markdown",
   "metadata": {
    "id": "kYtp5l_81tbl"
   },
   "source": [
    "### Lengths\n",
    "   >- To generate $n$ lengths equally spaced between $a$ and $b$ use **lengths = np.linspace(a, b, n)**\n",
    "   >- To generate $n$ lengths log spaced between $10^a$ and $10^b$ use **lengths = np.logspace(a, b, n)**"
   ]
  },
  {
   "cell_type": "code",
   "execution_count": 3,
   "metadata": {
    "id": "zKGCGeMp1tbl"
   },
   "outputs": [],
   "source": [
    "# These lengths will generally provide sufficient accuracy for local, distortional, and global buckling modes\n",
    "lengths = np.array(\n",
    "    [\n",
    "        10,\n",
    "        20,\n",
    "        30,\n",
    "        40,\n",
    "        50,\n",
    "        60,\n",
    "        70,\n",
    "        80,\n",
    "        90,\n",
    "        100,\n",
    "        110,\n",
    "        120,\n",
    "        130,\n",
    "        140,\n",
    "        150,\n",
    "        160,\n",
    "        170,\n",
    "        180,\n",
    "        190,\n",
    "        200,\n",
    "        250,\n",
    "        300,\n",
    "        350,\n",
    "        400,\n",
    "        450,\n",
    "        500,\n",
    "        600,\n",
    "        700,\n",
    "        800,\n",
    "        900,\n",
    "        1000,\n",
    "        1100,\n",
    "        1200,\n",
    "        1300,\n",
    "        1400,\n",
    "        1500,\n",
    "        2000,\n",
    "        2500,\n",
    "        3000,\n",
    "        3500,\n",
    "        4000,\n",
    "        4500,\n",
    "        5000,\n",
    "        6000,\n",
    "        7000,\n",
    "        8000,\n",
    "        9000,\n",
    "        10000,\n",
    "    ]\n",
    ")"
   ]
  },
  {
   "cell_type": "markdown",
   "metadata": {
    "id": "ZD1XuhJD1tbl"
   },
   "source": [
    "### Boundary Condition Selection\n",
    "\n",
    "| Boundary Condition | Key |\n",
    "| :--- | ----------- |\n",
    "| Simple-Simple | 'S-S' |\n",
    "| Clamped-Clamped |'C-C' |\n",
    "| Simple-Clamped |'S-C' |\n",
    "| Clamped-Free |'C-F' |\n",
    "| Clamped-Guided |'C-G' |"
   ]
  },
  {
   "cell_type": "code",
   "execution_count": 4,
   "metadata": {
    "id": "270UiIdg1tbl"
   },
   "outputs": [],
   "source": [
    "# Boundary Condition\n",
    "B_C = \"S-S\"\n",
    "\n",
    "# For signature curve analysis, only a single array of ones makes sense here\n",
    "m_all = np.ones((len(lengths), 1))\n",
    "\n",
    "# Number of eigenvalues\n",
    "n_eigs = 10"
   ]
  },
  {
   "cell_type": "markdown",
   "metadata": {
    "id": "waXrXV4z1tbm"
   },
   "source": [
    "### Applied Stress Generator"
   ]
  },
  {
   "cell_type": "code",
   "execution_count": 5,
   "metadata": {
    "colab": {
     "base_uri": "https://localhost:8080/",
     "height": 457
    },
    "id": "zERaz1_D1tbm",
    "outputId": "34b075f4-127d-4ada-d9e6-6a025c2debc6"
   },
   "outputs": [
    {
     "data": {
      "image/png": "[encoded data removed]",
      "text/plain": [
       "<Figure size 432x432 with 1 Axes>"
      ]
     },
     "metadata": {
      "needs_background": "light",
      "tags": []
     },
     "output_type": "display_data"
    }
   ],
   "source": [
    "# Calculate Section Properties\n",
    "sect_props = cutwp_prop2(nodes[:, 1:3], elements[:, 1:4])\n",
    "\n",
    "# Yield Strength\n",
    "f_y = 50\n",
    "\n",
    "# To do a restrained bending calculation\n",
    "restrained = False\n",
    "\n",
    "# Generate the yield strength\n",
    "Fyield = yield_mp(nodes, f_y, sect_props, restrained)\n",
    "# Generate stress points\n",
    "nodes_p = stress_gen(\n",
    "    nodes=nodes,\n",
    "    forces={\n",
    "        \"P\": Fyield[\"P\"] * 0,\n",
    "        \"Mxx\": Fyield[\"Mxx\"] * 1,\n",
    "        \"Myy\": Fyield[\"Myy\"] * 0,\n",
    "        \"M11\": Fyield[\"M11\"] * 0,\n",
    "        \"M22\": Fyield[\"M22\"] * 0,\n",
    "    },\n",
    "    sect_props=sect_props,\n",
    "    restrained=restrained,\n",
    ")\n",
    "\n",
    "##CALL CROSS SECTION\n",
    "# Flag = {node, elem, mat, stress, stresspic, coord, constraints, springs, origin, propaxis}\n",
    "flag = np.array([1, 0, 0, 0, 1, 0, 0, 0, 0, 0])\n",
    "plotters.crossect(nodes_p, elements, springs, constraints, flag)\n",
    "plt.show()"
   ]
  },
  {
   "cell_type": "markdown",
   "metadata": {
    "id": "o11hxA4n1tbm"
   },
   "source": [
    "# Analysis"
   ]
  },
  {
   "cell_type": "code",
   "execution_count": 6,
   "metadata": {
    "id": "ngeNV0_91tbm"
   },
   "outputs": [],
   "source": [
    "# Values here correspond to signature curve basis and orthogonal based upon geometry\n",
    "GBT_con = {\n",
    "    \"glob\": [0],\n",
    "    \"dist\": [0],\n",
    "    \"local\": [0],\n",
    "    \"other\": [0],\n",
    "    \"o_space\": 1,\n",
    "    \"couple\": 1,\n",
    "    \"orth\": 2,\n",
    "    \"norm\": 0,\n",
    "}\n",
    "# Perform the Finite Strip Method analysis\n",
    "signature, curve, shapes = strip(\n",
    "    props=props,\n",
    "    nodes=nodes_p,\n",
    "    elements=elements,\n",
    "    lengths=lengths,\n",
    "    springs=springs,\n",
    "    constraints=constraints,\n",
    "    GBT_con=GBT_con,\n",
    "    B_C=B_C,\n",
    "    m_all=m_all,\n",
    "    n_eigs=n_eigs,\n",
    "    sect_props=sect_props,\n",
    ")\n",
    "signature = np.array(signature)\n",
    "curves = np.array(curve)\n",
    "shapes = np.array(shapes)\n",
    "curve = np.zeros(((len(lengths), n_eigs, 2)))\n",
    "for j in range(len(lengths)):\n",
    "    for i in range(n_eigs):\n",
    "        curve[j, i, 0] = lengths[j]\n",
    "        curve[j, i, 1] = curves[j, i]\n",
    "fileindex = 1\n",
    "fileddisplay = [1]\n",
    "clas = 0\n",
    "clasopt = 0"
   ]
  },
  {
   "cell_type": "markdown",
   "metadata": {
    "id": "i4755YPp1tbn"
   },
   "source": [
    "# Post Processing\n",
    "## Signature Curve"
   ]
  },
  {
   "cell_type": "code",
   "execution_count": 7,
   "metadata": {
    "colab": {
     "base_uri": "https://localhost:8080/",
     "height": 1000
    },
    "id": "BntzGxlc1tbn",
    "outputId": "323efb6e-cff8-4da0-e45f-3a172f53dd75"
   },
   "outputs": [
    {
     "name": "stderr",
     "output_type": "stream",
     "text": [
      "/usr/local/lib/python3.6/dist-packages/IPython/core/pylabtools.py:125: UserWarning: constrained_layout not applied.  At least one axes collapsed to zero width or height.\n",
      "  fig.canvas.print_figure(bytes_io, **kw)\n"
     ]
    },
    {
     "data": {
      "image/png": "[encoded data removed]",
      "text/plain": [
       "<Figure size 432x432 with 1 Axes>"
      ]
     },
     "metadata": {
      "needs_background": "light",
      "tags": []
     },
     "output_type": "display_data"
    }
   ],
   "source": [
    "####SIGNATURE CURVE####\n",
    "###Buckling halfwavelenth plot from a signature analysis\n",
    "minopt = 1\n",
    "logopt = 1\n",
    "\n",
    "# plot limits\n",
    "xmin = np.min(lengths) * 10 / 11\n",
    "xmax = np.max(lengths) * 11 / 10\n",
    "ymin = 0\n",
    "ymax = np.min([np.max(signature), 3 * np.median(signature)])\n",
    "\n",
    "# Modes to display\n",
    "modedisplay = [1]\n",
    "\n",
    "# Interested point\n",
    "modeindex = 1\n",
    "length_index = 40\n",
    "picpoint = [lengths[length_index - 1], curves[length_index - 1, modeindex - 1]]\n",
    "\n",
    "# CALL THE CURVE\n",
    "plotters.thecurve3(\n",
    "    curve,\n",
    "    clas,\n",
    "    fileddisplay,\n",
    "    minopt,\n",
    "    logopt,\n",
    "    clasopt,\n",
    "    xmin,\n",
    "    xmax,\n",
    "    ymin,\n",
    "    ymax,\n",
    "    modedisplay,\n",
    "    fileindex,\n",
    "    modeindex,\n",
    "    picpoint,\n",
    ")"
   ]
  },
  {
   "cell_type": "markdown",
   "metadata": {
    "id": "qgAyq4Uc1tbn"
   },
   "source": [
    "## Displaced Shape"
   ]
  },
  {
   "cell_type": "code",
   "execution_count": 8,
   "metadata": {
    "colab": {
     "base_uri": "https://localhost:8080/",
     "height": 457
    },
    "id": "im2yY9FF1tbn",
    "outputId": "8d24011b-7b79-486c-8015-1ac3933045a8"
   },
   "outputs": [
    {
     "data": {
      "image/png": "[encoded data removed]",
      "text/plain": [
       "<Figure size 432x432 with 1 Axes>"
      ]
     },
     "metadata": {
      "needs_background": "light",
      "tags": []
     },
     "output_type": "display_data"
    }
   ],
   "source": [
    "######POST PROCESSING#########\n",
    "modeindex = 1\n",
    "length_index = 20\n",
    "scale = 5\n",
    "x = plotters.dispshap(1, nodes, elements, shapes[length_index - 1, :, modeindex - 1], scale, springs, [1], B_C, 1 / 2)"
   ]
  }
 ],
 "metadata": {
  "celltoolbar": "Raw Cell Format",
  "colab": {
   "name": "pyCUFSM.ipynb",
   "provenance": []
  },
  "kernelspec": {
   "display_name": "Python 3",
   "language": "python",
   "name": "python3"
  },
  "language_info": {
   "codemirror_mode": {
    "name": "ipython",
    "version": 3
   },
   "file_extension": ".py",
   "mimetype": "text/x-python",
   "name": "python",
   "nbconvert_exporter": "python",
   "pygments_lexer": "ipython3",
   "version": "3.7.4"
  }
 },
 "nbformat": 4,
 "nbformat_minor": 0
}
