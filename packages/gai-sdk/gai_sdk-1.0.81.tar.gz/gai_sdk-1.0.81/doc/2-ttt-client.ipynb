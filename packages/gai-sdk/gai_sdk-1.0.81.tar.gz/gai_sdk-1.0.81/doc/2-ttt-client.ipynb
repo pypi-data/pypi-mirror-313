{
 "cells": [
  {
   "cell_type": "markdown",
   "metadata": {},
   "source": [
    "# TTT (Text-to-Text) Client"
   ]
  },
  {
   "cell_type": "markdown",
   "metadata": {},
   "source": [
    "## 1. Setup\n",
    "\n",
    "1. Clone the repository.\n",
    "\n",
    "```bash\n",
    "git clone https://github.com/kakkoii1337/gai-sdk\n",
    "```\n",
    "\n",
    "2. Initialize the SDK.\n",
    "\n",
    "```bash\n",
    "gai init\n",
    "```\n",
    "\n",
    "3. Download the Model.\n",
    "\n",
    "```bash\n",
    "gai pull exllamav2-mistral7b\n",
    "```\n"
   ]
  },
  {
   "cell_type": "markdown",
   "metadata": {},
   "source": [
    "## 2. Chat"
   ]
  },
  {
   "cell_type": "code",
   "execution_count": 1,
   "metadata": {},
   "outputs": [
    {
     "name": "stdout",
     "output_type": "stream",
     "text": [
      "{'type': 'content', 'content': ' A young girl found a magic lamp and released a genie who granted her three wishes.'}\n"
     ]
    }
   ],
   "source": [
    "from gai.ttt.client.ttt_client import TTTClient\n",
    "client = TTTClient({\n",
    "        \"type\": \"ttt\",\n",
    "        \"url\": \"http://localhost:12031/gen/v1/chat/completions\",\n",
    "        \"stream\": False\n",
    "})\n",
    "response=client(messages=[\n",
    "        {\"role\":\"user\",\"content\":\"tell me a one sentence story\"},\n",
    "        {\"role\":\"assistant\",\"content\":\"\"}\n",
    "    ],\n",
    "    stream=False\n",
    "    )\n",
    "print(response.extract())"
   ]
  },
  {
   "cell_type": "markdown",
   "metadata": {},
   "source": [
    "## 3. Stream"
   ]
  },
  {
   "cell_type": "code",
   "execution_count": 2,
   "metadata": {},
   "outputs": [
    {
     "name": "stdout",
     "output_type": "stream",
     "text": [
      " A young girl found a lost puppy and took it home to care for it.\n"
     ]
    }
   ],
   "source": [
    "from gai.ttt.client.ttt_client import TTTClient\n",
    "client = TTTClient({\n",
    "        \"type\": \"ttt\",\n",
    "        \"url\": \"http://localhost:12031/gen/v1/chat/completions\"\n",
    "})\n",
    "response=client(messages=[\n",
    "    {\"role\":\"user\",\"content\":\"tell me a one sentence story\"},\n",
    "    {\"role\":\"assistant\",\"content\":\"\"}\n",
    "],stream=True)\n",
    "for chunk in response:\n",
    "    chunk = chunk.extract()\n",
    "    if type(chunk) is str:\n",
    "        print(chunk, end=\"\", flush=True)\n",
    "    else:\n",
    "        print(\".\")\n"
   ]
  },
  {
   "cell_type": "markdown",
   "metadata": {},
   "source": [
    "## 4. Tool Call"
   ]
  },
  {
   "cell_type": "code",
   "execution_count": 1,
   "metadata": {},
   "outputs": [
    {
     "name": "stdout",
     "output_type": "stream",
     "text": [
      "{'type': 'function', 'name': 'google', 'arguments': '{\"search_query\": \"current time Singapore\"}'}\n"
     ]
    }
   ],
   "source": [
    "messages = [\n",
    "    {\"role\":\"user\",\"content\":\"What is the current time in Singapore?\"},\n",
    "    {\"role\":\"assistant\",\"content\":\"\"}\n",
    "]\n",
    "tool_choice=\"required\"\n",
    "tools = [\n",
    "    {\n",
    "        \"type\": \"function\",\n",
    "        \"function\": {\n",
    "            \"name\": \"google\",\n",
    "            \"description\": \"The 'google' function is a powerful tool that allows the AI to gather external information from the internet using Google search. It can be invoked when the AI needs to answer a question or provide information that requires up-to-date, comprehensive, and diverse sources which are not inherently known by the AI. For instance, it can be used to find current date, current news, weather updates, latest sports scores, trending topics, specific facts, or even the current date and time. The usage of this tool should be considered when the user's query implies or explicitly requests recent or wide-ranging data, or when the AI's inherent knowledge base may not have the required or most current information. The 'search_query' parameter should be a concise and accurate representation of the information needed.\",\n",
    "            \"parameters\": {\n",
    "                \"type\": \"object\",\n",
    "                \"properties\": {\n",
    "                    \"search_query\": {\n",
    "                        \"type\": \"string\",\n",
    "                        \"description\": \"The search query to search google with. For example, to find the current date or time, use 'current date' or 'current time' respectively.\"\n",
    "                    }\n",
    "                },\n",
    "                \"required\": [\"search_query\"]\n",
    "            }\n",
    "        }\n",
    "    }\n",
    "]\n",
    "from gai.ttt.client.ttt_client import TTTClient\n",
    "client = TTTClient({\n",
    "        \"type\": \"ttt\",\n",
    "        \"url\": \"http://localhost:12031/gen/v1/chat/completions\"\n",
    "})\n",
    "response=client(messages=messages,stream=False,tool_choice=tool_choice,tools=tools)\n",
    "print(response.extract())\n"
   ]
  },
  {
   "cell_type": "markdown",
   "metadata": {},
   "source": [
    "## 5. JSON Schema"
   ]
  },
  {
   "cell_type": "code",
   "execution_count": 2,
   "metadata": {},
   "outputs": [
    {
     "name": "stdout",
     "output_type": "stream",
     "text": [
      "{'type': 'content', 'content': ' {\\n    \"title\": \"Foundation\",\\n    \"summary\": \"Foundation is a science fiction novel by Isaac Asimov, published in 1951. It is the first book in the Foundation Trilogy, later expanded into the Foundation series. The novel consists of five interrelated short stories that tell the early story of the Foundation, an institute founded by psychohistorian Hari Seldon to preserve the best of galactic civilization after the collapse of the Galactic Empire.\",\\n    \"author\": \"Isaac Asimov\",\\n    \"published_year\": 1951\\n}'}\n"
     ]
    }
   ],
   "source": [
    "from gai.ttt.client.ttt_client import TTTClient\n",
    "client = TTTClient({\n",
    "        \"type\": \"ttt\",\n",
    "        \"url\": \"http://localhost:12031/gen/v1/chat/completions\"\n",
    "})\n",
    "json_schema={\n",
    "    \"properties\": {\n",
    "        \"title\": {\n",
    "            \"title\": \"Title\",\n",
    "            \"type\": \"string\"\n",
    "        },\n",
    "        \"summary\": {\n",
    "            \"title\": \"Summary\",\n",
    "            \"type\": \"string\"\n",
    "        },\n",
    "        \"author\": {\n",
    "            \"title\": \"Author\",\n",
    "            \"type\": \"string\"\n",
    "        },\n",
    "        \"published_year\": {\n",
    "            \"title\": \"Published Year\",\n",
    "            \"type\": \"integer\"\n",
    "        }\n",
    "    },\n",
    "    \"required\": [\n",
    "        \"title\",\n",
    "        \"summary\",\n",
    "        \"author\",\n",
    "        \"published_year\"\n",
    "    ],\n",
    "    \"title\": \"Book\",\n",
    "    \"type\": \"object\"\n",
    "}\n",
    "response=client(\n",
    "    messages=[\n",
    "        {\"role\":\"user\",\"content\":\"\"\"Foundation is a science fiction novel by American writer \n",
    "            Isaac Asimov. It is the first published in his Foundation Trilogy (later \n",
    "            expanded into the Foundation series). Foundation is a cycle of five \n",
    "            interrelated short stories, first published as a single book by Gnome Press \n",
    "            in 1951. Collectively they tell the early story of the Foundation, \n",
    "            an institute founded by psychohistorian Hari Seldon to preserve the best \n",
    "            of galactic civilization after the collapse of the Galactic Empire.\n",
    "            \"\"\"},\n",
    "        {\"role\":\"assistant\",\"content\":\"\"}\n",
    "        ],\n",
    "    json_schema=json_schema,\n",
    "    tool_choice=\"none\",\n",
    "    stream=False\n",
    "    )\n",
    "print(response.extract())"
   ]
  },
  {
   "cell_type": "code",
   "execution_count": 4,
   "metadata": {},
   "outputs": [
    {
     "name": "stdout",
     "output_type": "stream",
     "text": [
      "{'type': 'content', 'content': ' {\"result\": true}\\n\\n'}\n"
     ]
    }
   ],
   "source": [
    "from gai.ttt.client.ttt_client import TTTClient\n",
    "client = TTTClient({\n",
    "        \"type\": \"ttt\",\n",
    "        \"url\": \"http://localhost:12031/gen/v1/chat/completions\"\n",
    "})\n",
    "response=client(\n",
    "    messages=[\n",
    "        {\"role\": \"user\", \"content\": \"The sun rises from the east?\"}, \n",
    "        {\"role\": \"assistant\", \"content\": \"\"}\n",
    "        ],\n",
    "    json_schema={\n",
    "        \"properties\": {\n",
    "            \"result\": {\n",
    "                \"type\":\"boolean\"\n",
    "            }\n",
    "        }, \n",
    "        \"required\": [\n",
    "            \"result\"\n",
    "        ],\n",
    "        \"title\": \"Predicate\",\n",
    "        \"type\": \"object\"\n",
    "    },\n",
    "    tool_choice=\"none\",\n",
    "    stream=False\n",
    "    )\n",
    "print(response.extract())"
   ]
  }
 ],
 "metadata": {
  "kernelspec": {
   "display_name": ".venv",
   "language": "python",
   "name": "python3"
  },
  "language_info": {
   "codemirror_mode": {
    "name": "ipython",
    "version": 3
   },
   "file_extension": ".py",
   "mimetype": "text/x-python",
   "name": "python",
   "nbconvert_exporter": "python",
   "pygments_lexer": "ipython3",
   "version": "3.10.12"
  }
 },
 "nbformat": 4,
 "nbformat_minor": 2
}
