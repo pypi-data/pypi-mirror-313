{
 "cells": [
  {
   "cell_type": "code",
   "execution_count": 4,
   "metadata": {},
   "outputs": [],
   "source": [
    "import os\n",
    "os.getcwd()\n",
    "os.chdir('..')"
   ]
  },
  {
   "cell_type": "code",
   "execution_count": 5,
   "metadata": {},
   "outputs": [],
   "source": [
    "# import\n",
    "from jaal import Jaal\n",
    "import pandas as pd\n",
    "import numpy as np\n",
    "import networkx as nx"
   ]
  },
  {
   "cell_type": "markdown",
   "metadata": {},
   "source": [
    "Now it's time to try our data."
   ]
  },
  {
   "cell_type": "code",
   "execution_count": 26,
   "metadata": {},
   "outputs": [],
   "source": [
    "exec(open(\"scripts/write-simulation-matrix-with-connections.py\").read())"
   ]
  },
  {
   "cell_type": "code",
   "execution_count": 27,
   "metadata": {},
   "outputs": [],
   "source": [
    "node_G = G.nodes()\n",
    "node_G_df = pd.DataFrame(list(G.nodes(data=True)))\n",
    "\n",
    "node_G_df.rename(columns={0: 'id'}, inplace=True)\n",
    "node_G_df['id'] = node_G_df['id'].astype(str)\n",
    "node_G_df['title'] = 'Node' + node_G_df['id']\n",
    "node_G_df = node_G_df[['id', 'title']]"
   ]
  },
  {
   "cell_type": "code",
   "execution_count": 28,
   "metadata": {},
   "outputs": [],
   "source": [
    "edge_G = G.edges()\n",
    "edge_G_df = pd.DataFrame(list(G.edges(data=True)))\n",
    "\n",
    "edge_G_df.rename(columns={0: 'from', 1: 'to', 2: 'weight'}, inplace=True)\n",
    "edge_G_df['weight'] = 1\n",
    "edge_G_df['from'] = edge_G_df['from'].astype(str)\n",
    "edge_G_df['to'] = edge_G_df['to'].astype(str)\n",
    "\n",
    "# get rid of self-loop\n",
    "edge_G_df = edge_G_df[edge_G_df['from'] != edge_G_df['to']]"
   ]
  },
  {
   "cell_type": "code",
   "execution_count": null,
   "metadata": {},
   "outputs": [
    {
     "name": "stdout",
     "output_type": "stream",
     "text": [
      "Parsing the data...Done\n"
     ]
    },
    {
     "data": {
      "text/html": [
       "\n",
       "        <iframe\n",
       "            width=\"100%\"\n",
       "            height=\"650\"\n",
       "            src=\"http://127.0.0.1:8050/\"\n",
       "            frameborder=\"0\"\n",
       "            allowfullscreen\n",
       "            \n",
       "        ></iframe>\n",
       "        "
      ],
      "text/plain": [
       "<IPython.lib.display.IFrame at 0x13fb2e120>"
      ]
     },
     "metadata": {},
     "output_type": "display_data"
    },
    {
     "name": "stdout",
     "output_type": "stream",
     "text": [
      "No trigger\n",
      "No trigger\n"
     ]
    }
   ],
   "source": [
    "# Plot the graph using Jaal\n",
    "Jaal(edge_G_df, node_G_df).plot()"
   ]
  },
  {
   "cell_type": "markdown",
   "metadata": {},
   "source": [
    "Try real world leopard data now"
   ]
  },
  {
   "cell_type": "code",
   "execution_count": 21,
   "metadata": {},
   "outputs": [],
   "source": [
    "matrix_leopard = pd.read_csv(\"data/real_leopard_matrix.csv\")\n",
    "matrix_leopard.set_index('colnames(tmp)', inplace=True)\n",
    "matrix_leopard_array = matrix_leopard.to_numpy()\n",
    "matrix_leopard_array = np.where(matrix_leopard_array == 2, 0, matrix_leopard_array)\n",
    "for i in range(0, len(matrix_leopard_array)):\n",
    "    matrix_leopard_array[i, i] = 0\n",
    "G = nx.from_numpy_array(matrix_leopard_array)"
   ]
  },
  {
   "cell_type": "code",
   "execution_count": 22,
   "metadata": {},
   "outputs": [],
   "source": [
    "node_G = G.nodes()\n",
    "node_G_df = pd.DataFrame(list(G.nodes(data=True)))\n",
    "edge_G = G.edges()\n",
    "edge_G_df = pd.DataFrame(list(G.edges(data=True)))\n",
    "\n",
    "node_G_df.rename(columns={0: 'id'}, inplace=True)\n",
    "node_G_df['id'] = node_G_df['id'].astype(str)\n",
    "node_G_df['title'] = matrix_leopard.columns\n",
    "node_G_df = node_G_df[['id', 'title']]\n",
    "node_G_df['location'] = node_G_df['title'].str.split('-A').str[0]\n",
    "\n",
    "edge_G_df.rename(columns={0: 'from', 1: 'to', 2: 'weight'}, inplace=True)\n",
    "edge_G_df['weight'] = 1\n",
    "edge_G_df['from'] = edge_G_df['from'].astype(str)\n",
    "edge_G_df['to'] = edge_G_df['to'].astype(str)"
   ]
  },
  {
   "cell_type": "code",
   "execution_count": null,
   "metadata": {},
   "outputs": [
    {
     "name": "stdout",
     "output_type": "stream",
     "text": [
      "Parsing the data...Done\n"
     ]
    },
    {
     "data": {
      "text/html": [
       "\n",
       "        <iframe\n",
       "            width=\"100%\"\n",
       "            height=\"650\"\n",
       "            src=\"http://127.0.0.1:8050/\"\n",
       "            frameborder=\"0\"\n",
       "            allowfullscreen\n",
       "            \n",
       "        ></iframe>\n",
       "        "
      ],
      "text/plain": [
       "<IPython.lib.display.IFrame at 0x13f8c1940>"
      ]
     },
     "metadata": {},
     "output_type": "display_data"
    },
    {
     "name": "stdout",
     "output_type": "stream",
     "text": [
      "No trigger\n",
      "inside color node location\n"
     ]
    }
   ],
   "source": [
    "Jaal(edge_G_df, node_G_df).plot()"
   ]
  }
 ],
 "metadata": {
  "kernelspec": {
   "display_name": "myenv",
   "language": "python",
   "name": "python3"
  },
  "language_info": {
   "codemirror_mode": {
    "name": "ipython",
    "version": 3
   },
   "file_extension": ".py",
   "mimetype": "text/x-python",
   "name": "python",
   "nbconvert_exporter": "python",
   "pygments_lexer": "ipython3",
   "version": "3.12.7"
  }
 },
 "nbformat": 4,
 "nbformat_minor": 2
}
