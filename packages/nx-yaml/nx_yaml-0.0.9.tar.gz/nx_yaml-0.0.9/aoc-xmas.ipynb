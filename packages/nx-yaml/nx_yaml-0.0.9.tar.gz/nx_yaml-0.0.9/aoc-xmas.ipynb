{
 "cells": [
  {
   "cell_type": "code",
   "execution_count": 28,
   "metadata": {},
   "outputs": [],
   "source": [
    "from discopy.frobenius import *\n",
    "puzzle = \"\"\"\n",
    "MMMS\n",
    "MSAM\n",
    "AMXS\n",
    "\"\"\""
   ]
  },
  {
   "cell_type": "code",
   "execution_count": 36,
   "metadata": {},
   "outputs": [
    {
     "ename": "AxiomError",
     "evalue": " @  @  @  @  @  @  @  @  @  @ Spider(1, 2, Ty()) does not compose with M @  @  @  @  @ :  @  @  @  @  @  @  @  @  @  @  @  !=  @  @  @  @  @ .",
     "output_type": "error",
     "traceback": [
      "\u001b[0;31m---------------------------------------------------------------------------\u001b[0m",
      "\u001b[0;31mAxiomError\u001b[0m                                Traceback (most recent call last)",
      "Cell \u001b[0;32mIn[36], line 20\u001b[0m\n\u001b[1;32m     18\u001b[0m         d \u001b[38;5;241m=\u001b[39m l_boxes\n\u001b[1;32m     19\u001b[0m     \u001b[38;5;28;01melse\u001b[39;00m:\n\u001b[0;32m---> 20\u001b[0m         \u001b[43md\u001b[49m\u001b[43m \u001b[49m\u001b[38;5;241;43m>>\u001b[39;49m\u001b[38;5;241;43m=\u001b[39;49m\u001b[43m \u001b[49m\u001b[43ml_boxes\u001b[49m\n\u001b[1;32m     21\u001b[0m d\u001b[38;5;241m.\u001b[39mdraw()\n",
      "File \u001b[0;32m~/nx_yaml/.venv/lib64/python3.12/site-packages/discopy/utils.py:577\u001b[0m, in \u001b[0;36mComposable.<lambda>\u001b[0;34m(self, other)\u001b[0m\n\u001b[1;32m    568\u001b[0m \u001b[38;5;250m    \u001b[39m\u001b[38;5;124;03m\"\"\"\u001b[39;00m\n\u001b[1;32m    569\u001b[0m \u001b[38;5;124;03m    Whether two composable objects are parallel, i.e. they have the same\u001b[39;00m\n\u001b[1;32m    570\u001b[0m \u001b[38;5;124;03m    domain and codomain.\u001b[39;00m\n\u001b[0;32m   (...)\u001b[0m\n\u001b[1;32m    573\u001b[0m \u001b[38;5;124;03m        other : The other composable object.\u001b[39;00m\n\u001b[1;32m    574\u001b[0m \u001b[38;5;124;03m    \"\"\"\u001b[39;00m\n\u001b[1;32m    575\u001b[0m     \u001b[38;5;28;01mreturn\u001b[39;00m (\u001b[38;5;28mself\u001b[39m\u001b[38;5;241m.\u001b[39mdom, \u001b[38;5;28mself\u001b[39m\u001b[38;5;241m.\u001b[39mcod) \u001b[38;5;241m==\u001b[39m (other\u001b[38;5;241m.\u001b[39mdom, other\u001b[38;5;241m.\u001b[39mcod)\n\u001b[0;32m--> 577\u001b[0m \u001b[38;5;21m__rshift__\u001b[39m \u001b[38;5;241m=\u001b[39m __llshift__ \u001b[38;5;241m=\u001b[39m \u001b[38;5;28;01mlambda\u001b[39;00m \u001b[38;5;28mself\u001b[39m, other: \u001b[38;5;28;43mself\u001b[39;49m\u001b[38;5;241;43m.\u001b[39;49m\u001b[43mthen\u001b[49m\u001b[43m(\u001b[49m\u001b[43mother\u001b[49m\u001b[43m)\u001b[49m\n\u001b[1;32m    578\u001b[0m \u001b[38;5;21m__lshift__\u001b[39m \u001b[38;5;241m=\u001b[39m __lrshift__ \u001b[38;5;241m=\u001b[39m \u001b[38;5;28;01mlambda\u001b[39;00m \u001b[38;5;28mself\u001b[39m, other: other\u001b[38;5;241m.\u001b[39mthen(\u001b[38;5;28mself\u001b[39m)\n",
      "File \u001b[0;32m~/nx_yaml/.venv/lib64/python3.12/site-packages/discopy/cat.py:327\u001b[0m, in \u001b[0;36mArrow.then\u001b[0;34m(self, *others)\u001b[0m\n\u001b[1;32m    325\u001b[0m     assert_isinstance(\u001b[38;5;28mself\u001b[39m, other\u001b[38;5;241m.\u001b[39mfactory)\n\u001b[1;32m    326\u001b[0m     inside, cod \u001b[38;5;241m=\u001b[39m inside \u001b[38;5;241m+\u001b[39m other\u001b[38;5;241m.\u001b[39minside, other\u001b[38;5;241m.\u001b[39mcod\n\u001b[0;32m--> 327\u001b[0m \u001b[38;5;28;01mreturn\u001b[39;00m \u001b[38;5;28;43mself\u001b[39;49m\u001b[38;5;241;43m.\u001b[39;49m\u001b[43mfactory\u001b[49m\u001b[43m(\u001b[49m\u001b[43minside\u001b[49m\u001b[43m,\u001b[49m\u001b[43m \u001b[49m\u001b[43mdom\u001b[49m\u001b[43m,\u001b[49m\u001b[43m \u001b[49m\u001b[43mcod\u001b[49m\u001b[43m)\u001b[49m\n",
      "File \u001b[0;32m~/nx_yaml/.venv/lib64/python3.12/site-packages/discopy/monoidal.py:503\u001b[0m, in \u001b[0;36mDiagram.__init__\u001b[0;34m(self, inside, dom, cod, _scan)\u001b[0m\n\u001b[1;32m    501\u001b[0m \u001b[38;5;28;01mfor\u001b[39;00m layer \u001b[38;5;129;01min\u001b[39;00m inside:\n\u001b[1;32m    502\u001b[0m     assert_isinstance(layer, Layer)\n\u001b[0;32m--> 503\u001b[0m \u001b[38;5;28;43msuper\u001b[39;49m\u001b[43m(\u001b[49m\u001b[43m)\u001b[49m\u001b[38;5;241;43m.\u001b[39;49m\u001b[38;5;21;43m__init__\u001b[39;49m\u001b[43m(\u001b[49m\u001b[43minside\u001b[49m\u001b[43m,\u001b[49m\u001b[43m \u001b[49m\u001b[43mdom\u001b[49m\u001b[43m,\u001b[49m\u001b[43m \u001b[49m\u001b[43mcod\u001b[49m\u001b[43m,\u001b[49m\u001b[43m \u001b[49m\u001b[43m_scan\u001b[49m\u001b[38;5;241;43m=\u001b[39;49m\u001b[43m_scan\u001b[49m\u001b[43m)\u001b[49m\n",
      "File \u001b[0;32m~/nx_yaml/.venv/lib64/python3.12/site-packages/discopy/cat.py:235\u001b[0m, in \u001b[0;36mArrow.__init__\u001b[0;34m(self, inside, dom, cod, _scan)\u001b[0m\n\u001b[1;32m    233\u001b[0m     assert_isinstance(box, Box)\n\u001b[1;32m    234\u001b[0m \u001b[38;5;28;01mfor\u001b[39;00m f, g \u001b[38;5;129;01min\u001b[39;00m \u001b[38;5;28mzip\u001b[39m((Id(dom), ) \u001b[38;5;241m+\u001b[39m inside, inside \u001b[38;5;241m+\u001b[39m (Id(cod), )):\n\u001b[0;32m--> 235\u001b[0m     \u001b[43massert_iscomposable\u001b[49m\u001b[43m(\u001b[49m\u001b[43mf\u001b[49m\u001b[43m,\u001b[49m\u001b[43m \u001b[49m\u001b[43mg\u001b[49m\u001b[43m)\u001b[49m\n",
      "File \u001b[0;32m~/nx_yaml/.venv/lib64/python3.12/site-packages/discopy/utils.py:679\u001b[0m, in \u001b[0;36massert_iscomposable\u001b[0;34m(left, right)\u001b[0m\n\u001b[1;32m    670\u001b[0m \u001b[38;5;250m\u001b[39m\u001b[38;5;124;03m\"\"\"\u001b[39;00m\n\u001b[1;32m    671\u001b[0m \u001b[38;5;124;03mRaise :class:`AxiomError` if two objects are not composable,\u001b[39;00m\n\u001b[1;32m    672\u001b[0m \u001b[38;5;124;03mi.e. the domain of ``other`` is not the codomain of ``self``.\u001b[39;00m\n\u001b[0;32m   (...)\u001b[0m\n\u001b[1;32m    676\u001b[0m \u001b[38;5;124;03m    right : Another composable object.\u001b[39;00m\n\u001b[1;32m    677\u001b[0m \u001b[38;5;124;03m\"\"\"\u001b[39;00m\n\u001b[1;32m    678\u001b[0m \u001b[38;5;28;01mif\u001b[39;00m \u001b[38;5;129;01mnot\u001b[39;00m left\u001b[38;5;241m.\u001b[39mis_composable(right):\n\u001b[0;32m--> 679\u001b[0m     \u001b[38;5;28;01mraise\u001b[39;00m AxiomError(messages\u001b[38;5;241m.\u001b[39mNOT_COMPOSABLE\u001b[38;5;241m.\u001b[39mformat(\n\u001b[1;32m    680\u001b[0m         left, right, left\u001b[38;5;241m.\u001b[39mcod, right\u001b[38;5;241m.\u001b[39mdom))\n",
      "\u001b[0;31mAxiomError\u001b[0m:  @  @  @  @  @  @  @  @  @  @ Spider(1, 2, Ty()) does not compose with M @  @  @  @  @ :  @  @  @  @  @  @  @  @  @  @  @  !=  @  @  @  @  @ ."
     ]
    }
   ],
   "source": [
    "from functools import reduce\n",
    "from itertools import pairwise\n",
    "\n",
    "\n",
    "lines = puzzle.splitlines()\n",
    "d = Id()\n",
    "for l in lines:\n",
    "    l_boxes = reduce(lambda t, s:\n",
    "           Box(s, Ty(\"\"), Ty(\"\")))\n",
    "    for (c1, c2), (c3, c4) in zip(pairwise(l1), pairwise(l2)):\n",
    "        center = Spider(2, 2, Ty(\"\"))\n",
    "        split = Spider(1, 2, Ty(\"\"))\n",
    "        join = Spider(2, 1, Ty(\"\"))\n",
    "        b1 = Box(c1, Ty(\"\"), Ty(\"\")) >> split\n",
    "        b2 = Box(c2, Ty(\"\"), Ty(\"\"))\n",
    "        b3 = Box(c3, Ty(\"\"), Ty(\"\")) >> split\n",
    "        b4 = Box(c4, Ty(\"\"), Ty(\"\"))\n",
    "        l_boxes @= b1 @ b3 >> Id(\"\") @ join @ Id(\"\") >> \n",
    "    if not d:\n",
    "        d = l_boxes\n",
    "    else:\n",
    "        d >>= l_boxes\n",
    "d.draw()"
   ]
  }
 ],
 "metadata": {
  "kernelspec": {
   "display_name": ".venv",
   "language": "python",
   "name": "python3"
  },
  "language_info": {
   "codemirror_mode": {
    "name": "ipython",
    "version": 3
   },
   "file_extension": ".py",
   "mimetype": "text/x-python",
   "name": "python",
   "nbconvert_exporter": "python",
   "pygments_lexer": "ipython3",
   "version": "3.12.7"
  }
 },
 "nbformat": 4,
 "nbformat_minor": 2
}
