{
 "nbformat": 4,
 "nbformat_minor": 0,
 "metadata": {
  "colab": {
   "provenance": [],
   "collapsed_sections": [
    "gdpTK0CZSwMO",
    "XqMqCndbWwrx",
    "Z7n2ypl_YHir",
    "l4xeYOQYXb6x"
   ]
  },
  "kernelspec": {
   "name": "python3",
   "display_name": "Python 3"
  },
  "language_info": {
   "name": "python"
  }
 },
 "cells": [
  {
   "cell_type": "markdown",
   "source": [
    "# Mastery\n",
    "Here, we create a task switching experiment. In this experiment, participants alternate between two tasks: color naming and word reading. Each trial begins with a fixation cue—a \"+\" indicates a color-naming task, while an \"x\" signals a word-reading task. The stimulus, displayed for 2000 ms, consists of a word (\"RED\" or \"GREEN\") presented in a color (red or green). For color-naming tasks, participants identify the text's color, ignoring the word; for word-reading tasks, they read the word, ignoring its color. Responses are made using keys ('f' or 'j'), with the correct key determined by the task and the stimulus properties. The experiment assesses cognitive flexibility and the ability to manage task switching, including potential interference effects from conflicting information.\n",
    "\n",
    "*Note*: To keep the tutorial short, we will skip the participant instructions for this experiment (see the other tutorials for examples).  "
   ],
   "metadata": {
    "id": "YmmUtUIar_NS"
   }
  },
  {
   "cell_type": "markdown",
   "source": [
    "## Installing sweetbean"
   ],
   "metadata": {
    "id": "E5DW7Mg5swMl"
   }
  },
  {
   "cell_type": "code",
   "source": [
    "!pip install sweetbean"
   ],
   "metadata": {
    "id": "4f4nnUgPuQZ9",
    "colab": {
     "base_uri": "https://localhost:8080/"
    },
    "outputId": "32575139-fcff-4f5e-ec7b-e858d09bd8d0"
   },
   "outputs": [],
   "execution_count": null
  },
  {
   "cell_type": "markdown",
   "source": "Given the following timeline, could you program a task switching experiment?",
   "metadata": {
    "id": "WV_t3zqMRWsH"
   }
  },
  {
   "cell_type": "code",
   "source": [
    "timeline = [\n",
    "    {'color': 'red', 'word': 'RED', 'task': 'color_naming'},\n",
    "    {'color': 'green', 'word': 'GREEN', 'task': 'color_naming'},\n",
    "    {'color': 'green', 'word': 'RED', 'task': 'word_reading'},\n",
    "    {'color': 'red', 'word': 'GREEN', 'task': 'word_reading'},\n",
    "]"
   ],
   "metadata": {
    "id": "Joq9bmOeSuFe"
   },
   "outputs": [],
   "execution_count": null
  },
  {
   "cell_type": "markdown",
   "source": [
    "First we want to declare the timeline variables"
   ],
   "metadata": {
    "id": "OfkhXdnEWFVP"
   }
  },
  {
   "cell_type": "code",
   "source": [
    "# Enter your code here:"
   ],
   "metadata": {
    "id": "QpDewU19WNtm"
   },
   "outputs": [],
   "execution_count": null
  },
  {
   "cell_type": "markdown",
   "source": [
    "### Solution"
   ],
   "metadata": {
    "id": "gdpTK0CZSwMO"
   }
  },
  {
   "cell_type": "code",
   "source": [
    "# imports\n",
    "from sweetbean.variable import TimelineVariable\n",
    "\n",
    "color = TimelineVariable('color')\n",
    "word = TimelineVariable('word')\n",
    "task = TimelineVariable('task')"
   ],
   "metadata": {
    "id": "dw9vuCGrSyk_",
    "colab": {
     "base_uri": "https://localhost:8080/",
     "height": 393
    },
    "outputId": "824461ce-285a-49a7-e9a3-6bb1bd221278"
   },
   "outputs": [],
   "execution_count": null
  },
  {
   "cell_type": "markdown",
   "source": [
    "## Creating the fixation\n",
    "The fixation cross will vary between the two tasks, maybe we can show a `+`, when the task is color_naming, and a `x` when the task is word_reading. We can do this with a function variable."
   ],
   "metadata": {
    "id": "qciisI4wwtsv"
   }
  },
  {
   "cell_type": "code",
   "source": [
    "# Enter your code here:"
   ],
   "metadata": {
    "id": "0vfgMothWtwB"
   },
   "outputs": [],
   "execution_count": null
  },
  {
   "cell_type": "markdown",
   "source": [
    "### Solution"
   ],
   "metadata": {
    "id": "XqMqCndbWwrx"
   }
  },
  {
   "cell_type": "code",
   "source": [
    "from sweetbean.variable import FunctionVariable\n",
    "\n",
    "# Predicates\n",
    "def fixation_shape_fct(task):\n",
    "    if task == 'color_naming':\n",
    "        return '+'\n",
    "    return 'x'\n",
    "\n",
    "\n",
    "# variable\n",
    "fixation_shape = FunctionVariable('fixation_shape', fixation_shape_fct, [task])\n"
   ],
   "metadata": {
    "id": "w9fF4jACw7y5"
   },
   "outputs": [],
   "execution_count": null
  },
  {
   "cell_type": "markdown",
   "source": [
    "## Creating the correct response\n",
    "Now let's create a correct response parameter. This one is tricky! It will depend on the color, the word and the task. So the predicate will have three input arguments. Let's say we want the participant to press f when the color is \"red\" in the color_naming task or the word is \"RED\" in the word_reading task. They should press j when the color is \"green\" in the color_naming task or the word is \"GREEN\" in the word_reading task."
   ],
   "metadata": {
    "id": "jI187rtxxVRl"
   }
  },
  {
   "cell_type": "code",
   "source": [
    "# Predicate for f\n",
    "def correct_key_fct(word, color, task):\n",
    "    if (task == 'word_reading' and word == 'RED') or \\\n",
    "        (task == 'color_naming' and color == 'red'):\n",
    "        return 'f'\n",
    "    return 'j'\n",
    "    \n",
    "\n",
    "\n",
    "# variable for the response\n",
    "correct_key = FunctionVariable('correct_key', correct_key_fct, [word, color, task])"
   ],
   "metadata": {
    "id": "sTdVHiJkXsam"
   },
   "outputs": [],
   "execution_count": null
  },
  {
   "cell_type": "markdown",
   "source": [
    "## Finishing the experiment\n",
    "Now, create the stimuli, the block and the experiment"
   ],
   "metadata": {
    "id": "BH_uPjk0WXiJ"
   }
  },
  {
   "cell_type": "code",
   "source": [
    "# Enter your code here:"
   ],
   "metadata": {
    "id": "FJp7MgndY7Vj"
   },
   "outputs": [],
   "execution_count": null
  },
  {
   "cell_type": "markdown",
   "source": [
    "### Solution\n"
   ],
   "metadata": {
    "id": "l4xeYOQYXb6x"
   }
  },
  {
   "cell_type": "code",
   "source": [
    "from sweetbean.stimulus import Text\n",
    "from sweetbean import Block, Experiment\n",
    "\n",
    "# Stimuli\n",
    "fixation = Text(1000, fixation_shape)\n",
    "so_s = Text(800)\n",
    "stroop = Text(2000, word, color, ['j', 'g'], correct_key)\n",
    "so_f = Text(300)\n",
    "\n",
    "# Block\n",
    "train_block = Block([fixation, so_s, stroop, so_f], timeline)\n",
    "experiment = Experiment([train_block])\n",
    "\n",
    "# Experiment\n",
    "experiment.to_html('index.html')"
   ],
   "metadata": {
    "id": "k5b_aGSKZEgM"
   },
   "outputs": [],
   "execution_count": null
  }
 ]
}
