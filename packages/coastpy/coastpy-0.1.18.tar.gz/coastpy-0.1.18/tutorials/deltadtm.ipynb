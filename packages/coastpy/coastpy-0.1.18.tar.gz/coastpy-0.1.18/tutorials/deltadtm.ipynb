{
 "cells": [
  {
   "cell_type": "markdown",
   "id": "0",
   "metadata": {},
   "source": [
    "# DeltaDTM\n",
    "\n",
    "A global coastal digital terrain model, based on CopernicusDEM, ESA WorldCover, ICESat-2 and GEDI data. For more information, see [Pronk et al. (2024)](https://www.nature.com/articles/s41597-024-03091-9) DeltaDTM: A global coastal digital terrain model. "
   ]
  },
  {
   "cell_type": "code",
   "execution_count": null,
   "id": "1",
   "metadata": {},
   "outputs": [],
   "source": [
    "import geopandas as gpd\n",
    "import hvplot.xarray\n",
    "import pystac\n",
    "import rioxarray\n",
    "import shapely\n",
    "import xarray as xr\n",
    "from ipyleaflet import Map, basemaps"
   ]
  },
  {
   "cell_type": "markdown",
   "id": "2",
   "metadata": {},
   "source": [
    "## Read a snapshot with the spatial extents of all tiles\n",
    "\n",
    "Connect to the CoCliCo STAC and read the spatial extents using stac-geoparquet."
   ]
  },
  {
   "cell_type": "code",
   "execution_count": null,
   "id": "3",
   "metadata": {},
   "outputs": [],
   "source": [
    "from coastpy.stac.utils import read_snapshot\n",
    "\n",
    "coclico_catalog = pystac.Catalog.from_file(\n",
    "    \"https://coclico.blob.core.windows.net/stac/v1/catalog.json\"\n",
    ")\n",
    "\n",
    "ddtm_collection = coclico_catalog.get_child(\"deltares-delta-dtm\")\n",
    "ddtm_extents = read_snapshot(\n",
    "    ddtm_collection,\n",
    "    columns=[\"geometry\", \"assets\", \"href\"],\n",
    "    storage_options={\"account_name\": \"coclico\"},\n",
    ")\n",
    "\n",
    "ddtm_extents.head()"
   ]
  },
  {
   "cell_type": "markdown",
   "id": "4",
   "metadata": {},
   "source": [
    "## Zoom to your area of interest"
   ]
  },
  {
   "cell_type": "code",
   "execution_count": null,
   "id": "5",
   "metadata": {},
   "outputs": [],
   "source": [
    "m = Map(basemap=basemaps.Esri.WorldImagery, scroll_wheel_zoom=True)\n",
    "m.center = 15.827, -95.96\n",
    "m.zoom = 15\n",
    "m.layout.height = \"800px\"\n",
    "m"
   ]
  },
  {
   "cell_type": "code",
   "execution_count": null,
   "id": "6",
   "metadata": {},
   "outputs": [],
   "source": [
    "west, south, east, north = m.west, m.south, m.east, m.north\n",
    "# Note: small little hack to ensure the notebook also works when running all cells at once\n",
    "if not west:\n",
    "    west, south, east, north = (\n",
    "        30.28415679931641,\n",
    "        31.276790311057272,\n",
    "        30.630912780761722,\n",
    "        31.51123970051334,\n",
    "    )\n",
    "roi = gpd.GeoDataFrame(\n",
    "    geometry=[shapely.geometry.box(west, south, east, north)], crs=4326\n",
    ")"
   ]
  },
  {
   "cell_type": "markdown",
   "id": "7",
   "metadata": {},
   "source": [
    "## Find the tiles for your region of interest"
   ]
  },
  {
   "cell_type": "code",
   "execution_count": null,
   "id": "8",
   "metadata": {},
   "outputs": [],
   "source": [
    "from coastpy.io.cloud import to_https_url\n",
    "\n",
    "hrefs = gpd.sjoin(ddtm_extents, roi).href.to_list()\n",
    "href = hrefs[0]\n",
    "href = to_https_url(href, storage_options={\"account_name\": \"coclico\"})"
   ]
  },
  {
   "cell_type": "markdown",
   "id": "9",
   "metadata": {},
   "source": [
    "## Read data"
   ]
  },
  {
   "cell_type": "code",
   "execution_count": null,
   "id": "10",
   "metadata": {},
   "outputs": [],
   "source": [
    "da = rioxarray.open_rasterio(href, chunks={}, lock=False).squeeze().drop_vars(\"band\")"
   ]
  },
  {
   "cell_type": "code",
   "execution_count": null,
   "id": "11",
   "metadata": {},
   "outputs": [],
   "source": [
    "da.where(lambda xx: xx != xx.attrs[\"_FillValue\"]).hvplot(\n",
    "    x=\"x\", y=\"y\", geo=True, tiles=\"ESRI\"\n",
    ")"
   ]
  },
  {
   "cell_type": "code",
   "execution_count": null,
   "id": "12",
   "metadata": {},
   "outputs": [],
   "source": []
  }
 ],
 "metadata": {
  "kernelspec": {
   "display_name": "Python [conda env:coastal-full] *",
   "language": "python",
   "name": "conda-env-coastal-full-py"
  },
  "language_info": {
   "codemirror_mode": {
    "name": "ipython",
    "version": 3
   },
   "file_extension": ".py",
   "mimetype": "text/x-python",
   "name": "python",
   "nbconvert_exporter": "python",
   "pygments_lexer": "ipython3",
   "version": "3.12.7"
  }
 },
 "nbformat": 4,
 "nbformat_minor": 5
}
