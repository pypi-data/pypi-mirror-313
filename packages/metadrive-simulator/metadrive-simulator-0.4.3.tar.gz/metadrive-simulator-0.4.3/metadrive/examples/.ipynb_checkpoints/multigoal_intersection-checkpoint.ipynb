{
 "cells": [
  {
   "cell_type": "markdown",
   "id": "2832faf1-1bd3-4a95-8b0d-b3289e74d4d0",
   "metadata": {},
   "source": [
    "# Demonstration on MultigoalIntersection\n",
    "\n",
    "In this notebook, we demonstrate how to setup a multigoal intersection environment where you can access relevant stats (e.g. route completion, reward, success rate) for all four possible goals (right turn, left turn, move forward, U turn) simultaneously.\n",
    "\n",
    "We demonstrate how to build the environment, in which we have successfully trained a SAC expert that achieves 99% success rate, and how to access those stats in the info dict returned each step.\n",
    "\n",
    "*Note: We pretrain the SAC expert with `use_multigoal_intersection=False` and then finetune it with `use_multigoal_intersection=True`.*"
   ]
  },
  {
   "cell_type": "code",
   "execution_count": 1,
   "id": "b9733eac-9d07-47cf-bda7-4dbb8d5f2412",
   "metadata": {},
   "source": [
    "import numpy as np\n",
    "from metadrive.envs.gym_wrapper import create_gym_wrapper\n",
    "from metadrive.envs.multigoal_intersection import MultiGoalIntersectionEnv\n",
    "import mediapy as media\n",
    "\n",
    "render = False\n",
    "num_scenarios = 1000\n",
    "start_seed = 100\n",
    "goal_probabilities = {\n",
    "    \"right_turn\": 0.25,\n",
    "    \"left_turn\": 0.25,\n",
    "    \"go_straight\": 0.25,\n",
    "    \"u_turn\": 0.25\n",
    "}\n",
    "\n",
    "\n",
    "class MultiGoalWrapped(MultiGoalIntersectionEnv):\n",
    "    current_goal = None\n",
    "\n",
    "    def step(self, actions):\n",
    "        o, r, tm, tc, i = super().step(actions)\n",
    "\n",
    "        o = i['obs/goals/{}'.format(self.current_goal)]\n",
    "        r = i['reward/goals/{}'.format(self.current_goal)]\n",
    "        i['route_completion'] = i['route_completion/goals/{}'.format(self.current_goal)]\n",
    "        i['arrive_dest'] = i['arrive_dest/goals/{}'.format(self.current_goal)]\n",
    "        i['reward/goals/default'] = i['reward/goals/{}'.format(self.current_goal)]\n",
    "        i['route_completion/goals/default'] = i['route_completion/goals/{}'.format(self.current_goal)]\n",
    "        i['arrive_dest/goals/default'] = i['arrive_dest/goals/{}'.format(self.current_goal)]\n",
    "        i[\"current_goal\"] = self.current_goal\n",
    "        return o, r, tm, tc, i\n",
    "\n",
    "    def reset(self, *args, **kwargs):\n",
    "        o, i = super().reset(*args, **kwargs)\n",
    "\n",
    "        # Sample a goal from the goal set\n",
    "        if self.config[\"use_multigoal_intersection\"]:\n",
    "            p = goal_probabilities\n",
    "            self.current_goal = np.random.choice(list(p.keys()), p=list(p.values()))\n",
    "\n",
    "        else:\n",
    "            self.current_goal = \"default\"\n",
    "\n",
    "        o = i['obs/goals/{}'.format(self.current_goal)]\n",
    "        i['route_completion'] = i['route_completion/goals/{}'.format(self.current_goal)]\n",
    "        i['arrive_dest'] = i['arrive_dest/goals/{}'.format(self.current_goal)]\n",
    "        i['reward/goals/default'] = i['reward/goals/{}'.format(self.current_goal)]\n",
    "        i['route_completion/goals/default'] = i['route_completion/goals/{}'.format(self.current_goal)]\n",
    "        i['arrive_dest/goals/default'] = i['arrive_dest/goals/{}'.format(self.current_goal)]\n",
    "        i[\"current_goal\"] = self.current_goal\n",
    "\n",
    "        return o, i"
   ],
   "outputs": []
  },
  {
   "cell_type": "code",
   "execution_count": 2,
   "id": "f5b6f059-52f8-46ee-bcfe-dee6f4d2e2e6",
   "metadata": {},
   "source": [
    "\n",
    "\n",
    "env_config = dict(\n",
    "    use_render=render,\n",
    "    manual_control=False,\n",
    "    vehicle_config=dict(show_lidar=False, show_navi_mark=True, show_line_to_navi_mark=True,\n",
    "                        show_line_to_dest=True, show_dest_mark=True),\n",
    "    horizon=500,  # to speed up training\n",
    "\n",
    "    traffic_density=0.06,\n",
    "    \n",
    "    use_multigoal_intersection=True,  # Set to False if want to use the same observation but with original PG scenarios.\n",
    "    out_of_route_done=False,\n",
    "\n",
    "    num_scenarios=num_scenarios,\n",
    "    start_seed=start_seed,\n",
    "    accident_prob=0.8,\n",
    "    crash_vehicle_done=False,\n",
    "    crash_object_done=False,\n",
    ")\n",
    "\n",
    "wrapped = create_gym_wrapper(MultiGoalWrapped)\n",
    "\n",
    "env = wrapped(env_config)\n"
   ],
   "outputs": []
  },
  {
   "cell_type": "code",
   "execution_count": 3,
   "id": "ae2abe78-f3e3-40b9-88dd-a958fc932363",
   "metadata": {},
   "source": [
    "frames = []\n",
    "\n",
    "env.reset()\n",
    "while True:\n",
    "    action = [0, 1]\n",
    "    o, r, d, i = env.step(action)\n",
    "    frame = env.render(mode=\"topdown\")\n",
    "    frames.append(frame)\n",
    "    if d:\n",
    "        break"
   ],
   "outputs": []
  },
  {
   "cell_type": "code",
   "execution_count": 4,
   "id": "40ac0392-67e3-4d2d-a9bd-2065831e43ca",
   "metadata": {},
   "source": [
    "print(\"Output at final step:\")\n",
    "\n",
    "i = {k: i[k] for k in sorted(i.keys())}\n",
    "for k, v in i.items():\n",
    "    if isinstance(v, str):\n",
    "        s = v\n",
    "    elif np.iterable(v):\n",
    "        continue\n",
    "    else:\n",
    "        s = \"{:.3f}\".format(v)\n",
    "    print(\"\\t{}: {}\".format(k, s))"
   ],
   "outputs": []
  },
  {
   "cell_type": "code",
   "execution_count": 5,
   "id": "dc986e4e-f81c-4882-88b2-9eb306552fb3",
   "metadata": {},
   "source": [
    "media.show_video(frames)"
   ],
   "outputs": []
  }
 ],
 "metadata": {
  "kernelspec": {
   "display_name": "Python 3 (ipykernel)",
   "language": "python",
   "name": "python3"
  },
  "language_info": {
   "codemirror_mode": {
    "name": "ipython",
    "version": 3
   },
   "file_extension": ".py",
   "mimetype": "text/x-python",
   "name": "python",
   "nbconvert_exporter": "python",
   "pygments_lexer": "ipython3",
   "version": "3.10.12"
  }
 },
 "nbformat": 4,
 "nbformat_minor": 5
}
