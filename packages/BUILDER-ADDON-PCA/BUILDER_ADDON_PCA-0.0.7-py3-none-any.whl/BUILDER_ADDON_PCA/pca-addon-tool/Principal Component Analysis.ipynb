{
 "cells": [
  {
   "cell_type": "code",
   "execution_count": 2,
   "id": "c6bc80ca-df07-4a44-a3ca-a549db8df2a5",
   "metadata": {},
   "outputs": [
    {
     "name": "stdout",
     "output_type": "stream",
     "text": []
    }
   ],
   "source": [
    "import subprocess\n",
    "import sys\n",
    "\n",
    "def check_and_install_library(library_name):\n",
    "    try:\n",
    "        __import__(library_name)  # Try to import the library\n",
    "    except ImportError:\n",
    "        print(f\"'{library_name}' is not installed. Installing...\")\n",
    "        subprocess.check_call([sys.executable, \"-m\", \"pip\", \"install\", library_name])\n",
    "        print(f\"'{library_name}' has been installed.\")\n",
    "\n",
    "# Example usage:\n",
    "check_and_install_library(\"SEEQ_EMATICA_ADDON_PCA\")  # Replace 'requests' with the desired library name\n"
   ]
  },
  {
   "cell_type": "code",
   "execution_count": 3,
   "id": "0a5a4c1a-2dd2-4e0e-b8e3-149ad6267e9f",
   "metadata": {},
   "outputs": [
    {
     "ename": "KeyError",
     "evalue": "'workbookId'",
     "output_type": "error",
     "traceback": [
      "\u001b[0;31m---------------------------------------------------------------------------\u001b[0m",
      "\u001b[0;31mKeyError\u001b[0m                                  Traceback (most recent call last)",
      "Cell \u001b[0;32mIn[3], line 14\u001b[0m\n\u001b[1;32m     12\u001b[0m url \u001b[38;5;241m=\u001b[39m jupyter_notebook_url\n\u001b[1;32m     13\u001b[0m parsed\u001b[38;5;241m=\u001b[39murlparse\u001b[38;5;241m.\u001b[39murlparse(url)\n\u001b[0;32m---> 14\u001b[0m workbook_id \u001b[38;5;241m=\u001b[39m \u001b[43mparse_qs\u001b[49m\u001b[43m(\u001b[49m\u001b[43mparsed\u001b[49m\u001b[38;5;241;43m.\u001b[39;49m\u001b[43mquery\u001b[49m\u001b[43m)\u001b[49m\u001b[43m[\u001b[49m\u001b[38;5;124;43m'\u001b[39;49m\u001b[38;5;124;43mworkbookId\u001b[39;49m\u001b[38;5;124;43m'\u001b[39;49m\u001b[43m]\u001b[49m[\u001b[38;5;241m0\u001b[39m]\n\u001b[1;32m     15\u001b[0m worksheet_id \u001b[38;5;241m=\u001b[39m parse_qs(parsed\u001b[38;5;241m.\u001b[39mquery)[\u001b[38;5;124m'\u001b[39m\u001b[38;5;124mworksheetId\u001b[39m\u001b[38;5;124m'\u001b[39m][\u001b[38;5;241m0\u001b[39m]\n\u001b[1;32m     16\u001b[0m url\u001b[38;5;241m=\u001b[39mhost\u001b[38;5;241m+\u001b[39m\u001b[38;5;124m'\u001b[39m\u001b[38;5;124m/workbook/\u001b[39m\u001b[38;5;132;01m{workbookID}\u001b[39;00m\u001b[38;5;124m/worksheet/\u001b[39m\u001b[38;5;132;01m{worksheetID}\u001b[39;00m\u001b[38;5;124m'\u001b[39m\u001b[38;5;241m.\u001b[39mformat(workbookID\u001b[38;5;241m=\u001b[39mworkbook_id,worksheetID\u001b[38;5;241m=\u001b[39mworksheet_id)\n",
      "\u001b[0;31mKeyError\u001b[0m: 'workbookId'"
     ]
    }
   ],
   "source": [
    "from SEEQ_EMATICA_ADDON_PCA import PCA_Widget_Addon\n",
    "import urllib.parse as urlparse\n",
    "from urllib.parse import parse_qs\n",
    "import os\n",
    "\n",
    "# Set the compatibility option so that you maximize the chance that SPy will remain compatible with your notebook/script\n",
    "spy.options.compatibility = 192\n",
    "spy.options.friendly_exceptions=False\n",
    "\n",
    "# Retrieve the host URL from an environment variable\n",
    "host = os.getenv('SEEQ_SERVER_URL')\n",
    "url = jupyter_notebook_url\n",
    "parsed=urlparse.urlparse(url)\n",
    "workbook_id = parse_qs(parsed.query)['workbookId'][0]\n",
    "worksheet_id = parse_qs(parsed.query)['worksheetId'][0]\n",
    "url=host+'/workbook/{workbookID}/worksheet/{worksheetID}'.format(workbookID=workbook_id,worksheetID=worksheet_id)\n",
    "\n",
    "newWidget=PCA_Widget_Addon(host,url,workbook_id,worksheet_id)\n"
   ]
  },
  {
   "cell_type": "code",
   "execution_count": null,
   "id": "962596e5-ec26-4ad2-b87b-9ea66480ea86",
   "metadata": {},
   "outputs": [],
   "source": []
  }
 ],
 "metadata": {
  "kernelspec": {
   "display_name": "Python 3.11",
   "language": "python",
   "name": "python311"
  },
  "language_info": {
   "codemirror_mode": {
    "name": "ipython",
    "version": 3
   },
   "file_extension": ".py",
   "mimetype": "text/x-python",
   "name": "python",
   "nbconvert_exporter": "python",
   "pygments_lexer": "ipython3",
   "version": "3.11.10"
  }
 },
 "nbformat": 4,
 "nbformat_minor": 5
}
