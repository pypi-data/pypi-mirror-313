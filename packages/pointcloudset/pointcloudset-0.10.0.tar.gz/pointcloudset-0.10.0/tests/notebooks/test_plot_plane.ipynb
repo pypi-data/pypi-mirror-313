{
 "cells": [
  {
   "cell_type": "code",
   "execution_count": null,
   "metadata": {},
   "outputs": [],
   "source": [
    "# NBVAL_IGNORE_OUTPUT\n",
    "import pointcloudset as pcs\n",
    "\n",
    "print(f\"package version: {pcs.__version__}\")\n",
    "from pathlib import Path\n",
    "import numpy as np\n",
    "import pandas as pd\n",
    "from pointcloudset import PointCloud\n",
    "from datetime import datetime\n",
    "\n",
    "%load_ext autoreload\n",
    "%autoreload 2\n",
    "import plotly.graph_objects as go\n",
    "import plotly.express as px\n"
   ]
  },
  {
   "cell_type": "code",
   "execution_count": null,
   "metadata": {},
   "outputs": [],
   "source": [
    "def testpointcloud_mini_df():\n",
    "    columns = [\"x\", \"y\", \"z\", \"intensity\", \"t\", \"reflectivity\", \"ring\", \"noise\", \"range\"]\n",
    "    np.random.seed(5)\n",
    "    df1 = pd.DataFrame(np.zeros(shape=(1, len(columns))), columns=columns)\n",
    "    df2 = pd.DataFrame(np.ones(shape=(1, len(columns))), columns=columns)\n",
    "    df3 = pd.DataFrame(-1.0 * np.ones(shape=(1, len(columns))), columns=columns)\n",
    "    df4 = pd.DataFrame(\n",
    "        np.random.randint(0, 1000, size=(5, len(columns))) * np.random.random(),\n",
    "        columns=columns,\n",
    "    )\n",
    "    return pd.concat([df1, df2, df3, df4]).reset_index(drop=True)"
   ]
  },
  {
   "cell_type": "code",
   "execution_count": null,
   "metadata": {},
   "outputs": [],
   "source": [
    "def testpointcloud_mini(testpointcloud_mini_df) -> PointCloud:\n",
    "    return PointCloud(\n",
    "        data=testpointcloud_mini_df,\n",
    "        timestamp=datetime(2020, 1, 1),\n",
    "        orig_file=\"/fake/testrame_mini.bag\",\n",
    "    )"
   ]
  },
  {
   "cell_type": "code",
   "execution_count": null,
   "metadata": {},
   "outputs": [],
   "source": [
    "testpointcloud_mini = testpointcloud_mini(testpointcloud_mini_df())"
   ]
  },
  {
   "cell_type": "code",
   "execution_count": null,
   "metadata": {},
   "outputs": [],
   "source": [
    "plane_1 = np.array([1, 0, 0, -500])\n",
    "plane_2 = np.array([1, 0, 0, 0])\n",
    "plane_3 = np.array([1, 0, 0, 10])"
   ]
  },
  {
   "cell_type": "code",
   "execution_count": null,
   "metadata": {},
   "outputs": [],
   "source": [
    "newframe = testpointcloud_mini.diff(\"plane\", target=plane_1, absolute_values=False)"
   ]
  },
  {
   "cell_type": "code",
   "execution_count": null,
   "metadata": {},
   "outputs": [],
   "source": [
    "newframe = newframe.diff(\"plane\", target=plane_2, absolute_values=False)\n",
    "newframe = newframe.diff(\"plane\", target=plane_3, absolute_values=False)"
   ]
  },
  {
   "cell_type": "code",
   "execution_count": null,
   "metadata": {},
   "outputs": [],
   "source": [
    "newframe.data"
   ]
  },
  {
   "cell_type": "code",
   "execution_count": null,
   "metadata": {},
   "outputs": [],
   "source": [
    "# NBVAL_IGNORE_OUTPUT\n",
    "newframe.plot(\n",
    "    \"distance to plane: [ 1 0 0 -500]\",\n",
    "    overlay={\"plane_1\": plane_1, \"plane_2\": plane_2},\n",
    "    hover_data=[\"distance to plane: [ 1 0 0 -500]\"],\n",
    ")"
   ]
  },
  {
   "cell_type": "code",
   "execution_count": null,
   "metadata": {},
   "outputs": [],
   "source": [
    "# NBVAL_IGNORE_OUTPUT\n",
    "pcs.PointCloud(newframe.data.iloc[0:3]).plot(\n",
    "    overlay={\"plane_4\": plane_3}, hover_data=[\"distance to plane: [ 1 0 0 10]\"]\n",
    ")"
   ]
  }
 ],
 "metadata": {
  "kernelspec": {
   "display_name": "Python 3.8.8 64-bit ('base': conda)",
   "name": "python388jvsc74a57bd098b0a9b7b4eaaa670588a142fd0a9b87eaafe866f1db4228be72b4211d12040f"
  },
  "language_info": {
   "codemirror_mode": {
    "name": "ipython",
    "version": 3
   },
   "file_extension": ".py",
   "mimetype": "text/x-python",
   "name": "python",
   "nbconvert_exporter": "python",
   "pygments_lexer": "ipython3",
   "version": "3.8.8"
  },
  "orig_nbformat": 2
 },
 "nbformat": 4,
 "nbformat_minor": 2
}
