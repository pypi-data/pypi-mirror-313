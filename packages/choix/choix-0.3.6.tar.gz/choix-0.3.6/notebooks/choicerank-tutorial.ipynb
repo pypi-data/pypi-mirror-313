{
 "cells": [
  {
   "cell_type": "markdown",
   "metadata": {},
   "source": [
    "# Using ChoiceRank to understand network traffic\n",
    "\n",
    "This notebook provides a quick example on how to use ChoiceRank to estimate transitions along the edges of a network based only on the marginal traffic at the nodes."
   ]
  },
  {
   "cell_type": "code",
   "execution_count": 1,
   "metadata": {},
   "outputs": [],
   "source": [
    "import choix\n",
    "import networkx as nx\n",
    "import numpy as np\n",
    "\n",
    "%matplotlib inline"
   ]
  },
  {
   "cell_type": "markdown",
   "metadata": {},
   "source": [
    "## 1. Generating sample data\n",
    "\n",
    "First, we will generate sample data.\n",
    "This includes\n",
    "\n",
    "1. generating a network,\n",
    "2. generating a parameter for each node of the network,\n",
    "3. generating samples of choices in the network."
   ]
  },
  {
   "cell_type": "code",
   "execution_count": 2,
   "metadata": {},
   "outputs": [],
   "source": [
    "n_items = 8\n",
    "p_edge = 0.3\n",
    "n_samples = 3000\n",
    "\n",
    "# 1. Generate a network.\n",
    "graph = nx.erdos_renyi_graph(n_items, p_edge, directed=True)\n",
    "\n",
    "# 2. Generate a parameter for each node.\n",
    "params = choix.generate_params(n_items, interval=2.0)\n",
    "\n",
    "# 3. Generate samples of choices in the network.\n",
    "transitions = np.zeros((n_items, n_items))\n",
    "for _ in range(n_samples):\n",
    "    src = np.random.choice(n_items)\n",
    "    neighbors = list(graph.successors(src))\n",
    "    if len(neighbors) == 0:\n",
    "        continue\n",
    "    dst = choix.compare(neighbors, params)\n",
    "    transitions[src, dst] += 1"
   ]
  },
  {
   "cell_type": "markdown",
   "metadata": {},
   "source": [
    "The network looks as follows"
   ]
  },
  {
   "cell_type": "code",
   "execution_count": 3,
   "metadata": {},
   "outputs": [
    {
     "data": {
      "image/png": "[encoded data removed]",
      "text/plain": [
       "<Figure size 432x288 with 1 Axes>"
      ]
     },
     "metadata": {},
     "output_type": "display_data"
    }
   ],
   "source": [
    "nx.draw(graph, with_labels=True)"
   ]
  },
  {
   "cell_type": "markdown",
   "metadata": {},
   "source": [
    "Now we aggregate the all the transitions into *incoming traffic* and *outgoing traffic*."
   ]
  },
  {
   "cell_type": "code",
   "execution_count": 4,
   "metadata": {},
   "outputs": [
    {
     "name": "stdout",
     "output_type": "stream",
     "text": [
      "incoming traffic: [ 266.    0.  247.  385.  155.  583.  217. 1147.]\n",
      "outgoing traffic: [376. 380. 386. 365. 370. 385. 376. 362.]\n"
     ]
    }
   ],
   "source": [
    "traffic_in = transitions.sum(axis=0)\n",
    "traffic_out = transitions.sum(axis=1)\n",
    "\n",
    "print(\"incoming traffic:\", traffic_in)\n",
    "print(\"outgoing traffic:\", traffic_out)"
   ]
  },
  {
   "cell_type": "markdown",
   "metadata": {},
   "source": [
    "## 2. Estimating transitions using ChoiceRank\n",
    "\n",
    "ChoiceRank can be used to recover the transitions on the network based only on:\n",
    "\n",
    "1. information about the structure of the network, and\n",
    "2. the (marginal) incoming and outgoing traffic at each node.\n",
    "\n",
    "ChoiceRank works under the assumption that each node has a latent \"preference\" score, and that transitions follow Luce's choice model."
   ]
  },
  {
   "cell_type": "code",
   "execution_count": 5,
   "metadata": {},
   "outputs": [],
   "source": [
    "params = choix.choicerank(graph, traffic_in, traffic_out)"
   ]
  },
  {
   "cell_type": "markdown",
   "metadata": {},
   "source": [
    "We can attempt to reconstruct the transition matrix using the marginal traffic data and the parameters."
   ]
  },
  {
   "cell_type": "code",
   "execution_count": 6,
   "metadata": {},
   "outputs": [],
   "source": [
    "est = np.zeros((n_items, n_items))\n",
    "for src in range(n_items):\n",
    "    neighbors = list(graph.successors(src))\n",
    "    if len(neighbors) == 0:\n",
    "        continue\n",
    "    probs = choix.probabilities(neighbors, params)\n",
    "    est[src,neighbors] = traffic_out[src] * probs"
   ]
  },
  {
   "cell_type": "code",
   "execution_count": 7,
   "metadata": {},
   "outputs": [
    {
     "name": "stdout",
     "output_type": "stream",
     "text": [
      "True transition matrix:\n",
      "[[  0.   0.   0.   0.   0.   0.   0. 376.]\n",
      " [  0.   0.   0.   0.   0. 380.   0.   0.]\n",
      " [  0.   0.   0.   0.   0.   0.   0. 386.]\n",
      " [148.   0.   0.   0.   0.   0. 217.   0.]\n",
      " [118.   0.  47. 135.   0.  70.   0.   0.]\n",
      " [  0.   0.   0.   0.   0.   0.   0. 385.]\n",
      " [  0.   0.  88.   0. 155. 133.   0.   0.]\n",
      " [  0.   0. 112. 250.   0.   0.   0.   0.]]\n",
      "\n",
      "Estimated transition matrix:\n",
      "[[  0.   0.   0.   0.   0.   0.   0. 376.]\n",
      " [  0.   0.   0.   0.   0. 380.   0.   0.]\n",
      " [  0.   0.   0.   0.   0.   0.   0. 386.]\n",
      " [149.   0.   0.   0.   0.   0. 216.   0.]\n",
      " [117.   0.  52. 127.   0.  74.   0.   0.]\n",
      " [  0.   0.   0.   0.   0.   0.   0. 385.]\n",
      " [  0.   0.  91.   0. 155. 130.   0.   0.]\n",
      " [  0.   0. 105. 257.   0.   0.   0.   0.]]\n",
      "\n",
      "Difference:\n",
      "[[ 0.  0.  0.  0.  0.  0.  0.  0.]\n",
      " [ 0.  0.  0.  0.  0.  0.  0.  0.]\n",
      " [ 0.  0.  0.  0.  0.  0.  0.  0.]\n",
      " [-1.  0.  0.  0.  0.  0.  1.  0.]\n",
      " [ 1.  0. -5.  8.  0. -4.  0.  0.]\n",
      " [ 0.  0.  0.  0.  0.  0.  0.  0.]\n",
      " [ 0.  0. -3.  0. -0.  3.  0.  0.]\n",
      " [ 0.  0.  7. -7.  0.  0.  0.  0.]]\n"
     ]
    }
   ],
   "source": [
    "print(\"True transition matrix:\")\n",
    "print(transitions)\n",
    "\n",
    "print(\"\\nEstimated transition matrix:\")\n",
    "print(np.round_(est))\n",
    "\n",
    "print(\"\\nDifference:\")\n",
    "print(np.round_(transitions - est))"
   ]
  }
 ],
 "metadata": {
  "kernelspec": {
   "display_name": "Python 3",
   "language": "python",
   "name": "python3"
  },
  "language_info": {
   "codemirror_mode": {
    "name": "ipython",
    "version": 3
   },
   "file_extension": ".py",
   "mimetype": "text/x-python",
   "name": "python",
   "nbconvert_exporter": "python",
   "pygments_lexer": "ipython3",
   "version": "3.7.7"
  }
 },
 "nbformat": 4,
 "nbformat_minor": 1
}
